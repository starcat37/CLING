{
  "nbformat": 4,
  "nbformat_minor": 0,
  "metadata": {
    "colab": {
      "provenance": [],
      "collapsed_sections": [],
      "include_colab_link": true
    },
    "kernelspec": {
      "name": "python3",
      "display_name": "Python 3"
    },
    "language_info": {
      "name": "python"
    }
  },
  "cells": [
    {
      "cell_type": "markdown",
      "metadata": {
        "id": "view-in-github",
        "colab_type": "text"
      },
      "source": [
        "<a href=\"https://colab.research.google.com/github/starcat37/CLING/blob/main/%ED%8C%8C%EC%9D%B4%EC%8D%AC_%EA%B8%B0%EC%B4%88_%EC%84%B8%EC%85%98.ipynb\" target=\"_parent\"><img src=\"https://colab.research.google.com/assets/colab-badge.svg\" alt=\"Open In Colab\"/></a>"
      ]
    },
    {
      "cell_type": "markdown",
      "source": [
        "# CLING 파이썬 기초 세션\n",
        "\n",
        "- 8/27 토요일 12:00 Zoom\n",
        "- 참고자료: 점프투파이썬, 김왼손의 왼손 코딩, Do it! BERT와 GPT로 배우는 자연어 처리\n",
        "\n",
        "\n",
        "\n"
      ],
      "metadata": {
        "id": "qMm0OW1swJO1"
      }
    },
    {
      "cell_type": "markdown",
      "source": [
        "## 0. 개발 환경 설정\n",
        "자연어 처리는 기본적으로 Python을 많이 사용하고, 딥러닝과 연계되는 경우가 많기 때문에 여러 Python 에디터 중에서도 **Google Colab**을 사용합니다. \n",
        "\n",
        "본 세션에서는 이후 북스터디 교재(Do it! BERT와 GPT로 배우는 자연어 처리)에 맞춘 개발 환경 설정을 먼저 시작하고자 합니다."
      ],
      "metadata": {
        "id": "LAtAFadq3skQ"
      }
    },
    {
      "cell_type": "markdown",
      "source": [
        "### 0-1. 코랩이란?\n",
        "**코랩 사이트: https://colab.research.google.com/**\n",
        "\n",
        "- 코랩(Colab): 'Colaboratory'의 준말\n",
        "- 구글에서 서비스하는 가상 컴퓨팅 환경\n",
        "- GPU는 물론 TPU(텐서 처리 장치, tensor processing unjit:구글에서 발표한 데이터 분석 및 딥러닝용 하드웨어) 학습 가능\n",
        "- 구글 계정이 있으면 누구나 사용 가능\n",
        "\n"
      ],
      "metadata": {
        "id": "chknGLYT4ZCw"
      }
    },
    {
      "cell_type": "markdown",
      "source": [
        "### 0-2. 드라이브와 연결하기\n",
        "- 코랩 노트북에서 아무것도 실행하지 않은 채 일정 시간이 흐르면 해당 노트가 초기화되므로, 중간 결과물을 어딘가에 저장해 두는 것이 좋음\n",
        "- 본 챕터에서는 구글 드라이브와 코랩 노트를 연결함"
      ],
      "metadata": {
        "id": "t0YGiz9Q6WhI"
      }
    },
    {
      "cell_type": "code",
      "source": [
        "#구글 드라이브와 연결\n",
        "from google.colab import drive\n",
        "drive.mount('/gdrive', force_remount=True)"
      ],
      "metadata": {
        "colab": {
          "base_uri": "https://localhost:8080/"
        },
        "id": "d5nZwNFR4WXN",
        "outputId": "5087d96b-8a84-46f0-b406-f905ad6bde6c"
      },
      "execution_count": null,
      "outputs": [
        {
          "output_type": "stream",
          "name": "stdout",
          "text": [
            "Mounted at /gdrive\n"
          ]
        }
      ]
    },
    {
      "cell_type": "code",
      "source": [
        "#구글 드라이브에 파일 쓰기\n",
        "with open('/gdrive/My Drive/test.txt', 'w') as f:\n",
        "  f.writelines('test')"
      ],
      "metadata": {
        "id": "qycyfAaAwacg"
      },
      "execution_count": null,
      "outputs": []
    },
    {
      "cell_type": "markdown",
      "source": [
        "<img src = \"https://drive.google.com/uc?id=1SbODJEioLoh6-caGIyAHre8cSteCV-dW\">\n",
        "\n",
        "성공적으로 실행되면 \"구글 드라이브/내 드라이브\"에 'test'라고 적힌 test.txt 파일이 생성됩니다."
      ],
      "metadata": {
        "id": "xtFwiO407qho"
      }
    },
    {
      "cell_type": "markdown",
      "source": [
        "### 0-3. 코랩 노트북 복사하기\n",
        "본 '파이썬 기초 세션' 노트는 여러분도 수정 가능하지만, 코드가 꼬이는 것을 막기 위해 개인 드라이브에 노트를 복사하여 세션을 진행하고자 합니다.\n",
        "\n",
        "**공유 드라이브에 있는 노트에서 작업하지 마세요!**\n",
        "\n",
        "<img src = \"https://drive.google.com/uc?id=1yss_zQ2998dQNCAZAy9hvV6cPfH7wthT\">\n",
        "\n",
        "파일>드라이브에 사본 저장으로 사본을 저장합니다.\n",
        "\n",
        "<img src = \"https://drive.google.com/uc?id=1oz0R3-66oH_ZT3OEh89BVW320Ht9YuIO\">\n",
        "\n",
        "다음과 같은 사본이 \"내 드라이브/Colab Notebooks\"에 저장됩니다. 해당 파일로 세션 진행하시면 됩니다."
      ],
      "metadata": {
        "id": "DohVD_gX-doc"
      }
    },
    {
      "cell_type": "markdown",
      "source": [
        "# 1. Python 시작하기"
      ],
      "metadata": {
        "id": "qAMa3cST-O43"
      }
    },
    {
      "cell_type": "markdown",
      "source": [
        "## 1-1. 첫 파이썬 프로그램"
      ],
      "metadata": {
        "id": "Mo2LCj9LCCoZ"
      }
    },
    {
      "cell_type": "code",
      "source": [
        "#\"Hello, World!\"를 출력하는 코드\n",
        "print(\"Hello, World!\")"
      ],
      "metadata": {
        "colab": {
          "base_uri": "https://localhost:8080/"
        },
        "id": "Se8m_Zwk7Vyw",
        "outputId": "d64728b4-9e6b-433e-d3fc-059333e57e8c"
      },
      "execution_count": null,
      "outputs": [
        {
          "output_type": "stream",
          "name": "stdout",
          "text": [
            "Hello, World!\n"
          ]
        }
      ]
    },
    {
      "cell_type": "code",
      "source": [
        "#print()를 잘못 사용한 코드\n",
        "print(\"Hello, World!\")"
      ],
      "metadata": {
        "colab": {
          "base_uri": "https://localhost:8080/"
        },
        "id": "69eLwVimBxai",
        "outputId": "e4f9bda7-f86e-48ab-ea5e-579676bedb22"
      },
      "execution_count": null,
      "outputs": [
        {
          "output_type": "stream",
          "name": "stdout",
          "text": [
            "Hello, World!\n"
          ]
        }
      ]
    },
    {
      "cell_type": "markdown",
      "source": [
        "## 1-2. 자료형: 프로그램의 기본 재료"
      ],
      "metadata": {
        "id": "DBYUfvTvCG4X"
      }
    },
    {
      "cell_type": "markdown",
      "source": [
        "### 1) 숫자형(Number)"
      ],
      "metadata": {
        "id": "E63CZOCECMab"
      }
    },
    {
      "cell_type": "markdown",
      "source": [
        "- 정수형(Integer): 말 그대로 정수를 뜻하는 자료형\n",
        "- 실수형(Float): 소수점이 포함된 숫자\n"
      ],
      "metadata": {
        "id": "y-TP4Nf6Ck86"
      }
    },
    {
      "cell_type": "code",
      "source": [
        "# 다양한 숫자를 출력하는 코드\n",
        "print(1)\n",
        "print(-2)\n",
        "print(3.14)"
      ],
      "metadata": {
        "colab": {
          "base_uri": "https://localhost:8080/"
        },
        "id": "6x8qpkh8B7zX",
        "outputId": "674ff6c7-d77f-4a88-dd23-7dddd3241779"
      },
      "execution_count": null,
      "outputs": [
        {
          "output_type": "stream",
          "name": "stdout",
          "text": [
            "1\n",
            "-2\n",
            "3.14\n"
          ]
        }
      ]
    },
    {
      "cell_type": "code",
      "source": [
        "#사칙연산 - 연산자: +, -, *, /\n",
        "print(1 + 2)\n",
        "print(3 - 2)\n",
        "print(2 * 4)\n",
        "print(6 / 3)"
      ],
      "metadata": {
        "id": "O5rivUQXDERN",
        "colab": {
          "base_uri": "https://localhost:8080/"
        },
        "outputId": "d17ed994-f488-4ce3-a699-5f55bb8e9e0c"
      },
      "execution_count": null,
      "outputs": [
        {
          "output_type": "stream",
          "name": "stdout",
          "text": [
            "3\n",
            "1\n",
            "8\n",
            "2.0\n"
          ]
        }
      ]
    },
    {
      "cell_type": "code",
      "source": [
        "#제곱, 몫, 나머지 - 연산자: **, //, %\n",
        "print(5 ** 2)\n",
        "print(5 // 2)\n",
        "print(5 % 2)"
      ],
      "metadata": {
        "id": "LazTjCDjDPdX",
        "colab": {
          "base_uri": "https://localhost:8080/"
        },
        "outputId": "3ac6b193-42fc-48a4-b09c-6bee56da3558"
      },
      "execution_count": null,
      "outputs": [
        {
          "output_type": "stream",
          "name": "stdout",
          "text": [
            "25\n",
            "2\n",
            "1\n"
          ]
        }
      ]
    },
    {
      "cell_type": "markdown",
      "source": [
        "### 2) 문자열(String)\n",
        "- 문자, 단어 등으로 구성된 문자들의 집합\n",
        "- \"Life is too short, You need Python.\", \"a\", \"123\" \n",
        "- \"123\": 따옴표로 둘러싸여 있으면 모두 문자열\n",
        "\n",
        "```\"문자열\", '문자열', \"\"\"무우운자아아여어열\"\"\", '''무우운자아아여어열'''```\n",
        "\n",
        "- 문자열 안에 따옴표를 포함시키고 싶은 경우, 혹은 여러 줄인 문자열을 변수에 대입하고자 하는 경우 여러 문자열 표현 방식을 사용\n",
        "- 자세한 내용: https://wikidocs.net/13"
      ],
      "metadata": {
        "id": "1G8mPam9Dw03"
      }
    },
    {
      "cell_type": "code",
      "source": [
        "#문자열 출력하는 코드\n",
        "print(\"Hello, World!\")\n",
        "print('3.14')\n",
        "print(\"CLING\")\n",
        "print(\"\"\"안녕하세요?\n",
        "고양이는 \n",
        "정말\n",
        "귀엽습니다.\"\"\")"
      ],
      "metadata": {
        "id": "Q-PcSBUtDpV4",
        "colab": {
          "base_uri": "https://localhost:8080/"
        },
        "outputId": "a1c7510f-3236-4d55-cf44-fb9f6f1e7724"
      },
      "execution_count": null,
      "outputs": [
        {
          "output_type": "stream",
          "name": "stdout",
          "text": [
            "Hello, World!\n",
            "3.14\n",
            "CLING\n",
            "안녕하세요?\n",
            "고양이는 \n",
            "정말\n",
            "귀엽습니다.\n"
          ]
        }
      ]
    },
    {
      "cell_type": "code",
      "source": [
        "#문자열 연산하기 - 연산자: +, *\n",
        "print('강아지' + '야 안녕!')\n",
        "print('햄스터' + '야 안녕!')\n",
        "\n",
        "print('데굴' * 15)"
      ],
      "metadata": {
        "id": "9A9qeasPE-rM",
        "colab": {
          "base_uri": "https://localhost:8080/"
        },
        "outputId": "416d84a5-2ed4-49c7-f01e-68b8c40624f9"
      },
      "execution_count": null,
      "outputs": [
        {
          "output_type": "stream",
          "name": "stdout",
          "text": [
            "강아지야 안녕!\n",
            "햄스터야 안녕!\n",
            "데굴데굴데굴데굴데굴데굴데굴데굴데굴데굴데굴데굴데굴데굴데굴\n"
          ]
        }
      ]
    },
    {
      "cell_type": "markdown",
      "source": [
        "### 3) 변수\n",
        "- 값을 저장하는 공간\n",
        "- 변수_이름 = 저장할_값\n",
        "- 변수 이름 짓기\n",
        "\n",
        "\n",
        "> 1. 문자, 숫자, _ 사용 가능\n",
        "> 2. 대문자와 소문자 구분\n",
        "> 3. 공백은 사용 X\n",
        "> 4. 숫자로 시작 X\n",
        "> 5. 미리 예약된 이름 사용 X (print, for...)\n",
        "\n",
        "\n",
        "\n"
      ],
      "metadata": {
        "id": "spf-J2ykFy9G"
      }
    },
    {
      "cell_type": "code",
      "source": [
        "#변수에 저장한 문자열을 출력하는 코드\n",
        "cat = \"야옹\"\n",
        "print(cat)"
      ],
      "metadata": {
        "id": "pHb91-wzFfJx",
        "colab": {
          "base_uri": "https://localhost:8080/"
        },
        "outputId": "809eb2db-c332-4569-90e3-1ee757d94191"
      },
      "execution_count": null,
      "outputs": [
        {
          "output_type": "stream",
          "name": "stdout",
          "text": [
            "야옹\n"
          ]
        }
      ]
    },
    {
      "cell_type": "code",
      "source": [
        "#변수에 저장한 값을 변경하는 코드\n",
        "count = 0\n",
        "print(count)"
      ],
      "metadata": {
        "id": "FIWY-PWsGEAE",
        "colab": {
          "base_uri": "https://localhost:8080/"
        },
        "outputId": "3649819b-3328-4948-9362-186837051d7c"
      },
      "execution_count": null,
      "outputs": [
        {
          "output_type": "stream",
          "name": "stdout",
          "text": [
            "0\n"
          ]
        }
      ]
    },
    {
      "cell_type": "code",
      "source": [
        "count = 1\n",
        "print(count)"
      ],
      "metadata": {
        "id": "-wkCkDl1GI8Z",
        "colab": {
          "base_uri": "https://localhost:8080/"
        },
        "outputId": "03a64814-c506-4fb9-e4ab-2bf013ff174f"
      },
      "execution_count": null,
      "outputs": [
        {
          "output_type": "stream",
          "name": "stdout",
          "text": [
            "1\n"
          ]
        }
      ]
    },
    {
      "cell_type": "code",
      "source": [
        "count = count + 100\n",
        "print(count)"
      ],
      "metadata": {
        "id": "cWX0CAHsGLKG",
        "colab": {
          "base_uri": "https://localhost:8080/"
        },
        "outputId": "fac44b8d-1541-4abf-e434-faeea1c99cfe"
      },
      "execution_count": null,
      "outputs": [
        {
          "output_type": "stream",
          "name": "stdout",
          "text": [
            "102\n"
          ]
        }
      ]
    },
    {
      "cell_type": "markdown",
      "source": [
        "## 1-3. 재료 모으기(1)(리스트)"
      ],
      "metadata": {
        "id": "uNA2254EHTNT"
      }
    },
    {
      "cell_type": "markdown",
      "source": [
        "### 1) 리스트의 기본 구조\n",
        "- [값1, 값2, 값3, ...]"
      ],
      "metadata": {
        "id": "VNheYlIsH8VG"
      }
    },
    {
      "cell_type": "code",
      "source": [
        "#여러 개의 문자열을 하나의 변수에 저장하는 코드\n",
        "animals = ['고양이', '강아지', '햄스터', '코끼리', '마나티']\n",
        "print(animals)"
      ],
      "metadata": {
        "id": "V1Yong5QGODc",
        "colab": {
          "base_uri": "https://localhost:8080/"
        },
        "outputId": "3e3c4870-3029-4ad3-bb56-a34c790ab7c7"
      },
      "execution_count": null,
      "outputs": [
        {
          "output_type": "stream",
          "name": "stdout",
          "text": [
            "['고양이', '강아지', '햄스터', '코끼리', '마나티']\n"
          ]
        }
      ]
    },
    {
      "cell_type": "code",
      "source": [
        "#리스트를 만드는 코드\n",
        "my_list = []\n",
        "print(my_list)"
      ],
      "metadata": {
        "id": "8mpfK3ZQH2LS",
        "colab": {
          "base_uri": "https://localhost:8080/"
        },
        "outputId": "1d7e1575-26bf-404c-a015-11ade89ded4f"
      },
      "execution_count": null,
      "outputs": [
        {
          "output_type": "stream",
          "name": "stdout",
          "text": [
            "[]\n"
          ]
        }
      ]
    },
    {
      "cell_type": "code",
      "source": [
        "my_list2 = [3, 5, 75, 4.5]\n",
        "print(my_list2)"
      ],
      "metadata": {
        "id": "JDnhCec0IXdX",
        "colab": {
          "base_uri": "https://localhost:8080/"
        },
        "outputId": "f07d7515-8e7f-41b0-e2d6-ff092d20b265"
      },
      "execution_count": null,
      "outputs": [
        {
          "output_type": "stream",
          "name": "stdout",
          "text": [
            "[3, 5, 75, 4.5]\n"
          ]
        }
      ]
    },
    {
      "cell_type": "code",
      "source": [
        "my_list3 = [1, '고양이', [1.0, 3]]\n",
        "print(my_list3)"
      ],
      "metadata": {
        "id": "WcJvUS1nIdBG",
        "colab": {
          "base_uri": "https://localhost:8080/"
        },
        "outputId": "c9b34de6-32bb-46cc-efaa-ae0057065254"
      },
      "execution_count": null,
      "outputs": [
        {
          "output_type": "stream",
          "name": "stdout",
          "text": [
            "[1, '고양이', [1.0, 3]]\n"
          ]
        }
      ]
    },
    {
      "cell_type": "markdown",
      "source": [
        "### 2) 리스트 사용하기"
      ],
      "metadata": {
        "id": "bCOUakFHK5Wx"
      }
    },
    {
      "cell_type": "code",
      "source": [
        "#값 추가하기\n",
        "#리스트.append(추가할_값) -> 여기서 .append()는 메서드(method)\n",
        "cats = []"
      ],
      "metadata": {
        "id": "Q-KuAg-GIigk"
      },
      "execution_count": null,
      "outputs": []
    },
    {
      "cell_type": "code",
      "source": [
        "cats.append('페르시안')\n",
        "print(cats)"
      ],
      "metadata": {
        "id": "tFkSApBOIwrW",
        "colab": {
          "base_uri": "https://localhost:8080/"
        },
        "outputId": "4d4425ac-292c-44da-c9ef-3633ecf56bae"
      },
      "execution_count": null,
      "outputs": [
        {
          "output_type": "stream",
          "name": "stdout",
          "text": [
            "['페르시안']\n"
          ]
        }
      ]
    },
    {
      "cell_type": "code",
      "source": [
        "cats.append('아비시니안')\n",
        "print(cats)"
      ],
      "metadata": {
        "id": "Rg3M6RU2IxaD",
        "colab": {
          "base_uri": "https://localhost:8080/"
        },
        "outputId": "bf9afdf4-65e1-4d3f-8b5f-f19b765fe8b6"
      },
      "execution_count": null,
      "outputs": [
        {
          "output_type": "stream",
          "name": "stdout",
          "text": [
            "['페르시안', '아비시니안']\n"
          ]
        }
      ]
    },
    {
      "cell_type": "code",
      "source": [
        "cats.append('러시안 블루')\n",
        "print(cats)"
      ],
      "metadata": {
        "id": "-ekHgZbqIz3m",
        "colab": {
          "base_uri": "https://localhost:8080/"
        },
        "outputId": "1c1f75e2-0b41-418b-d553-dc8ec60b6d07"
      },
      "execution_count": null,
      "outputs": [
        {
          "output_type": "stream",
          "name": "stdout",
          "text": [
            "['페르시안', '아비시니안', '러시안 블루']\n"
          ]
        }
      ]
    },
    {
      "cell_type": "code",
      "source": [
        "#값에 접근하기\n",
        "#리스트[접근할_인덱스]\n",
        "#인덱스(주소)는 앞에서부터 0부터 시작!\n",
        "print(cats[1])"
      ],
      "metadata": {
        "id": "w14HoZvTI2vw",
        "colab": {
          "base_uri": "https://localhost:8080/"
        },
        "outputId": "5b2f8783-0d67-45c8-e31e-83f16be42471"
      },
      "execution_count": null,
      "outputs": [
        {
          "output_type": "stream",
          "name": "stdout",
          "text": [
            "아비시니안\n"
          ]
        }
      ]
    },
    {
      "cell_type": "code",
      "source": [
        "print(cats[3])"
      ],
      "metadata": {
        "id": "r6ORWFF-JGEO",
        "colab": {
          "base_uri": "https://localhost:8080/",
          "height": 172
        },
        "outputId": "03fa046a-cf67-4e2d-bc8f-73eb2377a331"
      },
      "execution_count": null,
      "outputs": [
        {
          "output_type": "error",
          "ename": "IndexError",
          "evalue": "ignored",
          "traceback": [
            "\u001b[0;31m---------------------------------------------------------------------------\u001b[0m",
            "\u001b[0;31mIndexError\u001b[0m                                Traceback (most recent call last)",
            "\u001b[0;32m<ipython-input-25-5f586f7af83d>\u001b[0m in \u001b[0;36m<module>\u001b[0;34m\u001b[0m\n\u001b[0;32m----> 1\u001b[0;31m \u001b[0mprint\u001b[0m\u001b[0;34m(\u001b[0m\u001b[0mcats\u001b[0m\u001b[0;34m[\u001b[0m\u001b[0;36m3\u001b[0m\u001b[0;34m]\u001b[0m\u001b[0;34m)\u001b[0m\u001b[0;34m\u001b[0m\u001b[0;34m\u001b[0m\u001b[0m\n\u001b[0m",
            "\u001b[0;31mIndexError\u001b[0m: list index out of range"
          ]
        }
      ]
    },
    {
      "cell_type": "code",
      "source": [
        "#값 제거하기\n",
        "#del 리스트[제거할_인덱스]\n",
        "cats = ['페르시안', '아비시니안', '러시안 블루']\n",
        "print(cats[1])"
      ],
      "metadata": {
        "id": "iv-sNhYZJHxE",
        "colab": {
          "base_uri": "https://localhost:8080/"
        },
        "outputId": "463f5b90-f515-4e6a-e1b3-3cce20aae915"
      },
      "execution_count": null,
      "outputs": [
        {
          "output_type": "stream",
          "name": "stdout",
          "text": [
            "아비시니안\n"
          ]
        }
      ]
    },
    {
      "cell_type": "code",
      "source": [
        "del cats[1]"
      ],
      "metadata": {
        "id": "UH3S6pslJXwD"
      },
      "execution_count": null,
      "outputs": []
    },
    {
      "cell_type": "code",
      "source": [
        "print(cats)"
      ],
      "metadata": {
        "id": "LffkSVHxJasp",
        "colab": {
          "base_uri": "https://localhost:8080/"
        },
        "outputId": "1112a1e4-7608-4f5b-955a-dd2459b5b821"
      },
      "execution_count": null,
      "outputs": [
        {
          "output_type": "stream",
          "name": "stdout",
          "text": [
            "['페르시안', '러시안 블루']\n"
          ]
        }
      ]
    },
    {
      "cell_type": "code",
      "source": [
        "print(cats[1])"
      ],
      "metadata": {
        "id": "UKeg0A8OJb-k",
        "colab": {
          "base_uri": "https://localhost:8080/"
        },
        "outputId": "a86fc64a-06ae-469c-e7be-058ae7fc1dad"
      },
      "execution_count": null,
      "outputs": [
        {
          "output_type": "stream",
          "name": "stdout",
          "text": [
            "러시안 블루\n"
          ]
        }
      ]
    },
    {
      "cell_type": "code",
      "source": [
        "#여러 값 가져오기(슬라이싱)\n",
        "#리스트[시작_인덱스:끝_인덱스+1]\n",
        "week = ['월', '화', '수', '목', '금', '토', '일']\n",
        "print(week)\n",
        "print(week[2:5])"
      ],
      "metadata": {
        "id": "HZTccRI7JdUk",
        "colab": {
          "base_uri": "https://localhost:8080/"
        },
        "outputId": "11eee868-e7f2-4b7c-b10c-704e5ee168bb"
      },
      "execution_count": null,
      "outputs": [
        {
          "output_type": "stream",
          "name": "stdout",
          "text": [
            "['월', '화', '수', '목', '금', '토', '일']\n",
            "['수', '목', '금']\n"
          ]
        }
      ]
    },
    {
      "cell_type": "code",
      "source": [
        "#정렬하기\n",
        "#리스트.sort()\n",
        "fishes = ['멸치', '광어', '연어']\n",
        "fishes.sort()\n",
        "print(fishes)"
      ],
      "metadata": {
        "id": "HMwE4PG_J2Li",
        "colab": {
          "base_uri": "https://localhost:8080/"
        },
        "outputId": "bd22b535-c1ce-4968-c49c-71c82d5c15ee"
      },
      "execution_count": null,
      "outputs": [
        {
          "output_type": "stream",
          "name": "stdout",
          "text": [
            "['광어', '멸치', '연어']\n"
          ]
        }
      ]
    },
    {
      "cell_type": "code",
      "source": [
        "#개수 세기\n",
        "#리스트.count(세어볼_값)\n",
        "cards = ['하트', '클로버', '하트', '다이아']\n",
        "print(cards.count('하트'))\n",
        "print(cards.count('다이아'))\n",
        "print(cards.count('고양이'))"
      ],
      "metadata": {
        "id": "_b__AqJgKjwL",
        "colab": {
          "base_uri": "https://localhost:8080/"
        },
        "outputId": "8341284e-6d32-413f-864f-8c127cb25313"
      },
      "execution_count": null,
      "outputs": [
        {
          "output_type": "stream",
          "name": "stdout",
          "text": [
            "2\n",
            "1\n",
            "0\n"
          ]
        }
      ]
    },
    {
      "cell_type": "markdown",
      "source": [
        "## 1-4. 횟수로 반복하기(for)\n"
      ],
      "metadata": {
        "id": "QIC9Kg3fLBDe"
      }
    },
    {
      "cell_type": "markdown",
      "source": [
        "### 1) for 기본 구조\n",
        "- for 변수 in 리스트:\n",
        ">>>>실행할 명령\n",
        "- 들여쓰기(대부분의 에디터에서 자동으로 들여써짐)\n",
        "\n"
      ],
      "metadata": {
        "id": "4cj-dxfPLWOo"
      }
    },
    {
      "cell_type": "code",
      "source": [
        "#리스트의 숫자를 차례대로 출력하는 코드\n",
        "for num in [0, 1, 2]:\n",
        "  print(num)"
      ],
      "metadata": {
        "id": "wpgsp6GoK0_P",
        "colab": {
          "base_uri": "https://localhost:8080/"
        },
        "outputId": "7cea554e-92e0-4d95-82d6-146311caa3b6"
      },
      "execution_count": null,
      "outputs": [
        {
          "output_type": "stream",
          "name": "stdout",
          "text": [
            "0\n",
            "1\n",
            "2\n"
          ]
        }
      ]
    },
    {
      "cell_type": "code",
      "source": [
        "#리스트의 문자열을 차례대로 출력하는 코드\n",
        "dogs = ['불독', '진돗개', '허스키']\n",
        "for dog in dogs:\n",
        "  print(dog)"
      ],
      "metadata": {
        "id": "39uYOaLuL8-D",
        "colab": {
          "base_uri": "https://localhost:8080/"
        },
        "outputId": "7f03c2ec-ed6e-48d6-e1a8-352bbd571a35"
      },
      "execution_count": null,
      "outputs": [
        {
          "output_type": "stream",
          "name": "stdout",
          "text": [
            "불독\n",
            "진돗개\n",
            "허스키\n"
          ]
        }
      ]
    },
    {
      "cell_type": "code",
      "source": [
        "#문자열 반복하기\n",
        "for letter in '고양이는 귀엽다.':\n",
        "  print(letter)"
      ],
      "metadata": {
        "id": "TgrfHIyQMNuC",
        "colab": {
          "base_uri": "https://localhost:8080/"
        },
        "outputId": "250afc94-20d4-4f7a-c99e-95d284b95d21"
      },
      "execution_count": null,
      "outputs": [
        {
          "output_type": "stream",
          "name": "stdout",
          "text": [
            "고\n",
            "양\n",
            "이\n",
            "는\n",
            " \n",
            "귀\n",
            "엽\n",
            "다\n",
            ".\n"
          ]
        }
      ]
    },
    {
      "cell_type": "code",
      "source": [
        "#순서열 만들기\n",
        "#range(시작_값, 끝_값+1)\n",
        "#시작_값은 생략할 경우 0\n",
        "for num in range(0, 3):\n",
        "  print(num)"
      ],
      "metadata": {
        "id": "Ywu0Hy_cMgWK",
        "colab": {
          "base_uri": "https://localhost:8080/"
        },
        "outputId": "1221ae39-40f8-40ee-ffce-68f2c8ca1dce"
      },
      "execution_count": null,
      "outputs": [
        {
          "output_type": "stream",
          "name": "stdout",
          "text": [
            "0\n",
            "1\n",
            "2\n"
          ]
        }
      ]
    },
    {
      "cell_type": "code",
      "source": [
        "for num in range(1, 10):\n",
        "  print(num)"
      ],
      "metadata": {
        "id": "e-n4ozKgM3Mr",
        "colab": {
          "base_uri": "https://localhost:8080/"
        },
        "outputId": "7b71e936-ef9e-49e3-8ea2-ca035e585236"
      },
      "execution_count": null,
      "outputs": [
        {
          "output_type": "stream",
          "name": "stdout",
          "text": [
            "1\n",
            "2\n",
            "3\n",
            "4\n",
            "5\n",
            "6\n",
            "7\n",
            "8\n",
            "9\n"
          ]
        }
      ]
    },
    {
      "cell_type": "code",
      "source": [
        "#구구단 2단 출력하는 코드\n",
        "for y in range(1, 10):\n",
        "  print(2, 'x', y, '=', 2 * y)"
      ],
      "metadata": {
        "id": "63KvAZFHM-9q",
        "colab": {
          "base_uri": "https://localhost:8080/"
        },
        "outputId": "f2938484-69b8-4455-f728-e266d34b2a97"
      },
      "execution_count": null,
      "outputs": [
        {
          "output_type": "stream",
          "name": "stdout",
          "text": [
            "2 x 1 = 2\n",
            "2 x 2 = 4\n",
            "2 x 3 = 6\n",
            "2 x 4 = 8\n",
            "2 x 5 = 10\n",
            "2 x 6 = 12\n",
            "2 x 7 = 14\n",
            "2 x 8 = 16\n",
            "2 x 9 = 18\n"
          ]
        }
      ]
    },
    {
      "cell_type": "markdown",
      "source": [
        "## 1-5. 조건 판단하기(if, else...)"
      ],
      "metadata": {
        "id": "fANI3tRYNZR3"
      }
    },
    {
      "cell_type": "markdown",
      "source": [
        "### 1) 참과 거짓(bool 자료형)\n",
        "- True\n",
        "- False "
      ],
      "metadata": {
        "id": "zC7CPscSNnfj"
      }
    },
    {
      "cell_type": "code",
      "source": [
        "print(True)\n",
        "print(False)"
      ],
      "metadata": {
        "id": "cqC62iM7NL7X",
        "colab": {
          "base_uri": "https://localhost:8080/"
        },
        "outputId": "54a18646-6d1a-41a0-f5c2-acf001a04a98"
      },
      "execution_count": null,
      "outputs": [
        {
          "output_type": "stream",
          "name": "stdout",
          "text": [
            "True\n",
            "False\n"
          ]
        }
      ]
    },
    {
      "cell_type": "markdown",
      "source": [
        "### 2) 값 비교하기"
      ],
      "metadata": {
        "id": "MmwCj672OsWT"
      }
    },
    {
      "cell_type": "code",
      "source": [
        "print(1 < 2)\n",
        "print(2 < 1)"
      ],
      "metadata": {
        "id": "LPynHb-NNwr5",
        "colab": {
          "base_uri": "https://localhost:8080/"
        },
        "outputId": "3c978ab1-ad43-46c2-bef1-f7918913eedc"
      },
      "execution_count": null,
      "outputs": [
        {
          "output_type": "stream",
          "name": "stdout",
          "text": [
            "True\n",
            "False\n"
          ]
        }
      ]
    },
    {
      "cell_type": "code",
      "source": [
        "print(2 > 1)\n",
        "print(2 > 2)"
      ],
      "metadata": {
        "id": "0XYIF3yLO2d2",
        "colab": {
          "base_uri": "https://localhost:8080/"
        },
        "outputId": "2f079e17-921c-450d-b161-a1b7b75d2c6e"
      },
      "execution_count": null,
      "outputs": [
        {
          "output_type": "stream",
          "name": "stdout",
          "text": [
            "True\n",
            "False\n"
          ]
        }
      ]
    },
    {
      "cell_type": "code",
      "source": [
        "print(1 <= 1)\n",
        "print(2 <= 1)"
      ],
      "metadata": {
        "id": "AzqKFLcfO7er",
        "colab": {
          "base_uri": "https://localhost:8080/"
        },
        "outputId": "a2ecc562-cd00-47d7-b085-0421916face9"
      },
      "execution_count": null,
      "outputs": [
        {
          "output_type": "stream",
          "name": "stdout",
          "text": [
            "True\n",
            "False\n"
          ]
        }
      ]
    },
    {
      "cell_type": "code",
      "source": [
        "print(1 >= 1)\n",
        "print(1 >= 2)"
      ],
      "metadata": {
        "id": "yVApX4WuOzTT",
        "colab": {
          "base_uri": "https://localhost:8080/"
        },
        "outputId": "48a593ec-2e94-4bcf-afbe-3624ed842ea9"
      },
      "execution_count": null,
      "outputs": [
        {
          "output_type": "stream",
          "name": "stdout",
          "text": [
            "True\n",
            "False\n"
          ]
        }
      ]
    },
    {
      "cell_type": "code",
      "source": [
        "print(1 == 1)\n",
        "print(1 == 2)"
      ],
      "metadata": {
        "id": "NSTKLaiVPAQi",
        "colab": {
          "base_uri": "https://localhost:8080/"
        },
        "outputId": "debeb20d-04ac-4c0d-965c-af121a7acf96"
      },
      "execution_count": null,
      "outputs": [
        {
          "output_type": "stream",
          "name": "stdout",
          "text": [
            "True\n",
            "False\n"
          ]
        }
      ]
    },
    {
      "cell_type": "code",
      "source": [
        "print(1 != 2)\n",
        "print(2 != 2)"
      ],
      "metadata": {
        "id": "wq56Zf0LPCyI",
        "colab": {
          "base_uri": "https://localhost:8080/"
        },
        "outputId": "c1b0daa1-27bb-4c7d-f777-c03897334e92"
      },
      "execution_count": null,
      "outputs": [
        {
          "output_type": "stream",
          "name": "stdout",
          "text": [
            "True\n",
            "False\n"
          ]
        }
      ]
    },
    {
      "cell_type": "markdown",
      "source": [
        "### 3) if 기본 구조\n",
        "if 조건:\n",
        ">>>>실행할_명령"
      ],
      "metadata": {
        "id": "eieUk5I0PKFU"
      }
    },
    {
      "cell_type": "code",
      "source": [
        "if True:\n",
        "  print('참입니다.')"
      ],
      "metadata": {
        "id": "Y5_LNbxdPHTG",
        "colab": {
          "base_uri": "https://localhost:8080/"
        },
        "outputId": "9d32d61d-8b3b-405d-d0a3-5f8143781c10"
      },
      "execution_count": null,
      "outputs": [
        {
          "output_type": "stream",
          "name": "stdout",
          "text": [
            "참입니다.\n"
          ]
        }
      ]
    },
    {
      "cell_type": "code",
      "source": [
        "if False:\n",
        "  print('참입니다.')"
      ],
      "metadata": {
        "id": "rrBFEZkBPVsL"
      },
      "execution_count": null,
      "outputs": []
    },
    {
      "cell_type": "code",
      "source": [
        "#점수에 따라 합격여부를 출력하는 코드\n",
        "score = 50\n",
        "if score > 80:\n",
        "  print('합격입니다.')"
      ],
      "metadata": {
        "id": "ocGDrlFYPZhg"
      },
      "execution_count": null,
      "outputs": []
    },
    {
      "cell_type": "markdown",
      "source": [
        "### 4) else와 elif\n",
        "if 조건:\n",
        ">>>>실행할_명령1\n",
        "\n",
        "else:\n",
        ">>>>실행할 명령2"
      ],
      "metadata": {
        "id": "_DqqJoCjPqf8"
      }
    },
    {
      "cell_type": "code",
      "source": [
        "#점수에 따라 합격여부를 출력하는 코드\n",
        "score = 100\n",
        "if score > 80:\n",
        "  print('합격입니다.')\n",
        "else:\n",
        "  print('불합격입니다.')"
      ],
      "metadata": {
        "id": "ZxTB8XUGPh12",
        "colab": {
          "base_uri": "https://localhost:8080/"
        },
        "outputId": "60e6f310-9b42-4318-908c-096410cbcb70"
      },
      "execution_count": null,
      "outputs": [
        {
          "output_type": "stream",
          "name": "stdout",
          "text": [
            "합격입니다.\n"
          ]
        }
      ]
    },
    {
      "cell_type": "markdown",
      "source": [
        "if 조건1:\n",
        ">>>>실행할_명령1\n",
        "\n",
        "elif 조건2:\n",
        ">>>>실행할_명령2\n",
        "\n",
        "else:\n",
        ">>>>실행할 명령3"
      ],
      "metadata": {
        "id": "oETH7yRfP_8d"
      }
    },
    {
      "cell_type": "code",
      "source": [
        "#점수에 따라 학점을 출력하는 코드\n",
        "score = 75\n",
        "if 80 < score <= 100:\n",
        "  print('학점: A')\n",
        "elif 60 < score <= 80:\n",
        "  print('학점: B')\n",
        "elif 40 < score <= 60:\n",
        "  print('학점: C')\n",
        "else:\n",
        "  print('학점: F')"
      ],
      "metadata": {
        "id": "jua2NSpDP9tJ",
        "colab": {
          "base_uri": "https://localhost:8080/"
        },
        "outputId": "433dbdb4-89f1-4a4e-ba35-ac6cd39d654a"
      },
      "execution_count": null,
      "outputs": [
        {
          "output_type": "stream",
          "name": "stdout",
          "text": [
            "학점: B\n"
          ]
        }
      ]
    },
    {
      "cell_type": "markdown",
      "source": [
        "### 5) 여러 조건 판단하기"
      ],
      "metadata": {
        "id": "shEGYUnNQx_t"
      }
    },
    {
      "cell_type": "code",
      "source": [
        "#여러 조건을 판단하는 코드\n",
        "age = 20\n",
        "univ = \"Korea University\"\n",
        "if age >= 20 and univ == \"Korea University\":\n",
        "  print('고려대학교 학생입니다.')"
      ],
      "metadata": {
        "id": "tfss9WzQQp40"
      },
      "execution_count": null,
      "outputs": []
    },
    {
      "cell_type": "code",
      "source": [
        "#and\n",
        "#조건1 and 조건2\n",
        "#둘다 True여야 True, 아니면 False\n",
        "print(True and True)\n",
        "print(True and False)\n",
        "print(False and True)\n",
        "print(False and False)"
      ],
      "metadata": {
        "id": "vwEODG4OSFWw",
        "colab": {
          "base_uri": "https://localhost:8080/"
        },
        "outputId": "765bb7a7-e5d9-447a-b73a-80431363aea3"
      },
      "execution_count": null,
      "outputs": [
        {
          "output_type": "stream",
          "name": "stdout",
          "text": [
            "True\n",
            "False\n",
            "False\n",
            "False\n"
          ]
        }
      ]
    },
    {
      "cell_type": "code",
      "source": [
        "#or\n",
        "#조건1 or 조건2\n",
        "#둘 중 하나라도 True면 True, 둘다 False면 False\n",
        "print(True or True)\n",
        "print(True or False)\n",
        "print(False or True)\n",
        "print(False or False)"
      ],
      "metadata": {
        "id": "8xxbdA2DSa5r",
        "colab": {
          "base_uri": "https://localhost:8080/"
        },
        "outputId": "688f48af-1658-4142-a344-9d2398f5c6f5"
      },
      "execution_count": null,
      "outputs": [
        {
          "output_type": "stream",
          "name": "stdout",
          "text": [
            "True\n",
            "True\n",
            "True\n",
            "False\n"
          ]
        }
      ]
    },
    {
      "cell_type": "code",
      "source": [
        "#not\n",
        "#not 조건\n",
        "print(not True)\n",
        "print(not False)"
      ],
      "metadata": {
        "id": "9XWd3LeZSm24",
        "colab": {
          "base_uri": "https://localhost:8080/"
        },
        "outputId": "9e8c80f0-0aa6-4d82-9386-e837f7dc6ba3"
      },
      "execution_count": null,
      "outputs": [
        {
          "output_type": "stream",
          "name": "stdout",
          "text": [
            "False\n",
            "True\n"
          ]
        }
      ]
    },
    {
      "cell_type": "markdown",
      "source": [
        "### 6) while 기본 구조\n",
        "- 파이썬에서 조건을 기준으로 반복할 때 사용\n",
        "\n",
        "while 조건:\n",
        ">>>>실행할_명령"
      ],
      "metadata": {
        "id": "1PLn4x9xS-BL"
      }
    },
    {
      "cell_type": "code",
      "source": [
        "#while을 사용해 반복하기\n",
        "num = 0\n",
        "while num < 3:\n",
        "  print('안녕하세요?', num)\n",
        "  num = num + 1"
      ],
      "metadata": {
        "id": "RHmB79jISw5S",
        "colab": {
          "base_uri": "https://localhost:8080/"
        },
        "outputId": "edbeba06-e742-41a8-f4aa-0091b2b84fa5"
      },
      "execution_count": null,
      "outputs": [
        {
          "output_type": "stream",
          "name": "stdout",
          "text": [
            "안녕하세요? 0\n",
            "안녕하세요? 1\n",
            "안녕하세요? 2\n"
          ]
        }
      ]
    },
    {
      "cell_type": "markdown",
      "source": [
        "### 7) 입력을 받는 방법\n",
        "- input()"
      ],
      "metadata": {
        "id": "beuJvxi1UENz"
      }
    },
    {
      "cell_type": "code",
      "source": [
        "#이름을 입력받는 코드\n",
        "name = input(\"이름이 뭔가요? \")\n",
        "print(name, '안녕!')"
      ],
      "metadata": {
        "id": "IchuygrcTymt",
        "colab": {
          "base_uri": "https://localhost:8080/"
        },
        "outputId": "12e6213f-01a4-4cde-90bc-b00c2291f67d"
      },
      "execution_count": null,
      "outputs": [
        {
          "output_type": "stream",
          "name": "stdout",
          "text": [
            "이름이 뭔가요? 김수인\n",
            "김수인 안녕!\n"
          ]
        }
      ]
    },
    {
      "cell_type": "code",
      "source": [
        "#영국의 수도를 묻는 코드\n",
        "answer = ''\n",
        "while answer != '런던':\n",
        "  answer = input('영국의 수도는 어디인가요? ')\n",
        "print('정답입니다.')"
      ],
      "metadata": {
        "id": "xg4qhjTTUSA7",
        "colab": {
          "base_uri": "https://localhost:8080/"
        },
        "outputId": "75292915-4e63-468a-e38f-a992072bd3fa"
      },
      "execution_count": null,
      "outputs": [
        {
          "output_type": "stream",
          "name": "stdout",
          "text": [
            "영국의 수도는 어디인가요? 파리\n",
            "영국의 수도는 어디인가요? 서울\n",
            "영국의 수도는 어디인가요? 런던\n",
            "정답입니다.\n"
          ]
        }
      ]
    },
    {
      "cell_type": "markdown",
      "source": [
        "### 8) 넘어가기와 멈추기(continue, break)\n",
        "- continue: 만나면 나머지 코드 실행하지 않고 조건으로 넘어감\n",
        "- break: 만나면 반복문 멈춤, 종료"
      ],
      "metadata": {
        "id": "jKijWABfUnxR"
      }
    },
    {
      "cell_type": "code",
      "source": [
        "#count가 2일 때 넘어가는 코드\n",
        "count = 0\n",
        "while count < 3:\n",
        "  count = count + 1\n",
        "  if count == 2:\n",
        "    continue\n",
        "  print(count)"
      ],
      "metadata": {
        "id": "IlGgzYscUifV",
        "colab": {
          "base_uri": "https://localhost:8080/"
        },
        "outputId": "f51ffacc-d032-46b4-d182-c7c41d1f9574"
      },
      "execution_count": null,
      "outputs": [
        {
          "output_type": "stream",
          "name": "stdout",
          "text": [
            "1\n",
            "3\n"
          ]
        }
      ]
    },
    {
      "cell_type": "code",
      "source": [
        "#count가 2일 때 멈추는 코드\n",
        "count = 0\n",
        "while count < 3:\n",
        "  count = count + 1\n",
        "  if count == 2:\n",
        "    break\n",
        "  print(count)"
      ],
      "metadata": {
        "id": "9xrG0fULVGPR",
        "colab": {
          "base_uri": "https://localhost:8080/"
        },
        "outputId": "3f6d3129-8f3e-4231-e3ea-f0a2a9006e41"
      },
      "execution_count": null,
      "outputs": [
        {
          "output_type": "stream",
          "name": "stdout",
          "text": [
            "1\n"
          ]
        }
      ]
    },
    {
      "cell_type": "code",
      "source": [
        "#count가 2일 때 멈추는 코드\n",
        "for count in range(1, 3):\n",
        "  if count == 2:\n",
        "    break\n",
        "  print(count)"
      ],
      "metadata": {
        "colab": {
          "base_uri": "https://localhost:8080/"
        },
        "id": "cQMatEa-VNa2",
        "outputId": "7d70ea31-7831-485a-ae4a-699e1c81be22"
      },
      "execution_count": null,
      "outputs": [
        {
          "output_type": "stream",
          "name": "stdout",
          "text": [
            "1\n"
          ]
        }
      ]
    },
    {
      "cell_type": "markdown",
      "source": [
        "### 9) 무한반복하기\n",
        "while True:\n",
        ">>>>실행할_명령"
      ],
      "metadata": {
        "id": "2McCdh5eVlCj"
      }
    },
    {
      "cell_type": "code",
      "source": [
        "#무한히 반복해서 출력하는 코드\n",
        "while True:\n",
        "  print(\"셀 왼쪽 정지 버튼을 누르세요.\")"
      ],
      "metadata": {
        "colab": {
          "base_uri": "https://localhost:8080/",
          "height": 1000
        },
        "id": "x2GiH-pzVW9m",
        "outputId": "aa2339e8-7e6c-45e0-b9a9-6f7853131766"
      },
      "execution_count": null,
      "outputs": [
        {
          "output_type": "stream",
          "name": "stdout",
          "text": [
            "\u001b[1;30;43m스트리밍 출력 내용이 길어서 마지막 5000줄이 삭제되었습니다.\u001b[0m\n",
            "셀 왼쪽 정지 버튼을 누르세요.\n",
            "셀 왼쪽 정지 버튼을 누르세요.\n",
            "셀 왼쪽 정지 버튼을 누르세요.\n",
            "셀 왼쪽 정지 버튼을 누르세요.\n",
            "셀 왼쪽 정지 버튼을 누르세요.\n",
            "셀 왼쪽 정지 버튼을 누르세요.\n",
            "셀 왼쪽 정지 버튼을 누르세요.\n",
            "셀 왼쪽 정지 버튼을 누르세요.\n",
            "셀 왼쪽 정지 버튼을 누르세요.\n",
            "셀 왼쪽 정지 버튼을 누르세요.\n",
            "셀 왼쪽 정지 버튼을 누르세요.\n",
            "셀 왼쪽 정지 버튼을 누르세요.\n",
            "셀 왼쪽 정지 버튼을 누르세요.\n",
            "셀 왼쪽 정지 버튼을 누르세요.\n",
            "셀 왼쪽 정지 버튼을 누르세요.\n",
            "셀 왼쪽 정지 버튼을 누르세요.\n",
            "셀 왼쪽 정지 버튼을 누르세요.\n",
            "셀 왼쪽 정지 버튼을 누르세요.\n",
            "셀 왼쪽 정지 버튼을 누르세요.\n",
            "셀 왼쪽 정지 버튼을 누르세요.\n",
            "셀 왼쪽 정지 버튼을 누르세요.\n",
            "셀 왼쪽 정지 버튼을 누르세요.\n",
            "셀 왼쪽 정지 버튼을 누르세요.\n",
            "셀 왼쪽 정지 버튼을 누르세요.\n",
            "셀 왼쪽 정지 버튼을 누르세요.\n",
            "셀 왼쪽 정지 버튼을 누르세요.\n",
            "셀 왼쪽 정지 버튼을 누르세요.\n",
            "셀 왼쪽 정지 버튼을 누르세요.\n",
            "셀 왼쪽 정지 버튼을 누르세요.\n",
            "셀 왼쪽 정지 버튼을 누르세요.\n",
            "셀 왼쪽 정지 버튼을 누르세요.\n",
            "셀 왼쪽 정지 버튼을 누르세요.\n",
            "셀 왼쪽 정지 버튼을 누르세요.\n",
            "셀 왼쪽 정지 버튼을 누르세요.\n",
            "셀 왼쪽 정지 버튼을 누르세요.\n",
            "셀 왼쪽 정지 버튼을 누르세요.\n",
            "셀 왼쪽 정지 버튼을 누르세요.\n",
            "셀 왼쪽 정지 버튼을 누르세요.\n",
            "셀 왼쪽 정지 버튼을 누르세요.\n",
            "셀 왼쪽 정지 버튼을 누르세요.\n",
            "셀 왼쪽 정지 버튼을 누르세요.\n",
            "셀 왼쪽 정지 버튼을 누르세요.\n",
            "셀 왼쪽 정지 버튼을 누르세요.\n",
            "셀 왼쪽 정지 버튼을 누르세요.\n",
            "셀 왼쪽 정지 버튼을 누르세요.\n",
            "셀 왼쪽 정지 버튼을 누르세요.\n",
            "셀 왼쪽 정지 버튼을 누르세요.\n",
            "셀 왼쪽 정지 버튼을 누르세요.\n",
            "셀 왼쪽 정지 버튼을 누르세요.\n",
            "셀 왼쪽 정지 버튼을 누르세요.\n",
            "셀 왼쪽 정지 버튼을 누르세요.\n",
            "셀 왼쪽 정지 버튼을 누르세요.\n",
            "셀 왼쪽 정지 버튼을 누르세요.\n",
            "셀 왼쪽 정지 버튼을 누르세요.\n",
            "셀 왼쪽 정지 버튼을 누르세요.\n",
            "셀 왼쪽 정지 버튼을 누르세요.\n",
            "셀 왼쪽 정지 버튼을 누르세요.\n",
            "셀 왼쪽 정지 버튼을 누르세요.\n",
            "셀 왼쪽 정지 버튼을 누르세요.\n",
            "셀 왼쪽 정지 버튼을 누르세요.\n",
            "셀 왼쪽 정지 버튼을 누르세요.\n",
            "셀 왼쪽 정지 버튼을 누르세요.\n",
            "셀 왼쪽 정지 버튼을 누르세요.\n",
            "셀 왼쪽 정지 버튼을 누르세요.\n",
            "셀 왼쪽 정지 버튼을 누르세요.\n",
            "셀 왼쪽 정지 버튼을 누르세요.\n",
            "셀 왼쪽 정지 버튼을 누르세요.\n",
            "셀 왼쪽 정지 버튼을 누르세요.\n",
            "셀 왼쪽 정지 버튼을 누르세요.\n",
            "셀 왼쪽 정지 버튼을 누르세요.\n",
            "셀 왼쪽 정지 버튼을 누르세요.\n",
            "셀 왼쪽 정지 버튼을 누르세요.\n",
            "셀 왼쪽 정지 버튼을 누르세요.\n",
            "셀 왼쪽 정지 버튼을 누르세요.\n",
            "셀 왼쪽 정지 버튼을 누르세요.\n",
            "셀 왼쪽 정지 버튼을 누르세요.\n",
            "셀 왼쪽 정지 버튼을 누르세요.\n",
            "셀 왼쪽 정지 버튼을 누르세요.\n",
            "셀 왼쪽 정지 버튼을 누르세요.\n",
            "셀 왼쪽 정지 버튼을 누르세요.\n",
            "셀 왼쪽 정지 버튼을 누르세요.\n",
            "셀 왼쪽 정지 버튼을 누르세요.\n",
            "셀 왼쪽 정지 버튼을 누르세요.\n",
            "셀 왼쪽 정지 버튼을 누르세요.\n",
            "셀 왼쪽 정지 버튼을 누르세요.\n",
            "셀 왼쪽 정지 버튼을 누르세요.\n",
            "셀 왼쪽 정지 버튼을 누르세요.\n",
            "셀 왼쪽 정지 버튼을 누르세요.\n",
            "셀 왼쪽 정지 버튼을 누르세요.\n",
            "셀 왼쪽 정지 버튼을 누르세요.\n",
            "셀 왼쪽 정지 버튼을 누르세요.\n",
            "셀 왼쪽 정지 버튼을 누르세요.\n",
            "셀 왼쪽 정지 버튼을 누르세요.\n",
            "셀 왼쪽 정지 버튼을 누르세요.\n",
            "셀 왼쪽 정지 버튼을 누르세요.\n",
            "셀 왼쪽 정지 버튼을 누르세요.\n",
            "셀 왼쪽 정지 버튼을 누르세요.\n",
            "셀 왼쪽 정지 버튼을 누르세요.\n",
            "셀 왼쪽 정지 버튼을 누르세요.\n",
            "셀 왼쪽 정지 버튼을 누르세요.\n",
            "셀 왼쪽 정지 버튼을 누르세요.\n",
            "셀 왼쪽 정지 버튼을 누르세요.\n",
            "셀 왼쪽 정지 버튼을 누르세요.\n",
            "셀 왼쪽 정지 버튼을 누르세요.\n",
            "셀 왼쪽 정지 버튼을 누르세요.\n",
            "셀 왼쪽 정지 버튼을 누르세요.\n",
            "셀 왼쪽 정지 버튼을 누르세요.\n",
            "셀 왼쪽 정지 버튼을 누르세요.\n",
            "셀 왼쪽 정지 버튼을 누르세요.\n",
            "셀 왼쪽 정지 버튼을 누르세요.\n",
            "셀 왼쪽 정지 버튼을 누르세요.\n",
            "셀 왼쪽 정지 버튼을 누르세요.\n",
            "셀 왼쪽 정지 버튼을 누르세요.\n",
            "셀 왼쪽 정지 버튼을 누르세요.\n",
            "셀 왼쪽 정지 버튼을 누르세요.\n",
            "셀 왼쪽 정지 버튼을 누르세요.\n",
            "셀 왼쪽 정지 버튼을 누르세요.\n",
            "셀 왼쪽 정지 버튼을 누르세요.\n",
            "셀 왼쪽 정지 버튼을 누르세요.\n",
            "셀 왼쪽 정지 버튼을 누르세요.\n",
            "셀 왼쪽 정지 버튼을 누르세요.\n",
            "셀 왼쪽 정지 버튼을 누르세요.\n",
            "셀 왼쪽 정지 버튼을 누르세요.\n",
            "셀 왼쪽 정지 버튼을 누르세요.\n",
            "셀 왼쪽 정지 버튼을 누르세요.\n",
            "셀 왼쪽 정지 버튼을 누르세요.\n",
            "셀 왼쪽 정지 버튼을 누르세요.\n",
            "셀 왼쪽 정지 버튼을 누르세요.\n",
            "셀 왼쪽 정지 버튼을 누르세요.\n",
            "셀 왼쪽 정지 버튼을 누르세요.\n",
            "셀 왼쪽 정지 버튼을 누르세요.\n",
            "셀 왼쪽 정지 버튼을 누르세요.\n",
            "셀 왼쪽 정지 버튼을 누르세요.\n",
            "셀 왼쪽 정지 버튼을 누르세요.\n",
            "셀 왼쪽 정지 버튼을 누르세요.\n",
            "셀 왼쪽 정지 버튼을 누르세요.\n",
            "셀 왼쪽 정지 버튼을 누르세요.\n",
            "셀 왼쪽 정지 버튼을 누르세요.\n",
            "셀 왼쪽 정지 버튼을 누르세요.\n",
            "셀 왼쪽 정지 버튼을 누르세요.\n",
            "셀 왼쪽 정지 버튼을 누르세요.\n",
            "셀 왼쪽 정지 버튼을 누르세요.\n",
            "셀 왼쪽 정지 버튼을 누르세요.\n",
            "셀 왼쪽 정지 버튼을 누르세요.\n",
            "셀 왼쪽 정지 버튼을 누르세요.\n",
            "셀 왼쪽 정지 버튼을 누르세요.\n",
            "셀 왼쪽 정지 버튼을 누르세요.\n",
            "셀 왼쪽 정지 버튼을 누르세요.\n",
            "셀 왼쪽 정지 버튼을 누르세요.\n",
            "셀 왼쪽 정지 버튼을 누르세요.\n",
            "셀 왼쪽 정지 버튼을 누르세요.\n",
            "셀 왼쪽 정지 버튼을 누르세요.\n",
            "셀 왼쪽 정지 버튼을 누르세요.\n",
            "셀 왼쪽 정지 버튼을 누르세요.\n",
            "셀 왼쪽 정지 버튼을 누르세요.\n",
            "셀 왼쪽 정지 버튼을 누르세요.\n",
            "셀 왼쪽 정지 버튼을 누르세요.\n",
            "셀 왼쪽 정지 버튼을 누르세요.\n",
            "셀 왼쪽 정지 버튼을 누르세요.\n",
            "셀 왼쪽 정지 버튼을 누르세요.\n",
            "셀 왼쪽 정지 버튼을 누르세요.\n",
            "셀 왼쪽 정지 버튼을 누르세요.\n",
            "셀 왼쪽 정지 버튼을 누르세요.\n",
            "셀 왼쪽 정지 버튼을 누르세요.\n",
            "셀 왼쪽 정지 버튼을 누르세요.\n",
            "셀 왼쪽 정지 버튼을 누르세요.\n",
            "셀 왼쪽 정지 버튼을 누르세요.\n",
            "셀 왼쪽 정지 버튼을 누르세요.\n",
            "셀 왼쪽 정지 버튼을 누르세요.\n",
            "셀 왼쪽 정지 버튼을 누르세요.\n",
            "셀 왼쪽 정지 버튼을 누르세요.\n",
            "셀 왼쪽 정지 버튼을 누르세요.\n",
            "셀 왼쪽 정지 버튼을 누르세요.\n",
            "셀 왼쪽 정지 버튼을 누르세요.\n",
            "셀 왼쪽 정지 버튼을 누르세요.\n",
            "셀 왼쪽 정지 버튼을 누르세요.\n",
            "셀 왼쪽 정지 버튼을 누르세요.\n",
            "셀 왼쪽 정지 버튼을 누르세요.\n",
            "셀 왼쪽 정지 버튼을 누르세요.\n",
            "셀 왼쪽 정지 버튼을 누르세요.\n",
            "셀 왼쪽 정지 버튼을 누르세요.\n",
            "셀 왼쪽 정지 버튼을 누르세요.\n",
            "셀 왼쪽 정지 버튼을 누르세요.\n",
            "셀 왼쪽 정지 버튼을 누르세요.\n",
            "셀 왼쪽 정지 버튼을 누르세요.\n",
            "셀 왼쪽 정지 버튼을 누르세요.\n",
            "셀 왼쪽 정지 버튼을 누르세요.\n",
            "셀 왼쪽 정지 버튼을 누르세요.\n",
            "셀 왼쪽 정지 버튼을 누르세요.\n",
            "셀 왼쪽 정지 버튼을 누르세요.\n",
            "셀 왼쪽 정지 버튼을 누르세요.\n",
            "셀 왼쪽 정지 버튼을 누르세요.\n",
            "셀 왼쪽 정지 버튼을 누르세요.\n",
            "셀 왼쪽 정지 버튼을 누르세요.\n",
            "셀 왼쪽 정지 버튼을 누르세요.\n",
            "셀 왼쪽 정지 버튼을 누르세요.\n",
            "셀 왼쪽 정지 버튼을 누르세요.\n",
            "셀 왼쪽 정지 버튼을 누르세요.\n",
            "셀 왼쪽 정지 버튼을 누르세요.\n",
            "셀 왼쪽 정지 버튼을 누르세요.\n",
            "셀 왼쪽 정지 버튼을 누르세요.\n",
            "셀 왼쪽 정지 버튼을 누르세요.\n",
            "셀 왼쪽 정지 버튼을 누르세요.\n",
            "셀 왼쪽 정지 버튼을 누르세요.\n",
            "셀 왼쪽 정지 버튼을 누르세요.\n",
            "셀 왼쪽 정지 버튼을 누르세요.\n",
            "셀 왼쪽 정지 버튼을 누르세요.\n",
            "셀 왼쪽 정지 버튼을 누르세요.\n",
            "셀 왼쪽 정지 버튼을 누르세요.\n",
            "셀 왼쪽 정지 버튼을 누르세요.\n",
            "셀 왼쪽 정지 버튼을 누르세요.\n",
            "셀 왼쪽 정지 버튼을 누르세요.\n",
            "셀 왼쪽 정지 버튼을 누르세요.\n",
            "셀 왼쪽 정지 버튼을 누르세요.\n",
            "셀 왼쪽 정지 버튼을 누르세요.\n",
            "셀 왼쪽 정지 버튼을 누르세요.\n",
            "셀 왼쪽 정지 버튼을 누르세요.\n",
            "셀 왼쪽 정지 버튼을 누르세요.\n",
            "셀 왼쪽 정지 버튼을 누르세요.\n",
            "셀 왼쪽 정지 버튼을 누르세요.\n",
            "셀 왼쪽 정지 버튼을 누르세요.\n",
            "셀 왼쪽 정지 버튼을 누르세요.\n",
            "셀 왼쪽 정지 버튼을 누르세요.\n",
            "셀 왼쪽 정지 버튼을 누르세요.\n",
            "셀 왼쪽 정지 버튼을 누르세요.\n",
            "셀 왼쪽 정지 버튼을 누르세요.\n",
            "셀 왼쪽 정지 버튼을 누르세요.\n",
            "셀 왼쪽 정지 버튼을 누르세요.\n",
            "셀 왼쪽 정지 버튼을 누르세요.\n",
            "셀 왼쪽 정지 버튼을 누르세요.\n",
            "셀 왼쪽 정지 버튼을 누르세요.\n",
            "셀 왼쪽 정지 버튼을 누르세요.\n",
            "셀 왼쪽 정지 버튼을 누르세요.\n",
            "셀 왼쪽 정지 버튼을 누르세요.\n",
            "셀 왼쪽 정지 버튼을 누르세요.\n",
            "셀 왼쪽 정지 버튼을 누르세요.\n",
            "셀 왼쪽 정지 버튼을 누르세요.\n",
            "셀 왼쪽 정지 버튼을 누르세요.\n",
            "셀 왼쪽 정지 버튼을 누르세요.\n",
            "셀 왼쪽 정지 버튼을 누르세요.\n",
            "셀 왼쪽 정지 버튼을 누르세요.\n",
            "셀 왼쪽 정지 버튼을 누르세요.\n",
            "셀 왼쪽 정지 버튼을 누르세요.\n",
            "셀 왼쪽 정지 버튼을 누르세요.\n",
            "셀 왼쪽 정지 버튼을 누르세요.\n",
            "셀 왼쪽 정지 버튼을 누르세요.\n",
            "셀 왼쪽 정지 버튼을 누르세요.\n",
            "셀 왼쪽 정지 버튼을 누르세요.\n",
            "셀 왼쪽 정지 버튼을 누르세요.\n",
            "셀 왼쪽 정지 버튼을 누르세요.\n",
            "셀 왼쪽 정지 버튼을 누르세요.\n",
            "셀 왼쪽 정지 버튼을 누르세요.\n",
            "셀 왼쪽 정지 버튼을 누르세요.\n",
            "셀 왼쪽 정지 버튼을 누르세요.\n",
            "셀 왼쪽 정지 버튼을 누르세요.\n",
            "셀 왼쪽 정지 버튼을 누르세요.\n",
            "셀 왼쪽 정지 버튼을 누르세요.\n",
            "셀 왼쪽 정지 버튼을 누르세요.\n",
            "셀 왼쪽 정지 버튼을 누르세요.\n",
            "셀 왼쪽 정지 버튼을 누르세요.\n",
            "셀 왼쪽 정지 버튼을 누르세요.\n",
            "셀 왼쪽 정지 버튼을 누르세요.\n",
            "셀 왼쪽 정지 버튼을 누르세요.\n",
            "셀 왼쪽 정지 버튼을 누르세요.\n",
            "셀 왼쪽 정지 버튼을 누르세요.\n",
            "셀 왼쪽 정지 버튼을 누르세요.\n",
            "셀 왼쪽 정지 버튼을 누르세요.\n",
            "셀 왼쪽 정지 버튼을 누르세요.\n",
            "셀 왼쪽 정지 버튼을 누르세요.\n",
            "셀 왼쪽 정지 버튼을 누르세요.\n",
            "셀 왼쪽 정지 버튼을 누르세요.\n",
            "셀 왼쪽 정지 버튼을 누르세요.\n",
            "셀 왼쪽 정지 버튼을 누르세요.\n",
            "셀 왼쪽 정지 버튼을 누르세요.\n",
            "셀 왼쪽 정지 버튼을 누르세요.\n",
            "셀 왼쪽 정지 버튼을 누르세요.\n",
            "셀 왼쪽 정지 버튼을 누르세요.\n",
            "셀 왼쪽 정지 버튼을 누르세요.\n",
            "셀 왼쪽 정지 버튼을 누르세요.\n",
            "셀 왼쪽 정지 버튼을 누르세요.\n",
            "셀 왼쪽 정지 버튼을 누르세요.\n",
            "셀 왼쪽 정지 버튼을 누르세요.\n",
            "셀 왼쪽 정지 버튼을 누르세요.\n",
            "셀 왼쪽 정지 버튼을 누르세요.\n",
            "셀 왼쪽 정지 버튼을 누르세요.\n",
            "셀 왼쪽 정지 버튼을 누르세요.\n",
            "셀 왼쪽 정지 버튼을 누르세요.\n",
            "셀 왼쪽 정지 버튼을 누르세요.\n",
            "셀 왼쪽 정지 버튼을 누르세요.\n",
            "셀 왼쪽 정지 버튼을 누르세요.\n",
            "셀 왼쪽 정지 버튼을 누르세요.\n",
            "셀 왼쪽 정지 버튼을 누르세요.\n",
            "셀 왼쪽 정지 버튼을 누르세요.\n",
            "셀 왼쪽 정지 버튼을 누르세요.\n",
            "셀 왼쪽 정지 버튼을 누르세요.\n",
            "셀 왼쪽 정지 버튼을 누르세요.\n",
            "셀 왼쪽 정지 버튼을 누르세요.\n",
            "셀 왼쪽 정지 버튼을 누르세요.\n",
            "셀 왼쪽 정지 버튼을 누르세요.\n",
            "셀 왼쪽 정지 버튼을 누르세요.\n",
            "셀 왼쪽 정지 버튼을 누르세요.\n",
            "셀 왼쪽 정지 버튼을 누르세요.\n",
            "셀 왼쪽 정지 버튼을 누르세요.\n",
            "셀 왼쪽 정지 버튼을 누르세요.\n",
            "셀 왼쪽 정지 버튼을 누르세요.\n",
            "셀 왼쪽 정지 버튼을 누르세요.\n",
            "셀 왼쪽 정지 버튼을 누르세요.\n",
            "셀 왼쪽 정지 버튼을 누르세요.\n",
            "셀 왼쪽 정지 버튼을 누르세요.\n",
            "셀 왼쪽 정지 버튼을 누르세요.\n",
            "셀 왼쪽 정지 버튼을 누르세요.\n",
            "셀 왼쪽 정지 버튼을 누르세요.\n",
            "셀 왼쪽 정지 버튼을 누르세요.\n",
            "셀 왼쪽 정지 버튼을 누르세요.\n",
            "셀 왼쪽 정지 버튼을 누르세요.\n",
            "셀 왼쪽 정지 버튼을 누르세요.\n",
            "셀 왼쪽 정지 버튼을 누르세요.\n",
            "셀 왼쪽 정지 버튼을 누르세요.\n",
            "셀 왼쪽 정지 버튼을 누르세요.\n",
            "셀 왼쪽 정지 버튼을 누르세요.\n",
            "셀 왼쪽 정지 버튼을 누르세요.\n",
            "셀 왼쪽 정지 버튼을 누르세요.\n",
            "셀 왼쪽 정지 버튼을 누르세요.\n",
            "셀 왼쪽 정지 버튼을 누르세요.\n",
            "셀 왼쪽 정지 버튼을 누르세요.\n",
            "셀 왼쪽 정지 버튼을 누르세요.\n",
            "셀 왼쪽 정지 버튼을 누르세요.\n",
            "셀 왼쪽 정지 버튼을 누르세요.\n",
            "셀 왼쪽 정지 버튼을 누르세요.\n",
            "셀 왼쪽 정지 버튼을 누르세요.\n",
            "셀 왼쪽 정지 버튼을 누르세요.\n",
            "셀 왼쪽 정지 버튼을 누르세요.\n",
            "셀 왼쪽 정지 버튼을 누르세요.\n",
            "셀 왼쪽 정지 버튼을 누르세요.\n",
            "셀 왼쪽 정지 버튼을 누르세요.\n",
            "셀 왼쪽 정지 버튼을 누르세요.\n",
            "셀 왼쪽 정지 버튼을 누르세요.\n",
            "셀 왼쪽 정지 버튼을 누르세요.\n",
            "셀 왼쪽 정지 버튼을 누르세요.\n",
            "셀 왼쪽 정지 버튼을 누르세요.\n",
            "셀 왼쪽 정지 버튼을 누르세요.\n",
            "셀 왼쪽 정지 버튼을 누르세요.\n",
            "셀 왼쪽 정지 버튼을 누르세요.\n",
            "셀 왼쪽 정지 버튼을 누르세요.\n",
            "셀 왼쪽 정지 버튼을 누르세요.\n",
            "셀 왼쪽 정지 버튼을 누르세요.\n",
            "셀 왼쪽 정지 버튼을 누르세요.\n",
            "셀 왼쪽 정지 버튼을 누르세요.\n",
            "셀 왼쪽 정지 버튼을 누르세요.\n",
            "셀 왼쪽 정지 버튼을 누르세요.\n",
            "셀 왼쪽 정지 버튼을 누르세요.\n",
            "셀 왼쪽 정지 버튼을 누르세요.\n",
            "셀 왼쪽 정지 버튼을 누르세요.\n",
            "셀 왼쪽 정지 버튼을 누르세요.\n",
            "셀 왼쪽 정지 버튼을 누르세요.\n",
            "셀 왼쪽 정지 버튼을 누르세요.\n",
            "셀 왼쪽 정지 버튼을 누르세요.\n",
            "셀 왼쪽 정지 버튼을 누르세요.\n",
            "셀 왼쪽 정지 버튼을 누르세요.\n",
            "셀 왼쪽 정지 버튼을 누르세요.\n",
            "셀 왼쪽 정지 버튼을 누르세요.\n",
            "셀 왼쪽 정지 버튼을 누르세요.\n",
            "셀 왼쪽 정지 버튼을 누르세요.\n",
            "셀 왼쪽 정지 버튼을 누르세요.\n",
            "셀 왼쪽 정지 버튼을 누르세요.\n",
            "셀 왼쪽 정지 버튼을 누르세요.\n",
            "셀 왼쪽 정지 버튼을 누르세요.\n",
            "셀 왼쪽 정지 버튼을 누르세요.\n",
            "셀 왼쪽 정지 버튼을 누르세요.\n",
            "셀 왼쪽 정지 버튼을 누르세요.\n",
            "셀 왼쪽 정지 버튼을 누르세요.\n",
            "셀 왼쪽 정지 버튼을 누르세요.\n",
            "셀 왼쪽 정지 버튼을 누르세요.\n",
            "셀 왼쪽 정지 버튼을 누르세요.\n",
            "셀 왼쪽 정지 버튼을 누르세요.\n",
            "셀 왼쪽 정지 버튼을 누르세요.\n",
            "셀 왼쪽 정지 버튼을 누르세요.\n",
            "셀 왼쪽 정지 버튼을 누르세요.\n",
            "셀 왼쪽 정지 버튼을 누르세요.\n",
            "셀 왼쪽 정지 버튼을 누르세요.\n",
            "셀 왼쪽 정지 버튼을 누르세요.\n",
            "셀 왼쪽 정지 버튼을 누르세요.\n",
            "셀 왼쪽 정지 버튼을 누르세요.\n",
            "셀 왼쪽 정지 버튼을 누르세요.\n",
            "셀 왼쪽 정지 버튼을 누르세요.\n",
            "셀 왼쪽 정지 버튼을 누르세요.\n",
            "셀 왼쪽 정지 버튼을 누르세요.\n",
            "셀 왼쪽 정지 버튼을 누르세요.\n",
            "셀 왼쪽 정지 버튼을 누르세요.\n",
            "셀 왼쪽 정지 버튼을 누르세요.\n",
            "셀 왼쪽 정지 버튼을 누르세요.\n",
            "셀 왼쪽 정지 버튼을 누르세요.\n",
            "셀 왼쪽 정지 버튼을 누르세요.\n",
            "셀 왼쪽 정지 버튼을 누르세요.\n",
            "셀 왼쪽 정지 버튼을 누르세요.\n",
            "셀 왼쪽 정지 버튼을 누르세요.\n",
            "셀 왼쪽 정지 버튼을 누르세요.\n",
            "셀 왼쪽 정지 버튼을 누르세요.\n",
            "셀 왼쪽 정지 버튼을 누르세요.\n",
            "셀 왼쪽 정지 버튼을 누르세요.\n",
            "셀 왼쪽 정지 버튼을 누르세요.\n",
            "셀 왼쪽 정지 버튼을 누르세요.\n",
            "셀 왼쪽 정지 버튼을 누르세요.\n",
            "셀 왼쪽 정지 버튼을 누르세요.\n",
            "셀 왼쪽 정지 버튼을 누르세요.\n",
            "셀 왼쪽 정지 버튼을 누르세요.\n",
            "셀 왼쪽 정지 버튼을 누르세요.\n",
            "셀 왼쪽 정지 버튼을 누르세요.\n",
            "셀 왼쪽 정지 버튼을 누르세요.\n",
            "셀 왼쪽 정지 버튼을 누르세요.\n",
            "셀 왼쪽 정지 버튼을 누르세요.\n",
            "셀 왼쪽 정지 버튼을 누르세요.\n",
            "셀 왼쪽 정지 버튼을 누르세요.\n",
            "셀 왼쪽 정지 버튼을 누르세요.\n",
            "셀 왼쪽 정지 버튼을 누르세요.\n",
            "셀 왼쪽 정지 버튼을 누르세요.\n",
            "셀 왼쪽 정지 버튼을 누르세요.\n",
            "셀 왼쪽 정지 버튼을 누르세요.\n",
            "셀 왼쪽 정지 버튼을 누르세요.\n",
            "셀 왼쪽 정지 버튼을 누르세요.\n",
            "셀 왼쪽 정지 버튼을 누르세요.\n",
            "셀 왼쪽 정지 버튼을 누르세요.\n",
            "셀 왼쪽 정지 버튼을 누르세요.\n",
            "셀 왼쪽 정지 버튼을 누르세요.\n",
            "셀 왼쪽 정지 버튼을 누르세요.\n",
            "셀 왼쪽 정지 버튼을 누르세요.\n",
            "셀 왼쪽 정지 버튼을 누르세요.\n",
            "셀 왼쪽 정지 버튼을 누르세요.\n",
            "셀 왼쪽 정지 버튼을 누르세요.\n",
            "셀 왼쪽 정지 버튼을 누르세요.\n",
            "셀 왼쪽 정지 버튼을 누르세요.\n",
            "셀 왼쪽 정지 버튼을 누르세요.\n",
            "셀 왼쪽 정지 버튼을 누르세요.\n",
            "셀 왼쪽 정지 버튼을 누르세요.\n",
            "셀 왼쪽 정지 버튼을 누르세요.\n",
            "셀 왼쪽 정지 버튼을 누르세요.\n",
            "셀 왼쪽 정지 버튼을 누르세요.\n",
            "셀 왼쪽 정지 버튼을 누르세요.\n",
            "셀 왼쪽 정지 버튼을 누르세요.\n",
            "셀 왼쪽 정지 버튼을 누르세요.\n",
            "셀 왼쪽 정지 버튼을 누르세요.\n",
            "셀 왼쪽 정지 버튼을 누르세요.\n",
            "셀 왼쪽 정지 버튼을 누르세요.\n",
            "셀 왼쪽 정지 버튼을 누르세요.\n",
            "셀 왼쪽 정지 버튼을 누르세요.\n",
            "셀 왼쪽 정지 버튼을 누르세요.\n",
            "셀 왼쪽 정지 버튼을 누르세요.\n",
            "셀 왼쪽 정지 버튼을 누르세요.\n",
            "셀 왼쪽 정지 버튼을 누르세요.\n",
            "셀 왼쪽 정지 버튼을 누르세요.\n",
            "셀 왼쪽 정지 버튼을 누르세요.\n",
            "셀 왼쪽 정지 버튼을 누르세요.\n",
            "셀 왼쪽 정지 버튼을 누르세요.\n",
            "셀 왼쪽 정지 버튼을 누르세요.\n",
            "셀 왼쪽 정지 버튼을 누르세요.\n",
            "셀 왼쪽 정지 버튼을 누르세요.\n",
            "셀 왼쪽 정지 버튼을 누르세요.\n",
            "셀 왼쪽 정지 버튼을 누르세요.\n",
            "셀 왼쪽 정지 버튼을 누르세요.\n",
            "셀 왼쪽 정지 버튼을 누르세요.\n",
            "셀 왼쪽 정지 버튼을 누르세요.\n",
            "셀 왼쪽 정지 버튼을 누르세요.\n",
            "셀 왼쪽 정지 버튼을 누르세요.\n",
            "셀 왼쪽 정지 버튼을 누르세요.\n",
            "셀 왼쪽 정지 버튼을 누르세요.\n",
            "셀 왼쪽 정지 버튼을 누르세요.\n",
            "셀 왼쪽 정지 버튼을 누르세요.\n",
            "셀 왼쪽 정지 버튼을 누르세요.\n",
            "셀 왼쪽 정지 버튼을 누르세요.\n",
            "셀 왼쪽 정지 버튼을 누르세요.\n",
            "셀 왼쪽 정지 버튼을 누르세요.\n",
            "셀 왼쪽 정지 버튼을 누르세요.\n",
            "셀 왼쪽 정지 버튼을 누르세요.\n",
            "셀 왼쪽 정지 버튼을 누르세요.\n",
            "셀 왼쪽 정지 버튼을 누르세요.\n",
            "셀 왼쪽 정지 버튼을 누르세요.\n",
            "셀 왼쪽 정지 버튼을 누르세요.\n",
            "셀 왼쪽 정지 버튼을 누르세요.\n",
            "셀 왼쪽 정지 버튼을 누르세요.\n",
            "셀 왼쪽 정지 버튼을 누르세요.\n",
            "셀 왼쪽 정지 버튼을 누르세요.\n",
            "셀 왼쪽 정지 버튼을 누르세요.\n",
            "셀 왼쪽 정지 버튼을 누르세요.\n",
            "셀 왼쪽 정지 버튼을 누르세요.\n",
            "셀 왼쪽 정지 버튼을 누르세요.\n",
            "셀 왼쪽 정지 버튼을 누르세요.\n",
            "셀 왼쪽 정지 버튼을 누르세요.\n",
            "셀 왼쪽 정지 버튼을 누르세요.\n",
            "셀 왼쪽 정지 버튼을 누르세요.\n",
            "셀 왼쪽 정지 버튼을 누르세요.\n",
            "셀 왼쪽 정지 버튼을 누르세요.\n",
            "셀 왼쪽 정지 버튼을 누르세요.\n",
            "셀 왼쪽 정지 버튼을 누르세요.\n",
            "셀 왼쪽 정지 버튼을 누르세요.\n",
            "셀 왼쪽 정지 버튼을 누르세요.\n",
            "셀 왼쪽 정지 버튼을 누르세요.\n",
            "셀 왼쪽 정지 버튼을 누르세요.\n",
            "셀 왼쪽 정지 버튼을 누르세요.\n",
            "셀 왼쪽 정지 버튼을 누르세요.\n",
            "셀 왼쪽 정지 버튼을 누르세요.\n",
            "셀 왼쪽 정지 버튼을 누르세요.\n",
            "셀 왼쪽 정지 버튼을 누르세요.\n",
            "셀 왼쪽 정지 버튼을 누르세요.\n",
            "셀 왼쪽 정지 버튼을 누르세요.\n",
            "셀 왼쪽 정지 버튼을 누르세요.\n",
            "셀 왼쪽 정지 버튼을 누르세요.\n",
            "셀 왼쪽 정지 버튼을 누르세요.\n",
            "셀 왼쪽 정지 버튼을 누르세요.\n",
            "셀 왼쪽 정지 버튼을 누르세요.\n",
            "셀 왼쪽 정지 버튼을 누르세요.\n",
            "셀 왼쪽 정지 버튼을 누르세요.\n",
            "셀 왼쪽 정지 버튼을 누르세요.\n",
            "셀 왼쪽 정지 버튼을 누르세요.\n",
            "셀 왼쪽 정지 버튼을 누르세요.\n",
            "셀 왼쪽 정지 버튼을 누르세요.\n",
            "셀 왼쪽 정지 버튼을 누르세요.\n",
            "셀 왼쪽 정지 버튼을 누르세요.\n",
            "셀 왼쪽 정지 버튼을 누르세요.\n",
            "셀 왼쪽 정지 버튼을 누르세요.\n",
            "셀 왼쪽 정지 버튼을 누르세요.\n",
            "셀 왼쪽 정지 버튼을 누르세요.\n",
            "셀 왼쪽 정지 버튼을 누르세요.\n",
            "셀 왼쪽 정지 버튼을 누르세요.\n",
            "셀 왼쪽 정지 버튼을 누르세요.\n",
            "셀 왼쪽 정지 버튼을 누르세요.\n",
            "셀 왼쪽 정지 버튼을 누르세요.\n",
            "셀 왼쪽 정지 버튼을 누르세요.\n",
            "셀 왼쪽 정지 버튼을 누르세요.\n",
            "셀 왼쪽 정지 버튼을 누르세요.\n",
            "셀 왼쪽 정지 버튼을 누르세요.\n",
            "셀 왼쪽 정지 버튼을 누르세요.\n",
            "셀 왼쪽 정지 버튼을 누르세요.\n",
            "셀 왼쪽 정지 버튼을 누르세요.\n",
            "셀 왼쪽 정지 버튼을 누르세요.\n",
            "셀 왼쪽 정지 버튼을 누르세요.\n",
            "셀 왼쪽 정지 버튼을 누르세요.\n",
            "셀 왼쪽 정지 버튼을 누르세요.\n",
            "셀 왼쪽 정지 버튼을 누르세요.\n",
            "셀 왼쪽 정지 버튼을 누르세요.\n",
            "셀 왼쪽 정지 버튼을 누르세요.\n",
            "셀 왼쪽 정지 버튼을 누르세요.\n",
            "셀 왼쪽 정지 버튼을 누르세요.\n",
            "셀 왼쪽 정지 버튼을 누르세요.\n",
            "셀 왼쪽 정지 버튼을 누르세요.\n",
            "셀 왼쪽 정지 버튼을 누르세요.\n",
            "셀 왼쪽 정지 버튼을 누르세요.\n",
            "셀 왼쪽 정지 버튼을 누르세요.\n",
            "셀 왼쪽 정지 버튼을 누르세요.\n",
            "셀 왼쪽 정지 버튼을 누르세요.\n",
            "셀 왼쪽 정지 버튼을 누르세요.\n",
            "셀 왼쪽 정지 버튼을 누르세요.\n",
            "셀 왼쪽 정지 버튼을 누르세요.\n",
            "셀 왼쪽 정지 버튼을 누르세요.\n",
            "셀 왼쪽 정지 버튼을 누르세요.\n",
            "셀 왼쪽 정지 버튼을 누르세요.\n",
            "셀 왼쪽 정지 버튼을 누르세요.\n",
            "셀 왼쪽 정지 버튼을 누르세요.\n",
            "셀 왼쪽 정지 버튼을 누르세요.\n",
            "셀 왼쪽 정지 버튼을 누르세요.\n",
            "셀 왼쪽 정지 버튼을 누르세요.\n",
            "셀 왼쪽 정지 버튼을 누르세요.\n",
            "셀 왼쪽 정지 버튼을 누르세요.\n",
            "셀 왼쪽 정지 버튼을 누르세요.\n",
            "셀 왼쪽 정지 버튼을 누르세요.\n",
            "셀 왼쪽 정지 버튼을 누르세요.\n",
            "셀 왼쪽 정지 버튼을 누르세요.\n",
            "셀 왼쪽 정지 버튼을 누르세요.\n",
            "셀 왼쪽 정지 버튼을 누르세요.\n",
            "셀 왼쪽 정지 버튼을 누르세요.\n",
            "셀 왼쪽 정지 버튼을 누르세요.\n",
            "셀 왼쪽 정지 버튼을 누르세요.\n",
            "셀 왼쪽 정지 버튼을 누르세요.\n",
            "셀 왼쪽 정지 버튼을 누르세요.\n",
            "셀 왼쪽 정지 버튼을 누르세요.\n",
            "셀 왼쪽 정지 버튼을 누르세요.\n",
            "셀 왼쪽 정지 버튼을 누르세요.\n",
            "셀 왼쪽 정지 버튼을 누르세요.\n",
            "셀 왼쪽 정지 버튼을 누르세요.\n",
            "셀 왼쪽 정지 버튼을 누르세요.\n",
            "셀 왼쪽 정지 버튼을 누르세요.\n",
            "셀 왼쪽 정지 버튼을 누르세요.\n",
            "셀 왼쪽 정지 버튼을 누르세요.\n",
            "셀 왼쪽 정지 버튼을 누르세요.\n",
            "셀 왼쪽 정지 버튼을 누르세요.\n",
            "셀 왼쪽 정지 버튼을 누르세요.\n",
            "셀 왼쪽 정지 버튼을 누르세요.\n",
            "셀 왼쪽 정지 버튼을 누르세요.\n",
            "셀 왼쪽 정지 버튼을 누르세요.\n",
            "셀 왼쪽 정지 버튼을 누르세요.\n",
            "셀 왼쪽 정지 버튼을 누르세요.\n",
            "셀 왼쪽 정지 버튼을 누르세요.\n",
            "셀 왼쪽 정지 버튼을 누르세요.\n",
            "셀 왼쪽 정지 버튼을 누르세요.\n",
            "셀 왼쪽 정지 버튼을 누르세요.\n",
            "셀 왼쪽 정지 버튼을 누르세요.\n",
            "셀 왼쪽 정지 버튼을 누르세요.\n",
            "셀 왼쪽 정지 버튼을 누르세요.\n",
            "셀 왼쪽 정지 버튼을 누르세요.\n",
            "셀 왼쪽 정지 버튼을 누르세요.\n",
            "셀 왼쪽 정지 버튼을 누르세요.\n",
            "셀 왼쪽 정지 버튼을 누르세요.\n",
            "셀 왼쪽 정지 버튼을 누르세요.\n",
            "셀 왼쪽 정지 버튼을 누르세요.\n",
            "셀 왼쪽 정지 버튼을 누르세요.\n",
            "셀 왼쪽 정지 버튼을 누르세요.\n",
            "셀 왼쪽 정지 버튼을 누르세요.\n",
            "셀 왼쪽 정지 버튼을 누르세요.\n",
            "셀 왼쪽 정지 버튼을 누르세요.\n",
            "셀 왼쪽 정지 버튼을 누르세요.\n",
            "셀 왼쪽 정지 버튼을 누르세요.\n",
            "셀 왼쪽 정지 버튼을 누르세요.\n",
            "셀 왼쪽 정지 버튼을 누르세요.\n",
            "셀 왼쪽 정지 버튼을 누르세요.\n",
            "셀 왼쪽 정지 버튼을 누르세요.\n",
            "셀 왼쪽 정지 버튼을 누르세요.\n",
            "셀 왼쪽 정지 버튼을 누르세요.\n",
            "셀 왼쪽 정지 버튼을 누르세요.\n",
            "셀 왼쪽 정지 버튼을 누르세요.\n",
            "셀 왼쪽 정지 버튼을 누르세요.\n",
            "셀 왼쪽 정지 버튼을 누르세요.\n",
            "셀 왼쪽 정지 버튼을 누르세요.\n",
            "셀 왼쪽 정지 버튼을 누르세요.\n",
            "셀 왼쪽 정지 버튼을 누르세요.\n",
            "셀 왼쪽 정지 버튼을 누르세요.\n",
            "셀 왼쪽 정지 버튼을 누르세요.\n",
            "셀 왼쪽 정지 버튼을 누르세요.\n",
            "셀 왼쪽 정지 버튼을 누르세요.\n",
            "셀 왼쪽 정지 버튼을 누르세요.\n",
            "셀 왼쪽 정지 버튼을 누르세요.\n",
            "셀 왼쪽 정지 버튼을 누르세요.\n",
            "셀 왼쪽 정지 버튼을 누르세요.\n",
            "셀 왼쪽 정지 버튼을 누르세요.\n",
            "셀 왼쪽 정지 버튼을 누르세요.\n",
            "셀 왼쪽 정지 버튼을 누르세요.\n",
            "셀 왼쪽 정지 버튼을 누르세요.\n",
            "셀 왼쪽 정지 버튼을 누르세요.\n",
            "셀 왼쪽 정지 버튼을 누르세요.\n",
            "셀 왼쪽 정지 버튼을 누르세요.\n",
            "셀 왼쪽 정지 버튼을 누르세요.\n",
            "셀 왼쪽 정지 버튼을 누르세요.\n",
            "셀 왼쪽 정지 버튼을 누르세요.\n",
            "셀 왼쪽 정지 버튼을 누르세요.\n",
            "셀 왼쪽 정지 버튼을 누르세요.\n",
            "셀 왼쪽 정지 버튼을 누르세요.\n",
            "셀 왼쪽 정지 버튼을 누르세요.\n",
            "셀 왼쪽 정지 버튼을 누르세요.\n",
            "셀 왼쪽 정지 버튼을 누르세요.\n",
            "셀 왼쪽 정지 버튼을 누르세요.\n",
            "셀 왼쪽 정지 버튼을 누르세요.\n",
            "셀 왼쪽 정지 버튼을 누르세요.\n",
            "셀 왼쪽 정지 버튼을 누르세요.\n",
            "셀 왼쪽 정지 버튼을 누르세요.\n",
            "셀 왼쪽 정지 버튼을 누르세요.\n",
            "셀 왼쪽 정지 버튼을 누르세요.\n",
            "셀 왼쪽 정지 버튼을 누르세요.\n",
            "셀 왼쪽 정지 버튼을 누르세요.\n",
            "셀 왼쪽 정지 버튼을 누르세요.\n",
            "셀 왼쪽 정지 버튼을 누르세요.\n",
            "셀 왼쪽 정지 버튼을 누르세요.\n",
            "셀 왼쪽 정지 버튼을 누르세요.\n",
            "셀 왼쪽 정지 버튼을 누르세요.\n",
            "셀 왼쪽 정지 버튼을 누르세요.\n",
            "셀 왼쪽 정지 버튼을 누르세요.\n",
            "셀 왼쪽 정지 버튼을 누르세요.\n",
            "셀 왼쪽 정지 버튼을 누르세요.\n",
            "셀 왼쪽 정지 버튼을 누르세요.\n",
            "셀 왼쪽 정지 버튼을 누르세요.\n",
            "셀 왼쪽 정지 버튼을 누르세요.\n",
            "셀 왼쪽 정지 버튼을 누르세요.\n",
            "셀 왼쪽 정지 버튼을 누르세요.\n",
            "셀 왼쪽 정지 버튼을 누르세요.\n",
            "셀 왼쪽 정지 버튼을 누르세요.\n",
            "셀 왼쪽 정지 버튼을 누르세요.\n",
            "셀 왼쪽 정지 버튼을 누르세요.\n",
            "셀 왼쪽 정지 버튼을 누르세요.\n",
            "셀 왼쪽 정지 버튼을 누르세요.\n",
            "셀 왼쪽 정지 버튼을 누르세요.\n",
            "셀 왼쪽 정지 버튼을 누르세요.\n",
            "셀 왼쪽 정지 버튼을 누르세요.\n",
            "셀 왼쪽 정지 버튼을 누르세요.\n",
            "셀 왼쪽 정지 버튼을 누르세요.\n",
            "셀 왼쪽 정지 버튼을 누르세요.\n",
            "셀 왼쪽 정지 버튼을 누르세요.\n",
            "셀 왼쪽 정지 버튼을 누르세요.\n",
            "셀 왼쪽 정지 버튼을 누르세요.\n",
            "셀 왼쪽 정지 버튼을 누르세요.\n",
            "셀 왼쪽 정지 버튼을 누르세요.\n",
            "셀 왼쪽 정지 버튼을 누르세요.\n",
            "셀 왼쪽 정지 버튼을 누르세요.\n",
            "셀 왼쪽 정지 버튼을 누르세요.\n",
            "셀 왼쪽 정지 버튼을 누르세요.\n",
            "셀 왼쪽 정지 버튼을 누르세요.\n",
            "셀 왼쪽 정지 버튼을 누르세요.\n",
            "셀 왼쪽 정지 버튼을 누르세요.\n",
            "셀 왼쪽 정지 버튼을 누르세요.\n",
            "셀 왼쪽 정지 버튼을 누르세요.\n",
            "셀 왼쪽 정지 버튼을 누르세요.\n",
            "셀 왼쪽 정지 버튼을 누르세요.\n",
            "셀 왼쪽 정지 버튼을 누르세요.\n",
            "셀 왼쪽 정지 버튼을 누르세요.\n",
            "셀 왼쪽 정지 버튼을 누르세요.\n",
            "셀 왼쪽 정지 버튼을 누르세요.\n",
            "셀 왼쪽 정지 버튼을 누르세요.\n",
            "셀 왼쪽 정지 버튼을 누르세요.\n",
            "셀 왼쪽 정지 버튼을 누르세요.\n",
            "셀 왼쪽 정지 버튼을 누르세요.\n",
            "셀 왼쪽 정지 버튼을 누르세요.\n",
            "셀 왼쪽 정지 버튼을 누르세요.\n",
            "셀 왼쪽 정지 버튼을 누르세요.\n",
            "셀 왼쪽 정지 버튼을 누르세요.\n",
            "셀 왼쪽 정지 버튼을 누르세요.\n",
            "셀 왼쪽 정지 버튼을 누르세요.\n",
            "셀 왼쪽 정지 버튼을 누르세요.\n",
            "셀 왼쪽 정지 버튼을 누르세요.\n",
            "셀 왼쪽 정지 버튼을 누르세요.\n",
            "셀 왼쪽 정지 버튼을 누르세요.\n",
            "셀 왼쪽 정지 버튼을 누르세요.\n",
            "셀 왼쪽 정지 버튼을 누르세요.\n",
            "셀 왼쪽 정지 버튼을 누르세요.\n",
            "셀 왼쪽 정지 버튼을 누르세요.\n",
            "셀 왼쪽 정지 버튼을 누르세요.\n",
            "셀 왼쪽 정지 버튼을 누르세요.\n",
            "셀 왼쪽 정지 버튼을 누르세요.\n",
            "셀 왼쪽 정지 버튼을 누르세요.\n",
            "셀 왼쪽 정지 버튼을 누르세요.\n",
            "셀 왼쪽 정지 버튼을 누르세요.\n",
            "셀 왼쪽 정지 버튼을 누르세요.\n",
            "셀 왼쪽 정지 버튼을 누르세요.\n",
            "셀 왼쪽 정지 버튼을 누르세요.\n",
            "셀 왼쪽 정지 버튼을 누르세요.\n",
            "셀 왼쪽 정지 버튼을 누르세요.\n",
            "셀 왼쪽 정지 버튼을 누르세요.\n",
            "셀 왼쪽 정지 버튼을 누르세요.\n",
            "셀 왼쪽 정지 버튼을 누르세요.\n",
            "셀 왼쪽 정지 버튼을 누르세요.\n",
            "셀 왼쪽 정지 버튼을 누르세요.\n",
            "셀 왼쪽 정지 버튼을 누르세요.\n",
            "셀 왼쪽 정지 버튼을 누르세요.\n",
            "셀 왼쪽 정지 버튼을 누르세요.\n",
            "셀 왼쪽 정지 버튼을 누르세요.\n",
            "셀 왼쪽 정지 버튼을 누르세요.\n",
            "셀 왼쪽 정지 버튼을 누르세요.\n",
            "셀 왼쪽 정지 버튼을 누르세요.\n",
            "셀 왼쪽 정지 버튼을 누르세요.\n",
            "셀 왼쪽 정지 버튼을 누르세요.\n",
            "셀 왼쪽 정지 버튼을 누르세요.\n",
            "셀 왼쪽 정지 버튼을 누르세요.\n",
            "셀 왼쪽 정지 버튼을 누르세요.\n",
            "셀 왼쪽 정지 버튼을 누르세요.\n",
            "셀 왼쪽 정지 버튼을 누르세요.\n",
            "셀 왼쪽 정지 버튼을 누르세요.\n",
            "셀 왼쪽 정지 버튼을 누르세요.\n",
            "셀 왼쪽 정지 버튼을 누르세요.\n",
            "셀 왼쪽 정지 버튼을 누르세요.\n",
            "셀 왼쪽 정지 버튼을 누르세요.\n",
            "셀 왼쪽 정지 버튼을 누르세요.\n",
            "셀 왼쪽 정지 버튼을 누르세요.\n",
            "셀 왼쪽 정지 버튼을 누르세요.\n",
            "셀 왼쪽 정지 버튼을 누르세요.\n",
            "셀 왼쪽 정지 버튼을 누르세요.\n",
            "셀 왼쪽 정지 버튼을 누르세요.\n",
            "셀 왼쪽 정지 버튼을 누르세요.\n",
            "셀 왼쪽 정지 버튼을 누르세요.\n",
            "셀 왼쪽 정지 버튼을 누르세요.\n",
            "셀 왼쪽 정지 버튼을 누르세요.\n",
            "셀 왼쪽 정지 버튼을 누르세요.\n",
            "셀 왼쪽 정지 버튼을 누르세요.\n",
            "셀 왼쪽 정지 버튼을 누르세요.\n",
            "셀 왼쪽 정지 버튼을 누르세요.\n",
            "셀 왼쪽 정지 버튼을 누르세요.\n",
            "셀 왼쪽 정지 버튼을 누르세요.\n",
            "셀 왼쪽 정지 버튼을 누르세요.\n",
            "셀 왼쪽 정지 버튼을 누르세요.\n",
            "셀 왼쪽 정지 버튼을 누르세요.\n",
            "셀 왼쪽 정지 버튼을 누르세요.\n",
            "셀 왼쪽 정지 버튼을 누르세요.\n",
            "셀 왼쪽 정지 버튼을 누르세요.\n",
            "셀 왼쪽 정지 버튼을 누르세요.\n",
            "셀 왼쪽 정지 버튼을 누르세요.\n",
            "셀 왼쪽 정지 버튼을 누르세요.\n",
            "셀 왼쪽 정지 버튼을 누르세요.\n",
            "셀 왼쪽 정지 버튼을 누르세요.\n",
            "셀 왼쪽 정지 버튼을 누르세요.\n",
            "셀 왼쪽 정지 버튼을 누르세요.\n",
            "셀 왼쪽 정지 버튼을 누르세요.\n",
            "셀 왼쪽 정지 버튼을 누르세요.\n",
            "셀 왼쪽 정지 버튼을 누르세요.\n",
            "셀 왼쪽 정지 버튼을 누르세요.\n",
            "셀 왼쪽 정지 버튼을 누르세요.\n",
            "셀 왼쪽 정지 버튼을 누르세요.\n",
            "셀 왼쪽 정지 버튼을 누르세요.\n",
            "셀 왼쪽 정지 버튼을 누르세요.\n",
            "셀 왼쪽 정지 버튼을 누르세요.\n",
            "셀 왼쪽 정지 버튼을 누르세요.\n",
            "셀 왼쪽 정지 버튼을 누르세요.\n",
            "셀 왼쪽 정지 버튼을 누르세요.\n",
            "셀 왼쪽 정지 버튼을 누르세요.\n",
            "셀 왼쪽 정지 버튼을 누르세요.\n",
            "셀 왼쪽 정지 버튼을 누르세요.\n",
            "셀 왼쪽 정지 버튼을 누르세요.\n",
            "셀 왼쪽 정지 버튼을 누르세요.\n",
            "셀 왼쪽 정지 버튼을 누르세요.\n",
            "셀 왼쪽 정지 버튼을 누르세요.\n",
            "셀 왼쪽 정지 버튼을 누르세요.\n",
            "셀 왼쪽 정지 버튼을 누르세요.\n",
            "셀 왼쪽 정지 버튼을 누르세요.\n",
            "셀 왼쪽 정지 버튼을 누르세요.\n",
            "셀 왼쪽 정지 버튼을 누르세요.\n",
            "셀 왼쪽 정지 버튼을 누르세요.\n",
            "셀 왼쪽 정지 버튼을 누르세요.\n",
            "셀 왼쪽 정지 버튼을 누르세요.\n",
            "셀 왼쪽 정지 버튼을 누르세요.\n",
            "셀 왼쪽 정지 버튼을 누르세요.\n",
            "셀 왼쪽 정지 버튼을 누르세요.\n",
            "셀 왼쪽 정지 버튼을 누르세요.\n",
            "셀 왼쪽 정지 버튼을 누르세요.\n",
            "셀 왼쪽 정지 버튼을 누르세요.\n",
            "셀 왼쪽 정지 버튼을 누르세요.\n",
            "셀 왼쪽 정지 버튼을 누르세요.\n",
            "셀 왼쪽 정지 버튼을 누르세요.\n",
            "셀 왼쪽 정지 버튼을 누르세요.\n",
            "셀 왼쪽 정지 버튼을 누르세요.\n",
            "셀 왼쪽 정지 버튼을 누르세요.\n",
            "셀 왼쪽 정지 버튼을 누르세요.\n",
            "셀 왼쪽 정지 버튼을 누르세요.\n",
            "셀 왼쪽 정지 버튼을 누르세요.\n",
            "셀 왼쪽 정지 버튼을 누르세요.\n",
            "셀 왼쪽 정지 버튼을 누르세요.\n",
            "셀 왼쪽 정지 버튼을 누르세요.\n",
            "셀 왼쪽 정지 버튼을 누르세요.\n",
            "셀 왼쪽 정지 버튼을 누르세요.\n",
            "셀 왼쪽 정지 버튼을 누르세요.\n",
            "셀 왼쪽 정지 버튼을 누르세요.\n",
            "셀 왼쪽 정지 버튼을 누르세요.\n",
            "셀 왼쪽 정지 버튼을 누르세요.\n",
            "셀 왼쪽 정지 버튼을 누르세요.\n",
            "셀 왼쪽 정지 버튼을 누르세요.\n",
            "셀 왼쪽 정지 버튼을 누르세요.\n",
            "셀 왼쪽 정지 버튼을 누르세요.\n",
            "셀 왼쪽 정지 버튼을 누르세요.\n",
            "셀 왼쪽 정지 버튼을 누르세요.\n",
            "셀 왼쪽 정지 버튼을 누르세요.\n",
            "셀 왼쪽 정지 버튼을 누르세요.\n",
            "셀 왼쪽 정지 버튼을 누르세요.\n",
            "셀 왼쪽 정지 버튼을 누르세요.\n",
            "셀 왼쪽 정지 버튼을 누르세요.\n",
            "셀 왼쪽 정지 버튼을 누르세요.\n",
            "셀 왼쪽 정지 버튼을 누르세요.\n",
            "셀 왼쪽 정지 버튼을 누르세요.\n",
            "셀 왼쪽 정지 버튼을 누르세요.\n",
            "셀 왼쪽 정지 버튼을 누르세요.\n",
            "셀 왼쪽 정지 버튼을 누르세요.\n",
            "셀 왼쪽 정지 버튼을 누르세요.\n",
            "셀 왼쪽 정지 버튼을 누르세요.\n",
            "셀 왼쪽 정지 버튼을 누르세요.\n",
            "셀 왼쪽 정지 버튼을 누르세요.\n",
            "셀 왼쪽 정지 버튼을 누르세요.\n",
            "셀 왼쪽 정지 버튼을 누르세요.\n",
            "셀 왼쪽 정지 버튼을 누르세요.\n",
            "셀 왼쪽 정지 버튼을 누르세요.\n",
            "셀 왼쪽 정지 버튼을 누르세요.\n",
            "셀 왼쪽 정지 버튼을 누르세요.\n",
            "셀 왼쪽 정지 버튼을 누르세요.\n",
            "셀 왼쪽 정지 버튼을 누르세요.\n",
            "셀 왼쪽 정지 버튼을 누르세요.\n",
            "셀 왼쪽 정지 버튼을 누르세요.\n",
            "셀 왼쪽 정지 버튼을 누르세요.\n",
            "셀 왼쪽 정지 버튼을 누르세요.\n",
            "셀 왼쪽 정지 버튼을 누르세요.\n",
            "셀 왼쪽 정지 버튼을 누르세요.\n",
            "셀 왼쪽 정지 버튼을 누르세요.\n",
            "셀 왼쪽 정지 버튼을 누르세요.\n",
            "셀 왼쪽 정지 버튼을 누르세요.\n",
            "셀 왼쪽 정지 버튼을 누르세요.\n",
            "셀 왼쪽 정지 버튼을 누르세요.\n",
            "셀 왼쪽 정지 버튼을 누르세요.\n",
            "셀 왼쪽 정지 버튼을 누르세요.\n",
            "셀 왼쪽 정지 버튼을 누르세요.\n",
            "셀 왼쪽 정지 버튼을 누르세요.\n",
            "셀 왼쪽 정지 버튼을 누르세요.\n",
            "셀 왼쪽 정지 버튼을 누르세요.\n",
            "셀 왼쪽 정지 버튼을 누르세요.\n",
            "셀 왼쪽 정지 버튼을 누르세요.\n",
            "셀 왼쪽 정지 버튼을 누르세요.\n",
            "셀 왼쪽 정지 버튼을 누르세요.\n",
            "셀 왼쪽 정지 버튼을 누르세요.\n",
            "셀 왼쪽 정지 버튼을 누르세요.\n",
            "셀 왼쪽 정지 버튼을 누르세요.\n",
            "셀 왼쪽 정지 버튼을 누르세요.\n",
            "셀 왼쪽 정지 버튼을 누르세요.\n",
            "셀 왼쪽 정지 버튼을 누르세요.\n",
            "셀 왼쪽 정지 버튼을 누르세요.\n",
            "셀 왼쪽 정지 버튼을 누르세요.\n",
            "셀 왼쪽 정지 버튼을 누르세요.\n",
            "셀 왼쪽 정지 버튼을 누르세요.\n",
            "셀 왼쪽 정지 버튼을 누르세요.\n",
            "셀 왼쪽 정지 버튼을 누르세요.\n",
            "셀 왼쪽 정지 버튼을 누르세요.\n",
            "셀 왼쪽 정지 버튼을 누르세요.\n",
            "셀 왼쪽 정지 버튼을 누르세요.\n",
            "셀 왼쪽 정지 버튼을 누르세요.\n",
            "셀 왼쪽 정지 버튼을 누르세요.\n",
            "셀 왼쪽 정지 버튼을 누르세요.\n",
            "셀 왼쪽 정지 버튼을 누르세요.\n",
            "셀 왼쪽 정지 버튼을 누르세요.\n",
            "셀 왼쪽 정지 버튼을 누르세요.\n",
            "셀 왼쪽 정지 버튼을 누르세요.\n",
            "셀 왼쪽 정지 버튼을 누르세요.\n",
            "셀 왼쪽 정지 버튼을 누르세요.\n",
            "셀 왼쪽 정지 버튼을 누르세요.\n",
            "셀 왼쪽 정지 버튼을 누르세요.\n",
            "셀 왼쪽 정지 버튼을 누르세요.\n",
            "셀 왼쪽 정지 버튼을 누르세요.\n",
            "셀 왼쪽 정지 버튼을 누르세요.\n",
            "셀 왼쪽 정지 버튼을 누르세요.\n",
            "셀 왼쪽 정지 버튼을 누르세요.\n",
            "셀 왼쪽 정지 버튼을 누르세요.\n",
            "셀 왼쪽 정지 버튼을 누르세요.\n",
            "셀 왼쪽 정지 버튼을 누르세요.\n",
            "셀 왼쪽 정지 버튼을 누르세요.\n",
            "셀 왼쪽 정지 버튼을 누르세요.\n",
            "셀 왼쪽 정지 버튼을 누르세요.\n",
            "셀 왼쪽 정지 버튼을 누르세요.\n",
            "셀 왼쪽 정지 버튼을 누르세요.\n",
            "셀 왼쪽 정지 버튼을 누르세요.\n",
            "셀 왼쪽 정지 버튼을 누르세요.\n",
            "셀 왼쪽 정지 버튼을 누르세요.\n",
            "셀 왼쪽 정지 버튼을 누르세요.\n",
            "셀 왼쪽 정지 버튼을 누르세요.\n",
            "셀 왼쪽 정지 버튼을 누르세요.\n",
            "셀 왼쪽 정지 버튼을 누르세요.\n",
            "셀 왼쪽 정지 버튼을 누르세요.\n",
            "셀 왼쪽 정지 버튼을 누르세요.\n",
            "셀 왼쪽 정지 버튼을 누르세요.\n",
            "셀 왼쪽 정지 버튼을 누르세요.\n",
            "셀 왼쪽 정지 버튼을 누르세요.\n",
            "셀 왼쪽 정지 버튼을 누르세요.\n",
            "셀 왼쪽 정지 버튼을 누르세요.\n",
            "셀 왼쪽 정지 버튼을 누르세요.\n",
            "셀 왼쪽 정지 버튼을 누르세요.\n",
            "셀 왼쪽 정지 버튼을 누르세요.\n",
            "셀 왼쪽 정지 버튼을 누르세요.\n",
            "셀 왼쪽 정지 버튼을 누르세요.\n",
            "셀 왼쪽 정지 버튼을 누르세요.\n",
            "셀 왼쪽 정지 버튼을 누르세요.\n",
            "셀 왼쪽 정지 버튼을 누르세요.\n",
            "셀 왼쪽 정지 버튼을 누르세요.\n",
            "셀 왼쪽 정지 버튼을 누르세요.\n",
            "셀 왼쪽 정지 버튼을 누르세요.\n",
            "셀 왼쪽 정지 버튼을 누르세요.\n",
            "셀 왼쪽 정지 버튼을 누르세요.\n",
            "셀 왼쪽 정지 버튼을 누르세요.\n",
            "셀 왼쪽 정지 버튼을 누르세요.\n",
            "셀 왼쪽 정지 버튼을 누르세요.\n",
            "셀 왼쪽 정지 버튼을 누르세요.\n",
            "셀 왼쪽 정지 버튼을 누르세요.\n",
            "셀 왼쪽 정지 버튼을 누르세요.\n",
            "셀 왼쪽 정지 버튼을 누르세요.\n",
            "셀 왼쪽 정지 버튼을 누르세요.\n",
            "셀 왼쪽 정지 버튼을 누르세요.\n",
            "셀 왼쪽 정지 버튼을 누르세요.\n",
            "셀 왼쪽 정지 버튼을 누르세요.\n",
            "셀 왼쪽 정지 버튼을 누르세요.\n",
            "셀 왼쪽 정지 버튼을 누르세요.\n",
            "셀 왼쪽 정지 버튼을 누르세요.\n",
            "셀 왼쪽 정지 버튼을 누르세요.\n",
            "셀 왼쪽 정지 버튼을 누르세요.\n",
            "셀 왼쪽 정지 버튼을 누르세요.\n",
            "셀 왼쪽 정지 버튼을 누르세요.\n",
            "셀 왼쪽 정지 버튼을 누르세요.\n",
            "셀 왼쪽 정지 버튼을 누르세요.\n",
            "셀 왼쪽 정지 버튼을 누르세요.\n",
            "셀 왼쪽 정지 버튼을 누르세요.\n",
            "셀 왼쪽 정지 버튼을 누르세요.\n",
            "셀 왼쪽 정지 버튼을 누르세요.\n",
            "셀 왼쪽 정지 버튼을 누르세요.\n",
            "셀 왼쪽 정지 버튼을 누르세요.\n",
            "셀 왼쪽 정지 버튼을 누르세요.\n",
            "셀 왼쪽 정지 버튼을 누르세요.\n",
            "셀 왼쪽 정지 버튼을 누르세요.\n",
            "셀 왼쪽 정지 버튼을 누르세요.\n",
            "셀 왼쪽 정지 버튼을 누르세요.\n",
            "셀 왼쪽 정지 버튼을 누르세요.\n",
            "셀 왼쪽 정지 버튼을 누르세요.\n",
            "셀 왼쪽 정지 버튼을 누르세요.\n",
            "셀 왼쪽 정지 버튼을 누르세요.\n",
            "셀 왼쪽 정지 버튼을 누르세요.\n",
            "셀 왼쪽 정지 버튼을 누르세요.\n",
            "셀 왼쪽 정지 버튼을 누르세요.\n",
            "셀 왼쪽 정지 버튼을 누르세요.\n",
            "셀 왼쪽 정지 버튼을 누르세요.\n",
            "셀 왼쪽 정지 버튼을 누르세요.\n",
            "셀 왼쪽 정지 버튼을 누르세요.\n",
            "셀 왼쪽 정지 버튼을 누르세요.\n",
            "셀 왼쪽 정지 버튼을 누르세요.\n",
            "셀 왼쪽 정지 버튼을 누르세요.\n",
            "셀 왼쪽 정지 버튼을 누르세요.\n",
            "셀 왼쪽 정지 버튼을 누르세요.\n",
            "셀 왼쪽 정지 버튼을 누르세요.\n",
            "셀 왼쪽 정지 버튼을 누르세요.\n",
            "셀 왼쪽 정지 버튼을 누르세요.\n",
            "셀 왼쪽 정지 버튼을 누르세요.\n",
            "셀 왼쪽 정지 버튼을 누르세요.\n",
            "셀 왼쪽 정지 버튼을 누르세요.\n",
            "셀 왼쪽 정지 버튼을 누르세요.\n",
            "셀 왼쪽 정지 버튼을 누르세요.\n",
            "셀 왼쪽 정지 버튼을 누르세요.\n",
            "셀 왼쪽 정지 버튼을 누르세요.\n",
            "셀 왼쪽 정지 버튼을 누르세요.\n",
            "셀 왼쪽 정지 버튼을 누르세요.\n",
            "셀 왼쪽 정지 버튼을 누르세요.\n",
            "셀 왼쪽 정지 버튼을 누르세요.\n",
            "셀 왼쪽 정지 버튼을 누르세요.\n",
            "셀 왼쪽 정지 버튼을 누르세요.\n",
            "셀 왼쪽 정지 버튼을 누르세요.\n",
            "셀 왼쪽 정지 버튼을 누르세요.\n",
            "셀 왼쪽 정지 버튼을 누르세요.\n",
            "셀 왼쪽 정지 버튼을 누르세요.\n",
            "셀 왼쪽 정지 버튼을 누르세요.\n",
            "셀 왼쪽 정지 버튼을 누르세요.\n",
            "셀 왼쪽 정지 버튼을 누르세요.\n",
            "셀 왼쪽 정지 버튼을 누르세요.\n",
            "셀 왼쪽 정지 버튼을 누르세요.\n",
            "셀 왼쪽 정지 버튼을 누르세요.\n",
            "셀 왼쪽 정지 버튼을 누르세요.\n",
            "셀 왼쪽 정지 버튼을 누르세요.\n",
            "셀 왼쪽 정지 버튼을 누르세요.\n",
            "셀 왼쪽 정지 버튼을 누르세요.\n",
            "셀 왼쪽 정지 버튼을 누르세요.\n",
            "셀 왼쪽 정지 버튼을 누르세요.\n",
            "셀 왼쪽 정지 버튼을 누르세요.\n",
            "셀 왼쪽 정지 버튼을 누르세요.\n",
            "셀 왼쪽 정지 버튼을 누르세요.\n",
            "셀 왼쪽 정지 버튼을 누르세요.\n",
            "셀 왼쪽 정지 버튼을 누르세요.\n",
            "셀 왼쪽 정지 버튼을 누르세요.\n",
            "셀 왼쪽 정지 버튼을 누르세요.\n",
            "셀 왼쪽 정지 버튼을 누르세요.\n",
            "셀 왼쪽 정지 버튼을 누르세요.\n",
            "셀 왼쪽 정지 버튼을 누르세요.\n",
            "셀 왼쪽 정지 버튼을 누르세요.\n",
            "셀 왼쪽 정지 버튼을 누르세요.\n",
            "셀 왼쪽 정지 버튼을 누르세요.\n",
            "셀 왼쪽 정지 버튼을 누르세요.\n",
            "셀 왼쪽 정지 버튼을 누르세요.\n",
            "셀 왼쪽 정지 버튼을 누르세요.\n",
            "셀 왼쪽 정지 버튼을 누르세요.\n",
            "셀 왼쪽 정지 버튼을 누르세요.\n",
            "셀 왼쪽 정지 버튼을 누르세요.\n",
            "셀 왼쪽 정지 버튼을 누르세요.\n",
            "셀 왼쪽 정지 버튼을 누르세요.\n",
            "셀 왼쪽 정지 버튼을 누르세요.\n",
            "셀 왼쪽 정지 버튼을 누르세요.\n",
            "셀 왼쪽 정지 버튼을 누르세요.\n",
            "셀 왼쪽 정지 버튼을 누르세요.\n",
            "셀 왼쪽 정지 버튼을 누르세요.\n",
            "셀 왼쪽 정지 버튼을 누르세요.\n",
            "셀 왼쪽 정지 버튼을 누르세요.\n",
            "셀 왼쪽 정지 버튼을 누르세요.\n",
            "셀 왼쪽 정지 버튼을 누르세요.\n",
            "셀 왼쪽 정지 버튼을 누르세요.\n",
            "셀 왼쪽 정지 버튼을 누르세요.\n",
            "셀 왼쪽 정지 버튼을 누르세요.\n",
            "셀 왼쪽 정지 버튼을 누르세요.\n",
            "셀 왼쪽 정지 버튼을 누르세요.\n",
            "셀 왼쪽 정지 버튼을 누르세요.\n",
            "셀 왼쪽 정지 버튼을 누르세요.\n",
            "셀 왼쪽 정지 버튼을 누르세요.\n",
            "셀 왼쪽 정지 버튼을 누르세요.\n",
            "셀 왼쪽 정지 버튼을 누르세요.\n",
            "셀 왼쪽 정지 버튼을 누르세요.\n",
            "셀 왼쪽 정지 버튼을 누르세요.\n",
            "셀 왼쪽 정지 버튼을 누르세요.\n",
            "셀 왼쪽 정지 버튼을 누르세요.\n",
            "셀 왼쪽 정지 버튼을 누르세요.\n",
            "셀 왼쪽 정지 버튼을 누르세요.\n",
            "셀 왼쪽 정지 버튼을 누르세요.\n",
            "셀 왼쪽 정지 버튼을 누르세요.\n",
            "셀 왼쪽 정지 버튼을 누르세요.\n",
            "셀 왼쪽 정지 버튼을 누르세요.\n",
            "셀 왼쪽 정지 버튼을 누르세요.\n",
            "셀 왼쪽 정지 버튼을 누르세요.\n",
            "셀 왼쪽 정지 버튼을 누르세요.\n",
            "셀 왼쪽 정지 버튼을 누르세요.\n",
            "셀 왼쪽 정지 버튼을 누르세요.\n",
            "셀 왼쪽 정지 버튼을 누르세요.\n",
            "셀 왼쪽 정지 버튼을 누르세요.\n",
            "셀 왼쪽 정지 버튼을 누르세요.\n",
            "셀 왼쪽 정지 버튼을 누르세요.\n",
            "셀 왼쪽 정지 버튼을 누르세요.\n",
            "셀 왼쪽 정지 버튼을 누르세요.\n",
            "셀 왼쪽 정지 버튼을 누르세요.\n",
            "셀 왼쪽 정지 버튼을 누르세요.\n",
            "셀 왼쪽 정지 버튼을 누르세요.\n",
            "셀 왼쪽 정지 버튼을 누르세요.\n",
            "셀 왼쪽 정지 버튼을 누르세요.\n",
            "셀 왼쪽 정지 버튼을 누르세요.\n",
            "셀 왼쪽 정지 버튼을 누르세요.\n",
            "셀 왼쪽 정지 버튼을 누르세요.\n",
            "셀 왼쪽 정지 버튼을 누르세요.\n",
            "셀 왼쪽 정지 버튼을 누르세요.\n",
            "셀 왼쪽 정지 버튼을 누르세요.\n",
            "셀 왼쪽 정지 버튼을 누르세요.\n",
            "셀 왼쪽 정지 버튼을 누르세요.\n",
            "셀 왼쪽 정지 버튼을 누르세요.\n",
            "셀 왼쪽 정지 버튼을 누르세요.\n",
            "셀 왼쪽 정지 버튼을 누르세요.\n",
            "셀 왼쪽 정지 버튼을 누르세요.\n",
            "셀 왼쪽 정지 버튼을 누르세요.\n",
            "셀 왼쪽 정지 버튼을 누르세요.\n",
            "셀 왼쪽 정지 버튼을 누르세요.\n",
            "셀 왼쪽 정지 버튼을 누르세요.\n",
            "셀 왼쪽 정지 버튼을 누르세요.\n",
            "셀 왼쪽 정지 버튼을 누르세요.\n",
            "셀 왼쪽 정지 버튼을 누르세요.\n",
            "셀 왼쪽 정지 버튼을 누르세요.\n",
            "셀 왼쪽 정지 버튼을 누르세요.\n",
            "셀 왼쪽 정지 버튼을 누르세요.\n",
            "셀 왼쪽 정지 버튼을 누르세요.\n",
            "셀 왼쪽 정지 버튼을 누르세요.\n",
            "셀 왼쪽 정지 버튼을 누르세요.\n",
            "셀 왼쪽 정지 버튼을 누르세요.\n",
            "셀 왼쪽 정지 버튼을 누르세요.\n",
            "셀 왼쪽 정지 버튼을 누르세요.\n",
            "셀 왼쪽 정지 버튼을 누르세요.\n",
            "셀 왼쪽 정지 버튼을 누르세요.\n",
            "셀 왼쪽 정지 버튼을 누르세요.\n",
            "셀 왼쪽 정지 버튼을 누르세요.\n",
            "셀 왼쪽 정지 버튼을 누르세요.\n",
            "셀 왼쪽 정지 버튼을 누르세요.\n",
            "셀 왼쪽 정지 버튼을 누르세요.\n",
            "셀 왼쪽 정지 버튼을 누르세요.\n",
            "셀 왼쪽 정지 버튼을 누르세요.\n",
            "셀 왼쪽 정지 버튼을 누르세요.\n",
            "셀 왼쪽 정지 버튼을 누르세요.\n",
            "셀 왼쪽 정지 버튼을 누르세요.\n",
            "셀 왼쪽 정지 버튼을 누르세요.\n",
            "셀 왼쪽 정지 버튼을 누르세요.\n",
            "셀 왼쪽 정지 버튼을 누르세요.\n",
            "셀 왼쪽 정지 버튼을 누르세요.\n",
            "셀 왼쪽 정지 버튼을 누르세요.\n",
            "셀 왼쪽 정지 버튼을 누르세요.\n",
            "셀 왼쪽 정지 버튼을 누르세요.\n",
            "셀 왼쪽 정지 버튼을 누르세요.\n",
            "셀 왼쪽 정지 버튼을 누르세요.\n",
            "셀 왼쪽 정지 버튼을 누르세요.\n",
            "셀 왼쪽 정지 버튼을 누르세요.\n",
            "셀 왼쪽 정지 버튼을 누르세요.\n",
            "셀 왼쪽 정지 버튼을 누르세요.\n",
            "셀 왼쪽 정지 버튼을 누르세요.\n",
            "셀 왼쪽 정지 버튼을 누르세요.\n",
            "셀 왼쪽 정지 버튼을 누르세요.\n",
            "셀 왼쪽 정지 버튼을 누르세요.\n",
            "셀 왼쪽 정지 버튼을 누르세요.\n",
            "셀 왼쪽 정지 버튼을 누르세요.\n",
            "셀 왼쪽 정지 버튼을 누르세요.\n",
            "셀 왼쪽 정지 버튼을 누르세요.\n",
            "셀 왼쪽 정지 버튼을 누르세요.\n",
            "셀 왼쪽 정지 버튼을 누르세요.\n",
            "셀 왼쪽 정지 버튼을 누르세요.\n",
            "셀 왼쪽 정지 버튼을 누르세요.\n",
            "셀 왼쪽 정지 버튼을 누르세요.\n",
            "셀 왼쪽 정지 버튼을 누르세요.\n",
            "셀 왼쪽 정지 버튼을 누르세요.\n",
            "셀 왼쪽 정지 버튼을 누르세요.\n",
            "셀 왼쪽 정지 버튼을 누르세요.\n",
            "셀 왼쪽 정지 버튼을 누르세요.\n",
            "셀 왼쪽 정지 버튼을 누르세요.\n",
            "셀 왼쪽 정지 버튼을 누르세요.\n",
            "셀 왼쪽 정지 버튼을 누르세요.\n",
            "셀 왼쪽 정지 버튼을 누르세요.\n",
            "셀 왼쪽 정지 버튼을 누르세요.\n",
            "셀 왼쪽 정지 버튼을 누르세요.\n",
            "셀 왼쪽 정지 버튼을 누르세요.\n",
            "셀 왼쪽 정지 버튼을 누르세요.\n",
            "셀 왼쪽 정지 버튼을 누르세요.\n",
            "셀 왼쪽 정지 버튼을 누르세요.\n",
            "셀 왼쪽 정지 버튼을 누르세요.\n",
            "셀 왼쪽 정지 버튼을 누르세요.\n",
            "셀 왼쪽 정지 버튼을 누르세요.\n",
            "셀 왼쪽 정지 버튼을 누르세요.\n",
            "셀 왼쪽 정지 버튼을 누르세요.\n",
            "셀 왼쪽 정지 버튼을 누르세요.\n",
            "셀 왼쪽 정지 버튼을 누르세요.\n",
            "셀 왼쪽 정지 버튼을 누르세요.\n",
            "셀 왼쪽 정지 버튼을 누르세요.\n",
            "셀 왼쪽 정지 버튼을 누르세요.\n",
            "셀 왼쪽 정지 버튼을 누르세요.\n",
            "셀 왼쪽 정지 버튼을 누르세요.\n",
            "셀 왼쪽 정지 버튼을 누르세요.\n",
            "셀 왼쪽 정지 버튼을 누르세요.\n",
            "셀 왼쪽 정지 버튼을 누르세요.\n",
            "셀 왼쪽 정지 버튼을 누르세요.\n",
            "셀 왼쪽 정지 버튼을 누르세요.\n",
            "셀 왼쪽 정지 버튼을 누르세요.\n",
            "셀 왼쪽 정지 버튼을 누르세요.\n",
            "셀 왼쪽 정지 버튼을 누르세요.\n",
            "셀 왼쪽 정지 버튼을 누르세요.\n",
            "셀 왼쪽 정지 버튼을 누르세요.\n",
            "셀 왼쪽 정지 버튼을 누르세요.\n",
            "셀 왼쪽 정지 버튼을 누르세요.\n",
            "셀 왼쪽 정지 버튼을 누르세요.\n",
            "셀 왼쪽 정지 버튼을 누르세요.\n",
            "셀 왼쪽 정지 버튼을 누르세요.\n",
            "셀 왼쪽 정지 버튼을 누르세요.\n",
            "셀 왼쪽 정지 버튼을 누르세요.\n",
            "셀 왼쪽 정지 버튼을 누르세요.\n",
            "셀 왼쪽 정지 버튼을 누르세요.\n",
            "셀 왼쪽 정지 버튼을 누르세요.\n",
            "셀 왼쪽 정지 버튼을 누르세요.\n",
            "셀 왼쪽 정지 버튼을 누르세요.\n",
            "셀 왼쪽 정지 버튼을 누르세요.\n",
            "셀 왼쪽 정지 버튼을 누르세요.\n",
            "셀 왼쪽 정지 버튼을 누르세요.\n",
            "셀 왼쪽 정지 버튼을 누르세요.\n",
            "셀 왼쪽 정지 버튼을 누르세요.\n",
            "셀 왼쪽 정지 버튼을 누르세요.\n",
            "셀 왼쪽 정지 버튼을 누르세요.\n",
            "셀 왼쪽 정지 버튼을 누르세요.\n",
            "셀 왼쪽 정지 버튼을 누르세요.\n",
            "셀 왼쪽 정지 버튼을 누르세요.\n",
            "셀 왼쪽 정지 버튼을 누르세요.\n",
            "셀 왼쪽 정지 버튼을 누르세요.\n",
            "셀 왼쪽 정지 버튼을 누르세요.\n",
            "셀 왼쪽 정지 버튼을 누르세요.\n",
            "셀 왼쪽 정지 버튼을 누르세요.\n",
            "셀 왼쪽 정지 버튼을 누르세요.\n",
            "셀 왼쪽 정지 버튼을 누르세요.\n",
            "셀 왼쪽 정지 버튼을 누르세요.\n",
            "셀 왼쪽 정지 버튼을 누르세요.\n",
            "셀 왼쪽 정지 버튼을 누르세요.\n",
            "셀 왼쪽 정지 버튼을 누르세요.\n",
            "셀 왼쪽 정지 버튼을 누르세요.\n",
            "셀 왼쪽 정지 버튼을 누르세요.\n",
            "셀 왼쪽 정지 버튼을 누르세요.\n",
            "셀 왼쪽 정지 버튼을 누르세요.\n",
            "셀 왼쪽 정지 버튼을 누르세요.\n",
            "셀 왼쪽 정지 버튼을 누르세요.\n",
            "셀 왼쪽 정지 버튼을 누르세요.\n",
            "셀 왼쪽 정지 버튼을 누르세요.\n",
            "셀 왼쪽 정지 버튼을 누르세요.\n",
            "셀 왼쪽 정지 버튼을 누르세요.\n",
            "셀 왼쪽 정지 버튼을 누르세요.\n",
            "셀 왼쪽 정지 버튼을 누르세요.\n",
            "셀 왼쪽 정지 버튼을 누르세요.\n",
            "셀 왼쪽 정지 버튼을 누르세요.\n",
            "셀 왼쪽 정지 버튼을 누르세요.\n",
            "셀 왼쪽 정지 버튼을 누르세요.\n",
            "셀 왼쪽 정지 버튼을 누르세요.\n",
            "셀 왼쪽 정지 버튼을 누르세요.\n",
            "셀 왼쪽 정지 버튼을 누르세요.\n",
            "셀 왼쪽 정지 버튼을 누르세요.\n",
            "셀 왼쪽 정지 버튼을 누르세요.\n",
            "셀 왼쪽 정지 버튼을 누르세요.\n",
            "셀 왼쪽 정지 버튼을 누르세요.\n",
            "셀 왼쪽 정지 버튼을 누르세요.\n",
            "셀 왼쪽 정지 버튼을 누르세요.\n",
            "셀 왼쪽 정지 버튼을 누르세요.\n",
            "셀 왼쪽 정지 버튼을 누르세요.\n",
            "셀 왼쪽 정지 버튼을 누르세요.\n",
            "셀 왼쪽 정지 버튼을 누르세요.\n",
            "셀 왼쪽 정지 버튼을 누르세요.\n",
            "셀 왼쪽 정지 버튼을 누르세요.\n",
            "셀 왼쪽 정지 버튼을 누르세요.\n",
            "셀 왼쪽 정지 버튼을 누르세요.\n",
            "셀 왼쪽 정지 버튼을 누르세요.\n",
            "셀 왼쪽 정지 버튼을 누르세요.\n",
            "셀 왼쪽 정지 버튼을 누르세요.\n",
            "셀 왼쪽 정지 버튼을 누르세요.\n",
            "셀 왼쪽 정지 버튼을 누르세요.\n",
            "셀 왼쪽 정지 버튼을 누르세요.\n",
            "셀 왼쪽 정지 버튼을 누르세요.\n",
            "셀 왼쪽 정지 버튼을 누르세요.\n",
            "셀 왼쪽 정지 버튼을 누르세요.\n",
            "셀 왼쪽 정지 버튼을 누르세요.\n",
            "셀 왼쪽 정지 버튼을 누르세요.\n",
            "셀 왼쪽 정지 버튼을 누르세요.\n",
            "셀 왼쪽 정지 버튼을 누르세요.\n",
            "셀 왼쪽 정지 버튼을 누르세요.\n",
            "셀 왼쪽 정지 버튼을 누르세요.\n",
            "셀 왼쪽 정지 버튼을 누르세요.\n",
            "셀 왼쪽 정지 버튼을 누르세요.\n",
            "셀 왼쪽 정지 버튼을 누르세요.\n",
            "셀 왼쪽 정지 버튼을 누르세요.\n",
            "셀 왼쪽 정지 버튼을 누르세요.\n",
            "셀 왼쪽 정지 버튼을 누르세요.\n",
            "셀 왼쪽 정지 버튼을 누르세요.\n",
            "셀 왼쪽 정지 버튼을 누르세요.\n",
            "셀 왼쪽 정지 버튼을 누르세요.\n",
            "셀 왼쪽 정지 버튼을 누르세요.\n",
            "셀 왼쪽 정지 버튼을 누르세요.\n",
            "셀 왼쪽 정지 버튼을 누르세요.\n",
            "셀 왼쪽 정지 버튼을 누르세요.\n",
            "셀 왼쪽 정지 버튼을 누르세요.\n",
            "셀 왼쪽 정지 버튼을 누르세요.\n",
            "셀 왼쪽 정지 버튼을 누르세요.\n",
            "셀 왼쪽 정지 버튼을 누르세요.\n",
            "셀 왼쪽 정지 버튼을 누르세요.\n",
            "셀 왼쪽 정지 버튼을 누르세요.\n",
            "셀 왼쪽 정지 버튼을 누르세요.\n",
            "셀 왼쪽 정지 버튼을 누르세요.\n",
            "셀 왼쪽 정지 버튼을 누르세요.\n",
            "셀 왼쪽 정지 버튼을 누르세요.\n",
            "셀 왼쪽 정지 버튼을 누르세요.\n",
            "셀 왼쪽 정지 버튼을 누르세요.\n",
            "셀 왼쪽 정지 버튼을 누르세요.\n",
            "셀 왼쪽 정지 버튼을 누르세요.\n",
            "셀 왼쪽 정지 버튼을 누르세요.\n",
            "셀 왼쪽 정지 버튼을 누르세요.\n",
            "셀 왼쪽 정지 버튼을 누르세요.\n",
            "셀 왼쪽 정지 버튼을 누르세요.\n",
            "셀 왼쪽 정지 버튼을 누르세요.\n",
            "셀 왼쪽 정지 버튼을 누르세요.\n",
            "셀 왼쪽 정지 버튼을 누르세요.\n",
            "셀 왼쪽 정지 버튼을 누르세요.\n",
            "셀 왼쪽 정지 버튼을 누르세요.\n",
            "셀 왼쪽 정지 버튼을 누르세요.\n",
            "셀 왼쪽 정지 버튼을 누르세요.\n",
            "셀 왼쪽 정지 버튼을 누르세요.\n",
            "셀 왼쪽 정지 버튼을 누르세요.\n",
            "셀 왼쪽 정지 버튼을 누르세요.\n",
            "셀 왼쪽 정지 버튼을 누르세요.\n",
            "셀 왼쪽 정지 버튼을 누르세요.\n",
            "셀 왼쪽 정지 버튼을 누르세요.\n",
            "셀 왼쪽 정지 버튼을 누르세요.\n",
            "셀 왼쪽 정지 버튼을 누르세요.\n",
            "셀 왼쪽 정지 버튼을 누르세요.\n",
            "셀 왼쪽 정지 버튼을 누르세요.\n",
            "셀 왼쪽 정지 버튼을 누르세요.\n",
            "셀 왼쪽 정지 버튼을 누르세요.\n",
            "셀 왼쪽 정지 버튼을 누르세요.\n",
            "셀 왼쪽 정지 버튼을 누르세요.\n",
            "셀 왼쪽 정지 버튼을 누르세요.\n",
            "셀 왼쪽 정지 버튼을 누르세요.\n",
            "셀 왼쪽 정지 버튼을 누르세요.\n",
            "셀 왼쪽 정지 버튼을 누르세요.\n",
            "셀 왼쪽 정지 버튼을 누르세요.\n",
            "셀 왼쪽 정지 버튼을 누르세요.\n",
            "셀 왼쪽 정지 버튼을 누르세요.\n",
            "셀 왼쪽 정지 버튼을 누르세요.\n",
            "셀 왼쪽 정지 버튼을 누르세요.\n",
            "셀 왼쪽 정지 버튼을 누르세요.\n",
            "셀 왼쪽 정지 버튼을 누르세요.\n",
            "셀 왼쪽 정지 버튼을 누르세요.\n",
            "셀 왼쪽 정지 버튼을 누르세요.\n",
            "셀 왼쪽 정지 버튼을 누르세요.\n",
            "셀 왼쪽 정지 버튼을 누르세요.\n",
            "셀 왼쪽 정지 버튼을 누르세요.\n",
            "셀 왼쪽 정지 버튼을 누르세요.\n",
            "셀 왼쪽 정지 버튼을 누르세요.\n",
            "셀 왼쪽 정지 버튼을 누르세요.\n",
            "셀 왼쪽 정지 버튼을 누르세요.\n",
            "셀 왼쪽 정지 버튼을 누르세요.\n",
            "셀 왼쪽 정지 버튼을 누르세요.\n",
            "셀 왼쪽 정지 버튼을 누르세요.\n",
            "셀 왼쪽 정지 버튼을 누르세요.\n",
            "셀 왼쪽 정지 버튼을 누르세요.\n",
            "셀 왼쪽 정지 버튼을 누르세요.\n",
            "셀 왼쪽 정지 버튼을 누르세요.\n",
            "셀 왼쪽 정지 버튼을 누르세요.\n",
            "셀 왼쪽 정지 버튼을 누르세요.\n",
            "셀 왼쪽 정지 버튼을 누르세요.\n",
            "셀 왼쪽 정지 버튼을 누르세요.\n",
            "셀 왼쪽 정지 버튼을 누르세요.\n",
            "셀 왼쪽 정지 버튼을 누르세요.\n",
            "셀 왼쪽 정지 버튼을 누르세요.\n",
            "셀 왼쪽 정지 버튼을 누르세요.\n",
            "셀 왼쪽 정지 버튼을 누르세요.\n",
            "셀 왼쪽 정지 버튼을 누르세요.\n",
            "셀 왼쪽 정지 버튼을 누르세요.\n",
            "셀 왼쪽 정지 버튼을 누르세요.\n",
            "셀 왼쪽 정지 버튼을 누르세요.\n",
            "셀 왼쪽 정지 버튼을 누르세요.\n",
            "셀 왼쪽 정지 버튼을 누르세요.\n",
            "셀 왼쪽 정지 버튼을 누르세요.\n",
            "셀 왼쪽 정지 버튼을 누르세요.\n",
            "셀 왼쪽 정지 버튼을 누르세요.\n",
            "셀 왼쪽 정지 버튼을 누르세요.\n",
            "셀 왼쪽 정지 버튼을 누르세요.\n",
            "셀 왼쪽 정지 버튼을 누르세요.\n",
            "셀 왼쪽 정지 버튼을 누르세요.\n",
            "셀 왼쪽 정지 버튼을 누르세요.\n",
            "셀 왼쪽 정지 버튼을 누르세요.\n",
            "셀 왼쪽 정지 버튼을 누르세요.\n",
            "셀 왼쪽 정지 버튼을 누르세요.\n",
            "셀 왼쪽 정지 버튼을 누르세요.\n",
            "셀 왼쪽 정지 버튼을 누르세요.\n",
            "셀 왼쪽 정지 버튼을 누르세요.\n",
            "셀 왼쪽 정지 버튼을 누르세요.\n",
            "셀 왼쪽 정지 버튼을 누르세요.\n",
            "셀 왼쪽 정지 버튼을 누르세요.\n",
            "셀 왼쪽 정지 버튼을 누르세요.\n",
            "셀 왼쪽 정지 버튼을 누르세요.\n",
            "셀 왼쪽 정지 버튼을 누르세요.\n",
            "셀 왼쪽 정지 버튼을 누르세요.\n",
            "셀 왼쪽 정지 버튼을 누르세요.\n",
            "셀 왼쪽 정지 버튼을 누르세요.\n",
            "셀 왼쪽 정지 버튼을 누르세요.\n",
            "셀 왼쪽 정지 버튼을 누르세요.\n",
            "셀 왼쪽 정지 버튼을 누르세요.\n",
            "셀 왼쪽 정지 버튼을 누르세요.\n",
            "셀 왼쪽 정지 버튼을 누르세요.\n",
            "셀 왼쪽 정지 버튼을 누르세요.\n",
            "셀 왼쪽 정지 버튼을 누르세요.\n",
            "셀 왼쪽 정지 버튼을 누르세요.\n",
            "셀 왼쪽 정지 버튼을 누르세요.\n",
            "셀 왼쪽 정지 버튼을 누르세요.\n",
            "셀 왼쪽 정지 버튼을 누르세요.\n",
            "셀 왼쪽 정지 버튼을 누르세요.\n",
            "셀 왼쪽 정지 버튼을 누르세요.\n",
            "셀 왼쪽 정지 버튼을 누르세요.\n",
            "셀 왼쪽 정지 버튼을 누르세요.\n",
            "셀 왼쪽 정지 버튼을 누르세요.\n",
            "셀 왼쪽 정지 버튼을 누르세요.\n",
            "셀 왼쪽 정지 버튼을 누르세요.\n",
            "셀 왼쪽 정지 버튼을 누르세요.\n",
            "셀 왼쪽 정지 버튼을 누르세요.\n",
            "셀 왼쪽 정지 버튼을 누르세요.\n",
            "셀 왼쪽 정지 버튼을 누르세요.\n",
            "셀 왼쪽 정지 버튼을 누르세요.\n",
            "셀 왼쪽 정지 버튼을 누르세요.\n",
            "셀 왼쪽 정지 버튼을 누르세요.\n",
            "셀 왼쪽 정지 버튼을 누르세요.\n",
            "셀 왼쪽 정지 버튼을 누르세요.\n",
            "셀 왼쪽 정지 버튼을 누르세요.\n",
            "셀 왼쪽 정지 버튼을 누르세요.\n",
            "셀 왼쪽 정지 버튼을 누르세요.\n",
            "셀 왼쪽 정지 버튼을 누르세요.\n",
            "셀 왼쪽 정지 버튼을 누르세요.\n",
            "셀 왼쪽 정지 버튼을 누르세요.\n",
            "셀 왼쪽 정지 버튼을 누르세요.\n",
            "셀 왼쪽 정지 버튼을 누르세요.\n",
            "셀 왼쪽 정지 버튼을 누르세요.\n",
            "셀 왼쪽 정지 버튼을 누르세요.\n",
            "셀 왼쪽 정지 버튼을 누르세요.\n",
            "셀 왼쪽 정지 버튼을 누르세요.\n",
            "셀 왼쪽 정지 버튼을 누르세요.\n",
            "셀 왼쪽 정지 버튼을 누르세요.\n",
            "셀 왼쪽 정지 버튼을 누르세요.\n",
            "셀 왼쪽 정지 버튼을 누르세요.\n",
            "셀 왼쪽 정지 버튼을 누르세요.\n",
            "셀 왼쪽 정지 버튼을 누르세요.\n",
            "셀 왼쪽 정지 버튼을 누르세요.\n",
            "셀 왼쪽 정지 버튼을 누르세요.\n",
            "셀 왼쪽 정지 버튼을 누르세요.\n",
            "셀 왼쪽 정지 버튼을 누르세요.\n",
            "셀 왼쪽 정지 버튼을 누르세요.\n",
            "셀 왼쪽 정지 버튼을 누르세요.\n",
            "셀 왼쪽 정지 버튼을 누르세요.\n",
            "셀 왼쪽 정지 버튼을 누르세요.\n",
            "셀 왼쪽 정지 버튼을 누르세요.\n",
            "셀 왼쪽 정지 버튼을 누르세요.\n",
            "셀 왼쪽 정지 버튼을 누르세요.\n",
            "셀 왼쪽 정지 버튼을 누르세요.\n",
            "셀 왼쪽 정지 버튼을 누르세요.\n",
            "셀 왼쪽 정지 버튼을 누르세요.\n",
            "셀 왼쪽 정지 버튼을 누르세요.\n",
            "셀 왼쪽 정지 버튼을 누르세요.\n",
            "셀 왼쪽 정지 버튼을 누르세요.\n",
            "셀 왼쪽 정지 버튼을 누르세요.\n",
            "셀 왼쪽 정지 버튼을 누르세요.\n",
            "셀 왼쪽 정지 버튼을 누르세요.\n",
            "셀 왼쪽 정지 버튼을 누르세요.\n",
            "셀 왼쪽 정지 버튼을 누르세요.\n",
            "셀 왼쪽 정지 버튼을 누르세요.\n",
            "셀 왼쪽 정지 버튼을 누르세요.\n",
            "셀 왼쪽 정지 버튼을 누르세요.\n",
            "셀 왼쪽 정지 버튼을 누르세요.\n",
            "셀 왼쪽 정지 버튼을 누르세요.\n",
            "셀 왼쪽 정지 버튼을 누르세요.\n",
            "셀 왼쪽 정지 버튼을 누르세요.\n",
            "셀 왼쪽 정지 버튼을 누르세요.\n",
            "셀 왼쪽 정지 버튼을 누르세요.\n",
            "셀 왼쪽 정지 버튼을 누르세요.\n",
            "셀 왼쪽 정지 버튼을 누르세요.\n",
            "셀 왼쪽 정지 버튼을 누르세요.\n",
            "셀 왼쪽 정지 버튼을 누르세요.\n",
            "셀 왼쪽 정지 버튼을 누르세요.\n",
            "셀 왼쪽 정지 버튼을 누르세요.\n",
            "셀 왼쪽 정지 버튼을 누르세요.\n",
            "셀 왼쪽 정지 버튼을 누르세요.\n",
            "셀 왼쪽 정지 버튼을 누르세요.\n",
            "셀 왼쪽 정지 버튼을 누르세요.\n",
            "셀 왼쪽 정지 버튼을 누르세요.\n",
            "셀 왼쪽 정지 버튼을 누르세요.\n",
            "셀 왼쪽 정지 버튼을 누르세요.\n",
            "셀 왼쪽 정지 버튼을 누르세요.\n",
            "셀 왼쪽 정지 버튼을 누르세요.\n",
            "셀 왼쪽 정지 버튼을 누르세요.\n",
            "셀 왼쪽 정지 버튼을 누르세요.\n",
            "셀 왼쪽 정지 버튼을 누르세요.\n",
            "셀 왼쪽 정지 버튼을 누르세요.\n",
            "셀 왼쪽 정지 버튼을 누르세요.\n",
            "셀 왼쪽 정지 버튼을 누르세요.\n",
            "셀 왼쪽 정지 버튼을 누르세요.\n",
            "셀 왼쪽 정지 버튼을 누르세요.\n",
            "셀 왼쪽 정지 버튼을 누르세요.\n",
            "셀 왼쪽 정지 버튼을 누르세요.\n",
            "셀 왼쪽 정지 버튼을 누르세요.\n",
            "셀 왼쪽 정지 버튼을 누르세요.\n",
            "셀 왼쪽 정지 버튼을 누르세요.\n",
            "셀 왼쪽 정지 버튼을 누르세요.\n",
            "셀 왼쪽 정지 버튼을 누르세요.\n",
            "셀 왼쪽 정지 버튼을 누르세요.\n",
            "셀 왼쪽 정지 버튼을 누르세요.\n",
            "셀 왼쪽 정지 버튼을 누르세요.\n",
            "셀 왼쪽 정지 버튼을 누르세요.\n",
            "셀 왼쪽 정지 버튼을 누르세요.\n",
            "셀 왼쪽 정지 버튼을 누르세요.\n",
            "셀 왼쪽 정지 버튼을 누르세요.\n",
            "셀 왼쪽 정지 버튼을 누르세요.\n",
            "셀 왼쪽 정지 버튼을 누르세요.\n",
            "셀 왼쪽 정지 버튼을 누르세요.\n",
            "셀 왼쪽 정지 버튼을 누르세요.\n",
            "셀 왼쪽 정지 버튼을 누르세요.\n",
            "셀 왼쪽 정지 버튼을 누르세요.\n",
            "셀 왼쪽 정지 버튼을 누르세요.\n",
            "셀 왼쪽 정지 버튼을 누르세요.\n",
            "셀 왼쪽 정지 버튼을 누르세요.\n",
            "셀 왼쪽 정지 버튼을 누르세요.\n",
            "셀 왼쪽 정지 버튼을 누르세요.\n",
            "셀 왼쪽 정지 버튼을 누르세요.\n",
            "셀 왼쪽 정지 버튼을 누르세요.\n",
            "셀 왼쪽 정지 버튼을 누르세요.\n",
            "셀 왼쪽 정지 버튼을 누르세요.\n",
            "셀 왼쪽 정지 버튼을 누르세요.\n",
            "셀 왼쪽 정지 버튼을 누르세요.\n",
            "셀 왼쪽 정지 버튼을 누르세요.\n",
            "셀 왼쪽 정지 버튼을 누르세요.\n",
            "셀 왼쪽 정지 버튼을 누르세요.\n",
            "셀 왼쪽 정지 버튼을 누르세요.\n",
            "셀 왼쪽 정지 버튼을 누르세요.\n",
            "셀 왼쪽 정지 버튼을 누르세요.\n",
            "셀 왼쪽 정지 버튼을 누르세요.\n",
            "셀 왼쪽 정지 버튼을 누르세요.\n",
            "셀 왼쪽 정지 버튼을 누르세요.\n",
            "셀 왼쪽 정지 버튼을 누르세요.\n",
            "셀 왼쪽 정지 버튼을 누르세요.\n",
            "셀 왼쪽 정지 버튼을 누르세요.\n",
            "셀 왼쪽 정지 버튼을 누르세요.\n",
            "셀 왼쪽 정지 버튼을 누르세요.\n",
            "셀 왼쪽 정지 버튼을 누르세요.\n",
            "셀 왼쪽 정지 버튼을 누르세요.\n",
            "셀 왼쪽 정지 버튼을 누르세요.\n",
            "셀 왼쪽 정지 버튼을 누르세요.\n",
            "셀 왼쪽 정지 버튼을 누르세요.\n",
            "셀 왼쪽 정지 버튼을 누르세요.\n",
            "셀 왼쪽 정지 버튼을 누르세요.\n",
            "셀 왼쪽 정지 버튼을 누르세요.\n",
            "셀 왼쪽 정지 버튼을 누르세요.\n",
            "셀 왼쪽 정지 버튼을 누르세요.\n",
            "셀 왼쪽 정지 버튼을 누르세요.\n",
            "셀 왼쪽 정지 버튼을 누르세요.\n",
            "셀 왼쪽 정지 버튼을 누르세요.\n",
            "셀 왼쪽 정지 버튼을 누르세요.\n",
            "셀 왼쪽 정지 버튼을 누르세요.\n",
            "셀 왼쪽 정지 버튼을 누르세요.\n",
            "셀 왼쪽 정지 버튼을 누르세요.\n",
            "셀 왼쪽 정지 버튼을 누르세요.\n",
            "셀 왼쪽 정지 버튼을 누르세요.\n",
            "셀 왼쪽 정지 버튼을 누르세요.\n",
            "셀 왼쪽 정지 버튼을 누르세요.\n",
            "셀 왼쪽 정지 버튼을 누르세요.\n",
            "셀 왼쪽 정지 버튼을 누르세요.\n",
            "셀 왼쪽 정지 버튼을 누르세요.\n",
            "셀 왼쪽 정지 버튼을 누르세요.\n",
            "셀 왼쪽 정지 버튼을 누르세요.\n",
            "셀 왼쪽 정지 버튼을 누르세요.\n",
            "셀 왼쪽 정지 버튼을 누르세요.\n",
            "셀 왼쪽 정지 버튼을 누르세요.\n",
            "셀 왼쪽 정지 버튼을 누르세요.\n",
            "셀 왼쪽 정지 버튼을 누르세요.\n",
            "셀 왼쪽 정지 버튼을 누르세요.\n",
            "셀 왼쪽 정지 버튼을 누르세요.\n",
            "셀 왼쪽 정지 버튼을 누르세요.\n",
            "셀 왼쪽 정지 버튼을 누르세요.\n",
            "셀 왼쪽 정지 버튼을 누르세요.\n",
            "셀 왼쪽 정지 버튼을 누르세요.\n",
            "셀 왼쪽 정지 버튼을 누르세요.\n",
            "셀 왼쪽 정지 버튼을 누르세요.\n",
            "셀 왼쪽 정지 버튼을 누르세요.\n",
            "셀 왼쪽 정지 버튼을 누르세요.\n",
            "셀 왼쪽 정지 버튼을 누르세요.\n",
            "셀 왼쪽 정지 버튼을 누르세요.\n",
            "셀 왼쪽 정지 버튼을 누르세요.\n",
            "셀 왼쪽 정지 버튼을 누르세요.\n",
            "셀 왼쪽 정지 버튼을 누르세요.\n",
            "셀 왼쪽 정지 버튼을 누르세요.\n",
            "셀 왼쪽 정지 버튼을 누르세요.\n",
            "셀 왼쪽 정지 버튼을 누르세요.\n",
            "셀 왼쪽 정지 버튼을 누르세요.\n",
            "셀 왼쪽 정지 버튼을 누르세요.\n",
            "셀 왼쪽 정지 버튼을 누르세요.\n",
            "셀 왼쪽 정지 버튼을 누르세요.\n",
            "셀 왼쪽 정지 버튼을 누르세요.\n",
            "셀 왼쪽 정지 버튼을 누르세요.\n",
            "셀 왼쪽 정지 버튼을 누르세요.\n",
            "셀 왼쪽 정지 버튼을 누르세요.\n",
            "셀 왼쪽 정지 버튼을 누르세요.\n",
            "셀 왼쪽 정지 버튼을 누르세요.\n",
            "셀 왼쪽 정지 버튼을 누르세요.\n",
            "셀 왼쪽 정지 버튼을 누르세요.\n",
            "셀 왼쪽 정지 버튼을 누르세요.\n",
            "셀 왼쪽 정지 버튼을 누르세요.\n",
            "셀 왼쪽 정지 버튼을 누르세요.\n",
            "셀 왼쪽 정지 버튼을 누르세요.\n",
            "셀 왼쪽 정지 버튼을 누르세요.\n",
            "셀 왼쪽 정지 버튼을 누르세요.\n",
            "셀 왼쪽 정지 버튼을 누르세요.\n",
            "셀 왼쪽 정지 버튼을 누르세요.\n",
            "셀 왼쪽 정지 버튼을 누르세요.\n",
            "셀 왼쪽 정지 버튼을 누르세요.\n",
            "셀 왼쪽 정지 버튼을 누르세요.\n",
            "셀 왼쪽 정지 버튼을 누르세요.\n",
            "셀 왼쪽 정지 버튼을 누르세요.\n",
            "셀 왼쪽 정지 버튼을 누르세요.\n",
            "셀 왼쪽 정지 버튼을 누르세요.\n",
            "셀 왼쪽 정지 버튼을 누르세요.\n",
            "셀 왼쪽 정지 버튼을 누르세요.\n",
            "셀 왼쪽 정지 버튼을 누르세요.\n",
            "셀 왼쪽 정지 버튼을 누르세요.\n",
            "셀 왼쪽 정지 버튼을 누르세요.\n",
            "셀 왼쪽 정지 버튼을 누르세요.\n",
            "셀 왼쪽 정지 버튼을 누르세요.\n",
            "셀 왼쪽 정지 버튼을 누르세요.\n",
            "셀 왼쪽 정지 버튼을 누르세요.\n",
            "셀 왼쪽 정지 버튼을 누르세요.\n",
            "셀 왼쪽 정지 버튼을 누르세요.\n",
            "셀 왼쪽 정지 버튼을 누르세요.\n",
            "셀 왼쪽 정지 버튼을 누르세요.\n",
            "셀 왼쪽 정지 버튼을 누르세요.\n",
            "셀 왼쪽 정지 버튼을 누르세요.\n",
            "셀 왼쪽 정지 버튼을 누르세요.\n",
            "셀 왼쪽 정지 버튼을 누르세요.\n",
            "셀 왼쪽 정지 버튼을 누르세요.\n",
            "셀 왼쪽 정지 버튼을 누르세요.\n",
            "셀 왼쪽 정지 버튼을 누르세요.\n",
            "셀 왼쪽 정지 버튼을 누르세요.\n",
            "셀 왼쪽 정지 버튼을 누르세요.\n",
            "셀 왼쪽 정지 버튼을 누르세요.\n",
            "셀 왼쪽 정지 버튼을 누르세요.\n",
            "셀 왼쪽 정지 버튼을 누르세요.\n",
            "셀 왼쪽 정지 버튼을 누르세요.\n",
            "셀 왼쪽 정지 버튼을 누르세요.\n",
            "셀 왼쪽 정지 버튼을 누르세요.\n",
            "셀 왼쪽 정지 버튼을 누르세요.\n",
            "셀 왼쪽 정지 버튼을 누르세요.\n",
            "셀 왼쪽 정지 버튼을 누르세요.\n",
            "셀 왼쪽 정지 버튼을 누르세요.\n",
            "셀 왼쪽 정지 버튼을 누르세요.\n",
            "셀 왼쪽 정지 버튼을 누르세요.\n",
            "셀 왼쪽 정지 버튼을 누르세요.\n",
            "셀 왼쪽 정지 버튼을 누르세요.\n",
            "셀 왼쪽 정지 버튼을 누르세요.\n",
            "셀 왼쪽 정지 버튼을 누르세요.\n",
            "셀 왼쪽 정지 버튼을 누르세요.\n",
            "셀 왼쪽 정지 버튼을 누르세요.\n",
            "셀 왼쪽 정지 버튼을 누르세요.\n",
            "셀 왼쪽 정지 버튼을 누르세요.\n",
            "셀 왼쪽 정지 버튼을 누르세요.\n",
            "셀 왼쪽 정지 버튼을 누르세요.\n",
            "셀 왼쪽 정지 버튼을 누르세요.\n",
            "셀 왼쪽 정지 버튼을 누르세요.\n",
            "셀 왼쪽 정지 버튼을 누르세요.\n",
            "셀 왼쪽 정지 버튼을 누르세요.\n",
            "셀 왼쪽 정지 버튼을 누르세요.\n",
            "셀 왼쪽 정지 버튼을 누르세요.\n",
            "셀 왼쪽 정지 버튼을 누르세요.\n",
            "셀 왼쪽 정지 버튼을 누르세요.\n",
            "셀 왼쪽 정지 버튼을 누르세요.\n",
            "셀 왼쪽 정지 버튼을 누르세요.\n",
            "셀 왼쪽 정지 버튼을 누르세요.\n",
            "셀 왼쪽 정지 버튼을 누르세요.\n",
            "셀 왼쪽 정지 버튼을 누르세요.\n",
            "셀 왼쪽 정지 버튼을 누르세요.\n",
            "셀 왼쪽 정지 버튼을 누르세요.\n",
            "셀 왼쪽 정지 버튼을 누르세요.\n",
            "셀 왼쪽 정지 버튼을 누르세요.\n",
            "셀 왼쪽 정지 버튼을 누르세요.\n",
            "셀 왼쪽 정지 버튼을 누르세요.\n",
            "셀 왼쪽 정지 버튼을 누르세요.\n",
            "셀 왼쪽 정지 버튼을 누르세요.\n",
            "셀 왼쪽 정지 버튼을 누르세요.\n",
            "셀 왼쪽 정지 버튼을 누르세요.\n",
            "셀 왼쪽 정지 버튼을 누르세요.\n",
            "셀 왼쪽 정지 버튼을 누르세요.\n",
            "셀 왼쪽 정지 버튼을 누르세요.\n",
            "셀 왼쪽 정지 버튼을 누르세요.\n",
            "셀 왼쪽 정지 버튼을 누르세요.\n",
            "셀 왼쪽 정지 버튼을 누르세요.\n",
            "셀 왼쪽 정지 버튼을 누르세요.\n",
            "셀 왼쪽 정지 버튼을 누르세요.\n",
            "셀 왼쪽 정지 버튼을 누르세요.\n",
            "셀 왼쪽 정지 버튼을 누르세요.\n",
            "셀 왼쪽 정지 버튼을 누르세요.\n",
            "셀 왼쪽 정지 버튼을 누르세요.\n",
            "셀 왼쪽 정지 버튼을 누르세요.\n",
            "셀 왼쪽 정지 버튼을 누르세요.\n",
            "셀 왼쪽 정지 버튼을 누르세요.\n",
            "셀 왼쪽 정지 버튼을 누르세요.\n",
            "셀 왼쪽 정지 버튼을 누르세요.\n",
            "셀 왼쪽 정지 버튼을 누르세요.\n",
            "셀 왼쪽 정지 버튼을 누르세요.\n",
            "셀 왼쪽 정지 버튼을 누르세요.\n",
            "셀 왼쪽 정지 버튼을 누르세요.\n",
            "셀 왼쪽 정지 버튼을 누르세요.\n",
            "셀 왼쪽 정지 버튼을 누르세요.\n",
            "셀 왼쪽 정지 버튼을 누르세요.\n",
            "셀 왼쪽 정지 버튼을 누르세요.\n",
            "셀 왼쪽 정지 버튼을 누르세요.\n",
            "셀 왼쪽 정지 버튼을 누르세요.\n",
            "셀 왼쪽 정지 버튼을 누르세요.\n",
            "셀 왼쪽 정지 버튼을 누르세요.\n",
            "셀 왼쪽 정지 버튼을 누르세요.\n",
            "셀 왼쪽 정지 버튼을 누르세요.\n",
            "셀 왼쪽 정지 버튼을 누르세요.\n",
            "셀 왼쪽 정지 버튼을 누르세요.\n",
            "셀 왼쪽 정지 버튼을 누르세요.\n",
            "셀 왼쪽 정지 버튼을 누르세요.\n",
            "셀 왼쪽 정지 버튼을 누르세요.\n",
            "셀 왼쪽 정지 버튼을 누르세요.\n",
            "셀 왼쪽 정지 버튼을 누르세요.\n",
            "셀 왼쪽 정지 버튼을 누르세요.\n",
            "셀 왼쪽 정지 버튼을 누르세요.\n",
            "셀 왼쪽 정지 버튼을 누르세요.\n",
            "셀 왼쪽 정지 버튼을 누르세요.\n",
            "셀 왼쪽 정지 버튼을 누르세요.\n",
            "셀 왼쪽 정지 버튼을 누르세요.\n",
            "셀 왼쪽 정지 버튼을 누르세요.\n",
            "셀 왼쪽 정지 버튼을 누르세요.\n",
            "셀 왼쪽 정지 버튼을 누르세요.\n",
            "셀 왼쪽 정지 버튼을 누르세요.\n",
            "셀 왼쪽 정지 버튼을 누르세요.\n",
            "셀 왼쪽 정지 버튼을 누르세요.\n",
            "셀 왼쪽 정지 버튼을 누르세요.\n",
            "셀 왼쪽 정지 버튼을 누르세요.\n",
            "셀 왼쪽 정지 버튼을 누르세요.\n",
            "셀 왼쪽 정지 버튼을 누르세요.\n",
            "셀 왼쪽 정지 버튼을 누르세요.\n",
            "셀 왼쪽 정지 버튼을 누르세요.\n",
            "셀 왼쪽 정지 버튼을 누르세요.\n",
            "셀 왼쪽 정지 버튼을 누르세요.\n",
            "셀 왼쪽 정지 버튼을 누르세요.\n",
            "셀 왼쪽 정지 버튼을 누르세요.\n",
            "셀 왼쪽 정지 버튼을 누르세요.\n",
            "셀 왼쪽 정지 버튼을 누르세요.\n",
            "셀 왼쪽 정지 버튼을 누르세요.\n",
            "셀 왼쪽 정지 버튼을 누르세요.\n",
            "셀 왼쪽 정지 버튼을 누르세요.\n",
            "셀 왼쪽 정지 버튼을 누르세요.\n",
            "셀 왼쪽 정지 버튼을 누르세요.\n",
            "셀 왼쪽 정지 버튼을 누르세요.\n",
            "셀 왼쪽 정지 버튼을 누르세요.\n",
            "셀 왼쪽 정지 버튼을 누르세요.\n",
            "셀 왼쪽 정지 버튼을 누르세요.\n",
            "셀 왼쪽 정지 버튼을 누르세요.\n",
            "셀 왼쪽 정지 버튼을 누르세요.\n",
            "셀 왼쪽 정지 버튼을 누르세요.\n",
            "셀 왼쪽 정지 버튼을 누르세요.\n",
            "셀 왼쪽 정지 버튼을 누르세요.\n",
            "셀 왼쪽 정지 버튼을 누르세요.\n",
            "셀 왼쪽 정지 버튼을 누르세요.\n",
            "셀 왼쪽 정지 버튼을 누르세요.\n",
            "셀 왼쪽 정지 버튼을 누르세요.\n",
            "셀 왼쪽 정지 버튼을 누르세요.\n",
            "셀 왼쪽 정지 버튼을 누르세요.\n",
            "셀 왼쪽 정지 버튼을 누르세요.\n",
            "셀 왼쪽 정지 버튼을 누르세요.\n",
            "셀 왼쪽 정지 버튼을 누르세요.\n",
            "셀 왼쪽 정지 버튼을 누르세요.\n",
            "셀 왼쪽 정지 버튼을 누르세요.\n",
            "셀 왼쪽 정지 버튼을 누르세요.\n",
            "셀 왼쪽 정지 버튼을 누르세요.\n",
            "셀 왼쪽 정지 버튼을 누르세요.\n",
            "셀 왼쪽 정지 버튼을 누르세요.\n",
            "셀 왼쪽 정지 버튼을 누르세요.\n",
            "셀 왼쪽 정지 버튼을 누르세요.\n",
            "셀 왼쪽 정지 버튼을 누르세요.\n",
            "셀 왼쪽 정지 버튼을 누르세요.\n",
            "셀 왼쪽 정지 버튼을 누르세요.\n",
            "셀 왼쪽 정지 버튼을 누르세요.\n",
            "셀 왼쪽 정지 버튼을 누르세요.\n",
            "셀 왼쪽 정지 버튼을 누르세요.\n",
            "셀 왼쪽 정지 버튼을 누르세요.\n",
            "셀 왼쪽 정지 버튼을 누르세요.\n",
            "셀 왼쪽 정지 버튼을 누르세요.\n",
            "셀 왼쪽 정지 버튼을 누르세요.\n",
            "셀 왼쪽 정지 버튼을 누르세요.\n",
            "셀 왼쪽 정지 버튼을 누르세요.\n",
            "셀 왼쪽 정지 버튼을 누르세요.\n",
            "셀 왼쪽 정지 버튼을 누르세요.\n",
            "셀 왼쪽 정지 버튼을 누르세요.\n",
            "셀 왼쪽 정지 버튼을 누르세요.\n",
            "셀 왼쪽 정지 버튼을 누르세요.\n",
            "셀 왼쪽 정지 버튼을 누르세요.\n",
            "셀 왼쪽 정지 버튼을 누르세요.\n",
            "셀 왼쪽 정지 버튼을 누르세요.\n",
            "셀 왼쪽 정지 버튼을 누르세요.\n",
            "셀 왼쪽 정지 버튼을 누르세요.\n",
            "셀 왼쪽 정지 버튼을 누르세요.\n",
            "셀 왼쪽 정지 버튼을 누르세요.\n",
            "셀 왼쪽 정지 버튼을 누르세요.\n",
            "셀 왼쪽 정지 버튼을 누르세요.\n",
            "셀 왼쪽 정지 버튼을 누르세요.\n",
            "셀 왼쪽 정지 버튼을 누르세요.\n",
            "셀 왼쪽 정지 버튼을 누르세요.\n",
            "셀 왼쪽 정지 버튼을 누르세요.\n",
            "셀 왼쪽 정지 버튼을 누르세요.\n",
            "셀 왼쪽 정지 버튼을 누르세요.\n",
            "셀 왼쪽 정지 버튼을 누르세요.\n",
            "셀 왼쪽 정지 버튼을 누르세요.\n",
            "셀 왼쪽 정지 버튼을 누르세요.\n",
            "셀 왼쪽 정지 버튼을 누르세요.\n",
            "셀 왼쪽 정지 버튼을 누르세요.\n",
            "셀 왼쪽 정지 버튼을 누르세요.\n",
            "셀 왼쪽 정지 버튼을 누르세요.\n",
            "셀 왼쪽 정지 버튼을 누르세요.\n",
            "셀 왼쪽 정지 버튼을 누르세요.\n",
            "셀 왼쪽 정지 버튼을 누르세요.\n",
            "셀 왼쪽 정지 버튼을 누르세요.\n",
            "셀 왼쪽 정지 버튼을 누르세요.\n",
            "셀 왼쪽 정지 버튼을 누르세요.\n",
            "셀 왼쪽 정지 버튼을 누르세요.\n",
            "셀 왼쪽 정지 버튼을 누르세요.\n",
            "셀 왼쪽 정지 버튼을 누르세요.\n",
            "셀 왼쪽 정지 버튼을 누르세요.\n",
            "셀 왼쪽 정지 버튼을 누르세요.\n",
            "셀 왼쪽 정지 버튼을 누르세요.\n",
            "셀 왼쪽 정지 버튼을 누르세요.\n",
            "셀 왼쪽 정지 버튼을 누르세요.\n",
            "셀 왼쪽 정지 버튼을 누르세요.\n",
            "셀 왼쪽 정지 버튼을 누르세요.\n",
            "셀 왼쪽 정지 버튼을 누르세요.\n",
            "셀 왼쪽 정지 버튼을 누르세요.\n",
            "셀 왼쪽 정지 버튼을 누르세요.\n",
            "셀 왼쪽 정지 버튼을 누르세요.\n",
            "셀 왼쪽 정지 버튼을 누르세요.\n",
            "셀 왼쪽 정지 버튼을 누르세요.\n",
            "셀 왼쪽 정지 버튼을 누르세요.\n",
            "셀 왼쪽 정지 버튼을 누르세요.\n",
            "셀 왼쪽 정지 버튼을 누르세요.\n",
            "셀 왼쪽 정지 버튼을 누르세요.\n",
            "셀 왼쪽 정지 버튼을 누르세요.\n",
            "셀 왼쪽 정지 버튼을 누르세요.\n",
            "셀 왼쪽 정지 버튼을 누르세요.\n",
            "셀 왼쪽 정지 버튼을 누르세요.\n",
            "셀 왼쪽 정지 버튼을 누르세요.\n",
            "셀 왼쪽 정지 버튼을 누르세요.\n",
            "셀 왼쪽 정지 버튼을 누르세요.\n",
            "셀 왼쪽 정지 버튼을 누르세요.\n",
            "셀 왼쪽 정지 버튼을 누르세요.\n",
            "셀 왼쪽 정지 버튼을 누르세요.\n",
            "셀 왼쪽 정지 버튼을 누르세요.\n",
            "셀 왼쪽 정지 버튼을 누르세요.\n",
            "셀 왼쪽 정지 버튼을 누르세요.\n",
            "셀 왼쪽 정지 버튼을 누르세요.\n",
            "셀 왼쪽 정지 버튼을 누르세요.\n",
            "셀 왼쪽 정지 버튼을 누르세요.\n",
            "셀 왼쪽 정지 버튼을 누르세요.\n",
            "셀 왼쪽 정지 버튼을 누르세요.\n",
            "셀 왼쪽 정지 버튼을 누르세요.\n",
            "셀 왼쪽 정지 버튼을 누르세요.\n",
            "셀 왼쪽 정지 버튼을 누르세요.\n",
            "셀 왼쪽 정지 버튼을 누르세요.\n",
            "셀 왼쪽 정지 버튼을 누르세요.\n",
            "셀 왼쪽 정지 버튼을 누르세요.\n",
            "셀 왼쪽 정지 버튼을 누르세요.\n",
            "셀 왼쪽 정지 버튼을 누르세요.\n",
            "셀 왼쪽 정지 버튼을 누르세요.\n",
            "셀 왼쪽 정지 버튼을 누르세요.\n",
            "셀 왼쪽 정지 버튼을 누르세요.\n",
            "셀 왼쪽 정지 버튼을 누르세요.\n",
            "셀 왼쪽 정지 버튼을 누르세요.\n",
            "셀 왼쪽 정지 버튼을 누르세요.\n",
            "셀 왼쪽 정지 버튼을 누르세요.\n",
            "셀 왼쪽 정지 버튼을 누르세요.\n",
            "셀 왼쪽 정지 버튼을 누르세요.\n",
            "셀 왼쪽 정지 버튼을 누르세요.\n",
            "셀 왼쪽 정지 버튼을 누르세요.\n",
            "셀 왼쪽 정지 버튼을 누르세요.\n",
            "셀 왼쪽 정지 버튼을 누르세요.\n",
            "셀 왼쪽 정지 버튼을 누르세요.\n",
            "셀 왼쪽 정지 버튼을 누르세요.\n",
            "셀 왼쪽 정지 버튼을 누르세요.\n",
            "셀 왼쪽 정지 버튼을 누르세요.\n",
            "셀 왼쪽 정지 버튼을 누르세요.\n",
            "셀 왼쪽 정지 버튼을 누르세요.\n",
            "셀 왼쪽 정지 버튼을 누르세요.\n",
            "셀 왼쪽 정지 버튼을 누르세요.\n",
            "셀 왼쪽 정지 버튼을 누르세요.\n",
            "셀 왼쪽 정지 버튼을 누르세요.\n",
            "셀 왼쪽 정지 버튼을 누르세요.\n",
            "셀 왼쪽 정지 버튼을 누르세요.\n",
            "셀 왼쪽 정지 버튼을 누르세요.\n",
            "셀 왼쪽 정지 버튼을 누르세요.\n",
            "셀 왼쪽 정지 버튼을 누르세요.\n",
            "셀 왼쪽 정지 버튼을 누르세요.\n",
            "셀 왼쪽 정지 버튼을 누르세요.\n",
            "셀 왼쪽 정지 버튼을 누르세요.\n",
            "셀 왼쪽 정지 버튼을 누르세요.\n",
            "셀 왼쪽 정지 버튼을 누르세요.\n",
            "셀 왼쪽 정지 버튼을 누르세요.\n",
            "셀 왼쪽 정지 버튼을 누르세요.\n",
            "셀 왼쪽 정지 버튼을 누르세요.\n",
            "셀 왼쪽 정지 버튼을 누르세요.\n",
            "셀 왼쪽 정지 버튼을 누르세요.\n",
            "셀 왼쪽 정지 버튼을 누르세요.\n",
            "셀 왼쪽 정지 버튼을 누르세요.\n",
            "셀 왼쪽 정지 버튼을 누르세요.\n",
            "셀 왼쪽 정지 버튼을 누르세요.\n",
            "셀 왼쪽 정지 버튼을 누르세요.\n",
            "셀 왼쪽 정지 버튼을 누르세요.\n",
            "셀 왼쪽 정지 버튼을 누르세요.\n",
            "셀 왼쪽 정지 버튼을 누르세요.\n",
            "셀 왼쪽 정지 버튼을 누르세요.\n",
            "셀 왼쪽 정지 버튼을 누르세요.\n",
            "셀 왼쪽 정지 버튼을 누르세요.\n",
            "셀 왼쪽 정지 버튼을 누르세요.\n",
            "셀 왼쪽 정지 버튼을 누르세요.\n",
            "셀 왼쪽 정지 버튼을 누르세요.\n",
            "셀 왼쪽 정지 버튼을 누르세요.\n",
            "셀 왼쪽 정지 버튼을 누르세요.\n",
            "셀 왼쪽 정지 버튼을 누르세요.\n",
            "셀 왼쪽 정지 버튼을 누르세요.\n",
            "셀 왼쪽 정지 버튼을 누르세요.\n",
            "셀 왼쪽 정지 버튼을 누르세요.\n",
            "셀 왼쪽 정지 버튼을 누르세요.\n",
            "셀 왼쪽 정지 버튼을 누르세요.\n",
            "셀 왼쪽 정지 버튼을 누르세요.\n",
            "셀 왼쪽 정지 버튼을 누르세요.\n",
            "셀 왼쪽 정지 버튼을 누르세요.\n",
            "셀 왼쪽 정지 버튼을 누르세요.\n",
            "셀 왼쪽 정지 버튼을 누르세요.\n",
            "셀 왼쪽 정지 버튼을 누르세요.\n",
            "셀 왼쪽 정지 버튼을 누르세요.\n",
            "셀 왼쪽 정지 버튼을 누르세요.\n",
            "셀 왼쪽 정지 버튼을 누르세요.\n",
            "셀 왼쪽 정지 버튼을 누르세요.\n",
            "셀 왼쪽 정지 버튼을 누르세요.\n",
            "셀 왼쪽 정지 버튼을 누르세요.\n",
            "셀 왼쪽 정지 버튼을 누르세요.\n",
            "셀 왼쪽 정지 버튼을 누르세요.\n",
            "셀 왼쪽 정지 버튼을 누르세요.\n",
            "셀 왼쪽 정지 버튼을 누르세요.\n",
            "셀 왼쪽 정지 버튼을 누르세요.\n",
            "셀 왼쪽 정지 버튼을 누르세요.\n",
            "셀 왼쪽 정지 버튼을 누르세요.\n",
            "셀 왼쪽 정지 버튼을 누르세요.\n",
            "셀 왼쪽 정지 버튼을 누르세요.\n",
            "셀 왼쪽 정지 버튼을 누르세요.\n",
            "셀 왼쪽 정지 버튼을 누르세요.\n",
            "셀 왼쪽 정지 버튼을 누르세요.\n",
            "셀 왼쪽 정지 버튼을 누르세요.\n",
            "셀 왼쪽 정지 버튼을 누르세요.\n",
            "셀 왼쪽 정지 버튼을 누르세요.\n",
            "셀 왼쪽 정지 버튼을 누르세요.\n",
            "셀 왼쪽 정지 버튼을 누르세요.\n",
            "셀 왼쪽 정지 버튼을 누르세요.\n",
            "셀 왼쪽 정지 버튼을 누르세요.\n",
            "셀 왼쪽 정지 버튼을 누르세요.\n",
            "셀 왼쪽 정지 버튼을 누르세요.\n",
            "셀 왼쪽 정지 버튼을 누르세요.\n",
            "셀 왼쪽 정지 버튼을 누르세요.\n",
            "셀 왼쪽 정지 버튼을 누르세요.\n",
            "셀 왼쪽 정지 버튼을 누르세요.\n",
            "셀 왼쪽 정지 버튼을 누르세요.\n",
            "셀 왼쪽 정지 버튼을 누르세요.\n",
            "셀 왼쪽 정지 버튼을 누르세요.\n",
            "셀 왼쪽 정지 버튼을 누르세요.\n",
            "셀 왼쪽 정지 버튼을 누르세요.\n",
            "셀 왼쪽 정지 버튼을 누르세요.\n",
            "셀 왼쪽 정지 버튼을 누르세요.\n",
            "셀 왼쪽 정지 버튼을 누르세요.\n",
            "셀 왼쪽 정지 버튼을 누르세요.\n",
            "셀 왼쪽 정지 버튼을 누르세요.\n",
            "셀 왼쪽 정지 버튼을 누르세요.\n",
            "셀 왼쪽 정지 버튼을 누르세요.\n",
            "셀 왼쪽 정지 버튼을 누르세요.\n",
            "셀 왼쪽 정지 버튼을 누르세요.\n",
            "셀 왼쪽 정지 버튼을 누르세요.\n",
            "셀 왼쪽 정지 버튼을 누르세요.\n",
            "셀 왼쪽 정지 버튼을 누르세요.\n",
            "셀 왼쪽 정지 버튼을 누르세요.\n",
            "셀 왼쪽 정지 버튼을 누르세요.\n",
            "셀 왼쪽 정지 버튼을 누르세요.\n",
            "셀 왼쪽 정지 버튼을 누르세요.\n",
            "셀 왼쪽 정지 버튼을 누르세요.\n",
            "셀 왼쪽 정지 버튼을 누르세요.\n",
            "셀 왼쪽 정지 버튼을 누르세요.\n",
            "셀 왼쪽 정지 버튼을 누르세요.\n",
            "셀 왼쪽 정지 버튼을 누르세요.\n",
            "셀 왼쪽 정지 버튼을 누르세요.\n",
            "셀 왼쪽 정지 버튼을 누르세요.\n",
            "셀 왼쪽 정지 버튼을 누르세요.\n",
            "셀 왼쪽 정지 버튼을 누르세요.\n",
            "셀 왼쪽 정지 버튼을 누르세요.\n",
            "셀 왼쪽 정지 버튼을 누르세요.\n",
            "셀 왼쪽 정지 버튼을 누르세요.\n",
            "셀 왼쪽 정지 버튼을 누르세요.\n",
            "셀 왼쪽 정지 버튼을 누르세요.\n",
            "셀 왼쪽 정지 버튼을 누르세요.\n",
            "셀 왼쪽 정지 버튼을 누르세요.\n",
            "셀 왼쪽 정지 버튼을 누르세요.\n",
            "셀 왼쪽 정지 버튼을 누르세요.\n",
            "셀 왼쪽 정지 버튼을 누르세요.\n",
            "셀 왼쪽 정지 버튼을 누르세요.\n",
            "셀 왼쪽 정지 버튼을 누르세요.\n",
            "셀 왼쪽 정지 버튼을 누르세요.\n",
            "셀 왼쪽 정지 버튼을 누르세요.\n",
            "셀 왼쪽 정지 버튼을 누르세요.\n",
            "셀 왼쪽 정지 버튼을 누르세요.\n",
            "셀 왼쪽 정지 버튼을 누르세요.\n",
            "셀 왼쪽 정지 버튼을 누르세요.\n",
            "셀 왼쪽 정지 버튼을 누르세요.\n",
            "셀 왼쪽 정지 버튼을 누르세요.\n",
            "셀 왼쪽 정지 버튼을 누르세요.\n",
            "셀 왼쪽 정지 버튼을 누르세요.\n",
            "셀 왼쪽 정지 버튼을 누르세요.\n",
            "셀 왼쪽 정지 버튼을 누르세요.\n",
            "셀 왼쪽 정지 버튼을 누르세요.\n",
            "셀 왼쪽 정지 버튼을 누르세요.\n",
            "셀 왼쪽 정지 버튼을 누르세요.\n",
            "셀 왼쪽 정지 버튼을 누르세요.\n",
            "셀 왼쪽 정지 버튼을 누르세요.\n",
            "셀 왼쪽 정지 버튼을 누르세요.\n",
            "셀 왼쪽 정지 버튼을 누르세요.\n",
            "셀 왼쪽 정지 버튼을 누르세요.\n",
            "셀 왼쪽 정지 버튼을 누르세요.\n",
            "셀 왼쪽 정지 버튼을 누르세요.\n",
            "셀 왼쪽 정지 버튼을 누르세요.\n",
            "셀 왼쪽 정지 버튼을 누르세요.\n",
            "셀 왼쪽 정지 버튼을 누르세요.\n",
            "셀 왼쪽 정지 버튼을 누르세요.\n",
            "셀 왼쪽 정지 버튼을 누르세요.\n",
            "셀 왼쪽 정지 버튼을 누르세요.\n",
            "셀 왼쪽 정지 버튼을 누르세요.\n",
            "셀 왼쪽 정지 버튼을 누르세요.\n",
            "셀 왼쪽 정지 버튼을 누르세요.\n",
            "셀 왼쪽 정지 버튼을 누르세요.\n",
            "셀 왼쪽 정지 버튼을 누르세요.\n",
            "셀 왼쪽 정지 버튼을 누르세요.\n",
            "셀 왼쪽 정지 버튼을 누르세요.\n",
            "셀 왼쪽 정지 버튼을 누르세요.\n",
            "셀 왼쪽 정지 버튼을 누르세요.\n",
            "셀 왼쪽 정지 버튼을 누르세요.\n",
            "셀 왼쪽 정지 버튼을 누르세요.\n",
            "셀 왼쪽 정지 버튼을 누르세요.\n",
            "셀 왼쪽 정지 버튼을 누르세요.\n",
            "셀 왼쪽 정지 버튼을 누르세요.\n",
            "셀 왼쪽 정지 버튼을 누르세요.\n",
            "셀 왼쪽 정지 버튼을 누르세요.\n",
            "셀 왼쪽 정지 버튼을 누르세요.\n",
            "셀 왼쪽 정지 버튼을 누르세요.\n",
            "셀 왼쪽 정지 버튼을 누르세요.\n",
            "셀 왼쪽 정지 버튼을 누르세요.\n",
            "셀 왼쪽 정지 버튼을 누르세요.\n",
            "셀 왼쪽 정지 버튼을 누르세요.\n",
            "셀 왼쪽 정지 버튼을 누르세요.\n",
            "셀 왼쪽 정지 버튼을 누르세요.\n",
            "셀 왼쪽 정지 버튼을 누르세요.\n",
            "셀 왼쪽 정지 버튼을 누르세요.\n",
            "셀 왼쪽 정지 버튼을 누르세요.\n",
            "셀 왼쪽 정지 버튼을 누르세요.\n",
            "셀 왼쪽 정지 버튼을 누르세요.\n",
            "셀 왼쪽 정지 버튼을 누르세요.\n",
            "셀 왼쪽 정지 버튼을 누르세요.\n",
            "셀 왼쪽 정지 버튼을 누르세요.\n",
            "셀 왼쪽 정지 버튼을 누르세요.\n",
            "셀 왼쪽 정지 버튼을 누르세요.\n",
            "셀 왼쪽 정지 버튼을 누르세요.\n",
            "셀 왼쪽 정지 버튼을 누르세요.\n",
            "셀 왼쪽 정지 버튼을 누르세요.\n",
            "셀 왼쪽 정지 버튼을 누르세요.\n",
            "셀 왼쪽 정지 버튼을 누르세요.\n",
            "셀 왼쪽 정지 버튼을 누르세요.\n",
            "셀 왼쪽 정지 버튼을 누르세요.\n",
            "셀 왼쪽 정지 버튼을 누르세요.\n",
            "셀 왼쪽 정지 버튼을 누르세요.\n",
            "셀 왼쪽 정지 버튼을 누르세요.\n",
            "셀 왼쪽 정지 버튼을 누르세요.\n",
            "셀 왼쪽 정지 버튼을 누르세요.\n",
            "셀 왼쪽 정지 버튼을 누르세요.\n",
            "셀 왼쪽 정지 버튼을 누르세요.\n",
            "셀 왼쪽 정지 버튼을 누르세요.\n",
            "셀 왼쪽 정지 버튼을 누르세요.\n",
            "셀 왼쪽 정지 버튼을 누르세요.\n",
            "셀 왼쪽 정지 버튼을 누르세요.\n",
            "셀 왼쪽 정지 버튼을 누르세요.\n",
            "셀 왼쪽 정지 버튼을 누르세요.\n",
            "셀 왼쪽 정지 버튼을 누르세요.\n",
            "셀 왼쪽 정지 버튼을 누르세요.\n",
            "셀 왼쪽 정지 버튼을 누르세요.\n",
            "셀 왼쪽 정지 버튼을 누르세요.\n",
            "셀 왼쪽 정지 버튼을 누르세요.\n",
            "셀 왼쪽 정지 버튼을 누르세요.\n",
            "셀 왼쪽 정지 버튼을 누르세요.\n",
            "셀 왼쪽 정지 버튼을 누르세요.\n",
            "셀 왼쪽 정지 버튼을 누르세요.\n",
            "셀 왼쪽 정지 버튼을 누르세요.\n",
            "셀 왼쪽 정지 버튼을 누르세요.\n",
            "셀 왼쪽 정지 버튼을 누르세요.\n",
            "셀 왼쪽 정지 버튼을 누르세요.\n",
            "셀 왼쪽 정지 버튼을 누르세요.\n",
            "셀 왼쪽 정지 버튼을 누르세요.\n",
            "셀 왼쪽 정지 버튼을 누르세요.\n",
            "셀 왼쪽 정지 버튼을 누르세요.\n",
            "셀 왼쪽 정지 버튼을 누르세요.\n",
            "셀 왼쪽 정지 버튼을 누르세요.\n",
            "셀 왼쪽 정지 버튼을 누르세요.\n",
            "셀 왼쪽 정지 버튼을 누르세요.\n",
            "셀 왼쪽 정지 버튼을 누르세요.\n",
            "셀 왼쪽 정지 버튼을 누르세요.\n",
            "셀 왼쪽 정지 버튼을 누르세요.\n",
            "셀 왼쪽 정지 버튼을 누르세요.\n",
            "셀 왼쪽 정지 버튼을 누르세요.\n",
            "셀 왼쪽 정지 버튼을 누르세요.\n",
            "셀 왼쪽 정지 버튼을 누르세요.\n",
            "셀 왼쪽 정지 버튼을 누르세요.\n",
            "셀 왼쪽 정지 버튼을 누르세요.\n",
            "셀 왼쪽 정지 버튼을 누르세요.\n",
            "셀 왼쪽 정지 버튼을 누르세요.\n",
            "셀 왼쪽 정지 버튼을 누르세요.\n",
            "셀 왼쪽 정지 버튼을 누르세요.\n",
            "셀 왼쪽 정지 버튼을 누르세요.\n",
            "셀 왼쪽 정지 버튼을 누르세요.\n",
            "셀 왼쪽 정지 버튼을 누르세요.\n",
            "셀 왼쪽 정지 버튼을 누르세요.\n",
            "셀 왼쪽 정지 버튼을 누르세요.\n",
            "셀 왼쪽 정지 버튼을 누르세요.\n",
            "셀 왼쪽 정지 버튼을 누르세요.\n",
            "셀 왼쪽 정지 버튼을 누르세요.\n",
            "셀 왼쪽 정지 버튼을 누르세요.\n",
            "셀 왼쪽 정지 버튼을 누르세요.\n",
            "셀 왼쪽 정지 버튼을 누르세요.\n",
            "셀 왼쪽 정지 버튼을 누르세요.\n",
            "셀 왼쪽 정지 버튼을 누르세요.\n",
            "셀 왼쪽 정지 버튼을 누르세요.\n",
            "셀 왼쪽 정지 버튼을 누르세요.\n",
            "셀 왼쪽 정지 버튼을 누르세요.\n",
            "셀 왼쪽 정지 버튼을 누르세요.\n",
            "셀 왼쪽 정지 버튼을 누르세요.\n",
            "셀 왼쪽 정지 버튼을 누르세요.\n",
            "셀 왼쪽 정지 버튼을 누르세요.\n",
            "셀 왼쪽 정지 버튼을 누르세요.\n",
            "셀 왼쪽 정지 버튼을 누르세요.\n",
            "셀 왼쪽 정지 버튼을 누르세요.\n",
            "셀 왼쪽 정지 버튼을 누르세요.\n",
            "셀 왼쪽 정지 버튼을 누르세요.\n",
            "셀 왼쪽 정지 버튼을 누르세요.\n",
            "셀 왼쪽 정지 버튼을 누르세요.\n",
            "셀 왼쪽 정지 버튼을 누르세요.\n",
            "셀 왼쪽 정지 버튼을 누르세요.\n",
            "셀 왼쪽 정지 버튼을 누르세요.\n",
            "셀 왼쪽 정지 버튼을 누르세요.\n",
            "셀 왼쪽 정지 버튼을 누르세요.\n",
            "셀 왼쪽 정지 버튼을 누르세요.\n",
            "셀 왼쪽 정지 버튼을 누르세요.\n",
            "셀 왼쪽 정지 버튼을 누르세요.\n",
            "셀 왼쪽 정지 버튼을 누르세요.\n",
            "셀 왼쪽 정지 버튼을 누르세요.\n",
            "셀 왼쪽 정지 버튼을 누르세요.\n",
            "셀 왼쪽 정지 버튼을 누르세요.\n",
            "셀 왼쪽 정지 버튼을 누르세요.\n",
            "셀 왼쪽 정지 버튼을 누르세요.\n",
            "셀 왼쪽 정지 버튼을 누르세요.\n",
            "셀 왼쪽 정지 버튼을 누르세요.\n",
            "셀 왼쪽 정지 버튼을 누르세요.\n",
            "셀 왼쪽 정지 버튼을 누르세요.\n",
            "셀 왼쪽 정지 버튼을 누르세요.\n",
            "셀 왼쪽 정지 버튼을 누르세요.\n",
            "셀 왼쪽 정지 버튼을 누르세요.\n",
            "셀 왼쪽 정지 버튼을 누르세요.\n",
            "셀 왼쪽 정지 버튼을 누르세요.\n",
            "셀 왼쪽 정지 버튼을 누르세요.\n",
            "셀 왼쪽 정지 버튼을 누르세요.\n",
            "셀 왼쪽 정지 버튼을 누르세요.\n",
            "셀 왼쪽 정지 버튼을 누르세요.\n",
            "셀 왼쪽 정지 버튼을 누르세요.\n",
            "셀 왼쪽 정지 버튼을 누르세요.\n",
            "셀 왼쪽 정지 버튼을 누르세요.\n",
            "셀 왼쪽 정지 버튼을 누르세요.\n",
            "셀 왼쪽 정지 버튼을 누르세요.\n",
            "셀 왼쪽 정지 버튼을 누르세요.\n",
            "셀 왼쪽 정지 버튼을 누르세요.\n",
            "셀 왼쪽 정지 버튼을 누르세요.\n",
            "셀 왼쪽 정지 버튼을 누르세요.\n",
            "셀 왼쪽 정지 버튼을 누르세요.\n",
            "셀 왼쪽 정지 버튼을 누르세요.\n",
            "셀 왼쪽 정지 버튼을 누르세요.\n",
            "셀 왼쪽 정지 버튼을 누르세요.\n",
            "셀 왼쪽 정지 버튼을 누르세요.\n",
            "셀 왼쪽 정지 버튼을 누르세요.\n",
            "셀 왼쪽 정지 버튼을 누르세요.\n",
            "셀 왼쪽 정지 버튼을 누르세요.\n",
            "셀 왼쪽 정지 버튼을 누르세요.\n",
            "셀 왼쪽 정지 버튼을 누르세요.\n",
            "셀 왼쪽 정지 버튼을 누르세요.\n",
            "셀 왼쪽 정지 버튼을 누르세요.\n",
            "셀 왼쪽 정지 버튼을 누르세요.\n",
            "셀 왼쪽 정지 버튼을 누르세요.\n",
            "셀 왼쪽 정지 버튼을 누르세요.\n",
            "셀 왼쪽 정지 버튼을 누르세요.\n",
            "셀 왼쪽 정지 버튼을 누르세요.\n",
            "셀 왼쪽 정지 버튼을 누르세요.\n",
            "셀 왼쪽 정지 버튼을 누르세요.\n",
            "셀 왼쪽 정지 버튼을 누르세요.\n",
            "셀 왼쪽 정지 버튼을 누르세요.\n",
            "셀 왼쪽 정지 버튼을 누르세요.\n",
            "셀 왼쪽 정지 버튼을 누르세요.\n",
            "셀 왼쪽 정지 버튼을 누르세요.\n",
            "셀 왼쪽 정지 버튼을 누르세요.\n",
            "셀 왼쪽 정지 버튼을 누르세요.\n",
            "셀 왼쪽 정지 버튼을 누르세요.\n",
            "셀 왼쪽 정지 버튼을 누르세요.\n",
            "셀 왼쪽 정지 버튼을 누르세요.\n",
            "셀 왼쪽 정지 버튼을 누르세요.\n",
            "셀 왼쪽 정지 버튼을 누르세요.\n",
            "셀 왼쪽 정지 버튼을 누르세요.\n",
            "셀 왼쪽 정지 버튼을 누르세요.\n",
            "셀 왼쪽 정지 버튼을 누르세요.\n",
            "셀 왼쪽 정지 버튼을 누르세요.\n",
            "셀 왼쪽 정지 버튼을 누르세요.\n",
            "셀 왼쪽 정지 버튼을 누르세요.\n",
            "셀 왼쪽 정지 버튼을 누르세요.\n",
            "셀 왼쪽 정지 버튼을 누르세요.\n",
            "셀 왼쪽 정지 버튼을 누르세요.\n",
            "셀 왼쪽 정지 버튼을 누르세요.\n",
            "셀 왼쪽 정지 버튼을 누르세요.\n",
            "셀 왼쪽 정지 버튼을 누르세요.\n",
            "셀 왼쪽 정지 버튼을 누르세요.\n",
            "셀 왼쪽 정지 버튼을 누르세요.\n",
            "셀 왼쪽 정지 버튼을 누르세요.\n",
            "셀 왼쪽 정지 버튼을 누르세요.\n",
            "셀 왼쪽 정지 버튼을 누르세요.\n",
            "셀 왼쪽 정지 버튼을 누르세요.\n",
            "셀 왼쪽 정지 버튼을 누르세요.\n",
            "셀 왼쪽 정지 버튼을 누르세요.\n",
            "셀 왼쪽 정지 버튼을 누르세요.\n",
            "셀 왼쪽 정지 버튼을 누르세요.\n",
            "셀 왼쪽 정지 버튼을 누르세요.\n",
            "셀 왼쪽 정지 버튼을 누르세요.\n",
            "셀 왼쪽 정지 버튼을 누르세요.\n",
            "셀 왼쪽 정지 버튼을 누르세요.\n",
            "셀 왼쪽 정지 버튼을 누르세요.\n",
            "셀 왼쪽 정지 버튼을 누르세요.\n",
            "셀 왼쪽 정지 버튼을 누르세요.\n",
            "셀 왼쪽 정지 버튼을 누르세요.\n",
            "셀 왼쪽 정지 버튼을 누르세요.\n",
            "셀 왼쪽 정지 버튼을 누르세요.\n",
            "셀 왼쪽 정지 버튼을 누르세요.\n",
            "셀 왼쪽 정지 버튼을 누르세요.\n",
            "셀 왼쪽 정지 버튼을 누르세요.\n",
            "셀 왼쪽 정지 버튼을 누르세요.\n",
            "셀 왼쪽 정지 버튼을 누르세요.\n",
            "셀 왼쪽 정지 버튼을 누르세요.\n",
            "셀 왼쪽 정지 버튼을 누르세요.\n",
            "셀 왼쪽 정지 버튼을 누르세요.\n",
            "셀 왼쪽 정지 버튼을 누르세요.\n",
            "셀 왼쪽 정지 버튼을 누르세요.\n",
            "셀 왼쪽 정지 버튼을 누르세요.\n",
            "셀 왼쪽 정지 버튼을 누르세요.\n",
            "셀 왼쪽 정지 버튼을 누르세요.\n",
            "셀 왼쪽 정지 버튼을 누르세요.\n",
            "셀 왼쪽 정지 버튼을 누르세요.\n",
            "셀 왼쪽 정지 버튼을 누르세요.\n",
            "셀 왼쪽 정지 버튼을 누르세요.\n",
            "셀 왼쪽 정지 버튼을 누르세요.\n",
            "셀 왼쪽 정지 버튼을 누르세요.\n",
            "셀 왼쪽 정지 버튼을 누르세요.\n",
            "셀 왼쪽 정지 버튼을 누르세요.\n",
            "셀 왼쪽 정지 버튼을 누르세요.\n",
            "셀 왼쪽 정지 버튼을 누르세요.\n",
            "셀 왼쪽 정지 버튼을 누르세요.\n",
            "셀 왼쪽 정지 버튼을 누르세요.\n",
            "셀 왼쪽 정지 버튼을 누르세요.\n",
            "셀 왼쪽 정지 버튼을 누르세요.\n",
            "셀 왼쪽 정지 버튼을 누르세요.\n",
            "셀 왼쪽 정지 버튼을 누르세요.\n",
            "셀 왼쪽 정지 버튼을 누르세요.\n",
            "셀 왼쪽 정지 버튼을 누르세요.\n",
            "셀 왼쪽 정지 버튼을 누르세요.\n",
            "셀 왼쪽 정지 버튼을 누르세요.\n",
            "셀 왼쪽 정지 버튼을 누르세요.\n",
            "셀 왼쪽 정지 버튼을 누르세요.\n",
            "셀 왼쪽 정지 버튼을 누르세요.\n",
            "셀 왼쪽 정지 버튼을 누르세요.\n",
            "셀 왼쪽 정지 버튼을 누르세요.\n",
            "셀 왼쪽 정지 버튼을 누르세요.\n",
            "셀 왼쪽 정지 버튼을 누르세요.\n",
            "셀 왼쪽 정지 버튼을 누르세요.\n",
            "셀 왼쪽 정지 버튼을 누르세요.\n",
            "셀 왼쪽 정지 버튼을 누르세요.\n",
            "셀 왼쪽 정지 버튼을 누르세요.\n",
            "셀 왼쪽 정지 버튼을 누르세요.\n",
            "셀 왼쪽 정지 버튼을 누르세요.\n",
            "셀 왼쪽 정지 버튼을 누르세요.\n",
            "셀 왼쪽 정지 버튼을 누르세요.\n",
            "셀 왼쪽 정지 버튼을 누르세요.\n",
            "셀 왼쪽 정지 버튼을 누르세요.\n",
            "셀 왼쪽 정지 버튼을 누르세요.\n",
            "셀 왼쪽 정지 버튼을 누르세요.\n",
            "셀 왼쪽 정지 버튼을 누르세요.\n",
            "셀 왼쪽 정지 버튼을 누르세요.\n",
            "셀 왼쪽 정지 버튼을 누르세요.\n",
            "셀 왼쪽 정지 버튼을 누르세요.\n",
            "셀 왼쪽 정지 버튼을 누르세요.\n",
            "셀 왼쪽 정지 버튼을 누르세요.\n",
            "셀 왼쪽 정지 버튼을 누르세요.\n",
            "셀 왼쪽 정지 버튼을 누르세요.\n",
            "셀 왼쪽 정지 버튼을 누르세요.\n",
            "셀 왼쪽 정지 버튼을 누르세요.\n",
            "셀 왼쪽 정지 버튼을 누르세요.\n",
            "셀 왼쪽 정지 버튼을 누르세요.\n",
            "셀 왼쪽 정지 버튼을 누르세요.\n",
            "셀 왼쪽 정지 버튼을 누르세요.\n",
            "셀 왼쪽 정지 버튼을 누르세요.\n",
            "셀 왼쪽 정지 버튼을 누르세요.\n",
            "셀 왼쪽 정지 버튼을 누르세요.\n",
            "셀 왼쪽 정지 버튼을 누르세요.\n",
            "셀 왼쪽 정지 버튼을 누르세요.\n",
            "셀 왼쪽 정지 버튼을 누르세요.\n",
            "셀 왼쪽 정지 버튼을 누르세요.\n",
            "셀 왼쪽 정지 버튼을 누르세요.\n",
            "셀 왼쪽 정지 버튼을 누르세요.\n",
            "셀 왼쪽 정지 버튼을 누르세요.\n",
            "셀 왼쪽 정지 버튼을 누르세요.\n",
            "셀 왼쪽 정지 버튼을 누르세요.\n",
            "셀 왼쪽 정지 버튼을 누르세요.\n",
            "셀 왼쪽 정지 버튼을 누르세요.\n",
            "셀 왼쪽 정지 버튼을 누르세요.\n",
            "셀 왼쪽 정지 버튼을 누르세요.\n",
            "셀 왼쪽 정지 버튼을 누르세요.\n",
            "셀 왼쪽 정지 버튼을 누르세요.\n",
            "셀 왼쪽 정지 버튼을 누르세요.\n",
            "셀 왼쪽 정지 버튼을 누르세요.\n",
            "셀 왼쪽 정지 버튼을 누르세요.\n",
            "셀 왼쪽 정지 버튼을 누르세요.\n",
            "셀 왼쪽 정지 버튼을 누르세요.\n",
            "셀 왼쪽 정지 버튼을 누르세요.\n",
            "셀 왼쪽 정지 버튼을 누르세요.\n",
            "셀 왼쪽 정지 버튼을 누르세요.\n",
            "셀 왼쪽 정지 버튼을 누르세요.\n",
            "셀 왼쪽 정지 버튼을 누르세요.\n",
            "셀 왼쪽 정지 버튼을 누르세요.\n",
            "셀 왼쪽 정지 버튼을 누르세요.\n",
            "셀 왼쪽 정지 버튼을 누르세요.\n",
            "셀 왼쪽 정지 버튼을 누르세요.\n",
            "셀 왼쪽 정지 버튼을 누르세요.\n",
            "셀 왼쪽 정지 버튼을 누르세요.\n",
            "셀 왼쪽 정지 버튼을 누르세요.\n",
            "셀 왼쪽 정지 버튼을 누르세요.\n",
            "셀 왼쪽 정지 버튼을 누르세요.\n",
            "셀 왼쪽 정지 버튼을 누르세요.\n",
            "셀 왼쪽 정지 버튼을 누르세요.\n",
            "셀 왼쪽 정지 버튼을 누르세요.\n",
            "셀 왼쪽 정지 버튼을 누르세요.\n",
            "셀 왼쪽 정지 버튼을 누르세요.\n",
            "셀 왼쪽 정지 버튼을 누르세요.\n",
            "셀 왼쪽 정지 버튼을 누르세요.\n",
            "셀 왼쪽 정지 버튼을 누르세요.\n",
            "셀 왼쪽 정지 버튼을 누르세요.\n",
            "셀 왼쪽 정지 버튼을 누르세요.\n",
            "셀 왼쪽 정지 버튼을 누르세요.\n",
            "셀 왼쪽 정지 버튼을 누르세요.\n",
            "셀 왼쪽 정지 버튼을 누르세요.\n",
            "셀 왼쪽 정지 버튼을 누르세요.\n",
            "셀 왼쪽 정지 버튼을 누르세요.\n",
            "셀 왼쪽 정지 버튼을 누르세요.\n",
            "셀 왼쪽 정지 버튼을 누르세요.\n",
            "셀 왼쪽 정지 버튼을 누르세요.\n",
            "셀 왼쪽 정지 버튼을 누르세요.\n",
            "셀 왼쪽 정지 버튼을 누르세요.\n",
            "셀 왼쪽 정지 버튼을 누르세요.\n",
            "셀 왼쪽 정지 버튼을 누르세요.\n",
            "셀 왼쪽 정지 버튼을 누르세요.\n",
            "셀 왼쪽 정지 버튼을 누르세요.\n",
            "셀 왼쪽 정지 버튼을 누르세요.\n",
            "셀 왼쪽 정지 버튼을 누르세요.\n",
            "셀 왼쪽 정지 버튼을 누르세요.\n",
            "셀 왼쪽 정지 버튼을 누르세요.\n",
            "셀 왼쪽 정지 버튼을 누르세요.\n",
            "셀 왼쪽 정지 버튼을 누르세요.\n",
            "셀 왼쪽 정지 버튼을 누르세요.\n",
            "셀 왼쪽 정지 버튼을 누르세요.\n",
            "셀 왼쪽 정지 버튼을 누르세요.\n",
            "셀 왼쪽 정지 버튼을 누르세요.\n",
            "셀 왼쪽 정지 버튼을 누르세요.\n",
            "셀 왼쪽 정지 버튼을 누르세요.\n",
            "셀 왼쪽 정지 버튼을 누르세요.\n",
            "셀 왼쪽 정지 버튼을 누르세요.\n",
            "셀 왼쪽 정지 버튼을 누르세요.\n",
            "셀 왼쪽 정지 버튼을 누르세요.\n",
            "셀 왼쪽 정지 버튼을 누르세요.\n",
            "셀 왼쪽 정지 버튼을 누르세요.\n",
            "셀 왼쪽 정지 버튼을 누르세요.\n",
            "셀 왼쪽 정지 버튼을 누르세요.\n",
            "셀 왼쪽 정지 버튼을 누르세요.\n",
            "셀 왼쪽 정지 버튼을 누르세요.\n",
            "셀 왼쪽 정지 버튼을 누르세요.\n",
            "셀 왼쪽 정지 버튼을 누르세요.\n",
            "셀 왼쪽 정지 버튼을 누르세요.\n",
            "셀 왼쪽 정지 버튼을 누르세요.\n",
            "셀 왼쪽 정지 버튼을 누르세요.\n",
            "셀 왼쪽 정지 버튼을 누르세요.\n",
            "셀 왼쪽 정지 버튼을 누르세요.\n",
            "셀 왼쪽 정지 버튼을 누르세요.\n",
            "셀 왼쪽 정지 버튼을 누르세요.\n",
            "셀 왼쪽 정지 버튼을 누르세요.\n",
            "셀 왼쪽 정지 버튼을 누르세요.\n",
            "셀 왼쪽 정지 버튼을 누르세요.\n",
            "셀 왼쪽 정지 버튼을 누르세요.\n",
            "셀 왼쪽 정지 버튼을 누르세요.\n",
            "셀 왼쪽 정지 버튼을 누르세요.\n",
            "셀 왼쪽 정지 버튼을 누르세요.\n",
            "셀 왼쪽 정지 버튼을 누르세요.\n",
            "셀 왼쪽 정지 버튼을 누르세요.\n",
            "셀 왼쪽 정지 버튼을 누르세요.\n",
            "셀 왼쪽 정지 버튼을 누르세요.\n",
            "셀 왼쪽 정지 버튼을 누르세요.\n",
            "셀 왼쪽 정지 버튼을 누르세요.\n",
            "셀 왼쪽 정지 버튼을 누르세요.\n",
            "셀 왼쪽 정지 버튼을 누르세요.\n",
            "셀 왼쪽 정지 버튼을 누르세요.\n",
            "셀 왼쪽 정지 버튼을 누르세요.\n",
            "셀 왼쪽 정지 버튼을 누르세요.\n",
            "셀 왼쪽 정지 버튼을 누르세요.\n",
            "셀 왼쪽 정지 버튼을 누르세요.\n",
            "셀 왼쪽 정지 버튼을 누르세요.\n",
            "셀 왼쪽 정지 버튼을 누르세요.\n",
            "셀 왼쪽 정지 버튼을 누르세요.\n",
            "셀 왼쪽 정지 버튼을 누르세요.\n",
            "셀 왼쪽 정지 버튼을 누르세요.\n",
            "셀 왼쪽 정지 버튼을 누르세요.\n",
            "셀 왼쪽 정지 버튼을 누르세요.\n",
            "셀 왼쪽 정지 버튼을 누르세요.\n",
            "셀 왼쪽 정지 버튼을 누르세요.\n",
            "셀 왼쪽 정지 버튼을 누르세요.\n",
            "셀 왼쪽 정지 버튼을 누르세요.\n",
            "셀 왼쪽 정지 버튼을 누르세요.\n",
            "셀 왼쪽 정지 버튼을 누르세요.\n",
            "셀 왼쪽 정지 버튼을 누르세요.\n",
            "셀 왼쪽 정지 버튼을 누르세요.\n",
            "셀 왼쪽 정지 버튼을 누르세요.\n",
            "셀 왼쪽 정지 버튼을 누르세요.\n",
            "셀 왼쪽 정지 버튼을 누르세요.\n",
            "셀 왼쪽 정지 버튼을 누르세요.\n",
            "셀 왼쪽 정지 버튼을 누르세요.\n",
            "셀 왼쪽 정지 버튼을 누르세요.\n",
            "셀 왼쪽 정지 버튼을 누르세요.\n",
            "셀 왼쪽 정지 버튼을 누르세요.\n",
            "셀 왼쪽 정지 버튼을 누르세요.\n",
            "셀 왼쪽 정지 버튼을 누르세요.\n",
            "셀 왼쪽 정지 버튼을 누르세요.\n",
            "셀 왼쪽 정지 버튼을 누르세요.\n",
            "셀 왼쪽 정지 버튼을 누르세요.\n",
            "셀 왼쪽 정지 버튼을 누르세요.\n",
            "셀 왼쪽 정지 버튼을 누르세요.\n",
            "셀 왼쪽 정지 버튼을 누르세요.\n",
            "셀 왼쪽 정지 버튼을 누르세요.\n",
            "셀 왼쪽 정지 버튼을 누르세요.\n",
            "셀 왼쪽 정지 버튼을 누르세요.\n",
            "셀 왼쪽 정지 버튼을 누르세요.\n",
            "셀 왼쪽 정지 버튼을 누르세요.\n",
            "셀 왼쪽 정지 버튼을 누르세요.\n",
            "셀 왼쪽 정지 버튼을 누르세요.\n",
            "셀 왼쪽 정지 버튼을 누르세요.\n",
            "셀 왼쪽 정지 버튼을 누르세요.\n",
            "셀 왼쪽 정지 버튼을 누르세요.\n",
            "셀 왼쪽 정지 버튼을 누르세요.\n",
            "셀 왼쪽 정지 버튼을 누르세요.\n",
            "셀 왼쪽 정지 버튼을 누르세요.\n",
            "셀 왼쪽 정지 버튼을 누르세요.\n",
            "셀 왼쪽 정지 버튼을 누르세요.\n",
            "셀 왼쪽 정지 버튼을 누르세요.\n",
            "셀 왼쪽 정지 버튼을 누르세요.\n",
            "셀 왼쪽 정지 버튼을 누르세요.\n",
            "셀 왼쪽 정지 버튼을 누르세요.\n",
            "셀 왼쪽 정지 버튼을 누르세요.\n",
            "셀 왼쪽 정지 버튼을 누르세요.\n",
            "셀 왼쪽 정지 버튼을 누르세요.\n",
            "셀 왼쪽 정지 버튼을 누르세요.\n",
            "셀 왼쪽 정지 버튼을 누르세요.\n",
            "셀 왼쪽 정지 버튼을 누르세요.\n",
            "셀 왼쪽 정지 버튼을 누르세요.\n",
            "셀 왼쪽 정지 버튼을 누르세요.\n",
            "셀 왼쪽 정지 버튼을 누르세요.\n",
            "셀 왼쪽 정지 버튼을 누르세요.\n",
            "셀 왼쪽 정지 버튼을 누르세요.\n",
            "셀 왼쪽 정지 버튼을 누르세요.\n",
            "셀 왼쪽 정지 버튼을 누르세요.\n",
            "셀 왼쪽 정지 버튼을 누르세요.\n",
            "셀 왼쪽 정지 버튼을 누르세요.\n",
            "셀 왼쪽 정지 버튼을 누르세요.\n",
            "셀 왼쪽 정지 버튼을 누르세요.\n",
            "셀 왼쪽 정지 버튼을 누르세요.\n",
            "셀 왼쪽 정지 버튼을 누르세요.\n",
            "셀 왼쪽 정지 버튼을 누르세요.\n",
            "셀 왼쪽 정지 버튼을 누르세요.\n",
            "셀 왼쪽 정지 버튼을 누르세요.\n",
            "셀 왼쪽 정지 버튼을 누르세요.\n",
            "셀 왼쪽 정지 버튼을 누르세요.\n",
            "셀 왼쪽 정지 버튼을 누르세요.\n",
            "셀 왼쪽 정지 버튼을 누르세요.\n",
            "셀 왼쪽 정지 버튼을 누르세요.\n",
            "셀 왼쪽 정지 버튼을 누르세요.\n",
            "셀 왼쪽 정지 버튼을 누르세요.\n",
            "셀 왼쪽 정지 버튼을 누르세요.\n",
            "셀 왼쪽 정지 버튼을 누르세요.\n",
            "셀 왼쪽 정지 버튼을 누르세요.\n",
            "셀 왼쪽 정지 버튼을 누르세요.\n",
            "셀 왼쪽 정지 버튼을 누르세요.\n",
            "셀 왼쪽 정지 버튼을 누르세요.\n",
            "셀 왼쪽 정지 버튼을 누르세요.\n",
            "셀 왼쪽 정지 버튼을 누르세요.\n",
            "셀 왼쪽 정지 버튼을 누르세요.\n",
            "셀 왼쪽 정지 버튼을 누르세요.\n",
            "셀 왼쪽 정지 버튼을 누르세요.\n",
            "셀 왼쪽 정지 버튼을 누르세요.\n",
            "셀 왼쪽 정지 버튼을 누르세요.\n",
            "셀 왼쪽 정지 버튼을 누르세요.\n",
            "셀 왼쪽 정지 버튼을 누르세요.\n",
            "셀 왼쪽 정지 버튼을 누르세요.\n",
            "셀 왼쪽 정지 버튼을 누르세요.\n",
            "셀 왼쪽 정지 버튼을 누르세요.\n",
            "셀 왼쪽 정지 버튼을 누르세요.\n",
            "셀 왼쪽 정지 버튼을 누르세요.\n",
            "셀 왼쪽 정지 버튼을 누르세요.\n",
            "셀 왼쪽 정지 버튼을 누르세요.\n",
            "셀 왼쪽 정지 버튼을 누르세요.\n",
            "셀 왼쪽 정지 버튼을 누르세요.\n",
            "셀 왼쪽 정지 버튼을 누르세요.\n",
            "셀 왼쪽 정지 버튼을 누르세요.\n",
            "셀 왼쪽 정지 버튼을 누르세요.\n",
            "셀 왼쪽 정지 버튼을 누르세요.\n",
            "셀 왼쪽 정지 버튼을 누르세요.\n",
            "셀 왼쪽 정지 버튼을 누르세요.\n",
            "셀 왼쪽 정지 버튼을 누르세요.\n",
            "셀 왼쪽 정지 버튼을 누르세요.\n",
            "셀 왼쪽 정지 버튼을 누르세요.\n",
            "셀 왼쪽 정지 버튼을 누르세요.\n",
            "셀 왼쪽 정지 버튼을 누르세요.\n",
            "셀 왼쪽 정지 버튼을 누르세요.\n",
            "셀 왼쪽 정지 버튼을 누르세요.\n",
            "셀 왼쪽 정지 버튼을 누르세요.\n",
            "셀 왼쪽 정지 버튼을 누르세요.\n",
            "셀 왼쪽 정지 버튼을 누르세요.\n",
            "셀 왼쪽 정지 버튼을 누르세요.\n",
            "셀 왼쪽 정지 버튼을 누르세요.\n",
            "셀 왼쪽 정지 버튼을 누르세요.\n",
            "셀 왼쪽 정지 버튼을 누르세요.\n",
            "셀 왼쪽 정지 버튼을 누르세요.\n",
            "셀 왼쪽 정지 버튼을 누르세요.\n",
            "셀 왼쪽 정지 버튼을 누르세요.\n",
            "셀 왼쪽 정지 버튼을 누르세요.\n",
            "셀 왼쪽 정지 버튼을 누르세요.\n",
            "셀 왼쪽 정지 버튼을 누르세요.\n",
            "셀 왼쪽 정지 버튼을 누르세요.\n",
            "셀 왼쪽 정지 버튼을 누르세요.\n",
            "셀 왼쪽 정지 버튼을 누르세요.\n",
            "셀 왼쪽 정지 버튼을 누르세요.\n",
            "셀 왼쪽 정지 버튼을 누르세요.\n",
            "셀 왼쪽 정지 버튼을 누르세요.\n",
            "셀 왼쪽 정지 버튼을 누르세요.\n",
            "셀 왼쪽 정지 버튼을 누르세요.\n",
            "셀 왼쪽 정지 버튼을 누르세요.\n",
            "셀 왼쪽 정지 버튼을 누르세요.\n",
            "셀 왼쪽 정지 버튼을 누르세요.\n",
            "셀 왼쪽 정지 버튼을 누르세요.\n",
            "셀 왼쪽 정지 버튼을 누르세요.\n",
            "셀 왼쪽 정지 버튼을 누르세요.\n",
            "셀 왼쪽 정지 버튼을 누르세요.\n",
            "셀 왼쪽 정지 버튼을 누르세요.\n",
            "셀 왼쪽 정지 버튼을 누르세요.\n",
            "셀 왼쪽 정지 버튼을 누르세요.\n",
            "셀 왼쪽 정지 버튼을 누르세요.\n",
            "셀 왼쪽 정지 버튼을 누르세요.\n",
            "셀 왼쪽 정지 버튼을 누르세요.\n",
            "셀 왼쪽 정지 버튼을 누르세요.\n",
            "셀 왼쪽 정지 버튼을 누르세요.\n",
            "셀 왼쪽 정지 버튼을 누르세요.\n",
            "셀 왼쪽 정지 버튼을 누르세요.\n",
            "셀 왼쪽 정지 버튼을 누르세요.\n",
            "셀 왼쪽 정지 버튼을 누르세요.\n",
            "셀 왼쪽 정지 버튼을 누르세요.\n",
            "셀 왼쪽 정지 버튼을 누르세요.\n",
            "셀 왼쪽 정지 버튼을 누르세요.\n",
            "셀 왼쪽 정지 버튼을 누르세요.\n",
            "셀 왼쪽 정지 버튼을 누르세요.\n",
            "셀 왼쪽 정지 버튼을 누르세요.\n",
            "셀 왼쪽 정지 버튼을 누르세요.\n",
            "셀 왼쪽 정지 버튼을 누르세요.\n",
            "셀 왼쪽 정지 버튼을 누르세요.\n",
            "셀 왼쪽 정지 버튼을 누르세요.\n",
            "셀 왼쪽 정지 버튼을 누르세요.\n",
            "셀 왼쪽 정지 버튼을 누르세요.\n",
            "셀 왼쪽 정지 버튼을 누르세요.\n",
            "셀 왼쪽 정지 버튼을 누르세요.\n",
            "셀 왼쪽 정지 버튼을 누르세요.\n",
            "셀 왼쪽 정지 버튼을 누르세요.\n",
            "셀 왼쪽 정지 버튼을 누르세요.\n",
            "셀 왼쪽 정지 버튼을 누르세요.\n",
            "셀 왼쪽 정지 버튼을 누르세요.\n",
            "셀 왼쪽 정지 버튼을 누르세요.\n",
            "셀 왼쪽 정지 버튼을 누르세요.\n",
            "셀 왼쪽 정지 버튼을 누르세요.\n",
            "셀 왼쪽 정지 버튼을 누르세요.\n",
            "셀 왼쪽 정지 버튼을 누르세요.\n",
            "셀 왼쪽 정지 버튼을 누르세요.\n",
            "셀 왼쪽 정지 버튼을 누르세요.\n",
            "셀 왼쪽 정지 버튼을 누르세요.\n",
            "셀 왼쪽 정지 버튼을 누르세요.\n",
            "셀 왼쪽 정지 버튼을 누르세요.\n",
            "셀 왼쪽 정지 버튼을 누르세요.\n",
            "셀 왼쪽 정지 버튼을 누르세요.\n",
            "셀 왼쪽 정지 버튼을 누르세요.\n",
            "셀 왼쪽 정지 버튼을 누르세요.\n",
            "셀 왼쪽 정지 버튼을 누르세요.\n",
            "셀 왼쪽 정지 버튼을 누르세요.\n",
            "셀 왼쪽 정지 버튼을 누르세요.\n",
            "셀 왼쪽 정지 버튼을 누르세요.\n",
            "셀 왼쪽 정지 버튼을 누르세요.\n",
            "셀 왼쪽 정지 버튼을 누르세요.\n",
            "셀 왼쪽 정지 버튼을 누르세요.\n",
            "셀 왼쪽 정지 버튼을 누르세요.\n",
            "셀 왼쪽 정지 버튼을 누르세요.\n",
            "셀 왼쪽 정지 버튼을 누르세요.\n",
            "셀 왼쪽 정지 버튼을 누르세요.\n",
            "셀 왼쪽 정지 버튼을 누르세요.\n",
            "셀 왼쪽 정지 버튼을 누르세요.\n",
            "셀 왼쪽 정지 버튼을 누르세요.\n",
            "셀 왼쪽 정지 버튼을 누르세요.\n",
            "셀 왼쪽 정지 버튼을 누르세요.\n",
            "셀 왼쪽 정지 버튼을 누르세요.\n",
            "셀 왼쪽 정지 버튼을 누르세요.\n",
            "셀 왼쪽 정지 버튼을 누르세요.\n",
            "셀 왼쪽 정지 버튼을 누르세요.\n",
            "셀 왼쪽 정지 버튼을 누르세요.\n",
            "셀 왼쪽 정지 버튼을 누르세요.\n",
            "셀 왼쪽 정지 버튼을 누르세요.\n",
            "셀 왼쪽 정지 버튼을 누르세요.\n",
            "셀 왼쪽 정지 버튼을 누르세요.\n",
            "셀 왼쪽 정지 버튼을 누르세요.\n",
            "셀 왼쪽 정지 버튼을 누르세요.\n",
            "셀 왼쪽 정지 버튼을 누르세요.\n",
            "셀 왼쪽 정지 버튼을 누르세요.\n",
            "셀 왼쪽 정지 버튼을 누르세요.\n",
            "셀 왼쪽 정지 버튼을 누르세요.\n",
            "셀 왼쪽 정지 버튼을 누르세요.\n",
            "셀 왼쪽 정지 버튼을 누르세요.\n",
            "셀 왼쪽 정지 버튼을 누르세요.\n",
            "셀 왼쪽 정지 버튼을 누르세요.\n",
            "셀 왼쪽 정지 버튼을 누르세요.\n",
            "셀 왼쪽 정지 버튼을 누르세요.\n",
            "셀 왼쪽 정지 버튼을 누르세요.\n",
            "셀 왼쪽 정지 버튼을 누르세요.\n",
            "셀 왼쪽 정지 버튼을 누르세요.\n",
            "셀 왼쪽 정지 버튼을 누르세요.\n",
            "셀 왼쪽 정지 버튼을 누르세요.\n",
            "셀 왼쪽 정지 버튼을 누르세요.\n",
            "셀 왼쪽 정지 버튼을 누르세요.\n",
            "셀 왼쪽 정지 버튼을 누르세요.\n",
            "셀 왼쪽 정지 버튼을 누르세요.\n",
            "셀 왼쪽 정지 버튼을 누르세요.\n",
            "셀 왼쪽 정지 버튼을 누르세요.\n",
            "셀 왼쪽 정지 버튼을 누르세요.\n",
            "셀 왼쪽 정지 버튼을 누르세요.\n",
            "셀 왼쪽 정지 버튼을 누르세요.\n",
            "셀 왼쪽 정지 버튼을 누르세요.\n",
            "셀 왼쪽 정지 버튼을 누르세요.\n",
            "셀 왼쪽 정지 버튼을 누르세요.\n",
            "셀 왼쪽 정지 버튼을 누르세요.\n",
            "셀 왼쪽 정지 버튼을 누르세요.\n",
            "셀 왼쪽 정지 버튼을 누르세요.\n",
            "셀 왼쪽 정지 버튼을 누르세요.\n",
            "셀 왼쪽 정지 버튼을 누르세요.\n",
            "셀 왼쪽 정지 버튼을 누르세요.\n",
            "셀 왼쪽 정지 버튼을 누르세요.\n",
            "셀 왼쪽 정지 버튼을 누르세요.\n",
            "셀 왼쪽 정지 버튼을 누르세요.\n",
            "셀 왼쪽 정지 버튼을 누르세요.\n",
            "셀 왼쪽 정지 버튼을 누르세요.\n",
            "셀 왼쪽 정지 버튼을 누르세요.\n",
            "셀 왼쪽 정지 버튼을 누르세요.\n",
            "셀 왼쪽 정지 버튼을 누르세요.\n",
            "셀 왼쪽 정지 버튼을 누르세요.\n",
            "셀 왼쪽 정지 버튼을 누르세요.\n",
            "셀 왼쪽 정지 버튼을 누르세요.\n",
            "셀 왼쪽 정지 버튼을 누르세요.\n",
            "셀 왼쪽 정지 버튼을 누르세요.\n",
            "셀 왼쪽 정지 버튼을 누르세요.\n",
            "셀 왼쪽 정지 버튼을 누르세요.\n",
            "셀 왼쪽 정지 버튼을 누르세요.\n",
            "셀 왼쪽 정지 버튼을 누르세요.\n",
            "셀 왼쪽 정지 버튼을 누르세요.\n",
            "셀 왼쪽 정지 버튼을 누르세요.\n",
            "셀 왼쪽 정지 버튼을 누르세요.\n",
            "셀 왼쪽 정지 버튼을 누르세요.\n",
            "셀 왼쪽 정지 버튼을 누르세요.\n",
            "셀 왼쪽 정지 버튼을 누르세요.\n",
            "셀 왼쪽 정지 버튼을 누르세요.\n",
            "셀 왼쪽 정지 버튼을 누르세요.\n",
            "셀 왼쪽 정지 버튼을 누르세요.\n",
            "셀 왼쪽 정지 버튼을 누르세요.\n",
            "셀 왼쪽 정지 버튼을 누르세요.\n",
            "셀 왼쪽 정지 버튼을 누르세요.\n",
            "셀 왼쪽 정지 버튼을 누르세요.\n",
            "셀 왼쪽 정지 버튼을 누르세요.\n",
            "셀 왼쪽 정지 버튼을 누르세요.\n",
            "셀 왼쪽 정지 버튼을 누르세요.\n",
            "셀 왼쪽 정지 버튼을 누르세요.\n",
            "셀 왼쪽 정지 버튼을 누르세요.\n",
            "셀 왼쪽 정지 버튼을 누르세요.\n",
            "셀 왼쪽 정지 버튼을 누르세요.\n",
            "셀 왼쪽 정지 버튼을 누르세요.\n",
            "셀 왼쪽 정지 버튼을 누르세요.\n",
            "셀 왼쪽 정지 버튼을 누르세요.\n",
            "셀 왼쪽 정지 버튼을 누르세요.\n",
            "셀 왼쪽 정지 버튼을 누르세요.\n",
            "셀 왼쪽 정지 버튼을 누르세요.\n",
            "셀 왼쪽 정지 버튼을 누르세요.\n",
            "셀 왼쪽 정지 버튼을 누르세요.\n",
            "셀 왼쪽 정지 버튼을 누르세요.\n",
            "셀 왼쪽 정지 버튼을 누르세요.\n",
            "셀 왼쪽 정지 버튼을 누르세요.\n",
            "셀 왼쪽 정지 버튼을 누르세요.\n",
            "셀 왼쪽 정지 버튼을 누르세요.\n",
            "셀 왼쪽 정지 버튼을 누르세요.\n",
            "셀 왼쪽 정지 버튼을 누르세요.\n",
            "셀 왼쪽 정지 버튼을 누르세요.\n",
            "셀 왼쪽 정지 버튼을 누르세요.\n",
            "셀 왼쪽 정지 버튼을 누르세요.\n",
            "셀 왼쪽 정지 버튼을 누르세요.\n",
            "셀 왼쪽 정지 버튼을 누르세요.\n",
            "셀 왼쪽 정지 버튼을 누르세요.\n",
            "셀 왼쪽 정지 버튼을 누르세요.\n",
            "셀 왼쪽 정지 버튼을 누르세요.\n",
            "셀 왼쪽 정지 버튼을 누르세요.\n",
            "셀 왼쪽 정지 버튼을 누르세요.\n",
            "셀 왼쪽 정지 버튼을 누르세요.\n",
            "셀 왼쪽 정지 버튼을 누르세요.\n",
            "셀 왼쪽 정지 버튼을 누르세요.\n",
            "셀 왼쪽 정지 버튼을 누르세요.\n",
            "셀 왼쪽 정지 버튼을 누르세요.\n",
            "셀 왼쪽 정지 버튼을 누르세요.\n",
            "셀 왼쪽 정지 버튼을 누르세요.\n",
            "셀 왼쪽 정지 버튼을 누르세요.\n",
            "셀 왼쪽 정지 버튼을 누르세요.\n",
            "셀 왼쪽 정지 버튼을 누르세요.\n",
            "셀 왼쪽 정지 버튼을 누르세요.\n",
            "셀 왼쪽 정지 버튼을 누르세요.\n",
            "셀 왼쪽 정지 버튼을 누르세요.\n",
            "셀 왼쪽 정지 버튼을 누르세요.\n",
            "셀 왼쪽 정지 버튼을 누르세요.\n",
            "셀 왼쪽 정지 버튼을 누르세요.\n",
            "셀 왼쪽 정지 버튼을 누르세요.\n",
            "셀 왼쪽 정지 버튼을 누르세요.\n",
            "셀 왼쪽 정지 버튼을 누르세요.\n",
            "셀 왼쪽 정지 버튼을 누르세요.\n",
            "셀 왼쪽 정지 버튼을 누르세요.\n",
            "셀 왼쪽 정지 버튼을 누르세요.\n",
            "셀 왼쪽 정지 버튼을 누르세요.\n",
            "셀 왼쪽 정지 버튼을 누르세요.\n",
            "셀 왼쪽 정지 버튼을 누르세요.\n",
            "셀 왼쪽 정지 버튼을 누르세요.\n",
            "셀 왼쪽 정지 버튼을 누르세요.\n",
            "셀 왼쪽 정지 버튼을 누르세요.\n",
            "셀 왼쪽 정지 버튼을 누르세요.\n",
            "셀 왼쪽 정지 버튼을 누르세요.\n",
            "셀 왼쪽 정지 버튼을 누르세요.\n",
            "셀 왼쪽 정지 버튼을 누르세요.\n",
            "셀 왼쪽 정지 버튼을 누르세요.\n",
            "셀 왼쪽 정지 버튼을 누르세요.\n",
            "셀 왼쪽 정지 버튼을 누르세요.\n",
            "셀 왼쪽 정지 버튼을 누르세요.\n",
            "셀 왼쪽 정지 버튼을 누르세요.\n",
            "셀 왼쪽 정지 버튼을 누르세요.\n",
            "셀 왼쪽 정지 버튼을 누르세요.\n",
            "셀 왼쪽 정지 버튼을 누르세요.\n",
            "셀 왼쪽 정지 버튼을 누르세요.\n",
            "셀 왼쪽 정지 버튼을 누르세요.\n",
            "셀 왼쪽 정지 버튼을 누르세요.\n",
            "셀 왼쪽 정지 버튼을 누르세요.\n",
            "셀 왼쪽 정지 버튼을 누르세요.\n",
            "셀 왼쪽 정지 버튼을 누르세요.\n",
            "셀 왼쪽 정지 버튼을 누르세요.\n",
            "셀 왼쪽 정지 버튼을 누르세요.\n",
            "셀 왼쪽 정지 버튼을 누르세요.\n",
            "셀 왼쪽 정지 버튼을 누르세요.\n",
            "셀 왼쪽 정지 버튼을 누르세요.\n",
            "셀 왼쪽 정지 버튼을 누르세요.\n",
            "셀 왼쪽 정지 버튼을 누르세요.\n",
            "셀 왼쪽 정지 버튼을 누르세요.\n",
            "셀 왼쪽 정지 버튼을 누르세요.\n",
            "셀 왼쪽 정지 버튼을 누르세요.\n",
            "셀 왼쪽 정지 버튼을 누르세요.\n",
            "셀 왼쪽 정지 버튼을 누르세요.\n",
            "셀 왼쪽 정지 버튼을 누르세요.\n",
            "셀 왼쪽 정지 버튼을 누르세요.\n",
            "셀 왼쪽 정지 버튼을 누르세요.\n",
            "셀 왼쪽 정지 버튼을 누르세요.\n",
            "셀 왼쪽 정지 버튼을 누르세요.\n",
            "셀 왼쪽 정지 버튼을 누르세요.\n",
            "셀 왼쪽 정지 버튼을 누르세요.\n",
            "셀 왼쪽 정지 버튼을 누르세요.\n",
            "셀 왼쪽 정지 버튼을 누르세요.\n",
            "셀 왼쪽 정지 버튼을 누르세요.\n",
            "셀 왼쪽 정지 버튼을 누르세요.\n",
            "셀 왼쪽 정지 버튼을 누르세요.\n",
            "셀 왼쪽 정지 버튼을 누르세요.\n",
            "셀 왼쪽 정지 버튼을 누르세요.\n",
            "셀 왼쪽 정지 버튼을 누르세요.\n",
            "셀 왼쪽 정지 버튼을 누르세요.\n",
            "셀 왼쪽 정지 버튼을 누르세요.\n",
            "셀 왼쪽 정지 버튼을 누르세요.\n",
            "셀 왼쪽 정지 버튼을 누르세요.\n",
            "셀 왼쪽 정지 버튼을 누르세요.\n",
            "셀 왼쪽 정지 버튼을 누르세요.\n",
            "셀 왼쪽 정지 버튼을 누르세요.\n",
            "셀 왼쪽 정지 버튼을 누르세요.\n",
            "셀 왼쪽 정지 버튼을 누르세요.\n",
            "셀 왼쪽 정지 버튼을 누르세요.\n",
            "셀 왼쪽 정지 버튼을 누르세요.\n",
            "셀 왼쪽 정지 버튼을 누르세요.\n",
            "셀 왼쪽 정지 버튼을 누르세요.\n",
            "셀 왼쪽 정지 버튼을 누르세요.\n",
            "셀 왼쪽 정지 버튼을 누르세요.\n",
            "셀 왼쪽 정지 버튼을 누르세요.\n",
            "셀 왼쪽 정지 버튼을 누르세요.\n",
            "셀 왼쪽 정지 버튼을 누르세요.\n",
            "셀 왼쪽 정지 버튼을 누르세요.\n",
            "셀 왼쪽 정지 버튼을 누르세요.\n",
            "셀 왼쪽 정지 버튼을 누르세요.\n",
            "셀 왼쪽 정지 버튼을 누르세요.\n",
            "셀 왼쪽 정지 버튼을 누르세요.\n",
            "셀 왼쪽 정지 버튼을 누르세요.\n",
            "셀 왼쪽 정지 버튼을 누르세요.\n",
            "셀 왼쪽 정지 버튼을 누르세요.\n",
            "셀 왼쪽 정지 버튼을 누르세요.\n",
            "셀 왼쪽 정지 버튼을 누르세요.\n",
            "셀 왼쪽 정지 버튼을 누르세요.\n",
            "셀 왼쪽 정지 버튼을 누르세요.\n",
            "셀 왼쪽 정지 버튼을 누르세요.\n",
            "셀 왼쪽 정지 버튼을 누르세요.\n",
            "셀 왼쪽 정지 버튼을 누르세요.\n",
            "셀 왼쪽 정지 버튼을 누르세요.\n",
            "셀 왼쪽 정지 버튼을 누르세요.\n",
            "셀 왼쪽 정지 버튼을 누르세요.\n",
            "셀 왼쪽 정지 버튼을 누르세요.\n",
            "셀 왼쪽 정지 버튼을 누르세요.\n",
            "셀 왼쪽 정지 버튼을 누르세요.\n",
            "셀 왼쪽 정지 버튼을 누르세요.\n",
            "셀 왼쪽 정지 버튼을 누르세요.\n",
            "셀 왼쪽 정지 버튼을 누르세요.\n",
            "셀 왼쪽 정지 버튼을 누르세요.\n",
            "셀 왼쪽 정지 버튼을 누르세요.\n",
            "셀 왼쪽 정지 버튼을 누르세요.\n",
            "셀 왼쪽 정지 버튼을 누르세요.\n",
            "셀 왼쪽 정지 버튼을 누르세요.\n",
            "셀 왼쪽 정지 버튼을 누르세요.\n",
            "셀 왼쪽 정지 버튼을 누르세요.\n",
            "셀 왼쪽 정지 버튼을 누르세요.\n",
            "셀 왼쪽 정지 버튼을 누르세요.\n",
            "셀 왼쪽 정지 버튼을 누르세요.\n",
            "셀 왼쪽 정지 버튼을 누르세요.\n",
            "셀 왼쪽 정지 버튼을 누르세요.\n",
            "셀 왼쪽 정지 버튼을 누르세요.\n",
            "셀 왼쪽 정지 버튼을 누르세요.\n",
            "셀 왼쪽 정지 버튼을 누르세요.\n",
            "셀 왼쪽 정지 버튼을 누르세요.\n",
            "셀 왼쪽 정지 버튼을 누르세요.\n",
            "셀 왼쪽 정지 버튼을 누르세요.\n",
            "셀 왼쪽 정지 버튼을 누르세요.\n",
            "셀 왼쪽 정지 버튼을 누르세요.\n",
            "셀 왼쪽 정지 버튼을 누르세요.\n",
            "셀 왼쪽 정지 버튼을 누르세요.\n",
            "셀 왼쪽 정지 버튼을 누르세요.\n",
            "셀 왼쪽 정지 버튼을 누르세요.\n",
            "셀 왼쪽 정지 버튼을 누르세요.\n",
            "셀 왼쪽 정지 버튼을 누르세요.\n",
            "셀 왼쪽 정지 버튼을 누르세요.\n",
            "셀 왼쪽 정지 버튼을 누르세요.\n",
            "셀 왼쪽 정지 버튼을 누르세요.\n",
            "셀 왼쪽 정지 버튼을 누르세요.\n",
            "셀 왼쪽 정지 버튼을 누르세요.\n",
            "셀 왼쪽 정지 버튼을 누르세요.\n",
            "셀 왼쪽 정지 버튼을 누르세요.\n",
            "셀 왼쪽 정지 버튼을 누르세요.\n",
            "셀 왼쪽 정지 버튼을 누르세요.\n",
            "셀 왼쪽 정지 버튼을 누르세요.\n",
            "셀 왼쪽 정지 버튼을 누르세요.\n",
            "셀 왼쪽 정지 버튼을 누르세요.\n",
            "셀 왼쪽 정지 버튼을 누르세요.\n",
            "셀 왼쪽 정지 버튼을 누르세요.\n",
            "셀 왼쪽 정지 버튼을 누르세요.\n",
            "셀 왼쪽 정지 버튼을 누르세요.\n",
            "셀 왼쪽 정지 버튼을 누르세요.\n",
            "셀 왼쪽 정지 버튼을 누르세요.\n",
            "셀 왼쪽 정지 버튼을 누르세요.\n",
            "셀 왼쪽 정지 버튼을 누르세요.\n",
            "셀 왼쪽 정지 버튼을 누르세요.\n",
            "셀 왼쪽 정지 버튼을 누르세요.\n",
            "셀 왼쪽 정지 버튼을 누르세요.\n",
            "셀 왼쪽 정지 버튼을 누르세요.\n",
            "셀 왼쪽 정지 버튼을 누르세요.\n",
            "셀 왼쪽 정지 버튼을 누르세요.\n",
            "셀 왼쪽 정지 버튼을 누르세요.\n",
            "셀 왼쪽 정지 버튼을 누르세요.\n",
            "셀 왼쪽 정지 버튼을 누르세요.\n",
            "셀 왼쪽 정지 버튼을 누르세요.\n",
            "셀 왼쪽 정지 버튼을 누르세요.\n",
            "셀 왼쪽 정지 버튼을 누르세요.\n",
            "셀 왼쪽 정지 버튼을 누르세요.\n",
            "셀 왼쪽 정지 버튼을 누르세요.\n",
            "셀 왼쪽 정지 버튼을 누르세요.\n",
            "셀 왼쪽 정지 버튼을 누르세요.\n",
            "셀 왼쪽 정지 버튼을 누르세요.\n",
            "셀 왼쪽 정지 버튼을 누르세요.\n",
            "셀 왼쪽 정지 버튼을 누르세요.\n",
            "셀 왼쪽 정지 버튼을 누르세요.\n",
            "셀 왼쪽 정지 버튼을 누르세요.\n",
            "셀 왼쪽 정지 버튼을 누르세요.\n",
            "셀 왼쪽 정지 버튼을 누르세요.\n",
            "셀 왼쪽 정지 버튼을 누르세요.\n",
            "셀 왼쪽 정지 버튼을 누르세요.\n",
            "셀 왼쪽 정지 버튼을 누르세요.\n",
            "셀 왼쪽 정지 버튼을 누르세요.\n",
            "셀 왼쪽 정지 버튼을 누르세요.\n",
            "셀 왼쪽 정지 버튼을 누르세요.\n",
            "셀 왼쪽 정지 버튼을 누르세요.\n",
            "셀 왼쪽 정지 버튼을 누르세요.\n",
            "셀 왼쪽 정지 버튼을 누르세요.\n",
            "셀 왼쪽 정지 버튼을 누르세요.\n",
            "셀 왼쪽 정지 버튼을 누르세요.\n",
            "셀 왼쪽 정지 버튼을 누르세요.\n",
            "셀 왼쪽 정지 버튼을 누르세요.\n",
            "셀 왼쪽 정지 버튼을 누르세요.\n",
            "셀 왼쪽 정지 버튼을 누르세요.\n",
            "셀 왼쪽 정지 버튼을 누르세요.\n",
            "셀 왼쪽 정지 버튼을 누르세요.\n",
            "셀 왼쪽 정지 버튼을 누르세요.\n",
            "셀 왼쪽 정지 버튼을 누르세요.\n",
            "셀 왼쪽 정지 버튼을 누르세요.\n",
            "셀 왼쪽 정지 버튼을 누르세요.\n",
            "셀 왼쪽 정지 버튼을 누르세요.\n",
            "셀 왼쪽 정지 버튼을 누르세요.\n",
            "셀 왼쪽 정지 버튼을 누르세요.\n",
            "셀 왼쪽 정지 버튼을 누르세요.\n",
            "셀 왼쪽 정지 버튼을 누르세요.\n",
            "셀 왼쪽 정지 버튼을 누르세요.\n",
            "셀 왼쪽 정지 버튼을 누르세요.\n",
            "셀 왼쪽 정지 버튼을 누르세요.\n",
            "셀 왼쪽 정지 버튼을 누르세요.\n",
            "셀 왼쪽 정지 버튼을 누르세요.\n",
            "셀 왼쪽 정지 버튼을 누르세요.\n",
            "셀 왼쪽 정지 버튼을 누르세요.\n",
            "셀 왼쪽 정지 버튼을 누르세요.\n",
            "셀 왼쪽 정지 버튼을 누르세요.\n",
            "셀 왼쪽 정지 버튼을 누르세요.\n",
            "셀 왼쪽 정지 버튼을 누르세요.\n",
            "셀 왼쪽 정지 버튼을 누르세요.\n",
            "셀 왼쪽 정지 버튼을 누르세요.\n",
            "셀 왼쪽 정지 버튼을 누르세요.\n",
            "셀 왼쪽 정지 버튼을 누르세요.\n",
            "셀 왼쪽 정지 버튼을 누르세요.\n",
            "셀 왼쪽 정지 버튼을 누르세요.\n",
            "셀 왼쪽 정지 버튼을 누르세요.\n",
            "셀 왼쪽 정지 버튼을 누르세요.\n",
            "셀 왼쪽 정지 버튼을 누르세요.\n",
            "셀 왼쪽 정지 버튼을 누르세요.\n",
            "셀 왼쪽 정지 버튼을 누르세요.\n",
            "셀 왼쪽 정지 버튼을 누르세요.\n",
            "셀 왼쪽 정지 버튼을 누르세요.\n",
            "셀 왼쪽 정지 버튼을 누르세요.\n",
            "셀 왼쪽 정지 버튼을 누르세요.\n",
            "셀 왼쪽 정지 버튼을 누르세요.\n",
            "셀 왼쪽 정지 버튼을 누르세요.\n",
            "셀 왼쪽 정지 버튼을 누르세요.\n",
            "셀 왼쪽 정지 버튼을 누르세요.\n",
            "셀 왼쪽 정지 버튼을 누르세요.\n",
            "셀 왼쪽 정지 버튼을 누르세요.\n",
            "셀 왼쪽 정지 버튼을 누르세요.\n",
            "셀 왼쪽 정지 버튼을 누르세요.\n",
            "셀 왼쪽 정지 버튼을 누르세요.\n",
            "셀 왼쪽 정지 버튼을 누르세요.\n",
            "셀 왼쪽 정지 버튼을 누르세요.\n",
            "셀 왼쪽 정지 버튼을 누르세요.\n",
            "셀 왼쪽 정지 버튼을 누르세요.\n",
            "셀 왼쪽 정지 버튼을 누르세요.\n",
            "셀 왼쪽 정지 버튼을 누르세요.\n",
            "셀 왼쪽 정지 버튼을 누르세요.\n",
            "셀 왼쪽 정지 버튼을 누르세요.\n",
            "셀 왼쪽 정지 버튼을 누르세요.\n",
            "셀 왼쪽 정지 버튼을 누르세요.\n",
            "셀 왼쪽 정지 버튼을 누르세요.\n",
            "셀 왼쪽 정지 버튼을 누르세요.\n",
            "셀 왼쪽 정지 버튼을 누르세요.\n",
            "셀 왼쪽 정지 버튼을 누르세요.\n",
            "셀 왼쪽 정지 버튼을 누르세요.\n",
            "셀 왼쪽 정지 버튼을 누르세요.\n",
            "셀 왼쪽 정지 버튼을 누르세요.\n",
            "셀 왼쪽 정지 버튼을 누르세요.\n",
            "셀 왼쪽 정지 버튼을 누르세요.\n",
            "셀 왼쪽 정지 버튼을 누르세요.\n",
            "셀 왼쪽 정지 버튼을 누르세요.\n",
            "셀 왼쪽 정지 버튼을 누르세요.\n",
            "셀 왼쪽 정지 버튼을 누르세요.\n",
            "셀 왼쪽 정지 버튼을 누르세요.\n",
            "셀 왼쪽 정지 버튼을 누르세요.\n",
            "셀 왼쪽 정지 버튼을 누르세요.\n",
            "셀 왼쪽 정지 버튼을 누르세요.\n",
            "셀 왼쪽 정지 버튼을 누르세요.\n",
            "셀 왼쪽 정지 버튼을 누르세요.\n",
            "셀 왼쪽 정지 버튼을 누르세요.\n",
            "셀 왼쪽 정지 버튼을 누르세요.\n",
            "셀 왼쪽 정지 버튼을 누르세요.\n",
            "셀 왼쪽 정지 버튼을 누르세요.\n",
            "셀 왼쪽 정지 버튼을 누르세요.\n",
            "셀 왼쪽 정지 버튼을 누르세요.\n",
            "셀 왼쪽 정지 버튼을 누르세요.\n",
            "셀 왼쪽 정지 버튼을 누르세요.\n",
            "셀 왼쪽 정지 버튼을 누르세요.\n",
            "셀 왼쪽 정지 버튼을 누르세요.\n",
            "셀 왼쪽 정지 버튼을 누르세요.\n",
            "셀 왼쪽 정지 버튼을 누르세요.\n",
            "셀 왼쪽 정지 버튼을 누르세요.\n",
            "셀 왼쪽 정지 버튼을 누르세요.\n",
            "셀 왼쪽 정지 버튼을 누르세요.\n",
            "셀 왼쪽 정지 버튼을 누르세요.\n",
            "셀 왼쪽 정지 버튼을 누르세요.\n",
            "셀 왼쪽 정지 버튼을 누르세요.\n",
            "셀 왼쪽 정지 버튼을 누르세요.\n",
            "셀 왼쪽 정지 버튼을 누르세요.\n",
            "셀 왼쪽 정지 버튼을 누르세요.\n",
            "셀 왼쪽 정지 버튼을 누르세요.\n",
            "셀 왼쪽 정지 버튼을 누르세요.\n",
            "셀 왼쪽 정지 버튼을 누르세요.\n",
            "셀 왼쪽 정지 버튼을 누르세요.\n",
            "셀 왼쪽 정지 버튼을 누르세요.\n",
            "셀 왼쪽 정지 버튼을 누르세요.\n",
            "셀 왼쪽 정지 버튼을 누르세요.\n",
            "셀 왼쪽 정지 버튼을 누르세요.\n",
            "셀 왼쪽 정지 버튼을 누르세요.\n",
            "셀 왼쪽 정지 버튼을 누르세요.\n",
            "셀 왼쪽 정지 버튼을 누르세요.\n",
            "셀 왼쪽 정지 버튼을 누르세요.\n",
            "셀 왼쪽 정지 버튼을 누르세요.\n",
            "셀 왼쪽 정지 버튼을 누르세요.\n",
            "셀 왼쪽 정지 버튼을 누르세요.\n",
            "셀 왼쪽 정지 버튼을 누르세요.\n",
            "셀 왼쪽 정지 버튼을 누르세요.\n",
            "셀 왼쪽 정지 버튼을 누르세요.\n",
            "셀 왼쪽 정지 버튼을 누르세요.\n",
            "셀 왼쪽 정지 버튼을 누르세요.\n",
            "셀 왼쪽 정지 버튼을 누르세요.\n",
            "셀 왼쪽 정지 버튼을 누르세요.\n",
            "셀 왼쪽 정지 버튼을 누르세요.\n",
            "셀 왼쪽 정지 버튼을 누르세요.\n",
            "셀 왼쪽 정지 버튼을 누르세요.\n",
            "셀 왼쪽 정지 버튼을 누르세요.\n",
            "셀 왼쪽 정지 버튼을 누르세요.\n",
            "셀 왼쪽 정지 버튼을 누르세요.\n",
            "셀 왼쪽 정지 버튼을 누르세요.\n",
            "셀 왼쪽 정지 버튼을 누르세요.\n",
            "셀 왼쪽 정지 버튼을 누르세요.\n",
            "셀 왼쪽 정지 버튼을 누르세요.\n",
            "셀 왼쪽 정지 버튼을 누르세요.\n",
            "셀 왼쪽 정지 버튼을 누르세요.\n",
            "셀 왼쪽 정지 버튼을 누르세요.\n",
            "셀 왼쪽 정지 버튼을 누르세요.\n",
            "셀 왼쪽 정지 버튼을 누르세요.\n",
            "셀 왼쪽 정지 버튼을 누르세요.\n",
            "셀 왼쪽 정지 버튼을 누르세요.\n",
            "셀 왼쪽 정지 버튼을 누르세요.\n",
            "셀 왼쪽 정지 버튼을 누르세요.\n",
            "셀 왼쪽 정지 버튼을 누르세요.\n",
            "셀 왼쪽 정지 버튼을 누르세요.\n",
            "셀 왼쪽 정지 버튼을 누르세요.\n",
            "셀 왼쪽 정지 버튼을 누르세요.\n",
            "셀 왼쪽 정지 버튼을 누르세요.\n",
            "셀 왼쪽 정지 버튼을 누르세요.\n",
            "셀 왼쪽 정지 버튼을 누르세요.\n",
            "셀 왼쪽 정지 버튼을 누르세요.\n",
            "셀 왼쪽 정지 버튼을 누르세요.\n",
            "셀 왼쪽 정지 버튼을 누르세요.\n",
            "셀 왼쪽 정지 버튼을 누르세요.\n",
            "셀 왼쪽 정지 버튼을 누르세요.\n",
            "셀 왼쪽 정지 버튼을 누르세요.\n",
            "셀 왼쪽 정지 버튼을 누르세요.\n",
            "셀 왼쪽 정지 버튼을 누르세요.\n",
            "셀 왼쪽 정지 버튼을 누르세요.\n",
            "셀 왼쪽 정지 버튼을 누르세요.\n",
            "셀 왼쪽 정지 버튼을 누르세요.\n",
            "셀 왼쪽 정지 버튼을 누르세요.\n",
            "셀 왼쪽 정지 버튼을 누르세요.\n",
            "셀 왼쪽 정지 버튼을 누르세요.\n",
            "셀 왼쪽 정지 버튼을 누르세요.\n",
            "셀 왼쪽 정지 버튼을 누르세요.\n",
            "셀 왼쪽 정지 버튼을 누르세요.\n",
            "셀 왼쪽 정지 버튼을 누르세요.\n",
            "셀 왼쪽 정지 버튼을 누르세요.\n",
            "셀 왼쪽 정지 버튼을 누르세요.\n",
            "셀 왼쪽 정지 버튼을 누르세요.\n",
            "셀 왼쪽 정지 버튼을 누르세요.\n",
            "셀 왼쪽 정지 버튼을 누르세요.\n",
            "셀 왼쪽 정지 버튼을 누르세요.\n",
            "셀 왼쪽 정지 버튼을 누르세요.\n",
            "셀 왼쪽 정지 버튼을 누르세요.\n",
            "셀 왼쪽 정지 버튼을 누르세요.\n",
            "셀 왼쪽 정지 버튼을 누르세요.\n",
            "셀 왼쪽 정지 버튼을 누르세요.\n",
            "셀 왼쪽 정지 버튼을 누르세요.\n",
            "셀 왼쪽 정지 버튼을 누르세요.\n",
            "셀 왼쪽 정지 버튼을 누르세요.\n",
            "셀 왼쪽 정지 버튼을 누르세요.\n",
            "셀 왼쪽 정지 버튼을 누르세요.\n",
            "셀 왼쪽 정지 버튼을 누르세요.\n",
            "셀 왼쪽 정지 버튼을 누르세요.\n",
            "셀 왼쪽 정지 버튼을 누르세요.\n",
            "셀 왼쪽 정지 버튼을 누르세요.\n",
            "셀 왼쪽 정지 버튼을 누르세요.\n",
            "셀 왼쪽 정지 버튼을 누르세요.\n",
            "셀 왼쪽 정지 버튼을 누르세요.\n",
            "셀 왼쪽 정지 버튼을 누르세요.\n",
            "셀 왼쪽 정지 버튼을 누르세요.\n",
            "셀 왼쪽 정지 버튼을 누르세요.\n",
            "셀 왼쪽 정지 버튼을 누르세요.\n",
            "셀 왼쪽 정지 버튼을 누르세요.\n",
            "셀 왼쪽 정지 버튼을 누르세요.\n",
            "셀 왼쪽 정지 버튼을 누르세요.\n",
            "셀 왼쪽 정지 버튼을 누르세요.\n",
            "셀 왼쪽 정지 버튼을 누르세요.\n",
            "셀 왼쪽 정지 버튼을 누르세요.\n",
            "셀 왼쪽 정지 버튼을 누르세요.\n",
            "셀 왼쪽 정지 버튼을 누르세요.\n",
            "셀 왼쪽 정지 버튼을 누르세요.\n",
            "셀 왼쪽 정지 버튼을 누르세요.\n",
            "셀 왼쪽 정지 버튼을 누르세요.\n",
            "셀 왼쪽 정지 버튼을 누르세요.\n",
            "셀 왼쪽 정지 버튼을 누르세요.\n",
            "셀 왼쪽 정지 버튼을 누르세요.\n",
            "셀 왼쪽 정지 버튼을 누르세요.\n",
            "셀 왼쪽 정지 버튼을 누르세요.\n",
            "셀 왼쪽 정지 버튼을 누르세요.\n",
            "셀 왼쪽 정지 버튼을 누르세요.\n",
            "셀 왼쪽 정지 버튼을 누르세요.\n",
            "셀 왼쪽 정지 버튼을 누르세요.\n",
            "셀 왼쪽 정지 버튼을 누르세요.\n",
            "셀 왼쪽 정지 버튼을 누르세요.\n",
            "셀 왼쪽 정지 버튼을 누르세요.\n",
            "셀 왼쪽 정지 버튼을 누르세요.\n",
            "셀 왼쪽 정지 버튼을 누르세요.\n",
            "셀 왼쪽 정지 버튼을 누르세요.\n",
            "셀 왼쪽 정지 버튼을 누르세요.\n",
            "셀 왼쪽 정지 버튼을 누르세요.\n",
            "셀 왼쪽 정지 버튼을 누르세요.\n",
            "셀 왼쪽 정지 버튼을 누르세요.\n",
            "셀 왼쪽 정지 버튼을 누르세요.\n",
            "셀 왼쪽 정지 버튼을 누르세요.\n",
            "셀 왼쪽 정지 버튼을 누르세요.\n",
            "셀 왼쪽 정지 버튼을 누르세요.\n",
            "셀 왼쪽 정지 버튼을 누르세요.\n",
            "셀 왼쪽 정지 버튼을 누르세요.\n",
            "셀 왼쪽 정지 버튼을 누르세요.\n",
            "셀 왼쪽 정지 버튼을 누르세요.\n",
            "셀 왼쪽 정지 버튼을 누르세요.\n",
            "셀 왼쪽 정지 버튼을 누르세요.\n",
            "셀 왼쪽 정지 버튼을 누르세요.\n",
            "셀 왼쪽 정지 버튼을 누르세요.\n",
            "셀 왼쪽 정지 버튼을 누르세요.\n",
            "셀 왼쪽 정지 버튼을 누르세요.\n",
            "셀 왼쪽 정지 버튼을 누르세요.\n",
            "셀 왼쪽 정지 버튼을 누르세요.\n",
            "셀 왼쪽 정지 버튼을 누르세요.\n",
            "셀 왼쪽 정지 버튼을 누르세요.\n",
            "셀 왼쪽 정지 버튼을 누르세요.\n",
            "셀 왼쪽 정지 버튼을 누르세요.\n",
            "셀 왼쪽 정지 버튼을 누르세요.\n",
            "셀 왼쪽 정지 버튼을 누르세요.\n",
            "셀 왼쪽 정지 버튼을 누르세요.\n",
            "셀 왼쪽 정지 버튼을 누르세요.\n",
            "셀 왼쪽 정지 버튼을 누르세요.\n",
            "셀 왼쪽 정지 버튼을 누르세요.\n",
            "셀 왼쪽 정지 버튼을 누르세요.\n",
            "셀 왼쪽 정지 버튼을 누르세요.\n",
            "셀 왼쪽 정지 버튼을 누르세요.\n",
            "셀 왼쪽 정지 버튼을 누르세요.\n",
            "셀 왼쪽 정지 버튼을 누르세요.\n",
            "셀 왼쪽 정지 버튼을 누르세요.\n",
            "셀 왼쪽 정지 버튼을 누르세요.\n",
            "셀 왼쪽 정지 버튼을 누르세요.\n",
            "셀 왼쪽 정지 버튼을 누르세요.\n",
            "셀 왼쪽 정지 버튼을 누르세요.\n",
            "셀 왼쪽 정지 버튼을 누르세요.\n",
            "셀 왼쪽 정지 버튼을 누르세요.\n",
            "셀 왼쪽 정지 버튼을 누르세요.\n",
            "셀 왼쪽 정지 버튼을 누르세요.\n",
            "셀 왼쪽 정지 버튼을 누르세요.\n",
            "셀 왼쪽 정지 버튼을 누르세요.\n",
            "셀 왼쪽 정지 버튼을 누르세요.\n",
            "셀 왼쪽 정지 버튼을 누르세요.\n",
            "셀 왼쪽 정지 버튼을 누르세요.\n",
            "셀 왼쪽 정지 버튼을 누르세요.\n",
            "셀 왼쪽 정지 버튼을 누르세요.\n",
            "셀 왼쪽 정지 버튼을 누르세요.\n",
            "셀 왼쪽 정지 버튼을 누르세요.\n",
            "셀 왼쪽 정지 버튼을 누르세요.\n",
            "셀 왼쪽 정지 버튼을 누르세요.\n",
            "셀 왼쪽 정지 버튼을 누르세요.\n",
            "셀 왼쪽 정지 버튼을 누르세요.\n",
            "셀 왼쪽 정지 버튼을 누르세요.\n",
            "셀 왼쪽 정지 버튼을 누르세요.\n",
            "셀 왼쪽 정지 버튼을 누르세요.\n",
            "셀 왼쪽 정지 버튼을 누르세요.\n",
            "셀 왼쪽 정지 버튼을 누르세요.\n",
            "셀 왼쪽 정지 버튼을 누르세요.\n",
            "셀 왼쪽 정지 버튼을 누르세요.\n",
            "셀 왼쪽 정지 버튼을 누르세요.\n",
            "셀 왼쪽 정지 버튼을 누르세요.\n",
            "셀 왼쪽 정지 버튼을 누르세요.\n",
            "셀 왼쪽 정지 버튼을 누르세요.\n",
            "셀 왼쪽 정지 버튼을 누르세요.\n",
            "셀 왼쪽 정지 버튼을 누르세요.\n",
            "셀 왼쪽 정지 버튼을 누르세요.\n",
            "셀 왼쪽 정지 버튼을 누르세요.\n",
            "셀 왼쪽 정지 버튼을 누르세요.\n",
            "셀 왼쪽 정지 버튼을 누르세요.\n",
            "셀 왼쪽 정지 버튼을 누르세요.\n",
            "셀 왼쪽 정지 버튼을 누르세요.\n",
            "셀 왼쪽 정지 버튼을 누르세요.\n",
            "셀 왼쪽 정지 버튼을 누르세요.\n",
            "셀 왼쪽 정지 버튼을 누르세요.\n",
            "셀 왼쪽 정지 버튼을 누르세요.\n",
            "셀 왼쪽 정지 버튼을 누르세요.\n",
            "셀 왼쪽 정지 버튼을 누르세요.\n",
            "셀 왼쪽 정지 버튼을 누르세요.\n",
            "셀 왼쪽 정지 버튼을 누르세요.\n",
            "셀 왼쪽 정지 버튼을 누르세요.\n",
            "셀 왼쪽 정지 버튼을 누르세요.\n",
            "셀 왼쪽 정지 버튼을 누르세요.\n",
            "셀 왼쪽 정지 버튼을 누르세요.\n",
            "셀 왼쪽 정지 버튼을 누르세요.\n",
            "셀 왼쪽 정지 버튼을 누르세요.\n",
            "셀 왼쪽 정지 버튼을 누르세요.\n",
            "셀 왼쪽 정지 버튼을 누르세요.\n",
            "셀 왼쪽 정지 버튼을 누르세요.\n",
            "셀 왼쪽 정지 버튼을 누르세요.\n",
            "셀 왼쪽 정지 버튼을 누르세요.\n",
            "셀 왼쪽 정지 버튼을 누르세요.\n",
            "셀 왼쪽 정지 버튼을 누르세요.\n",
            "셀 왼쪽 정지 버튼을 누르세요.\n",
            "셀 왼쪽 정지 버튼을 누르세요.\n",
            "셀 왼쪽 정지 버튼을 누르세요.\n",
            "셀 왼쪽 정지 버튼을 누르세요.\n",
            "셀 왼쪽 정지 버튼을 누르세요.\n",
            "셀 왼쪽 정지 버튼을 누르세요.\n",
            "셀 왼쪽 정지 버튼을 누르세요.\n",
            "셀 왼쪽 정지 버튼을 누르세요.\n",
            "셀 왼쪽 정지 버튼을 누르세요.\n",
            "셀 왼쪽 정지 버튼을 누르세요.\n",
            "셀 왼쪽 정지 버튼을 누르세요.\n",
            "셀 왼쪽 정지 버튼을 누르세요.\n",
            "셀 왼쪽 정지 버튼을 누르세요.\n",
            "셀 왼쪽 정지 버튼을 누르세요.\n",
            "셀 왼쪽 정지 버튼을 누르세요.\n",
            "셀 왼쪽 정지 버튼을 누르세요.\n",
            "셀 왼쪽 정지 버튼을 누르세요.\n",
            "셀 왼쪽 정지 버튼을 누르세요.\n",
            "셀 왼쪽 정지 버튼을 누르세요.\n",
            "셀 왼쪽 정지 버튼을 누르세요.\n",
            "셀 왼쪽 정지 버튼을 누르세요.\n",
            "셀 왼쪽 정지 버튼을 누르세요.\n",
            "셀 왼쪽 정지 버튼을 누르세요.\n",
            "셀 왼쪽 정지 버튼을 누르세요.\n",
            "셀 왼쪽 정지 버튼을 누르세요.\n",
            "셀 왼쪽 정지 버튼을 누르세요.\n",
            "셀 왼쪽 정지 버튼을 누르세요.\n",
            "셀 왼쪽 정지 버튼을 누르세요.\n",
            "셀 왼쪽 정지 버튼을 누르세요.\n",
            "셀 왼쪽 정지 버튼을 누르세요.\n",
            "셀 왼쪽 정지 버튼을 누르세요.\n",
            "셀 왼쪽 정지 버튼을 누르세요.\n",
            "셀 왼쪽 정지 버튼을 누르세요.\n",
            "셀 왼쪽 정지 버튼을 누르세요.\n",
            "셀 왼쪽 정지 버튼을 누르세요.\n",
            "셀 왼쪽 정지 버튼을 누르세요.\n",
            "셀 왼쪽 정지 버튼을 누르세요.\n",
            "셀 왼쪽 정지 버튼을 누르세요.\n",
            "셀 왼쪽 정지 버튼을 누르세요.\n",
            "셀 왼쪽 정지 버튼을 누르세요.\n",
            "셀 왼쪽 정지 버튼을 누르세요.\n",
            "셀 왼쪽 정지 버튼을 누르세요.\n",
            "셀 왼쪽 정지 버튼을 누르세요.\n",
            "셀 왼쪽 정지 버튼을 누르세요.\n",
            "셀 왼쪽 정지 버튼을 누르세요.\n",
            "셀 왼쪽 정지 버튼을 누르세요.\n",
            "셀 왼쪽 정지 버튼을 누르세요.\n",
            "셀 왼쪽 정지 버튼을 누르세요.\n",
            "셀 왼쪽 정지 버튼을 누르세요.\n",
            "셀 왼쪽 정지 버튼을 누르세요.\n",
            "셀 왼쪽 정지 버튼을 누르세요.\n",
            "셀 왼쪽 정지 버튼을 누르세요.\n",
            "셀 왼쪽 정지 버튼을 누르세요.\n",
            "셀 왼쪽 정지 버튼을 누르세요.\n",
            "셀 왼쪽 정지 버튼을 누르세요.\n",
            "셀 왼쪽 정지 버튼을 누르세요.\n",
            "셀 왼쪽 정지 버튼을 누르세요.\n",
            "셀 왼쪽 정지 버튼을 누르세요.\n",
            "셀 왼쪽 정지 버튼을 누르세요.\n",
            "셀 왼쪽 정지 버튼을 누르세요.\n",
            "셀 왼쪽 정지 버튼을 누르세요.\n",
            "셀 왼쪽 정지 버튼을 누르세요.\n",
            "셀 왼쪽 정지 버튼을 누르세요.\n",
            "셀 왼쪽 정지 버튼을 누르세요.\n",
            "셀 왼쪽 정지 버튼을 누르세요.\n",
            "셀 왼쪽 정지 버튼을 누르세요.\n",
            "셀 왼쪽 정지 버튼을 누르세요.\n",
            "셀 왼쪽 정지 버튼을 누르세요.\n",
            "셀 왼쪽 정지 버튼을 누르세요.\n",
            "셀 왼쪽 정지 버튼을 누르세요.\n",
            "셀 왼쪽 정지 버튼을 누르세요.\n",
            "셀 왼쪽 정지 버튼을 누르세요.\n",
            "셀 왼쪽 정지 버튼을 누르세요.\n",
            "셀 왼쪽 정지 버튼을 누르세요.\n",
            "셀 왼쪽 정지 버튼을 누르세요.\n",
            "셀 왼쪽 정지 버튼을 누르세요.\n",
            "셀 왼쪽 정지 버튼을 누르세요.\n",
            "셀 왼쪽 정지 버튼을 누르세요.\n",
            "셀 왼쪽 정지 버튼을 누르세요.\n",
            "셀 왼쪽 정지 버튼을 누르세요.\n",
            "셀 왼쪽 정지 버튼을 누르세요.\n",
            "셀 왼쪽 정지 버튼을 누르세요.\n",
            "셀 왼쪽 정지 버튼을 누르세요.\n",
            "셀 왼쪽 정지 버튼을 누르세요.\n",
            "셀 왼쪽 정지 버튼을 누르세요.\n",
            "셀 왼쪽 정지 버튼을 누르세요.\n",
            "셀 왼쪽 정지 버튼을 누르세요.\n",
            "셀 왼쪽 정지 버튼을 누르세요.\n",
            "셀 왼쪽 정지 버튼을 누르세요.\n",
            "셀 왼쪽 정지 버튼을 누르세요.\n",
            "셀 왼쪽 정지 버튼을 누르세요.\n",
            "셀 왼쪽 정지 버튼을 누르세요.\n",
            "셀 왼쪽 정지 버튼을 누르세요.\n",
            "셀 왼쪽 정지 버튼을 누르세요.\n",
            "셀 왼쪽 정지 버튼을 누르세요.\n",
            "셀 왼쪽 정지 버튼을 누르세요.\n",
            "셀 왼쪽 정지 버튼을 누르세요.\n",
            "셀 왼쪽 정지 버튼을 누르세요.\n",
            "셀 왼쪽 정지 버튼을 누르세요.\n",
            "셀 왼쪽 정지 버튼을 누르세요.\n",
            "셀 왼쪽 정지 버튼을 누르세요.\n",
            "셀 왼쪽 정지 버튼을 누르세요.\n",
            "셀 왼쪽 정지 버튼을 누르세요.\n",
            "셀 왼쪽 정지 버튼을 누르세요.\n",
            "셀 왼쪽 정지 버튼을 누르세요.\n",
            "셀 왼쪽 정지 버튼을 누르세요.\n",
            "셀 왼쪽 정지 버튼을 누르세요.\n",
            "셀 왼쪽 정지 버튼을 누르세요.\n",
            "셀 왼쪽 정지 버튼을 누르세요.\n",
            "셀 왼쪽 정지 버튼을 누르세요.\n",
            "셀 왼쪽 정지 버튼을 누르세요.\n",
            "셀 왼쪽 정지 버튼을 누르세요.\n",
            "셀 왼쪽 정지 버튼을 누르세요.\n",
            "셀 왼쪽 정지 버튼을 누르세요.\n",
            "셀 왼쪽 정지 버튼을 누르세요.\n",
            "셀 왼쪽 정지 버튼을 누르세요.\n",
            "셀 왼쪽 정지 버튼을 누르세요.\n",
            "셀 왼쪽 정지 버튼을 누르세요.\n",
            "셀 왼쪽 정지 버튼을 누르세요.\n",
            "셀 왼쪽 정지 버튼을 누르세요.\n",
            "셀 왼쪽 정지 버튼을 누르세요.\n",
            "셀 왼쪽 정지 버튼을 누르세요.\n",
            "셀 왼쪽 정지 버튼을 누르세요.\n",
            "셀 왼쪽 정지 버튼을 누르세요.\n",
            "셀 왼쪽 정지 버튼을 누르세요.\n",
            "셀 왼쪽 정지 버튼을 누르세요.\n",
            "셀 왼쪽 정지 버튼을 누르세요.\n",
            "셀 왼쪽 정지 버튼을 누르세요.\n",
            "셀 왼쪽 정지 버튼을 누르세요.\n",
            "셀 왼쪽 정지 버튼을 누르세요.\n",
            "셀 왼쪽 정지 버튼을 누르세요.\n",
            "셀 왼쪽 정지 버튼을 누르세요.\n",
            "셀 왼쪽 정지 버튼을 누르세요.\n",
            "셀 왼쪽 정지 버튼을 누르세요.\n",
            "셀 왼쪽 정지 버튼을 누르세요.\n",
            "셀 왼쪽 정지 버튼을 누르세요.\n",
            "셀 왼쪽 정지 버튼을 누르세요.\n",
            "셀 왼쪽 정지 버튼을 누르세요.\n",
            "셀 왼쪽 정지 버튼을 누르세요.\n",
            "셀 왼쪽 정지 버튼을 누르세요.\n",
            "셀 왼쪽 정지 버튼을 누르세요.\n",
            "셀 왼쪽 정지 버튼을 누르세요.\n",
            "셀 왼쪽 정지 버튼을 누르세요.\n",
            "셀 왼쪽 정지 버튼을 누르세요.\n",
            "셀 왼쪽 정지 버튼을 누르세요.\n",
            "셀 왼쪽 정지 버튼을 누르세요.\n",
            "셀 왼쪽 정지 버튼을 누르세요.\n",
            "셀 왼쪽 정지 버튼을 누르세요.\n",
            "셀 왼쪽 정지 버튼을 누르세요.\n",
            "셀 왼쪽 정지 버튼을 누르세요.\n",
            "셀 왼쪽 정지 버튼을 누르세요.\n",
            "셀 왼쪽 정지 버튼을 누르세요.\n",
            "셀 왼쪽 정지 버튼을 누르세요.\n",
            "셀 왼쪽 정지 버튼을 누르세요.\n",
            "셀 왼쪽 정지 버튼을 누르세요.\n",
            "셀 왼쪽 정지 버튼을 누르세요.\n",
            "셀 왼쪽 정지 버튼을 누르세요.\n",
            "셀 왼쪽 정지 버튼을 누르세요.\n",
            "셀 왼쪽 정지 버튼을 누르세요.\n",
            "셀 왼쪽 정지 버튼을 누르세요.\n",
            "셀 왼쪽 정지 버튼을 누르세요.\n",
            "셀 왼쪽 정지 버튼을 누르세요.\n",
            "셀 왼쪽 정지 버튼을 누르세요.\n",
            "셀 왼쪽 정지 버튼을 누르세요.\n",
            "셀 왼쪽 정지 버튼을 누르세요.\n",
            "셀 왼쪽 정지 버튼을 누르세요.\n",
            "셀 왼쪽 정지 버튼을 누르세요.\n",
            "셀 왼쪽 정지 버튼을 누르세요.\n",
            "셀 왼쪽 정지 버튼을 누르세요.\n",
            "셀 왼쪽 정지 버튼을 누르세요.\n",
            "셀 왼쪽 정지 버튼을 누르세요.\n",
            "셀 왼쪽 정지 버튼을 누르세요.\n",
            "셀 왼쪽 정지 버튼을 누르세요.\n",
            "셀 왼쪽 정지 버튼을 누르세요.\n",
            "셀 왼쪽 정지 버튼을 누르세요.\n",
            "셀 왼쪽 정지 버튼을 누르세요.\n",
            "셀 왼쪽 정지 버튼을 누르세요.\n",
            "셀 왼쪽 정지 버튼을 누르세요.\n",
            "셀 왼쪽 정지 버튼을 누르세요.\n",
            "셀 왼쪽 정지 버튼을 누르세요.\n",
            "셀 왼쪽 정지 버튼을 누르세요.\n",
            "셀 왼쪽 정지 버튼을 누르세요.\n",
            "셀 왼쪽 정지 버튼을 누르세요.\n",
            "셀 왼쪽 정지 버튼을 누르세요.\n",
            "셀 왼쪽 정지 버튼을 누르세요.\n",
            "셀 왼쪽 정지 버튼을 누르세요.\n",
            "셀 왼쪽 정지 버튼을 누르세요.\n",
            "셀 왼쪽 정지 버튼을 누르세요.\n",
            "셀 왼쪽 정지 버튼을 누르세요.\n",
            "셀 왼쪽 정지 버튼을 누르세요.\n",
            "셀 왼쪽 정지 버튼을 누르세요.\n",
            "셀 왼쪽 정지 버튼을 누르세요.\n",
            "셀 왼쪽 정지 버튼을 누르세요.\n",
            "셀 왼쪽 정지 버튼을 누르세요.\n",
            "셀 왼쪽 정지 버튼을 누르세요.\n",
            "셀 왼쪽 정지 버튼을 누르세요.\n",
            "셀 왼쪽 정지 버튼을 누르세요.\n",
            "셀 왼쪽 정지 버튼을 누르세요.\n",
            "셀 왼쪽 정지 버튼을 누르세요.\n",
            "셀 왼쪽 정지 버튼을 누르세요.\n",
            "셀 왼쪽 정지 버튼을 누르세요.\n",
            "셀 왼쪽 정지 버튼을 누르세요.\n",
            "셀 왼쪽 정지 버튼을 누르세요.\n",
            "셀 왼쪽 정지 버튼을 누르세요.\n",
            "셀 왼쪽 정지 버튼을 누르세요.\n",
            "셀 왼쪽 정지 버튼을 누르세요.\n",
            "셀 왼쪽 정지 버튼을 누르세요.\n",
            "셀 왼쪽 정지 버튼을 누르세요.\n",
            "셀 왼쪽 정지 버튼을 누르세요.\n",
            "셀 왼쪽 정지 버튼을 누르세요.\n",
            "셀 왼쪽 정지 버튼을 누르세요.\n",
            "셀 왼쪽 정지 버튼을 누르세요.\n",
            "셀 왼쪽 정지 버튼을 누르세요.\n",
            "셀 왼쪽 정지 버튼을 누르세요.\n",
            "셀 왼쪽 정지 버튼을 누르세요.\n",
            "셀 왼쪽 정지 버튼을 누르세요.\n",
            "셀 왼쪽 정지 버튼을 누르세요.\n",
            "셀 왼쪽 정지 버튼을 누르세요.\n",
            "셀 왼쪽 정지 버튼을 누르세요.\n",
            "셀 왼쪽 정지 버튼을 누르세요.\n",
            "셀 왼쪽 정지 버튼을 누르세요.\n",
            "셀 왼쪽 정지 버튼을 누르세요.\n",
            "셀 왼쪽 정지 버튼을 누르세요.\n",
            "셀 왼쪽 정지 버튼을 누르세요.\n",
            "셀 왼쪽 정지 버튼을 누르세요.\n",
            "셀 왼쪽 정지 버튼을 누르세요.\n",
            "셀 왼쪽 정지 버튼을 누르세요.\n",
            "셀 왼쪽 정지 버튼을 누르세요.\n",
            "셀 왼쪽 정지 버튼을 누르세요.\n",
            "셀 왼쪽 정지 버튼을 누르세요.\n",
            "셀 왼쪽 정지 버튼을 누르세요.\n",
            "셀 왼쪽 정지 버튼을 누르세요.\n",
            "셀 왼쪽 정지 버튼을 누르세요.\n",
            "셀 왼쪽 정지 버튼을 누르세요.\n",
            "셀 왼쪽 정지 버튼을 누르세요.\n",
            "셀 왼쪽 정지 버튼을 누르세요.\n",
            "셀 왼쪽 정지 버튼을 누르세요.\n",
            "셀 왼쪽 정지 버튼을 누르세요.\n",
            "셀 왼쪽 정지 버튼을 누르세요.\n",
            "셀 왼쪽 정지 버튼을 누르세요.\n",
            "셀 왼쪽 정지 버튼을 누르세요.\n",
            "셀 왼쪽 정지 버튼을 누르세요.\n",
            "셀 왼쪽 정지 버튼을 누르세요.\n",
            "셀 왼쪽 정지 버튼을 누르세요.\n",
            "셀 왼쪽 정지 버튼을 누르세요.\n",
            "셀 왼쪽 정지 버튼을 누르세요.\n",
            "셀 왼쪽 정지 버튼을 누르세요.\n",
            "셀 왼쪽 정지 버튼을 누르세요.\n",
            "셀 왼쪽 정지 버튼을 누르세요.\n",
            "셀 왼쪽 정지 버튼을 누르세요.\n",
            "셀 왼쪽 정지 버튼을 누르세요.\n",
            "셀 왼쪽 정지 버튼을 누르세요.\n",
            "셀 왼쪽 정지 버튼을 누르세요.\n",
            "셀 왼쪽 정지 버튼을 누르세요.\n",
            "셀 왼쪽 정지 버튼을 누르세요.\n",
            "셀 왼쪽 정지 버튼을 누르세요.\n",
            "셀 왼쪽 정지 버튼을 누르세요.\n",
            "셀 왼쪽 정지 버튼을 누르세요.\n",
            "셀 왼쪽 정지 버튼을 누르세요.\n",
            "셀 왼쪽 정지 버튼을 누르세요.\n",
            "셀 왼쪽 정지 버튼을 누르세요.\n",
            "셀 왼쪽 정지 버튼을 누르세요.\n",
            "셀 왼쪽 정지 버튼을 누르세요.\n",
            "셀 왼쪽 정지 버튼을 누르세요.\n",
            "셀 왼쪽 정지 버튼을 누르세요.\n",
            "셀 왼쪽 정지 버튼을 누르세요.\n",
            "셀 왼쪽 정지 버튼을 누르세요.\n",
            "셀 왼쪽 정지 버튼을 누르세요.\n",
            "셀 왼쪽 정지 버튼을 누르세요.\n",
            "셀 왼쪽 정지 버튼을 누르세요.\n",
            "셀 왼쪽 정지 버튼을 누르세요.\n",
            "셀 왼쪽 정지 버튼을 누르세요.\n",
            "셀 왼쪽 정지 버튼을 누르세요.\n",
            "셀 왼쪽 정지 버튼을 누르세요.\n",
            "셀 왼쪽 정지 버튼을 누르세요.\n",
            "셀 왼쪽 정지 버튼을 누르세요.\n",
            "셀 왼쪽 정지 버튼을 누르세요.\n",
            "셀 왼쪽 정지 버튼을 누르세요.\n",
            "셀 왼쪽 정지 버튼을 누르세요.\n",
            "셀 왼쪽 정지 버튼을 누르세요.\n",
            "셀 왼쪽 정지 버튼을 누르세요.\n",
            "셀 왼쪽 정지 버튼을 누르세요.\n",
            "셀 왼쪽 정지 버튼을 누르세요.\n",
            "셀 왼쪽 정지 버튼을 누르세요.\n",
            "셀 왼쪽 정지 버튼을 누르세요.\n",
            "셀 왼쪽 정지 버튼을 누르세요.\n",
            "셀 왼쪽 정지 버튼을 누르세요.\n",
            "셀 왼쪽 정지 버튼을 누르세요.\n",
            "셀 왼쪽 정지 버튼을 누르세요.\n",
            "셀 왼쪽 정지 버튼을 누르세요.\n",
            "셀 왼쪽 정지 버튼을 누르세요.\n",
            "셀 왼쪽 정지 버튼을 누르세요.\n",
            "셀 왼쪽 정지 버튼을 누르세요.\n",
            "셀 왼쪽 정지 버튼을 누르세요.\n",
            "셀 왼쪽 정지 버튼을 누르세요.\n",
            "셀 왼쪽 정지 버튼을 누르세요.\n",
            "셀 왼쪽 정지 버튼을 누르세요.\n",
            "셀 왼쪽 정지 버튼을 누르세요.\n",
            "셀 왼쪽 정지 버튼을 누르세요.\n",
            "셀 왼쪽 정지 버튼을 누르세요.\n",
            "셀 왼쪽 정지 버튼을 누르세요.\n",
            "셀 왼쪽 정지 버튼을 누르세요.\n",
            "셀 왼쪽 정지 버튼을 누르세요.\n",
            "셀 왼쪽 정지 버튼을 누르세요.\n",
            "셀 왼쪽 정지 버튼을 누르세요.\n",
            "셀 왼쪽 정지 버튼을 누르세요.\n",
            "셀 왼쪽 정지 버튼을 누르세요.\n",
            "셀 왼쪽 정지 버튼을 누르세요.\n",
            "셀 왼쪽 정지 버튼을 누르세요.\n",
            "셀 왼쪽 정지 버튼을 누르세요.\n",
            "셀 왼쪽 정지 버튼을 누르세요.\n",
            "셀 왼쪽 정지 버튼을 누르세요.\n",
            "셀 왼쪽 정지 버튼을 누르세요.\n",
            "셀 왼쪽 정지 버튼을 누르세요.\n",
            "셀 왼쪽 정지 버튼을 누르세요.\n",
            "셀 왼쪽 정지 버튼을 누르세요.\n",
            "셀 왼쪽 정지 버튼을 누르세요.\n",
            "셀 왼쪽 정지 버튼을 누르세요.\n",
            "셀 왼쪽 정지 버튼을 누르세요.\n",
            "셀 왼쪽 정지 버튼을 누르세요.\n",
            "셀 왼쪽 정지 버튼을 누르세요.\n",
            "셀 왼쪽 정지 버튼을 누르세요.\n",
            "셀 왼쪽 정지 버튼을 누르세요.\n",
            "셀 왼쪽 정지 버튼을 누르세요.\n",
            "셀 왼쪽 정지 버튼을 누르세요.\n",
            "셀 왼쪽 정지 버튼을 누르세요.\n",
            "셀 왼쪽 정지 버튼을 누르세요.\n",
            "셀 왼쪽 정지 버튼을 누르세요.\n",
            "셀 왼쪽 정지 버튼을 누르세요.\n",
            "셀 왼쪽 정지 버튼을 누르세요.\n",
            "셀 왼쪽 정지 버튼을 누르세요.\n",
            "셀 왼쪽 정지 버튼을 누르세요.\n",
            "셀 왼쪽 정지 버튼을 누르세요.\n",
            "셀 왼쪽 정지 버튼을 누르세요.\n",
            "셀 왼쪽 정지 버튼을 누르세요.\n",
            "셀 왼쪽 정지 버튼을 누르세요.\n",
            "셀 왼쪽 정지 버튼을 누르세요.\n",
            "셀 왼쪽 정지 버튼을 누르세요.\n",
            "셀 왼쪽 정지 버튼을 누르세요.\n",
            "셀 왼쪽 정지 버튼을 누르세요.\n",
            "셀 왼쪽 정지 버튼을 누르세요.\n",
            "셀 왼쪽 정지 버튼을 누르세요.\n",
            "셀 왼쪽 정지 버튼을 누르세요.\n",
            "셀 왼쪽 정지 버튼을 누르세요.\n",
            "셀 왼쪽 정지 버튼을 누르세요.\n",
            "셀 왼쪽 정지 버튼을 누르세요.\n",
            "셀 왼쪽 정지 버튼을 누르세요.\n",
            "셀 왼쪽 정지 버튼을 누르세요.\n",
            "셀 왼쪽 정지 버튼을 누르세요.\n",
            "셀 왼쪽 정지 버튼을 누르세요.\n",
            "셀 왼쪽 정지 버튼을 누르세요.\n",
            "셀 왼쪽 정지 버튼을 누르세요.\n",
            "셀 왼쪽 정지 버튼을 누르세요.\n",
            "셀 왼쪽 정지 버튼을 누르세요.\n",
            "셀 왼쪽 정지 버튼을 누르세요.\n",
            "셀 왼쪽 정지 버튼을 누르세요.\n",
            "셀 왼쪽 정지 버튼을 누르세요.\n",
            "셀 왼쪽 정지 버튼을 누르세요.\n",
            "셀 왼쪽 정지 버튼을 누르세요.\n",
            "셀 왼쪽 정지 버튼을 누르세요.\n",
            "셀 왼쪽 정지 버튼을 누르세요.\n",
            "셀 왼쪽 정지 버튼을 누르세요.\n",
            "셀 왼쪽 정지 버튼을 누르세요.\n",
            "셀 왼쪽 정지 버튼을 누르세요.\n",
            "셀 왼쪽 정지 버튼을 누르세요.\n",
            "셀 왼쪽 정지 버튼을 누르세요.\n",
            "셀 왼쪽 정지 버튼을 누르세요.\n",
            "셀 왼쪽 정지 버튼을 누르세요.\n",
            "셀 왼쪽 정지 버튼을 누르세요.\n",
            "셀 왼쪽 정지 버튼을 누르세요.\n",
            "셀 왼쪽 정지 버튼을 누르세요.\n",
            "셀 왼쪽 정지 버튼을 누르세요.\n",
            "셀 왼쪽 정지 버튼을 누르세요.\n",
            "셀 왼쪽 정지 버튼을 누르세요.\n",
            "셀 왼쪽 정지 버튼을 누르세요.\n",
            "셀 왼쪽 정지 버튼을 누르세요.\n",
            "셀 왼쪽 정지 버튼을 누르세요.\n",
            "셀 왼쪽 정지 버튼을 누르세요.\n",
            "셀 왼쪽 정지 버튼을 누르세요.\n",
            "셀 왼쪽 정지 버튼을 누르세요.\n",
            "셀 왼쪽 정지 버튼을 누르세요.\n",
            "셀 왼쪽 정지 버튼을 누르세요.\n",
            "셀 왼쪽 정지 버튼을 누르세요.\n",
            "셀 왼쪽 정지 버튼을 누르세요.\n",
            "셀 왼쪽 정지 버튼을 누르세요.\n",
            "셀 왼쪽 정지 버튼을 누르세요.\n",
            "셀 왼쪽 정지 버튼을 누르세요.\n",
            "셀 왼쪽 정지 버튼을 누르세요.\n",
            "셀 왼쪽 정지 버튼을 누르세요.\n",
            "셀 왼쪽 정지 버튼을 누르세요.\n",
            "셀 왼쪽 정지 버튼을 누르세요.\n",
            "셀 왼쪽 정지 버튼을 누르세요.\n",
            "셀 왼쪽 정지 버튼을 누르세요.\n",
            "셀 왼쪽 정지 버튼을 누르세요.\n",
            "셀 왼쪽 정지 버튼을 누르세요.\n",
            "셀 왼쪽 정지 버튼을 누르세요.\n",
            "셀 왼쪽 정지 버튼을 누르세요.\n",
            "셀 왼쪽 정지 버튼을 누르세요.\n",
            "셀 왼쪽 정지 버튼을 누르세요.\n",
            "셀 왼쪽 정지 버튼을 누르세요.\n",
            "셀 왼쪽 정지 버튼을 누르세요.\n",
            "셀 왼쪽 정지 버튼을 누르세요.\n",
            "셀 왼쪽 정지 버튼을 누르세요.\n",
            "셀 왼쪽 정지 버튼을 누르세요.\n",
            "셀 왼쪽 정지 버튼을 누르세요.\n",
            "셀 왼쪽 정지 버튼을 누르세요.\n",
            "셀 왼쪽 정지 버튼을 누르세요.\n",
            "셀 왼쪽 정지 버튼을 누르세요.\n",
            "셀 왼쪽 정지 버튼을 누르세요.\n",
            "셀 왼쪽 정지 버튼을 누르세요.\n",
            "셀 왼쪽 정지 버튼을 누르세요.\n",
            "셀 왼쪽 정지 버튼을 누르세요.\n",
            "셀 왼쪽 정지 버튼을 누르세요.\n",
            "셀 왼쪽 정지 버튼을 누르세요.\n",
            "셀 왼쪽 정지 버튼을 누르세요.\n",
            "셀 왼쪽 정지 버튼을 누르세요.\n",
            "셀 왼쪽 정지 버튼을 누르세요.\n",
            "셀 왼쪽 정지 버튼을 누르세요.\n",
            "셀 왼쪽 정지 버튼을 누르세요.\n",
            "셀 왼쪽 정지 버튼을 누르세요.\n",
            "셀 왼쪽 정지 버튼을 누르세요.\n",
            "셀 왼쪽 정지 버튼을 누르세요.\n",
            "셀 왼쪽 정지 버튼을 누르세요.\n",
            "셀 왼쪽 정지 버튼을 누르세요.\n",
            "셀 왼쪽 정지 버튼을 누르세요.\n",
            "셀 왼쪽 정지 버튼을 누르세요.\n",
            "셀 왼쪽 정지 버튼을 누르세요.\n",
            "셀 왼쪽 정지 버튼을 누르세요.\n",
            "셀 왼쪽 정지 버튼을 누르세요.\n",
            "셀 왼쪽 정지 버튼을 누르세요.\n",
            "셀 왼쪽 정지 버튼을 누르세요.\n",
            "셀 왼쪽 정지 버튼을 누르세요.\n",
            "셀 왼쪽 정지 버튼을 누르세요.\n",
            "셀 왼쪽 정지 버튼을 누르세요.\n",
            "셀 왼쪽 정지 버튼을 누르세요.\n",
            "셀 왼쪽 정지 버튼을 누르세요.\n",
            "셀 왼쪽 정지 버튼을 누르세요.\n",
            "셀 왼쪽 정지 버튼을 누르세요.\n",
            "셀 왼쪽 정지 버튼을 누르세요.\n",
            "셀 왼쪽 정지 버튼을 누르세요.\n",
            "셀 왼쪽 정지 버튼을 누르세요.\n",
            "셀 왼쪽 정지 버튼을 누르세요.\n",
            "셀 왼쪽 정지 버튼을 누르세요.\n",
            "셀 왼쪽 정지 버튼을 누르세요.\n",
            "셀 왼쪽 정지 버튼을 누르세요.\n",
            "셀 왼쪽 정지 버튼을 누르세요.\n",
            "셀 왼쪽 정지 버튼을 누르세요.\n",
            "셀 왼쪽 정지 버튼을 누르세요.\n",
            "셀 왼쪽 정지 버튼을 누르세요.\n",
            "셀 왼쪽 정지 버튼을 누르세요.\n",
            "셀 왼쪽 정지 버튼을 누르세요.\n",
            "셀 왼쪽 정지 버튼을 누르세요.\n",
            "셀 왼쪽 정지 버튼을 누르세요.\n",
            "셀 왼쪽 정지 버튼을 누르세요.\n",
            "셀 왼쪽 정지 버튼을 누르세요.\n",
            "셀 왼쪽 정지 버튼을 누르세요.\n",
            "셀 왼쪽 정지 버튼을 누르세요.\n",
            "셀 왼쪽 정지 버튼을 누르세요.\n",
            "셀 왼쪽 정지 버튼을 누르세요.\n",
            "셀 왼쪽 정지 버튼을 누르세요.\n",
            "셀 왼쪽 정지 버튼을 누르세요.\n",
            "셀 왼쪽 정지 버튼을 누르세요.\n",
            "셀 왼쪽 정지 버튼을 누르세요.\n",
            "셀 왼쪽 정지 버튼을 누르세요.\n",
            "셀 왼쪽 정지 버튼을 누르세요.\n",
            "셀 왼쪽 정지 버튼을 누르세요.\n",
            "셀 왼쪽 정지 버튼을 누르세요.\n",
            "셀 왼쪽 정지 버튼을 누르세요.\n",
            "셀 왼쪽 정지 버튼을 누르세요.\n",
            "셀 왼쪽 정지 버튼을 누르세요.\n",
            "셀 왼쪽 정지 버튼을 누르세요.\n",
            "셀 왼쪽 정지 버튼을 누르세요.\n",
            "셀 왼쪽 정지 버튼을 누르세요.\n",
            "셀 왼쪽 정지 버튼을 누르세요.\n",
            "셀 왼쪽 정지 버튼을 누르세요.\n",
            "셀 왼쪽 정지 버튼을 누르세요.\n",
            "셀 왼쪽 정지 버튼을 누르세요.\n",
            "셀 왼쪽 정지 버튼을 누르세요.\n",
            "셀 왼쪽 정지 버튼을 누르세요.\n",
            "셀 왼쪽 정지 버튼을 누르세요.\n",
            "셀 왼쪽 정지 버튼을 누르세요.\n",
            "셀 왼쪽 정지 버튼을 누르세요.\n",
            "셀 왼쪽 정지 버튼을 누르세요.\n",
            "셀 왼쪽 정지 버튼을 누르세요.\n",
            "셀 왼쪽 정지 버튼을 누르세요.\n",
            "셀 왼쪽 정지 버튼을 누르세요.\n",
            "셀 왼쪽 정지 버튼을 누르세요.\n",
            "셀 왼쪽 정지 버튼을 누르세요.\n",
            "셀 왼쪽 정지 버튼을 누르세요.\n",
            "셀 왼쪽 정지 버튼을 누르세요.\n",
            "셀 왼쪽 정지 버튼을 누르세요.\n",
            "셀 왼쪽 정지 버튼을 누르세요.\n",
            "셀 왼쪽 정지 버튼을 누르세요.\n",
            "셀 왼쪽 정지 버튼을 누르세요.\n",
            "셀 왼쪽 정지 버튼을 누르세요.\n",
            "셀 왼쪽 정지 버튼을 누르세요.\n",
            "셀 왼쪽 정지 버튼을 누르세요.\n",
            "셀 왼쪽 정지 버튼을 누르세요.\n",
            "셀 왼쪽 정지 버튼을 누르세요.\n",
            "셀 왼쪽 정지 버튼을 누르세요.\n",
            "셀 왼쪽 정지 버튼을 누르세요.\n",
            "셀 왼쪽 정지 버튼을 누르세요.\n",
            "셀 왼쪽 정지 버튼을 누르세요.\n",
            "셀 왼쪽 정지 버튼을 누르세요.\n",
            "셀 왼쪽 정지 버튼을 누르세요.\n",
            "셀 왼쪽 정지 버튼을 누르세요.\n",
            "셀 왼쪽 정지 버튼을 누르세요.\n",
            "셀 왼쪽 정지 버튼을 누르세요.\n",
            "셀 왼쪽 정지 버튼을 누르세요.\n",
            "셀 왼쪽 정지 버튼을 누르세요.\n",
            "셀 왼쪽 정지 버튼을 누르세요.\n",
            "셀 왼쪽 정지 버튼을 누르세요.\n",
            "셀 왼쪽 정지 버튼을 누르세요.\n",
            "셀 왼쪽 정지 버튼을 누르세요.\n",
            "셀 왼쪽 정지 버튼을 누르세요.\n",
            "셀 왼쪽 정지 버튼을 누르세요.\n",
            "셀 왼쪽 정지 버튼을 누르세요.\n",
            "셀 왼쪽 정지 버튼을 누르세요.\n",
            "셀 왼쪽 정지 버튼을 누르세요.\n",
            "셀 왼쪽 정지 버튼을 누르세요.\n",
            "셀 왼쪽 정지 버튼을 누르세요.\n",
            "셀 왼쪽 정지 버튼을 누르세요.\n",
            "셀 왼쪽 정지 버튼을 누르세요.\n",
            "셀 왼쪽 정지 버튼을 누르세요.\n",
            "셀 왼쪽 정지 버튼을 누르세요.\n",
            "셀 왼쪽 정지 버튼을 누르세요.\n",
            "셀 왼쪽 정지 버튼을 누르세요.\n",
            "셀 왼쪽 정지 버튼을 누르세요.\n",
            "셀 왼쪽 정지 버튼을 누르세요.\n",
            "셀 왼쪽 정지 버튼을 누르세요.\n",
            "셀 왼쪽 정지 버튼을 누르세요.\n",
            "셀 왼쪽 정지 버튼을 누르세요.\n",
            "셀 왼쪽 정지 버튼을 누르세요.\n",
            "셀 왼쪽 정지 버튼을 누르세요.\n",
            "셀 왼쪽 정지 버튼을 누르세요.\n",
            "셀 왼쪽 정지 버튼을 누르세요.\n",
            "셀 왼쪽 정지 버튼을 누르세요.\n",
            "셀 왼쪽 정지 버튼을 누르세요.\n",
            "셀 왼쪽 정지 버튼을 누르세요.\n",
            "셀 왼쪽 정지 버튼을 누르세요.\n",
            "셀 왼쪽 정지 버튼을 누르세요.\n",
            "셀 왼쪽 정지 버튼을 누르세요.\n",
            "셀 왼쪽 정지 버튼을 누르세요.\n",
            "셀 왼쪽 정지 버튼을 누르세요.\n",
            "셀 왼쪽 정지 버튼을 누르세요.\n",
            "셀 왼쪽 정지 버튼을 누르세요.\n",
            "셀 왼쪽 정지 버튼을 누르세요.\n",
            "셀 왼쪽 정지 버튼을 누르세요.\n",
            "셀 왼쪽 정지 버튼을 누르세요.\n",
            "셀 왼쪽 정지 버튼을 누르세요.\n",
            "셀 왼쪽 정지 버튼을 누르세요.\n",
            "셀 왼쪽 정지 버튼을 누르세요.\n",
            "셀 왼쪽 정지 버튼을 누르세요.\n",
            "셀 왼쪽 정지 버튼을 누르세요.\n",
            "셀 왼쪽 정지 버튼을 누르세요.\n",
            "셀 왼쪽 정지 버튼을 누르세요.\n",
            "셀 왼쪽 정지 버튼을 누르세요.\n",
            "셀 왼쪽 정지 버튼을 누르세요.\n",
            "셀 왼쪽 정지 버튼을 누르세요.\n",
            "셀 왼쪽 정지 버튼을 누르세요.\n",
            "셀 왼쪽 정지 버튼을 누르세요.\n",
            "셀 왼쪽 정지 버튼을 누르세요.\n",
            "셀 왼쪽 정지 버튼을 누르세요.\n",
            "셀 왼쪽 정지 버튼을 누르세요.\n",
            "셀 왼쪽 정지 버튼을 누르세요.\n",
            "셀 왼쪽 정지 버튼을 누르세요.\n",
            "셀 왼쪽 정지 버튼을 누르세요.\n",
            "셀 왼쪽 정지 버튼을 누르세요.\n",
            "셀 왼쪽 정지 버튼을 누르세요.\n",
            "셀 왼쪽 정지 버튼을 누르세요.\n",
            "셀 왼쪽 정지 버튼을 누르세요.\n",
            "셀 왼쪽 정지 버튼을 누르세요.\n",
            "셀 왼쪽 정지 버튼을 누르세요.\n",
            "셀 왼쪽 정지 버튼을 누르세요.\n",
            "셀 왼쪽 정지 버튼을 누르세요.\n",
            "셀 왼쪽 정지 버튼을 누르세요.\n",
            "셀 왼쪽 정지 버튼을 누르세요.\n",
            "셀 왼쪽 정지 버튼을 누르세요.\n",
            "셀 왼쪽 정지 버튼을 누르세요.\n",
            "셀 왼쪽 정지 버튼을 누르세요.\n",
            "셀 왼쪽 정지 버튼을 누르세요.\n",
            "셀 왼쪽 정지 버튼을 누르세요.\n",
            "셀 왼쪽 정지 버튼을 누르세요.\n",
            "셀 왼쪽 정지 버튼을 누르세요.\n",
            "셀 왼쪽 정지 버튼을 누르세요.\n",
            "셀 왼쪽 정지 버튼을 누르세요.\n",
            "셀 왼쪽 정지 버튼을 누르세요.\n",
            "셀 왼쪽 정지 버튼을 누르세요.\n",
            "셀 왼쪽 정지 버튼을 누르세요.\n",
            "셀 왼쪽 정지 버튼을 누르세요.\n",
            "셀 왼쪽 정지 버튼을 누르세요.\n",
            "셀 왼쪽 정지 버튼을 누르세요.\n",
            "셀 왼쪽 정지 버튼을 누르세요.\n",
            "셀 왼쪽 정지 버튼을 누르세요.\n",
            "셀 왼쪽 정지 버튼을 누르세요.\n",
            "셀 왼쪽 정지 버튼을 누르세요.\n",
            "셀 왼쪽 정지 버튼을 누르세요.\n",
            "셀 왼쪽 정지 버튼을 누르세요.\n",
            "셀 왼쪽 정지 버튼을 누르세요.\n",
            "셀 왼쪽 정지 버튼을 누르세요.\n",
            "셀 왼쪽 정지 버튼을 누르세요.\n",
            "셀 왼쪽 정지 버튼을 누르세요.\n",
            "셀 왼쪽 정지 버튼을 누르세요.\n",
            "셀 왼쪽 정지 버튼을 누르세요.\n",
            "셀 왼쪽 정지 버튼을 누르세요.\n",
            "셀 왼쪽 정지 버튼을 누르세요.\n",
            "셀 왼쪽 정지 버튼을 누르세요.\n",
            "셀 왼쪽 정지 버튼을 누르세요.\n",
            "셀 왼쪽 정지 버튼을 누르세요.\n",
            "셀 왼쪽 정지 버튼을 누르세요.\n",
            "셀 왼쪽 정지 버튼을 누르세요.\n",
            "셀 왼쪽 정지 버튼을 누르세요.\n",
            "셀 왼쪽 정지 버튼을 누르세요.\n",
            "셀 왼쪽 정지 버튼을 누르세요.\n",
            "셀 왼쪽 정지 버튼을 누르세요.\n",
            "셀 왼쪽 정지 버튼을 누르세요.\n",
            "셀 왼쪽 정지 버튼을 누르세요.\n",
            "셀 왼쪽 정지 버튼을 누르세요.\n",
            "셀 왼쪽 정지 버튼을 누르세요.\n",
            "셀 왼쪽 정지 버튼을 누르세요.\n",
            "셀 왼쪽 정지 버튼을 누르세요.\n",
            "셀 왼쪽 정지 버튼을 누르세요.\n",
            "셀 왼쪽 정지 버튼을 누르세요.\n",
            "셀 왼쪽 정지 버튼을 누르세요.\n",
            "셀 왼쪽 정지 버튼을 누르세요.\n",
            "셀 왼쪽 정지 버튼을 누르세요.\n",
            "셀 왼쪽 정지 버튼을 누르세요.\n",
            "셀 왼쪽 정지 버튼을 누르세요.\n",
            "셀 왼쪽 정지 버튼을 누르세요.\n",
            "셀 왼쪽 정지 버튼을 누르세요.\n",
            "셀 왼쪽 정지 버튼을 누르세요.\n",
            "셀 왼쪽 정지 버튼을 누르세요.\n",
            "셀 왼쪽 정지 버튼을 누르세요.\n",
            "셀 왼쪽 정지 버튼을 누르세요.\n",
            "셀 왼쪽 정지 버튼을 누르세요.\n",
            "셀 왼쪽 정지 버튼을 누르세요.\n",
            "셀 왼쪽 정지 버튼을 누르세요.\n",
            "셀 왼쪽 정지 버튼을 누르세요.\n",
            "셀 왼쪽 정지 버튼을 누르세요.\n",
            "셀 왼쪽 정지 버튼을 누르세요.\n",
            "셀 왼쪽 정지 버튼을 누르세요.\n",
            "셀 왼쪽 정지 버튼을 누르세요.\n",
            "셀 왼쪽 정지 버튼을 누르세요.\n",
            "셀 왼쪽 정지 버튼을 누르세요.\n",
            "셀 왼쪽 정지 버튼을 누르세요.\n",
            "셀 왼쪽 정지 버튼을 누르세요.\n",
            "셀 왼쪽 정지 버튼을 누르세요.\n",
            "셀 왼쪽 정지 버튼을 누르세요.\n",
            "셀 왼쪽 정지 버튼을 누르세요.\n",
            "셀 왼쪽 정지 버튼을 누르세요.\n",
            "셀 왼쪽 정지 버튼을 누르세요.\n",
            "셀 왼쪽 정지 버튼을 누르세요.\n",
            "셀 왼쪽 정지 버튼을 누르세요.\n",
            "셀 왼쪽 정지 버튼을 누르세요.\n",
            "셀 왼쪽 정지 버튼을 누르세요.\n",
            "셀 왼쪽 정지 버튼을 누르세요.\n",
            "셀 왼쪽 정지 버튼을 누르세요.\n",
            "셀 왼쪽 정지 버튼을 누르세요.\n",
            "셀 왼쪽 정지 버튼을 누르세요.\n",
            "셀 왼쪽 정지 버튼을 누르세요.\n",
            "셀 왼쪽 정지 버튼을 누르세요.\n",
            "셀 왼쪽 정지 버튼을 누르세요.\n",
            "셀 왼쪽 정지 버튼을 누르세요.\n",
            "셀 왼쪽 정지 버튼을 누르세요.\n",
            "셀 왼쪽 정지 버튼을 누르세요.\n",
            "셀 왼쪽 정지 버튼을 누르세요.\n",
            "셀 왼쪽 정지 버튼을 누르세요.\n",
            "셀 왼쪽 정지 버튼을 누르세요.\n",
            "셀 왼쪽 정지 버튼을 누르세요.\n",
            "셀 왼쪽 정지 버튼을 누르세요.\n",
            "셀 왼쪽 정지 버튼을 누르세요.\n",
            "셀 왼쪽 정지 버튼을 누르세요.\n",
            "셀 왼쪽 정지 버튼을 누르세요.\n",
            "셀 왼쪽 정지 버튼을 누르세요.\n",
            "셀 왼쪽 정지 버튼을 누르세요.\n",
            "셀 왼쪽 정지 버튼을 누르세요.\n",
            "셀 왼쪽 정지 버튼을 누르세요.\n",
            "셀 왼쪽 정지 버튼을 누르세요.\n",
            "셀 왼쪽 정지 버튼을 누르세요.\n",
            "셀 왼쪽 정지 버튼을 누르세요.\n",
            "셀 왼쪽 정지 버튼을 누르세요.\n",
            "셀 왼쪽 정지 버튼을 누르세요.\n",
            "셀 왼쪽 정지 버튼을 누르세요.\n",
            "셀 왼쪽 정지 버튼을 누르세요.\n",
            "셀 왼쪽 정지 버튼을 누르세요.\n",
            "셀 왼쪽 정지 버튼을 누르세요.\n",
            "셀 왼쪽 정지 버튼을 누르세요.\n",
            "셀 왼쪽 정지 버튼을 누르세요.\n",
            "셀 왼쪽 정지 버튼을 누르세요.\n",
            "셀 왼쪽 정지 버튼을 누르세요.\n",
            "셀 왼쪽 정지 버튼을 누르세요.\n",
            "셀 왼쪽 정지 버튼을 누르세요.\n",
            "셀 왼쪽 정지 버튼을 누르세요.\n",
            "셀 왼쪽 정지 버튼을 누르세요.\n",
            "셀 왼쪽 정지 버튼을 누르세요.\n",
            "셀 왼쪽 정지 버튼을 누르세요.\n",
            "셀 왼쪽 정지 버튼을 누르세요.\n",
            "셀 왼쪽 정지 버튼을 누르세요.\n",
            "셀 왼쪽 정지 버튼을 누르세요.\n",
            "셀 왼쪽 정지 버튼을 누르세요.\n",
            "셀 왼쪽 정지 버튼을 누르세요.\n",
            "셀 왼쪽 정지 버튼을 누르세요.\n",
            "셀 왼쪽 정지 버튼을 누르세요.\n",
            "셀 왼쪽 정지 버튼을 누르세요.\n",
            "셀 왼쪽 정지 버튼을 누르세요.\n",
            "셀 왼쪽 정지 버튼을 누르세요.\n",
            "셀 왼쪽 정지 버튼을 누르세요.\n",
            "셀 왼쪽 정지 버튼을 누르세요.\n",
            "셀 왼쪽 정지 버튼을 누르세요.\n",
            "셀 왼쪽 정지 버튼을 누르세요.\n",
            "셀 왼쪽 정지 버튼을 누르세요.\n",
            "셀 왼쪽 정지 버튼을 누르세요.\n",
            "셀 왼쪽 정지 버튼을 누르세요.\n",
            "셀 왼쪽 정지 버튼을 누르세요.\n",
            "셀 왼쪽 정지 버튼을 누르세요.\n",
            "셀 왼쪽 정지 버튼을 누르세요.\n",
            "셀 왼쪽 정지 버튼을 누르세요.\n",
            "셀 왼쪽 정지 버튼을 누르세요.\n",
            "셀 왼쪽 정지 버튼을 누르세요.\n",
            "셀 왼쪽 정지 버튼을 누르세요.\n",
            "셀 왼쪽 정지 버튼을 누르세요.\n",
            "셀 왼쪽 정지 버튼을 누르세요.\n",
            "셀 왼쪽 정지 버튼을 누르세요.\n",
            "셀 왼쪽 정지 버튼을 누르세요.\n",
            "셀 왼쪽 정지 버튼을 누르세요.\n",
            "셀 왼쪽 정지 버튼을 누르세요.\n",
            "셀 왼쪽 정지 버튼을 누르세요.\n",
            "셀 왼쪽 정지 버튼을 누르세요.\n",
            "셀 왼쪽 정지 버튼을 누르세요.\n",
            "셀 왼쪽 정지 버튼을 누르세요.\n",
            "셀 왼쪽 정지 버튼을 누르세요.\n",
            "셀 왼쪽 정지 버튼을 누르세요.\n",
            "셀 왼쪽 정지 버튼을 누르세요.\n",
            "셀 왼쪽 정지 버튼을 누르세요.\n",
            "셀 왼쪽 정지 버튼을 누르세요.\n",
            "셀 왼쪽 정지 버튼을 누르세요.\n",
            "셀 왼쪽 정지 버튼을 누르세요.\n",
            "셀 왼쪽 정지 버튼을 누르세요.\n",
            "셀 왼쪽 정지 버튼을 누르세요.\n",
            "셀 왼쪽 정지 버튼을 누르세요.\n",
            "셀 왼쪽 정지 버튼을 누르세요.\n",
            "셀 왼쪽 정지 버튼을 누르세요.\n",
            "셀 왼쪽 정지 버튼을 누르세요.\n",
            "셀 왼쪽 정지 버튼을 누르세요.\n",
            "셀 왼쪽 정지 버튼을 누르세요.\n",
            "셀 왼쪽 정지 버튼을 누르세요.\n",
            "셀 왼쪽 정지 버튼을 누르세요.\n",
            "셀 왼쪽 정지 버튼을 누르세요.\n",
            "셀 왼쪽 정지 버튼을 누르세요.\n",
            "셀 왼쪽 정지 버튼을 누르세요.\n",
            "셀 왼쪽 정지 버튼을 누르세요.\n",
            "셀 왼쪽 정지 버튼을 누르세요.\n",
            "셀 왼쪽 정지 버튼을 누르세요.\n",
            "셀 왼쪽 정지 버튼을 누르세요.\n",
            "셀 왼쪽 정지 버튼을 누르세요.\n",
            "셀 왼쪽 정지 버튼을 누르세요.\n",
            "셀 왼쪽 정지 버튼을 누르세요.\n",
            "셀 왼쪽 정지 버튼을 누르세요.\n",
            "셀 왼쪽 정지 버튼을 누르세요.\n",
            "셀 왼쪽 정지 버튼을 누르세요.\n",
            "셀 왼쪽 정지 버튼을 누르세요.\n",
            "셀 왼쪽 정지 버튼을 누르세요.\n",
            "셀 왼쪽 정지 버튼을 누르세요.\n",
            "셀 왼쪽 정지 버튼을 누르세요.\n",
            "셀 왼쪽 정지 버튼을 누르세요.\n",
            "셀 왼쪽 정지 버튼을 누르세요.\n",
            "셀 왼쪽 정지 버튼을 누르세요.\n",
            "셀 왼쪽 정지 버튼을 누르세요.\n",
            "셀 왼쪽 정지 버튼을 누르세요.\n",
            "셀 왼쪽 정지 버튼을 누르세요.\n",
            "셀 왼쪽 정지 버튼을 누르세요.\n",
            "셀 왼쪽 정지 버튼을 누르세요.\n",
            "셀 왼쪽 정지 버튼을 누르세요.\n",
            "셀 왼쪽 정지 버튼을 누르세요.\n",
            "셀 왼쪽 정지 버튼을 누르세요.\n",
            "셀 왼쪽 정지 버튼을 누르세요.\n",
            "셀 왼쪽 정지 버튼을 누르세요.\n",
            "셀 왼쪽 정지 버튼을 누르세요.\n",
            "셀 왼쪽 정지 버튼을 누르세요.\n",
            "셀 왼쪽 정지 버튼을 누르세요.\n",
            "셀 왼쪽 정지 버튼을 누르세요.\n",
            "셀 왼쪽 정지 버튼을 누르세요.\n",
            "셀 왼쪽 정지 버튼을 누르세요.\n",
            "셀 왼쪽 정지 버튼을 누르세요.\n",
            "셀 왼쪽 정지 버튼을 누르세요.\n",
            "셀 왼쪽 정지 버튼을 누르세요.\n",
            "셀 왼쪽 정지 버튼을 누르세요.\n",
            "셀 왼쪽 정지 버튼을 누르세요.\n",
            "셀 왼쪽 정지 버튼을 누르세요.\n",
            "셀 왼쪽 정지 버튼을 누르세요.\n",
            "셀 왼쪽 정지 버튼을 누르세요.\n",
            "셀 왼쪽 정지 버튼을 누르세요.\n",
            "셀 왼쪽 정지 버튼을 누르세요.\n",
            "셀 왼쪽 정지 버튼을 누르세요.\n",
            "셀 왼쪽 정지 버튼을 누르세요.\n",
            "셀 왼쪽 정지 버튼을 누르세요.\n",
            "셀 왼쪽 정지 버튼을 누르세요.\n",
            "셀 왼쪽 정지 버튼을 누르세요.\n",
            "셀 왼쪽 정지 버튼을 누르세요.\n",
            "셀 왼쪽 정지 버튼을 누르세요.\n",
            "셀 왼쪽 정지 버튼을 누르세요.\n",
            "셀 왼쪽 정지 버튼을 누르세요.\n",
            "셀 왼쪽 정지 버튼을 누르세요.\n",
            "셀 왼쪽 정지 버튼을 누르세요.\n",
            "셀 왼쪽 정지 버튼을 누르세요.\n",
            "셀 왼쪽 정지 버튼을 누르세요.\n",
            "셀 왼쪽 정지 버튼을 누르세요.\n",
            "셀 왼쪽 정지 버튼을 누르세요.\n",
            "셀 왼쪽 정지 버튼을 누르세요.\n",
            "셀 왼쪽 정지 버튼을 누르세요.\n",
            "셀 왼쪽 정지 버튼을 누르세요.\n",
            "셀 왼쪽 정지 버튼을 누르세요.\n",
            "셀 왼쪽 정지 버튼을 누르세요.\n",
            "셀 왼쪽 정지 버튼을 누르세요.\n",
            "셀 왼쪽 정지 버튼을 누르세요.\n",
            "셀 왼쪽 정지 버튼을 누르세요.\n",
            "셀 왼쪽 정지 버튼을 누르세요.\n",
            "셀 왼쪽 정지 버튼을 누르세요.\n",
            "셀 왼쪽 정지 버튼을 누르세요.\n",
            "셀 왼쪽 정지 버튼을 누르세요.\n",
            "셀 왼쪽 정지 버튼을 누르세요.\n",
            "셀 왼쪽 정지 버튼을 누르세요.\n",
            "셀 왼쪽 정지 버튼을 누르세요.\n",
            "셀 왼쪽 정지 버튼을 누르세요.\n",
            "셀 왼쪽 정지 버튼을 누르세요.\n",
            "셀 왼쪽 정지 버튼을 누르세요.\n",
            "셀 왼쪽 정지 버튼을 누르세요.\n",
            "셀 왼쪽 정지 버튼을 누르세요.\n",
            "셀 왼쪽 정지 버튼을 누르세요.\n",
            "셀 왼쪽 정지 버튼을 누르세요.\n",
            "셀 왼쪽 정지 버튼을 누르세요.\n",
            "셀 왼쪽 정지 버튼을 누르세요.\n",
            "셀 왼쪽 정지 버튼을 누르세요.\n",
            "셀 왼쪽 정지 버튼을 누르세요.\n",
            "셀 왼쪽 정지 버튼을 누르세요.\n",
            "셀 왼쪽 정지 버튼을 누르세요.\n",
            "셀 왼쪽 정지 버튼을 누르세요.\n",
            "셀 왼쪽 정지 버튼을 누르세요.\n",
            "셀 왼쪽 정지 버튼을 누르세요.\n",
            "셀 왼쪽 정지 버튼을 누르세요.\n",
            "셀 왼쪽 정지 버튼을 누르세요.\n",
            "셀 왼쪽 정지 버튼을 누르세요.\n",
            "셀 왼쪽 정지 버튼을 누르세요.\n",
            "셀 왼쪽 정지 버튼을 누르세요.\n",
            "셀 왼쪽 정지 버튼을 누르세요.\n",
            "셀 왼쪽 정지 버튼을 누르세요.\n",
            "셀 왼쪽 정지 버튼을 누르세요.\n",
            "셀 왼쪽 정지 버튼을 누르세요.\n",
            "셀 왼쪽 정지 버튼을 누르세요.\n",
            "셀 왼쪽 정지 버튼을 누르세요.\n",
            "셀 왼쪽 정지 버튼을 누르세요.\n",
            "셀 왼쪽 정지 버튼을 누르세요.\n",
            "셀 왼쪽 정지 버튼을 누르세요.\n",
            "셀 왼쪽 정지 버튼을 누르세요.\n",
            "셀 왼쪽 정지 버튼을 누르세요.\n",
            "셀 왼쪽 정지 버튼을 누르세요.\n",
            "셀 왼쪽 정지 버튼을 누르세요.\n",
            "셀 왼쪽 정지 버튼을 누르세요.\n",
            "셀 왼쪽 정지 버튼을 누르세요.\n",
            "셀 왼쪽 정지 버튼을 누르세요.\n",
            "셀 왼쪽 정지 버튼을 누르세요.\n",
            "셀 왼쪽 정지 버튼을 누르세요.\n",
            "셀 왼쪽 정지 버튼을 누르세요.\n",
            "셀 왼쪽 정지 버튼을 누르세요.\n",
            "셀 왼쪽 정지 버튼을 누르세요.\n",
            "셀 왼쪽 정지 버튼을 누르세요.\n",
            "셀 왼쪽 정지 버튼을 누르세요.\n",
            "셀 왼쪽 정지 버튼을 누르세요.\n",
            "셀 왼쪽 정지 버튼을 누르세요.\n",
            "셀 왼쪽 정지 버튼을 누르세요.\n",
            "셀 왼쪽 정지 버튼을 누르세요.\n",
            "셀 왼쪽 정지 버튼을 누르세요.\n",
            "셀 왼쪽 정지 버튼을 누르세요.\n",
            "셀 왼쪽 정지 버튼을 누르세요.\n",
            "셀 왼쪽 정지 버튼을 누르세요.\n",
            "셀 왼쪽 정지 버튼을 누르세요.\n",
            "셀 왼쪽 정지 버튼을 누르세요.\n",
            "셀 왼쪽 정지 버튼을 누르세요.\n",
            "셀 왼쪽 정지 버튼을 누르세요.\n",
            "셀 왼쪽 정지 버튼을 누르세요.\n",
            "셀 왼쪽 정지 버튼을 누르세요.\n",
            "셀 왼쪽 정지 버튼을 누르세요.\n",
            "셀 왼쪽 정지 버튼을 누르세요.\n",
            "셀 왼쪽 정지 버튼을 누르세요.\n",
            "셀 왼쪽 정지 버튼을 누르세요.\n",
            "셀 왼쪽 정지 버튼을 누르세요.\n",
            "셀 왼쪽 정지 버튼을 누르세요.\n",
            "셀 왼쪽 정지 버튼을 누르세요.\n",
            "셀 왼쪽 정지 버튼을 누르세요.\n",
            "셀 왼쪽 정지 버튼을 누르세요.\n",
            "셀 왼쪽 정지 버튼을 누르세요.\n",
            "셀 왼쪽 정지 버튼을 누르세요.\n",
            "셀 왼쪽 정지 버튼을 누르세요.\n",
            "셀 왼쪽 정지 버튼을 누르세요.\n",
            "셀 왼쪽 정지 버튼을 누르세요.\n",
            "셀 왼쪽 정지 버튼을 누르세요.\n",
            "셀 왼쪽 정지 버튼을 누르세요.\n",
            "셀 왼쪽 정지 버튼을 누르세요.\n",
            "셀 왼쪽 정지 버튼을 누르세요.\n",
            "셀 왼쪽 정지 버튼을 누르세요.\n",
            "셀 왼쪽 정지 버튼을 누르세요.\n",
            "셀 왼쪽 정지 버튼을 누르세요.\n",
            "셀 왼쪽 정지 버튼을 누르세요.\n",
            "셀 왼쪽 정지 버튼을 누르세요.\n",
            "셀 왼쪽 정지 버튼을 누르세요.\n",
            "셀 왼쪽 정지 버튼을 누르세요.\n",
            "셀 왼쪽 정지 버튼을 누르세요.\n",
            "셀 왼쪽 정지 버튼을 누르세요.\n",
            "셀 왼쪽 정지 버튼을 누르세요.\n",
            "셀 왼쪽 정지 버튼을 누르세요.\n",
            "셀 왼쪽 정지 버튼을 누르세요.\n",
            "셀 왼쪽 정지 버튼을 누르세요.\n",
            "셀 왼쪽 정지 버튼을 누르세요.\n",
            "셀 왼쪽 정지 버튼을 누르세요.\n",
            "셀 왼쪽 정지 버튼을 누르세요.\n",
            "셀 왼쪽 정지 버튼을 누르세요.\n",
            "셀 왼쪽 정지 버튼을 누르세요.\n",
            "셀 왼쪽 정지 버튼을 누르세요.\n",
            "셀 왼쪽 정지 버튼을 누르세요.\n",
            "셀 왼쪽 정지 버튼을 누르세요.\n",
            "셀 왼쪽 정지 버튼을 누르세요.\n",
            "셀 왼쪽 정지 버튼을 누르세요.\n",
            "셀 왼쪽 정지 버튼을 누르세요.\n",
            "셀 왼쪽 정지 버튼을 누르세요.\n",
            "셀 왼쪽 정지 버튼을 누르세요.\n",
            "셀 왼쪽 정지 버튼을 누르세요.\n",
            "셀 왼쪽 정지 버튼을 누르세요.\n",
            "셀 왼쪽 정지 버튼을 누르세요.\n",
            "셀 왼쪽 정지 버튼을 누르세요.\n",
            "셀 왼쪽 정지 버튼을 누르세요.\n",
            "셀 왼쪽 정지 버튼을 누르세요.\n",
            "셀 왼쪽 정지 버튼을 누르세요.\n",
            "셀 왼쪽 정지 버튼을 누르세요.\n",
            "셀 왼쪽 정지 버튼을 누르세요.\n",
            "셀 왼쪽 정지 버튼을 누르세요.\n",
            "셀 왼쪽 정지 버튼을 누르세요.\n",
            "셀 왼쪽 정지 버튼을 누르세요.\n",
            "셀 왼쪽 정지 버튼을 누르세요.\n",
            "셀 왼쪽 정지 버튼을 누르세요.\n",
            "셀 왼쪽 정지 버튼을 누르세요.\n",
            "셀 왼쪽 정지 버튼을 누르세요.\n",
            "셀 왼쪽 정지 버튼을 누르세요.\n",
            "셀 왼쪽 정지 버튼을 누르세요.\n",
            "셀 왼쪽 정지 버튼을 누르세요.\n",
            "셀 왼쪽 정지 버튼을 누르세요.\n",
            "셀 왼쪽 정지 버튼을 누르세요.\n",
            "셀 왼쪽 정지 버튼을 누르세요.\n",
            "셀 왼쪽 정지 버튼을 누르세요.\n",
            "셀 왼쪽 정지 버튼을 누르세요.\n",
            "셀 왼쪽 정지 버튼을 누르세요.\n",
            "셀 왼쪽 정지 버튼을 누르세요.\n",
            "셀 왼쪽 정지 버튼을 누르세요.\n",
            "셀 왼쪽 정지 버튼을 누르세요.\n",
            "셀 왼쪽 정지 버튼을 누르세요.\n",
            "셀 왼쪽 정지 버튼을 누르세요.\n",
            "셀 왼쪽 정지 버튼을 누르세요.\n",
            "셀 왼쪽 정지 버튼을 누르세요.\n",
            "셀 왼쪽 정지 버튼을 누르세요.\n",
            "셀 왼쪽 정지 버튼을 누르세요.\n",
            "셀 왼쪽 정지 버튼을 누르세요.\n",
            "셀 왼쪽 정지 버튼을 누르세요.\n",
            "셀 왼쪽 정지 버튼을 누르세요.\n",
            "셀 왼쪽 정지 버튼을 누르세요.\n",
            "셀 왼쪽 정지 버튼을 누르세요.\n",
            "셀 왼쪽 정지 버튼을 누르세요.\n",
            "셀 왼쪽 정지 버튼을 누르세요.\n",
            "셀 왼쪽 정지 버튼을 누르세요.\n",
            "셀 왼쪽 정지 버튼을 누르세요.\n",
            "셀 왼쪽 정지 버튼을 누르세요.\n",
            "셀 왼쪽 정지 버튼을 누르세요.\n",
            "셀 왼쪽 정지 버튼을 누르세요.\n",
            "셀 왼쪽 정지 버튼을 누르세요.\n",
            "셀 왼쪽 정지 버튼을 누르세요.\n",
            "셀 왼쪽 정지 버튼을 누르세요.\n",
            "셀 왼쪽 정지 버튼을 누르세요.\n",
            "셀 왼쪽 정지 버튼을 누르세요.\n",
            "셀 왼쪽 정지 버튼을 누르세요.\n",
            "셀 왼쪽 정지 버튼을 누르세요.\n",
            "셀 왼쪽 정지 버튼을 누르세요.\n",
            "셀 왼쪽 정지 버튼을 누르세요.\n",
            "셀 왼쪽 정지 버튼을 누르세요.\n",
            "셀 왼쪽 정지 버튼을 누르세요.\n",
            "셀 왼쪽 정지 버튼을 누르세요.\n",
            "셀 왼쪽 정지 버튼을 누르세요.\n",
            "셀 왼쪽 정지 버튼을 누르세요.\n",
            "셀 왼쪽 정지 버튼을 누르세요.\n",
            "셀 왼쪽 정지 버튼을 누르세요.\n",
            "셀 왼쪽 정지 버튼을 누르세요.\n",
            "셀 왼쪽 정지 버튼을 누르세요.\n",
            "셀 왼쪽 정지 버튼을 누르세요.\n",
            "셀 왼쪽 정지 버튼을 누르세요.\n",
            "셀 왼쪽 정지 버튼을 누르세요.\n",
            "셀 왼쪽 정지 버튼을 누르세요.\n",
            "셀 왼쪽 정지 버튼을 누르세요.\n",
            "셀 왼쪽 정지 버튼을 누르세요.\n",
            "셀 왼쪽 정지 버튼을 누르세요.\n",
            "셀 왼쪽 정지 버튼을 누르세요.\n",
            "셀 왼쪽 정지 버튼을 누르세요.\n",
            "셀 왼쪽 정지 버튼을 누르세요.\n",
            "셀 왼쪽 정지 버튼을 누르세요.\n",
            "셀 왼쪽 정지 버튼을 누르세요.\n",
            "셀 왼쪽 정지 버튼을 누르세요.\n",
            "셀 왼쪽 정지 버튼을 누르세요.\n",
            "셀 왼쪽 정지 버튼을 누르세요.\n",
            "셀 왼쪽 정지 버튼을 누르세요.\n",
            "셀 왼쪽 정지 버튼을 누르세요.\n",
            "셀 왼쪽 정지 버튼을 누르세요.\n",
            "셀 왼쪽 정지 버튼을 누르세요.\n",
            "셀 왼쪽 정지 버튼을 누르세요.\n",
            "셀 왼쪽 정지 버튼을 누르세요.\n",
            "셀 왼쪽 정지 버튼을 누르세요.\n",
            "셀 왼쪽 정지 버튼을 누르세요.\n",
            "셀 왼쪽 정지 버튼을 누르세요.\n",
            "셀 왼쪽 정지 버튼을 누르세요.\n",
            "셀 왼쪽 정지 버튼을 누르세요.\n",
            "셀 왼쪽 정지 버튼을 누르세요.\n",
            "셀 왼쪽 정지 버튼을 누르세요.\n",
            "셀 왼쪽 정지 버튼을 누르세요.\n",
            "셀 왼쪽 정지 버튼을 누르세요.\n",
            "셀 왼쪽 정지 버튼을 누르세요.\n",
            "셀 왼쪽 정지 버튼을 누르세요.\n",
            "셀 왼쪽 정지 버튼을 누르세요.\n",
            "셀 왼쪽 정지 버튼을 누르세요.\n",
            "셀 왼쪽 정지 버튼을 누르세요.\n",
            "셀 왼쪽 정지 버튼을 누르세요.\n",
            "셀 왼쪽 정지 버튼을 누르세요.\n",
            "셀 왼쪽 정지 버튼을 누르세요.\n",
            "셀 왼쪽 정지 버튼을 누르세요.\n",
            "셀 왼쪽 정지 버튼을 누르세요.\n",
            "셀 왼쪽 정지 버튼을 누르세요.\n",
            "셀 왼쪽 정지 버튼을 누르세요.\n",
            "셀 왼쪽 정지 버튼을 누르세요.\n",
            "셀 왼쪽 정지 버튼을 누르세요.\n",
            "셀 왼쪽 정지 버튼을 누르세요.\n",
            "셀 왼쪽 정지 버튼을 누르세요.\n",
            "셀 왼쪽 정지 버튼을 누르세요.\n",
            "셀 왼쪽 정지 버튼을 누르세요.\n",
            "셀 왼쪽 정지 버튼을 누르세요.\n",
            "셀 왼쪽 정지 버튼을 누르세요.\n",
            "셀 왼쪽 정지 버튼을 누르세요.\n",
            "셀 왼쪽 정지 버튼을 누르세요.\n",
            "셀 왼쪽 정지 버튼을 누르세요.\n",
            "셀 왼쪽 정지 버튼을 누르세요.\n",
            "셀 왼쪽 정지 버튼을 누르세요.\n",
            "셀 왼쪽 정지 버튼을 누르세요.\n",
            "셀 왼쪽 정지 버튼을 누르세요.\n",
            "셀 왼쪽 정지 버튼을 누르세요.\n",
            "셀 왼쪽 정지 버튼을 누르세요.\n",
            "셀 왼쪽 정지 버튼을 누르세요.\n",
            "셀 왼쪽 정지 버튼을 누르세요.\n",
            "셀 왼쪽 정지 버튼을 누르세요.\n",
            "셀 왼쪽 정지 버튼을 누르세요.\n",
            "셀 왼쪽 정지 버튼을 누르세요.\n",
            "셀 왼쪽 정지 버튼을 누르세요.\n",
            "셀 왼쪽 정지 버튼을 누르세요.\n",
            "셀 왼쪽 정지 버튼을 누르세요.\n",
            "셀 왼쪽 정지 버튼을 누르세요.\n",
            "셀 왼쪽 정지 버튼을 누르세요.\n",
            "셀 왼쪽 정지 버튼을 누르세요.\n",
            "셀 왼쪽 정지 버튼을 누르세요.\n",
            "셀 왼쪽 정지 버튼을 누르세요.\n",
            "셀 왼쪽 정지 버튼을 누르세요.\n",
            "셀 왼쪽 정지 버튼을 누르세요.\n",
            "셀 왼쪽 정지 버튼을 누르세요.\n",
            "셀 왼쪽 정지 버튼을 누르세요.\n",
            "셀 왼쪽 정지 버튼을 누르세요.\n",
            "셀 왼쪽 정지 버튼을 누르세요.\n",
            "셀 왼쪽 정지 버튼을 누르세요.\n",
            "셀 왼쪽 정지 버튼을 누르세요.\n",
            "셀 왼쪽 정지 버튼을 누르세요.\n",
            "셀 왼쪽 정지 버튼을 누르세요.\n",
            "셀 왼쪽 정지 버튼을 누르세요.\n",
            "셀 왼쪽 정지 버튼을 누르세요.\n",
            "셀 왼쪽 정지 버튼을 누르세요.\n",
            "셀 왼쪽 정지 버튼을 누르세요.\n",
            "셀 왼쪽 정지 버튼을 누르세요.\n",
            "셀 왼쪽 정지 버튼을 누르세요.\n",
            "셀 왼쪽 정지 버튼을 누르세요.\n",
            "셀 왼쪽 정지 버튼을 누르세요.\n",
            "셀 왼쪽 정지 버튼을 누르세요.\n",
            "셀 왼쪽 정지 버튼을 누르세요.\n",
            "셀 왼쪽 정지 버튼을 누르세요.\n",
            "셀 왼쪽 정지 버튼을 누르세요.\n",
            "셀 왼쪽 정지 버튼을 누르세요.\n",
            "셀 왼쪽 정지 버튼을 누르세요.\n",
            "셀 왼쪽 정지 버튼을 누르세요.\n",
            "셀 왼쪽 정지 버튼을 누르세요.\n",
            "셀 왼쪽 정지 버튼을 누르세요.\n",
            "셀 왼쪽 정지 버튼을 누르세요.\n",
            "셀 왼쪽 정지 버튼을 누르세요.\n",
            "셀 왼쪽 정지 버튼을 누르세요.\n",
            "셀 왼쪽 정지 버튼을 누르세요.\n",
            "셀 왼쪽 정지 버튼을 누르세요.\n",
            "셀 왼쪽 정지 버튼을 누르세요.\n",
            "셀 왼쪽 정지 버튼을 누르세요.\n",
            "셀 왼쪽 정지 버튼을 누르세요.\n",
            "셀 왼쪽 정지 버튼을 누르세요.\n",
            "셀 왼쪽 정지 버튼을 누르세요.\n",
            "셀 왼쪽 정지 버튼을 누르세요.\n",
            "셀 왼쪽 정지 버튼을 누르세요.\n",
            "셀 왼쪽 정지 버튼을 누르세요.\n",
            "셀 왼쪽 정지 버튼을 누르세요.\n",
            "셀 왼쪽 정지 버튼을 누르세요.\n",
            "셀 왼쪽 정지 버튼을 누르세요.\n",
            "셀 왼쪽 정지 버튼을 누르세요.\n",
            "셀 왼쪽 정지 버튼을 누르세요.\n",
            "셀 왼쪽 정지 버튼을 누르세요.\n",
            "셀 왼쪽 정지 버튼을 누르세요.\n",
            "셀 왼쪽 정지 버튼을 누르세요.\n",
            "셀 왼쪽 정지 버튼을 누르세요.\n",
            "셀 왼쪽 정지 버튼을 누르세요.\n",
            "셀 왼쪽 정지 버튼을 누르세요.\n",
            "셀 왼쪽 정지 버튼을 누르세요.\n",
            "셀 왼쪽 정지 버튼을 누르세요.\n",
            "셀 왼쪽 정지 버튼을 누르세요.\n",
            "셀 왼쪽 정지 버튼을 누르세요.\n",
            "셀 왼쪽 정지 버튼을 누르세요.\n",
            "셀 왼쪽 정지 버튼을 누르세요.\n",
            "셀 왼쪽 정지 버튼을 누르세요.\n",
            "셀 왼쪽 정지 버튼을 누르세요.\n",
            "셀 왼쪽 정지 버튼을 누르세요.\n",
            "셀 왼쪽 정지 버튼을 누르세요.\n",
            "셀 왼쪽 정지 버튼을 누르세요.\n",
            "셀 왼쪽 정지 버튼을 누르세요.\n",
            "셀 왼쪽 정지 버튼을 누르세요.\n",
            "셀 왼쪽 정지 버튼을 누르세요.\n",
            "셀 왼쪽 정지 버튼을 누르세요.\n",
            "셀 왼쪽 정지 버튼을 누르세요.\n",
            "셀 왼쪽 정지 버튼을 누르세요.\n",
            "셀 왼쪽 정지 버튼을 누르세요.\n",
            "셀 왼쪽 정지 버튼을 누르세요.\n",
            "셀 왼쪽 정지 버튼을 누르세요.\n",
            "셀 왼쪽 정지 버튼을 누르세요.\n",
            "셀 왼쪽 정지 버튼을 누르세요.\n",
            "셀 왼쪽 정지 버튼을 누르세요.\n",
            "셀 왼쪽 정지 버튼을 누르세요.\n",
            "셀 왼쪽 정지 버튼을 누르세요.\n",
            "셀 왼쪽 정지 버튼을 누르세요.\n",
            "셀 왼쪽 정지 버튼을 누르세요.\n",
            "셀 왼쪽 정지 버튼을 누르세요.\n",
            "셀 왼쪽 정지 버튼을 누르세요.\n",
            "셀 왼쪽 정지 버튼을 누르세요.\n",
            "셀 왼쪽 정지 버튼을 누르세요.\n",
            "셀 왼쪽 정지 버튼을 누르세요.\n",
            "셀 왼쪽 정지 버튼을 누르세요.\n",
            "셀 왼쪽 정지 버튼을 누르세요.\n",
            "셀 왼쪽 정지 버튼을 누르세요.\n",
            "셀 왼쪽 정지 버튼을 누르세요.\n",
            "셀 왼쪽 정지 버튼을 누르세요.\n",
            "셀 왼쪽 정지 버튼을 누르세요.\n",
            "셀 왼쪽 정지 버튼을 누르세요.\n",
            "셀 왼쪽 정지 버튼을 누르세요.\n",
            "셀 왼쪽 정지 버튼을 누르세요.\n",
            "셀 왼쪽 정지 버튼을 누르세요.\n",
            "셀 왼쪽 정지 버튼을 누르세요.\n",
            "셀 왼쪽 정지 버튼을 누르세요.\n",
            "셀 왼쪽 정지 버튼을 누르세요.\n",
            "셀 왼쪽 정지 버튼을 누르세요.\n",
            "셀 왼쪽 정지 버튼을 누르세요.\n",
            "셀 왼쪽 정지 버튼을 누르세요.\n",
            "셀 왼쪽 정지 버튼을 누르세요.\n",
            "셀 왼쪽 정지 버튼을 누르세요.\n",
            "셀 왼쪽 정지 버튼을 누르세요.\n",
            "셀 왼쪽 정지 버튼을 누르세요.\n",
            "셀 왼쪽 정지 버튼을 누르세요.\n",
            "셀 왼쪽 정지 버튼을 누르세요.\n",
            "셀 왼쪽 정지 버튼을 누르세요.\n",
            "셀 왼쪽 정지 버튼을 누르세요.\n",
            "셀 왼쪽 정지 버튼을 누르세요.\n",
            "셀 왼쪽 정지 버튼을 누르세요.\n",
            "셀 왼쪽 정지 버튼을 누르세요.\n",
            "셀 왼쪽 정지 버튼을 누르세요.\n",
            "셀 왼쪽 정지 버튼을 누르세요.\n",
            "셀 왼쪽 정지 버튼을 누르세요.\n",
            "셀 왼쪽 정지 버튼을 누르세요.\n",
            "셀 왼쪽 정지 버튼을 누르세요.\n",
            "셀 왼쪽 정지 버튼을 누르세요.\n",
            "셀 왼쪽 정지 버튼을 누르세요.\n",
            "셀 왼쪽 정지 버튼을 누르세요.\n",
            "셀 왼쪽 정지 버튼을 누르세요.\n",
            "셀 왼쪽 정지 버튼을 누르세요.\n",
            "셀 왼쪽 정지 버튼을 누르세요.\n",
            "셀 왼쪽 정지 버튼을 누르세요.\n",
            "셀 왼쪽 정지 버튼을 누르세요.\n",
            "셀 왼쪽 정지 버튼을 누르세요.\n",
            "셀 왼쪽 정지 버튼을 누르세요.\n",
            "셀 왼쪽 정지 버튼을 누르세요.\n",
            "셀 왼쪽 정지 버튼을 누르세요.\n",
            "셀 왼쪽 정지 버튼을 누르세요.\n",
            "셀 왼쪽 정지 버튼을 누르세요.\n",
            "셀 왼쪽 정지 버튼을 누르세요.\n",
            "셀 왼쪽 정지 버튼을 누르세요.\n",
            "셀 왼쪽 정지 버튼을 누르세요.\n",
            "셀 왼쪽 정지 버튼을 누르세요.\n",
            "셀 왼쪽 정지 버튼을 누르세요.\n",
            "셀 왼쪽 정지 버튼을 누르세요.\n",
            "셀 왼쪽 정지 버튼을 누르세요.\n",
            "셀 왼쪽 정지 버튼을 누르세요.\n",
            "셀 왼쪽 정지 버튼을 누르세요.\n",
            "셀 왼쪽 정지 버튼을 누르세요.\n",
            "셀 왼쪽 정지 버튼을 누르세요.\n",
            "셀 왼쪽 정지 버튼을 누르세요.\n",
            "셀 왼쪽 정지 버튼을 누르세요.\n",
            "셀 왼쪽 정지 버튼을 누르세요.\n",
            "셀 왼쪽 정지 버튼을 누르세요.\n",
            "셀 왼쪽 정지 버튼을 누르세요.\n",
            "셀 왼쪽 정지 버튼을 누르세요.\n",
            "셀 왼쪽 정지 버튼을 누르세요.\n",
            "셀 왼쪽 정지 버튼을 누르세요.\n",
            "셀 왼쪽 정지 버튼을 누르세요.\n",
            "셀 왼쪽 정지 버튼을 누르세요.\n",
            "셀 왼쪽 정지 버튼을 누르세요.\n",
            "셀 왼쪽 정지 버튼을 누르세요.\n",
            "셀 왼쪽 정지 버튼을 누르세요.\n",
            "셀 왼쪽 정지 버튼을 누르세요.\n",
            "셀 왼쪽 정지 버튼을 누르세요.\n",
            "셀 왼쪽 정지 버튼을 누르세요.\n",
            "셀 왼쪽 정지 버튼을 누르세요.\n",
            "셀 왼쪽 정지 버튼을 누르세요.\n",
            "셀 왼쪽 정지 버튼을 누르세요.\n",
            "셀 왼쪽 정지 버튼을 누르세요.\n",
            "셀 왼쪽 정지 버튼을 누르세요.\n",
            "셀 왼쪽 정지 버튼을 누르세요.\n",
            "셀 왼쪽 정지 버튼을 누르세요.\n",
            "셀 왼쪽 정지 버튼을 누르세요.\n",
            "셀 왼쪽 정지 버튼을 누르세요.\n",
            "셀 왼쪽 정지 버튼을 누르세요.\n",
            "셀 왼쪽 정지 버튼을 누르세요.\n",
            "셀 왼쪽 정지 버튼을 누르세요.\n",
            "셀 왼쪽 정지 버튼을 누르세요.\n",
            "셀 왼쪽 정지 버튼을 누르세요.\n",
            "셀 왼쪽 정지 버튼을 누르세요.\n",
            "셀 왼쪽 정지 버튼을 누르세요.\n",
            "셀 왼쪽 정지 버튼을 누르세요.\n",
            "셀 왼쪽 정지 버튼을 누르세요.\n",
            "셀 왼쪽 정지 버튼을 누르세요.\n",
            "셀 왼쪽 정지 버튼을 누르세요.\n",
            "셀 왼쪽 정지 버튼을 누르세요.\n",
            "셀 왼쪽 정지 버튼을 누르세요.\n",
            "셀 왼쪽 정지 버튼을 누르세요.\n",
            "셀 왼쪽 정지 버튼을 누르세요.\n",
            "셀 왼쪽 정지 버튼을 누르세요.\n",
            "셀 왼쪽 정지 버튼을 누르세요.\n",
            "셀 왼쪽 정지 버튼을 누르세요.\n",
            "셀 왼쪽 정지 버튼을 누르세요.\n",
            "셀 왼쪽 정지 버튼을 누르세요.\n",
            "셀 왼쪽 정지 버튼을 누르세요.\n",
            "셀 왼쪽 정지 버튼을 누르세요.\n",
            "셀 왼쪽 정지 버튼을 누르세요.\n",
            "셀 왼쪽 정지 버튼을 누르세요.\n",
            "셀 왼쪽 정지 버튼을 누르세요.\n",
            "셀 왼쪽 정지 버튼을 누르세요.\n",
            "셀 왼쪽 정지 버튼을 누르세요.\n",
            "셀 왼쪽 정지 버튼을 누르세요.\n",
            "셀 왼쪽 정지 버튼을 누르세요.\n",
            "셀 왼쪽 정지 버튼을 누르세요.\n",
            "셀 왼쪽 정지 버튼을 누르세요.\n",
            "셀 왼쪽 정지 버튼을 누르세요.\n",
            "셀 왼쪽 정지 버튼을 누르세요.\n",
            "셀 왼쪽 정지 버튼을 누르세요.\n",
            "셀 왼쪽 정지 버튼을 누르세요.\n",
            "셀 왼쪽 정지 버튼을 누르세요.\n",
            "셀 왼쪽 정지 버튼을 누르세요.\n",
            "셀 왼쪽 정지 버튼을 누르세요.\n",
            "셀 왼쪽 정지 버튼을 누르세요.\n",
            "셀 왼쪽 정지 버튼을 누르세요.\n",
            "셀 왼쪽 정지 버튼을 누르세요.\n",
            "셀 왼쪽 정지 버튼을 누르세요.\n",
            "셀 왼쪽 정지 버튼을 누르세요.\n",
            "셀 왼쪽 정지 버튼을 누르세요.\n",
            "셀 왼쪽 정지 버튼을 누르세요.\n",
            "셀 왼쪽 정지 버튼을 누르세요.\n",
            "셀 왼쪽 정지 버튼을 누르세요.\n",
            "셀 왼쪽 정지 버튼을 누르세요.\n",
            "셀 왼쪽 정지 버튼을 누르세요.\n",
            "셀 왼쪽 정지 버튼을 누르세요.\n",
            "셀 왼쪽 정지 버튼을 누르세요.\n",
            "셀 왼쪽 정지 버튼을 누르세요.\n",
            "셀 왼쪽 정지 버튼을 누르세요.\n",
            "셀 왼쪽 정지 버튼을 누르세요.\n",
            "셀 왼쪽 정지 버튼을 누르세요.\n",
            "셀 왼쪽 정지 버튼을 누르세요.\n",
            "셀 왼쪽 정지 버튼을 누르세요.\n",
            "셀 왼쪽 정지 버튼을 누르세요.\n",
            "셀 왼쪽 정지 버튼을 누르세요.\n",
            "셀 왼쪽 정지 버튼을 누르세요.\n",
            "셀 왼쪽 정지 버튼을 누르세요.\n",
            "셀 왼쪽 정지 버튼을 누르세요.\n",
            "셀 왼쪽 정지 버튼을 누르세요.\n",
            "셀 왼쪽 정지 버튼을 누르세요.\n",
            "셀 왼쪽 정지 버튼을 누르세요.\n",
            "셀 왼쪽 정지 버튼을 누르세요.\n",
            "셀 왼쪽 정지 버튼을 누르세요.\n",
            "셀 왼쪽 정지 버튼을 누르세요.\n",
            "셀 왼쪽 정지 버튼을 누르세요.\n",
            "셀 왼쪽 정지 버튼을 누르세요.\n",
            "셀 왼쪽 정지 버튼을 누르세요.\n",
            "셀 왼쪽 정지 버튼을 누르세요.\n",
            "셀 왼쪽 정지 버튼을 누르세요.\n",
            "셀 왼쪽 정지 버튼을 누르세요.\n",
            "셀 왼쪽 정지 버튼을 누르세요.\n",
            "셀 왼쪽 정지 버튼을 누르세요.\n",
            "셀 왼쪽 정지 버튼을 누르세요.\n",
            "셀 왼쪽 정지 버튼을 누르세요.\n",
            "셀 왼쪽 정지 버튼을 누르세요.\n",
            "셀 왼쪽 정지 버튼을 누르세요.\n",
            "셀 왼쪽 정지 버튼을 누르세요.\n",
            "셀 왼쪽 정지 버튼을 누르세요.\n",
            "셀 왼쪽 정지 버튼을 누르세요.\n",
            "셀 왼쪽 정지 버튼을 누르세요.\n",
            "셀 왼쪽 정지 버튼을 누르세요.\n",
            "셀 왼쪽 정지 버튼을 누르세요.\n",
            "셀 왼쪽 정지 버튼을 누르세요.\n",
            "셀 왼쪽 정지 버튼을 누르세요.\n",
            "셀 왼쪽 정지 버튼을 누르세요.\n",
            "셀 왼쪽 정지 버튼을 누르세요.\n",
            "셀 왼쪽 정지 버튼을 누르세요.\n",
            "셀 왼쪽 정지 버튼을 누르세요.\n",
            "셀 왼쪽 정지 버튼을 누르세요.\n",
            "셀 왼쪽 정지 버튼을 누르세요.\n",
            "셀 왼쪽 정지 버튼을 누르세요.\n",
            "셀 왼쪽 정지 버튼을 누르세요.\n",
            "셀 왼쪽 정지 버튼을 누르세요.\n",
            "셀 왼쪽 정지 버튼을 누르세요.\n",
            "셀 왼쪽 정지 버튼을 누르세요.\n",
            "셀 왼쪽 정지 버튼을 누르세요.\n",
            "셀 왼쪽 정지 버튼을 누르세요.\n",
            "셀 왼쪽 정지 버튼을 누르세요.\n",
            "셀 왼쪽 정지 버튼을 누르세요.\n",
            "셀 왼쪽 정지 버튼을 누르세요.\n",
            "셀 왼쪽 정지 버튼을 누르세요.\n",
            "셀 왼쪽 정지 버튼을 누르세요.\n",
            "셀 왼쪽 정지 버튼을 누르세요.\n",
            "셀 왼쪽 정지 버튼을 누르세요.\n",
            "셀 왼쪽 정지 버튼을 누르세요.\n",
            "셀 왼쪽 정지 버튼을 누르세요.\n",
            "셀 왼쪽 정지 버튼을 누르세요.\n",
            "셀 왼쪽 정지 버튼을 누르세요.\n",
            "셀 왼쪽 정지 버튼을 누르세요.\n",
            "셀 왼쪽 정지 버튼을 누르세요.\n",
            "셀 왼쪽 정지 버튼을 누르세요.\n",
            "셀 왼쪽 정지 버튼을 누르세요.\n",
            "셀 왼쪽 정지 버튼을 누르세요.\n",
            "셀 왼쪽 정지 버튼을 누르세요.\n",
            "셀 왼쪽 정지 버튼을 누르세요.\n",
            "셀 왼쪽 정지 버튼을 누르세요.\n",
            "셀 왼쪽 정지 버튼을 누르세요.\n",
            "셀 왼쪽 정지 버튼을 누르세요.\n",
            "셀 왼쪽 정지 버튼을 누르세요.\n",
            "셀 왼쪽 정지 버튼을 누르세요.\n",
            "셀 왼쪽 정지 버튼을 누르세요.\n",
            "셀 왼쪽 정지 버튼을 누르세요.\n",
            "셀 왼쪽 정지 버튼을 누르세요.\n",
            "셀 왼쪽 정지 버튼을 누르세요.\n",
            "셀 왼쪽 정지 버튼을 누르세요.\n",
            "셀 왼쪽 정지 버튼을 누르세요.\n",
            "셀 왼쪽 정지 버튼을 누르세요.\n",
            "셀 왼쪽 정지 버튼을 누르세요.\n",
            "셀 왼쪽 정지 버튼을 누르세요.\n",
            "셀 왼쪽 정지 버튼을 누르세요.\n",
            "셀 왼쪽 정지 버튼을 누르세요.\n",
            "셀 왼쪽 정지 버튼을 누르세요.\n",
            "셀 왼쪽 정지 버튼을 누르세요.\n",
            "셀 왼쪽 정지 버튼을 누르세요.\n",
            "셀 왼쪽 정지 버튼을 누르세요.\n",
            "셀 왼쪽 정지 버튼을 누르세요.\n",
            "셀 왼쪽 정지 버튼을 누르세요.\n",
            "셀 왼쪽 정지 버튼을 누르세요.\n",
            "셀 왼쪽 정지 버튼을 누르세요.\n",
            "셀 왼쪽 정지 버튼을 누르세요.\n",
            "셀 왼쪽 정지 버튼을 누르세요.\n",
            "셀 왼쪽 정지 버튼을 누르세요.\n",
            "셀 왼쪽 정지 버튼을 누르세요.\n",
            "셀 왼쪽 정지 버튼을 누르세요.\n",
            "셀 왼쪽 정지 버튼을 누르세요.\n",
            "셀 왼쪽 정지 버튼을 누르세요.\n",
            "셀 왼쪽 정지 버튼을 누르세요.\n",
            "셀 왼쪽 정지 버튼을 누르세요.\n",
            "셀 왼쪽 정지 버튼을 누르세요.\n",
            "셀 왼쪽 정지 버튼을 누르세요.\n",
            "셀 왼쪽 정지 버튼을 누르세요.\n",
            "셀 왼쪽 정지 버튼을 누르세요.\n",
            "셀 왼쪽 정지 버튼을 누르세요.\n",
            "셀 왼쪽 정지 버튼을 누르세요.\n",
            "셀 왼쪽 정지 버튼을 누르세요.\n",
            "셀 왼쪽 정지 버튼을 누르세요.\n",
            "셀 왼쪽 정지 버튼을 누르세요.\n",
            "셀 왼쪽 정지 버튼을 누르세요.\n",
            "셀 왼쪽 정지 버튼을 누르세요.\n",
            "셀 왼쪽 정지 버튼을 누르세요.\n",
            "셀 왼쪽 정지 버튼을 누르세요.\n",
            "셀 왼쪽 정지 버튼을 누르세요.\n",
            "셀 왼쪽 정지 버튼을 누르세요.\n",
            "셀 왼쪽 정지 버튼을 누르세요.\n",
            "셀 왼쪽 정지 버튼을 누르세요.\n",
            "셀 왼쪽 정지 버튼을 누르세요.\n",
            "셀 왼쪽 정지 버튼을 누르세요.\n",
            "셀 왼쪽 정지 버튼을 누르세요.\n",
            "셀 왼쪽 정지 버튼을 누르세요.\n",
            "셀 왼쪽 정지 버튼을 누르세요.\n",
            "셀 왼쪽 정지 버튼을 누르세요.\n",
            "셀 왼쪽 정지 버튼을 누르세요.\n",
            "셀 왼쪽 정지 버튼을 누르세요.\n",
            "셀 왼쪽 정지 버튼을 누르세요.\n",
            "셀 왼쪽 정지 버튼을 누르세요.\n",
            "셀 왼쪽 정지 버튼을 누르세요.\n",
            "셀 왼쪽 정지 버튼을 누르세요.\n",
            "셀 왼쪽 정지 버튼을 누르세요.\n",
            "셀 왼쪽 정지 버튼을 누르세요.\n",
            "셀 왼쪽 정지 버튼을 누르세요.\n",
            "셀 왼쪽 정지 버튼을 누르세요.\n",
            "셀 왼쪽 정지 버튼을 누르세요.\n",
            "셀 왼쪽 정지 버튼을 누르세요.\n",
            "셀 왼쪽 정지 버튼을 누르세요.\n",
            "셀 왼쪽 정지 버튼을 누르세요.\n",
            "셀 왼쪽 정지 버튼을 누르세요.\n",
            "셀 왼쪽 정지 버튼을 누르세요.\n",
            "셀 왼쪽 정지 버튼을 누르세요.\n",
            "셀 왼쪽 정지 버튼을 누르세요.\n",
            "셀 왼쪽 정지 버튼을 누르세요.\n",
            "셀 왼쪽 정지 버튼을 누르세요.\n",
            "셀 왼쪽 정지 버튼을 누르세요.\n",
            "셀 왼쪽 정지 버튼을 누르세요.\n",
            "셀 왼쪽 정지 버튼을 누르세요.\n",
            "셀 왼쪽 정지 버튼을 누르세요.\n",
            "셀 왼쪽 정지 버튼을 누르세요.\n",
            "셀 왼쪽 정지 버튼을 누르세요.\n",
            "셀 왼쪽 정지 버튼을 누르세요.\n",
            "셀 왼쪽 정지 버튼을 누르세요.\n",
            "셀 왼쪽 정지 버튼을 누르세요.\n",
            "셀 왼쪽 정지 버튼을 누르세요.\n",
            "셀 왼쪽 정지 버튼을 누르세요.\n",
            "셀 왼쪽 정지 버튼을 누르세요.\n",
            "셀 왼쪽 정지 버튼을 누르세요.\n",
            "셀 왼쪽 정지 버튼을 누르세요.\n",
            "셀 왼쪽 정지 버튼을 누르세요.\n",
            "셀 왼쪽 정지 버튼을 누르세요.\n",
            "셀 왼쪽 정지 버튼을 누르세요.\n",
            "셀 왼쪽 정지 버튼을 누르세요.\n",
            "셀 왼쪽 정지 버튼을 누르세요.\n",
            "셀 왼쪽 정지 버튼을 누르세요.\n",
            "셀 왼쪽 정지 버튼을 누르세요.\n",
            "셀 왼쪽 정지 버튼을 누르세요.\n",
            "셀 왼쪽 정지 버튼을 누르세요.\n",
            "셀 왼쪽 정지 버튼을 누르세요.\n",
            "셀 왼쪽 정지 버튼을 누르세요.\n",
            "셀 왼쪽 정지 버튼을 누르세요.\n",
            "셀 왼쪽 정지 버튼을 누르세요.\n",
            "셀 왼쪽 정지 버튼을 누르세요.\n",
            "셀 왼쪽 정지 버튼을 누르세요.\n",
            "셀 왼쪽 정지 버튼을 누르세요.\n",
            "셀 왼쪽 정지 버튼을 누르세요.\n",
            "셀 왼쪽 정지 버튼을 누르세요.\n",
            "셀 왼쪽 정지 버튼을 누르세요.\n",
            "셀 왼쪽 정지 버튼을 누르세요.\n",
            "셀 왼쪽 정지 버튼을 누르세요.\n",
            "셀 왼쪽 정지 버튼을 누르세요.\n",
            "셀 왼쪽 정지 버튼을 누르세요.\n",
            "셀 왼쪽 정지 버튼을 누르세요.\n",
            "셀 왼쪽 정지 버튼을 누르세요.\n",
            "셀 왼쪽 정지 버튼을 누르세요.\n",
            "셀 왼쪽 정지 버튼을 누르세요.\n",
            "셀 왼쪽 정지 버튼을 누르세요.\n",
            "셀 왼쪽 정지 버튼을 누르세요.\n",
            "셀 왼쪽 정지 버튼을 누르세요.\n",
            "셀 왼쪽 정지 버튼을 누르세요.\n",
            "셀 왼쪽 정지 버튼을 누르세요.\n",
            "셀 왼쪽 정지 버튼을 누르세요.\n",
            "셀 왼쪽 정지 버튼을 누르세요.\n",
            "셀 왼쪽 정지 버튼을 누르세요.\n",
            "셀 왼쪽 정지 버튼을 누르세요.\n",
            "셀 왼쪽 정지 버튼을 누르세요.\n",
            "셀 왼쪽 정지 버튼을 누르세요.\n",
            "셀 왼쪽 정지 버튼을 누르세요.\n",
            "셀 왼쪽 정지 버튼을 누르세요.\n",
            "셀 왼쪽 정지 버튼을 누르세요.\n",
            "셀 왼쪽 정지 버튼을 누르세요.\n",
            "셀 왼쪽 정지 버튼을 누르세요.\n",
            "셀 왼쪽 정지 버튼을 누르세요.\n",
            "셀 왼쪽 정지 버튼을 누르세요.\n",
            "셀 왼쪽 정지 버튼을 누르세요.\n",
            "셀 왼쪽 정지 버튼을 누르세요.\n",
            "셀 왼쪽 정지 버튼을 누르세요.\n",
            "셀 왼쪽 정지 버튼을 누르세요.\n",
            "셀 왼쪽 정지 버튼을 누르세요.\n",
            "셀 왼쪽 정지 버튼을 누르세요.\n",
            "셀 왼쪽 정지 버튼을 누르세요.\n",
            "셀 왼쪽 정지 버튼을 누르세요.\n",
            "셀 왼쪽 정지 버튼을 누르세요.\n",
            "셀 왼쪽 정지 버튼을 누르세요.\n",
            "셀 왼쪽 정지 버튼을 누르세요.\n",
            "셀 왼쪽 정지 버튼을 누르세요.\n",
            "셀 왼쪽 정지 버튼을 누르세요.\n",
            "셀 왼쪽 정지 버튼을 누르세요.\n",
            "셀 왼쪽 정지 버튼을 누르세요.\n",
            "셀 왼쪽 정지 버튼을 누르세요.\n",
            "셀 왼쪽 정지 버튼을 누르세요.\n",
            "셀 왼쪽 정지 버튼을 누르세요.\n",
            "셀 왼쪽 정지 버튼을 누르세요.\n",
            "셀 왼쪽 정지 버튼을 누르세요.\n",
            "셀 왼쪽 정지 버튼을 누르세요.\n",
            "셀 왼쪽 정지 버튼을 누르세요.\n",
            "셀 왼쪽 정지 버튼을 누르세요.\n",
            "셀 왼쪽 정지 버튼을 누르세요.\n",
            "셀 왼쪽 정지 버튼을 누르세요.\n",
            "셀 왼쪽 정지 버튼을 누르세요.\n",
            "셀 왼쪽 정지 버튼을 누르세요.\n",
            "셀 왼쪽 정지 버튼을 누르세요.\n",
            "셀 왼쪽 정지 버튼을 누르세요.\n",
            "셀 왼쪽 정지 버튼을 누르세요.\n",
            "셀 왼쪽 정지 버튼을 누르세요.\n",
            "셀 왼쪽 정지 버튼을 누르세요.\n",
            "셀 왼쪽 정지 버튼을 누르세요.\n",
            "셀 왼쪽 정지 버튼을 누르세요.\n",
            "셀 왼쪽 정지 버튼을 누르세요.\n",
            "셀 왼쪽 정지 버튼을 누르세요.\n",
            "셀 왼쪽 정지 버튼을 누르세요.\n",
            "셀 왼쪽 정지 버튼을 누르세요.\n",
            "셀 왼쪽 정지 버튼을 누르세요.\n",
            "셀 왼쪽 정지 버튼을 누르세요.\n",
            "셀 왼쪽 정지 버튼을 누르세요.\n",
            "셀 왼쪽 정지 버튼을 누르세요.\n",
            "셀 왼쪽 정지 버튼을 누르세요.\n",
            "셀 왼쪽 정지 버튼을 누르세요.\n",
            "셀 왼쪽 정지 버튼을 누르세요.\n",
            "셀 왼쪽 정지 버튼을 누르세요.\n",
            "셀 왼쪽 정지 버튼을 누르세요.\n",
            "셀 왼쪽 정지 버튼을 누르세요.\n",
            "셀 왼쪽 정지 버튼을 누르세요.\n",
            "셀 왼쪽 정지 버튼을 누르세요.\n",
            "셀 왼쪽 정지 버튼을 누르세요.\n",
            "셀 왼쪽 정지 버튼을 누르세요.\n",
            "셀 왼쪽 정지 버튼을 누르세요.\n",
            "셀 왼쪽 정지 버튼을 누르세요.\n",
            "셀 왼쪽 정지 버튼을 누르세요.\n",
            "셀 왼쪽 정지 버튼을 누르세요.\n",
            "셀 왼쪽 정지 버튼을 누르세요.\n",
            "셀 왼쪽 정지 버튼을 누르세요.\n",
            "셀 왼쪽 정지 버튼을 누르세요.\n",
            "셀 왼쪽 정지 버튼을 누르세요.\n",
            "셀 왼쪽 정지 버튼을 누르세요.\n",
            "셀 왼쪽 정지 버튼을 누르세요.\n",
            "셀 왼쪽 정지 버튼을 누르세요.\n",
            "셀 왼쪽 정지 버튼을 누르세요.\n",
            "셀 왼쪽 정지 버튼을 누르세요.\n",
            "셀 왼쪽 정지 버튼을 누르세요.\n",
            "셀 왼쪽 정지 버튼을 누르세요.\n",
            "셀 왼쪽 정지 버튼을 누르세요.\n",
            "셀 왼쪽 정지 버튼을 누르세요.\n",
            "셀 왼쪽 정지 버튼을 누르세요.\n",
            "셀 왼쪽 정지 버튼을 누르세요.\n",
            "셀 왼쪽 정지 버튼을 누르세요.\n",
            "셀 왼쪽 정지 버튼을 누르세요.\n",
            "셀 왼쪽 정지 버튼을 누르세요.\n",
            "셀 왼쪽 정지 버튼을 누르세요.\n",
            "셀 왼쪽 정지 버튼을 누르세요.\n",
            "셀 왼쪽 정지 버튼을 누르세요.\n",
            "셀 왼쪽 정지 버튼을 누르세요.\n",
            "셀 왼쪽 정지 버튼을 누르세요.\n",
            "셀 왼쪽 정지 버튼을 누르세요.\n",
            "셀 왼쪽 정지 버튼을 누르세요.\n",
            "셀 왼쪽 정지 버튼을 누르세요.\n",
            "셀 왼쪽 정지 버튼을 누르세요.\n",
            "셀 왼쪽 정지 버튼을 누르세요.\n",
            "셀 왼쪽 정지 버튼을 누르세요.\n",
            "셀 왼쪽 정지 버튼을 누르세요.\n",
            "셀 왼쪽 정지 버튼을 누르세요.\n",
            "셀 왼쪽 정지 버튼을 누르세요.\n",
            "셀 왼쪽 정지 버튼을 누르세요.\n",
            "셀 왼쪽 정지 버튼을 누르세요.\n",
            "셀 왼쪽 정지 버튼을 누르세요.\n",
            "셀 왼쪽 정지 버튼을 누르세요.\n",
            "셀 왼쪽 정지 버튼을 누르세요.\n",
            "셀 왼쪽 정지 버튼을 누르세요.\n",
            "셀 왼쪽 정지 버튼을 누르세요.\n",
            "셀 왼쪽 정지 버튼을 누르세요.\n",
            "셀 왼쪽 정지 버튼을 누르세요.\n",
            "셀 왼쪽 정지 버튼을 누르세요.\n",
            "셀 왼쪽 정지 버튼을 누르세요.\n",
            "셀 왼쪽 정지 버튼을 누르세요.\n",
            "셀 왼쪽 정지 버튼을 누르세요.\n",
            "셀 왼쪽 정지 버튼을 누르세요.\n",
            "셀 왼쪽 정지 버튼을 누르세요.\n",
            "셀 왼쪽 정지 버튼을 누르세요.\n",
            "셀 왼쪽 정지 버튼을 누르세요.\n",
            "셀 왼쪽 정지 버튼을 누르세요.\n",
            "셀 왼쪽 정지 버튼을 누르세요.\n",
            "셀 왼쪽 정지 버튼을 누르세요.\n",
            "셀 왼쪽 정지 버튼을 누르세요.\n",
            "셀 왼쪽 정지 버튼을 누르세요.\n",
            "셀 왼쪽 정지 버튼을 누르세요.\n",
            "셀 왼쪽 정지 버튼을 누르세요.\n",
            "셀 왼쪽 정지 버튼을 누르세요.\n",
            "셀 왼쪽 정지 버튼을 누르세요.\n",
            "셀 왼쪽 정지 버튼을 누르세요.\n",
            "셀 왼쪽 정지 버튼을 누르세요.\n",
            "셀 왼쪽 정지 버튼을 누르세요.\n",
            "셀 왼쪽 정지 버튼을 누르세요.\n",
            "셀 왼쪽 정지 버튼을 누르세요.\n",
            "셀 왼쪽 정지 버튼을 누르세요.\n",
            "셀 왼쪽 정지 버튼을 누르세요.\n",
            "셀 왼쪽 정지 버튼을 누르세요.\n",
            "셀 왼쪽 정지 버튼을 누르세요.\n",
            "셀 왼쪽 정지 버튼을 누르세요.\n",
            "셀 왼쪽 정지 버튼을 누르세요.\n",
            "셀 왼쪽 정지 버튼을 누르세요.\n",
            "셀 왼쪽 정지 버튼을 누르세요.\n",
            "셀 왼쪽 정지 버튼을 누르세요.\n",
            "셀 왼쪽 정지 버튼을 누르세요.\n",
            "셀 왼쪽 정지 버튼을 누르세요.\n",
            "셀 왼쪽 정지 버튼을 누르세요.\n",
            "셀 왼쪽 정지 버튼을 누르세요.\n",
            "셀 왼쪽 정지 버튼을 누르세요.\n",
            "셀 왼쪽 정지 버튼을 누르세요.\n",
            "셀 왼쪽 정지 버튼을 누르세요.\n",
            "셀 왼쪽 정지 버튼을 누르세요.\n",
            "셀 왼쪽 정지 버튼을 누르세요.\n",
            "셀 왼쪽 정지 버튼을 누르세요.\n",
            "셀 왼쪽 정지 버튼을 누르세요.\n",
            "셀 왼쪽 정지 버튼을 누르세요.\n",
            "셀 왼쪽 정지 버튼을 누르세요.\n",
            "셀 왼쪽 정지 버튼을 누르세요.\n",
            "셀 왼쪽 정지 버튼을 누르세요.\n",
            "셀 왼쪽 정지 버튼을 누르세요.\n",
            "셀 왼쪽 정지 버튼을 누르세요.\n",
            "셀 왼쪽 정지 버튼을 누르세요.\n",
            "셀 왼쪽 정지 버튼을 누르세요.\n",
            "셀 왼쪽 정지 버튼을 누르세요.\n",
            "셀 왼쪽 정지 버튼을 누르세요.\n",
            "셀 왼쪽 정지 버튼을 누르세요.\n",
            "셀 왼쪽 정지 버튼을 누르세요.\n",
            "셀 왼쪽 정지 버튼을 누르세요.\n",
            "셀 왼쪽 정지 버튼을 누르세요.\n",
            "셀 왼쪽 정지 버튼을 누르세요.\n",
            "셀 왼쪽 정지 버튼을 누르세요.\n",
            "셀 왼쪽 정지 버튼을 누르세요.\n",
            "셀 왼쪽 정지 버튼을 누르세요.\n",
            "셀 왼쪽 정지 버튼을 누르세요.\n",
            "셀 왼쪽 정지 버튼을 누르세요.\n",
            "셀 왼쪽 정지 버튼을 누르세요.\n",
            "셀 왼쪽 정지 버튼을 누르세요.\n",
            "셀 왼쪽 정지 버튼을 누르세요.\n",
            "셀 왼쪽 정지 버튼을 누르세요.\n",
            "셀 왼쪽 정지 버튼을 누르세요.\n",
            "셀 왼쪽 정지 버튼을 누르세요.\n",
            "셀 왼쪽 정지 버튼을 누르세요.\n",
            "셀 왼쪽 정지 버튼을 누르세요.\n",
            "셀 왼쪽 정지 버튼을 누르세요.\n",
            "셀 왼쪽 정지 버튼을 누르세요.\n",
            "셀 왼쪽 정지 버튼을 누르세요.\n",
            "셀 왼쪽 정지 버튼을 누르세요.\n",
            "셀 왼쪽 정지 버튼을 누르세요.\n",
            "셀 왼쪽 정지 버튼을 누르세요.\n",
            "셀 왼쪽 정지 버튼을 누르세요.\n",
            "셀 왼쪽 정지 버튼을 누르세요.\n",
            "셀 왼쪽 정지 버튼을 누르세요.\n",
            "셀 왼쪽 정지 버튼을 누르세요.\n",
            "셀 왼쪽 정지 버튼을 누르세요.\n",
            "셀 왼쪽 정지 버튼을 누르세요.\n",
            "셀 왼쪽 정지 버튼을 누르세요.\n",
            "셀 왼쪽 정지 버튼을 누르세요.\n",
            "셀 왼쪽 정지 버튼을 누르세요.\n",
            "셀 왼쪽 정지 버튼을 누르세요.\n",
            "셀 왼쪽 정지 버튼을 누르세요.\n",
            "셀 왼쪽 정지 버튼을 누르세요.\n",
            "셀 왼쪽 정지 버튼을 누르세요.\n",
            "셀 왼쪽 정지 버튼을 누르세요.\n",
            "셀 왼쪽 정지 버튼을 누르세요.\n",
            "셀 왼쪽 정지 버튼을 누르세요.\n",
            "셀 왼쪽 정지 버튼을 누르세요.\n",
            "셀 왼쪽 정지 버튼을 누르세요.\n",
            "셀 왼쪽 정지 버튼을 누르세요.\n",
            "셀 왼쪽 정지 버튼을 누르세요.\n",
            "셀 왼쪽 정지 버튼을 누르세요.\n",
            "셀 왼쪽 정지 버튼을 누르세요.\n",
            "셀 왼쪽 정지 버튼을 누르세요.\n",
            "셀 왼쪽 정지 버튼을 누르세요.\n",
            "셀 왼쪽 정지 버튼을 누르세요.\n",
            "셀 왼쪽 정지 버튼을 누르세요.\n",
            "셀 왼쪽 정지 버튼을 누르세요.\n",
            "셀 왼쪽 정지 버튼을 누르세요.\n",
            "셀 왼쪽 정지 버튼을 누르세요.\n",
            "셀 왼쪽 정지 버튼을 누르세요.\n",
            "셀 왼쪽 정지 버튼을 누르세요.\n",
            "셀 왼쪽 정지 버튼을 누르세요.\n",
            "셀 왼쪽 정지 버튼을 누르세요.\n",
            "셀 왼쪽 정지 버튼을 누르세요.\n",
            "셀 왼쪽 정지 버튼을 누르세요.\n",
            "셀 왼쪽 정지 버튼을 누르세요.\n",
            "셀 왼쪽 정지 버튼을 누르세요.\n",
            "셀 왼쪽 정지 버튼을 누르세요.\n",
            "셀 왼쪽 정지 버튼을 누르세요.\n",
            "셀 왼쪽 정지 버튼을 누르세요.\n",
            "셀 왼쪽 정지 버튼을 누르세요.\n",
            "셀 왼쪽 정지 버튼을 누르세요.\n",
            "셀 왼쪽 정지 버튼을 누르세요.\n",
            "셀 왼쪽 정지 버튼을 누르세요.\n",
            "셀 왼쪽 정지 버튼을 누르세요.\n",
            "셀 왼쪽 정지 버튼을 누르세요.\n",
            "셀 왼쪽 정지 버튼을 누르세요.\n",
            "셀 왼쪽 정지 버튼을 누르세요.\n",
            "셀 왼쪽 정지 버튼을 누르세요.\n",
            "셀 왼쪽 정지 버튼을 누르세요.\n",
            "셀 왼쪽 정지 버튼을 누르세요.\n",
            "셀 왼쪽 정지 버튼을 누르세요.\n",
            "셀 왼쪽 정지 버튼을 누르세요.\n",
            "셀 왼쪽 정지 버튼을 누르세요.\n",
            "셀 왼쪽 정지 버튼을 누르세요.\n",
            "셀 왼쪽 정지 버튼을 누르세요.\n",
            "셀 왼쪽 정지 버튼을 누르세요.\n",
            "셀 왼쪽 정지 버튼을 누르세요.\n",
            "셀 왼쪽 정지 버튼을 누르세요.\n",
            "셀 왼쪽 정지 버튼을 누르세요.\n",
            "셀 왼쪽 정지 버튼을 누르세요.\n",
            "셀 왼쪽 정지 버튼을 누르세요.\n",
            "셀 왼쪽 정지 버튼을 누르세요.\n",
            "셀 왼쪽 정지 버튼을 누르세요.\n",
            "셀 왼쪽 정지 버튼을 누르세요.\n",
            "셀 왼쪽 정지 버튼을 누르세요.\n",
            "셀 왼쪽 정지 버튼을 누르세요.\n",
            "셀 왼쪽 정지 버튼을 누르세요.\n",
            "셀 왼쪽 정지 버튼을 누르세요.\n",
            "셀 왼쪽 정지 버튼을 누르세요.\n",
            "셀 왼쪽 정지 버튼을 누르세요.\n",
            "셀 왼쪽 정지 버튼을 누르세요.\n",
            "셀 왼쪽 정지 버튼을 누르세요.\n",
            "셀 왼쪽 정지 버튼을 누르세요.\n",
            "셀 왼쪽 정지 버튼을 누르세요.\n",
            "셀 왼쪽 정지 버튼을 누르세요.\n",
            "셀 왼쪽 정지 버튼을 누르세요.\n",
            "셀 왼쪽 정지 버튼을 누르세요.\n",
            "셀 왼쪽 정지 버튼을 누르세요.\n",
            "셀 왼쪽 정지 버튼을 누르세요.\n",
            "셀 왼쪽 정지 버튼을 누르세요.\n",
            "셀 왼쪽 정지 버튼을 누르세요.\n",
            "셀 왼쪽 정지 버튼을 누르세요.\n",
            "셀 왼쪽 정지 버튼을 누르세요.\n",
            "셀 왼쪽 정지 버튼을 누르세요.\n",
            "셀 왼쪽 정지 버튼을 누르세요.\n",
            "셀 왼쪽 정지 버튼을 누르세요.\n",
            "셀 왼쪽 정지 버튼을 누르세요.\n",
            "셀 왼쪽 정지 버튼을 누르세요.\n",
            "셀 왼쪽 정지 버튼을 누르세요.\n",
            "셀 왼쪽 정지 버튼을 누르세요.\n",
            "셀 왼쪽 정지 버튼을 누르세요.\n",
            "셀 왼쪽 정지 버튼을 누르세요.\n",
            "셀 왼쪽 정지 버튼을 누르세요.\n",
            "셀 왼쪽 정지 버튼을 누르세요.\n",
            "셀 왼쪽 정지 버튼을 누르세요.\n",
            "셀 왼쪽 정지 버튼을 누르세요."
          ]
        },
        {
          "output_type": "error",
          "ename": "KeyboardInterrupt",
          "evalue": "ignored",
          "traceback": [
            "\u001b[0;31m---------------------------------------------------------------------------\u001b[0m",
            "\u001b[0;31mKeyboardInterrupt\u001b[0m                         Traceback (most recent call last)",
            "\u001b[0;32m<ipython-input-68-8e1e05f6e269>\u001b[0m in \u001b[0;36m<module>\u001b[0;34m\u001b[0m\n\u001b[1;32m      1\u001b[0m \u001b[0;31m#무한히 반복해서 출력하는 코드\u001b[0m\u001b[0;34m\u001b[0m\u001b[0;34m\u001b[0m\u001b[0;34m\u001b[0m\u001b[0m\n\u001b[1;32m      2\u001b[0m \u001b[0;32mwhile\u001b[0m \u001b[0;32mTrue\u001b[0m\u001b[0;34m:\u001b[0m\u001b[0;34m\u001b[0m\u001b[0;34m\u001b[0m\u001b[0m\n\u001b[0;32m----> 3\u001b[0;31m   \u001b[0mprint\u001b[0m\u001b[0;34m(\u001b[0m\u001b[0;34m\"셀 왼쪽 정지 버튼을 누르세요.\"\u001b[0m\u001b[0;34m)\u001b[0m\u001b[0;34m\u001b[0m\u001b[0;34m\u001b[0m\u001b[0m\n\u001b[0m",
            "\u001b[0;32m/usr/local/lib/python3.7/dist-packages/ipykernel/iostream.py\u001b[0m in \u001b[0;36mwrite\u001b[0;34m(self, string)\u001b[0m\n\u001b[1;32m    402\u001b[0m             \u001b[0mis_child\u001b[0m \u001b[0;34m=\u001b[0m \u001b[0;34m(\u001b[0m\u001b[0;32mnot\u001b[0m \u001b[0mself\u001b[0m\u001b[0;34m.\u001b[0m\u001b[0m_is_master_process\u001b[0m\u001b[0;34m(\u001b[0m\u001b[0;34m)\u001b[0m\u001b[0;34m)\u001b[0m\u001b[0;34m\u001b[0m\u001b[0;34m\u001b[0m\u001b[0m\n\u001b[1;32m    403\u001b[0m             \u001b[0;31m# only touch the buffer in the IO thread to avoid races\u001b[0m\u001b[0;34m\u001b[0m\u001b[0;34m\u001b[0m\u001b[0;34m\u001b[0m\u001b[0m\n\u001b[0;32m--> 404\u001b[0;31m             \u001b[0mself\u001b[0m\u001b[0;34m.\u001b[0m\u001b[0mpub_thread\u001b[0m\u001b[0;34m.\u001b[0m\u001b[0mschedule\u001b[0m\u001b[0;34m(\u001b[0m\u001b[0;32mlambda\u001b[0m \u001b[0;34m:\u001b[0m \u001b[0mself\u001b[0m\u001b[0;34m.\u001b[0m\u001b[0m_buffer\u001b[0m\u001b[0;34m.\u001b[0m\u001b[0mwrite\u001b[0m\u001b[0;34m(\u001b[0m\u001b[0mstring\u001b[0m\u001b[0;34m)\u001b[0m\u001b[0;34m)\u001b[0m\u001b[0;34m\u001b[0m\u001b[0;34m\u001b[0m\u001b[0m\n\u001b[0m\u001b[1;32m    405\u001b[0m             \u001b[0;32mif\u001b[0m \u001b[0mis_child\u001b[0m\u001b[0;34m:\u001b[0m\u001b[0;34m\u001b[0m\u001b[0;34m\u001b[0m\u001b[0m\n\u001b[1;32m    406\u001b[0m                 \u001b[0;31m# mp.Pool cannot be trusted to flush promptly (or ever),\u001b[0m\u001b[0;34m\u001b[0m\u001b[0;34m\u001b[0m\u001b[0;34m\u001b[0m\u001b[0m\n",
            "\u001b[0;32m/usr/local/lib/python3.7/dist-packages/ipykernel/iostream.py\u001b[0m in \u001b[0;36mschedule\u001b[0;34m(self, f)\u001b[0m\n\u001b[1;32m    203\u001b[0m             \u001b[0mself\u001b[0m\u001b[0;34m.\u001b[0m\u001b[0m_events\u001b[0m\u001b[0;34m.\u001b[0m\u001b[0mappend\u001b[0m\u001b[0;34m(\u001b[0m\u001b[0mf\u001b[0m\u001b[0;34m)\u001b[0m\u001b[0;34m\u001b[0m\u001b[0;34m\u001b[0m\u001b[0m\n\u001b[1;32m    204\u001b[0m             \u001b[0;31m# wake event thread (message content is ignored)\u001b[0m\u001b[0;34m\u001b[0m\u001b[0;34m\u001b[0m\u001b[0;34m\u001b[0m\u001b[0m\n\u001b[0;32m--> 205\u001b[0;31m             \u001b[0mself\u001b[0m\u001b[0;34m.\u001b[0m\u001b[0m_event_pipe\u001b[0m\u001b[0;34m.\u001b[0m\u001b[0msend\u001b[0m\u001b[0;34m(\u001b[0m\u001b[0;34mb''\u001b[0m\u001b[0;34m)\u001b[0m\u001b[0;34m\u001b[0m\u001b[0;34m\u001b[0m\u001b[0m\n\u001b[0m\u001b[1;32m    206\u001b[0m         \u001b[0;32melse\u001b[0m\u001b[0;34m:\u001b[0m\u001b[0;34m\u001b[0m\u001b[0;34m\u001b[0m\u001b[0m\n\u001b[1;32m    207\u001b[0m             \u001b[0mf\u001b[0m\u001b[0;34m(\u001b[0m\u001b[0;34m)\u001b[0m\u001b[0;34m\u001b[0m\u001b[0;34m\u001b[0m\u001b[0m\n",
            "\u001b[0;32m/usr/local/lib/python3.7/dist-packages/zmq/sugar/socket.py\u001b[0m in \u001b[0;36msend\u001b[0;34m(self, data, flags, copy, track, routing_id, group)\u001b[0m\n\u001b[1;32m    616\u001b[0m                 )\n\u001b[1;32m    617\u001b[0m             \u001b[0mdata\u001b[0m\u001b[0;34m.\u001b[0m\u001b[0mgroup\u001b[0m \u001b[0;34m=\u001b[0m \u001b[0mgroup\u001b[0m\u001b[0;34m\u001b[0m\u001b[0;34m\u001b[0m\u001b[0m\n\u001b[0;32m--> 618\u001b[0;31m         \u001b[0;32mreturn\u001b[0m \u001b[0msuper\u001b[0m\u001b[0;34m(\u001b[0m\u001b[0;34m)\u001b[0m\u001b[0;34m.\u001b[0m\u001b[0msend\u001b[0m\u001b[0;34m(\u001b[0m\u001b[0mdata\u001b[0m\u001b[0;34m,\u001b[0m \u001b[0mflags\u001b[0m\u001b[0;34m=\u001b[0m\u001b[0mflags\u001b[0m\u001b[0;34m,\u001b[0m \u001b[0mcopy\u001b[0m\u001b[0;34m=\u001b[0m\u001b[0mcopy\u001b[0m\u001b[0;34m,\u001b[0m \u001b[0mtrack\u001b[0m\u001b[0;34m=\u001b[0m\u001b[0mtrack\u001b[0m\u001b[0;34m)\u001b[0m\u001b[0;34m\u001b[0m\u001b[0;34m\u001b[0m\u001b[0m\n\u001b[0m\u001b[1;32m    619\u001b[0m \u001b[0;34m\u001b[0m\u001b[0m\n\u001b[1;32m    620\u001b[0m     def send_multipart(\n",
            "\u001b[0;32mzmq/backend/cython/socket.pyx\u001b[0m in \u001b[0;36mzmq.backend.cython.socket.Socket.send\u001b[0;34m()\u001b[0m\n",
            "\u001b[0;32mzmq/backend/cython/socket.pyx\u001b[0m in \u001b[0;36mzmq.backend.cython.socket.Socket.send\u001b[0;34m()\u001b[0m\n",
            "\u001b[0;32mzmq/backend/cython/socket.pyx\u001b[0m in \u001b[0;36mzmq.backend.cython.socket._send_copy\u001b[0;34m()\u001b[0m\n",
            "\u001b[0;32m/usr/local/lib/python3.7/dist-packages/zmq/backend/cython/checkrc.pxd\u001b[0m in \u001b[0;36mzmq.backend.cython.checkrc._check_rc\u001b[0;34m()\u001b[0m\n",
            "\u001b[0;31mKeyboardInterrupt\u001b[0m: "
          ]
        }
      ]
    },
    {
      "cell_type": "markdown",
      "source": [
        "## 1-6.재료 모으기(2)(튜플, 딕셔너리)"
      ],
      "metadata": {
        "id": "jRThgJc9WlWf"
      }
    },
    {
      "cell_type": "markdown",
      "source": [
        "### 1) 튜플 기본 구조\n",
        "- (값1, 값2, 값3, ...)\n",
        "- 값1, 값2, 값3, ..."
      ],
      "metadata": {
        "id": "-loN3vkTWw4j"
      }
    },
    {
      "cell_type": "code",
      "source": [
        "#튜플을 만드는 코드\n",
        "my_tuple1 = ()\n",
        "print(my_tuple1)"
      ],
      "metadata": {
        "colab": {
          "base_uri": "https://localhost:8080/"
        },
        "id": "_hQ1adOnVy35",
        "outputId": "7997fede-4812-43fa-f098-fd8d6c4ffcd3"
      },
      "execution_count": null,
      "outputs": [
        {
          "output_type": "stream",
          "name": "stdout",
          "text": [
            "()\n"
          ]
        }
      ]
    },
    {
      "cell_type": "code",
      "source": [
        "my_tuple2 = (1, -2, 3.14)\n",
        "print(my_tuple2)"
      ],
      "metadata": {
        "colab": {
          "base_uri": "https://localhost:8080/"
        },
        "id": "nA6johKhW-oN",
        "outputId": "dcfb5ae8-fb04-4819-a41d-fa2d8167375e"
      },
      "execution_count": null,
      "outputs": [
        {
          "output_type": "stream",
          "name": "stdout",
          "text": [
            "(1, -2, 3.14)\n"
          ]
        }
      ]
    },
    {
      "cell_type": "code",
      "source": [
        "my_tuple3 = '고양이', 10, 1.0, 1.2\n",
        "print(my_tuple3)"
      ],
      "metadata": {
        "colab": {
          "base_uri": "https://localhost:8080/"
        },
        "id": "8fLPT8ugXCoY",
        "outputId": "41545021-0149-40f6-c1ec-25081629d7d3"
      },
      "execution_count": null,
      "outputs": [
        {
          "output_type": "stream",
          "name": "stdout",
          "text": [
            "('고양이', 10, 1.0, 1.2)\n"
          ]
        }
      ]
    },
    {
      "cell_type": "code",
      "source": [
        "#값이 한 개인 튜플을 만드는 코드\n",
        "my_int = (1)\n",
        "print(type(my_int))"
      ],
      "metadata": {
        "colab": {
          "base_uri": "https://localhost:8080/"
        },
        "id": "t0nk-74OXHXt",
        "outputId": "7d7086a2-4a48-45eb-ba58-821f1717ee5c"
      },
      "execution_count": null,
      "outputs": [
        {
          "output_type": "stream",
          "name": "stdout",
          "text": [
            "<class 'int'>\n"
          ]
        }
      ]
    },
    {
      "cell_type": "code",
      "source": [
        "my_tuple = (1, )\n",
        "print(type(my_tuple))"
      ],
      "metadata": {
        "colab": {
          "base_uri": "https://localhost:8080/"
        },
        "id": "l-_MpATMXQMK",
        "outputId": "6735f6d3-d1ca-49ea-de16-bb18132d9c65"
      },
      "execution_count": null,
      "outputs": [
        {
          "output_type": "stream",
          "name": "stdout",
          "text": [
            "<class 'tuple'>\n"
          ]
        }
      ]
    },
    {
      "cell_type": "markdown",
      "source": [
        "### 2) 값 가져오기\n",
        "- 튜플[접근할_인덱스]"
      ],
      "metadata": {
        "id": "D9lJPA47XZA5"
      }
    },
    {
      "cell_type": "code",
      "source": [
        "cats = ('페르시안', '아비시니안', '러시안 블루')\n",
        "print(cats[1])"
      ],
      "metadata": {
        "colab": {
          "base_uri": "https://localhost:8080/"
        },
        "id": "wlS8Y8R8XUU5",
        "outputId": "20edd7bd-c426-4820-94ac-dd1554e0b5f5"
      },
      "execution_count": null,
      "outputs": [
        {
          "output_type": "stream",
          "name": "stdout",
          "text": [
            "아비시니안\n"
          ]
        }
      ]
    },
    {
      "cell_type": "code",
      "source": [
        "#튜플은 값을 변화시킬 수 없음\n",
        "cats = ('페르시안', '아비시니안', '러시안 블루')\n",
        "cats[1] = '스코티시 폴드'"
      ],
      "metadata": {
        "colab": {
          "base_uri": "https://localhost:8080/",
          "height": 209
        },
        "id": "poDHe0keXk6V",
        "outputId": "94d6198a-6c87-403b-d5fb-bf0adf824808"
      },
      "execution_count": null,
      "outputs": [
        {
          "output_type": "error",
          "ename": "TypeError",
          "evalue": "ignored",
          "traceback": [
            "\u001b[0;31m---------------------------------------------------------------------------\u001b[0m",
            "\u001b[0;31mTypeError\u001b[0m                                 Traceback (most recent call last)",
            "\u001b[0;32m<ipython-input-75-a6a9b19743d1>\u001b[0m in \u001b[0;36m<module>\u001b[0;34m\u001b[0m\n\u001b[1;32m      1\u001b[0m \u001b[0;31m#튜플은 값을 변화시킬 수 없음\u001b[0m\u001b[0;34m\u001b[0m\u001b[0;34m\u001b[0m\u001b[0;34m\u001b[0m\u001b[0m\n\u001b[1;32m      2\u001b[0m \u001b[0mcats\u001b[0m \u001b[0;34m=\u001b[0m \u001b[0;34m(\u001b[0m\u001b[0;34m'페르시안'\u001b[0m\u001b[0;34m,\u001b[0m \u001b[0;34m'아비시니안'\u001b[0m\u001b[0;34m,\u001b[0m \u001b[0;34m'러시안 블루'\u001b[0m\u001b[0;34m)\u001b[0m\u001b[0;34m\u001b[0m\u001b[0;34m\u001b[0m\u001b[0m\n\u001b[0;32m----> 3\u001b[0;31m \u001b[0mcats\u001b[0m\u001b[0;34m[\u001b[0m\u001b[0;36m1\u001b[0m\u001b[0;34m]\u001b[0m \u001b[0;34m=\u001b[0m \u001b[0;34m'스코티시 폴드'\u001b[0m\u001b[0;34m\u001b[0m\u001b[0;34m\u001b[0m\u001b[0m\n\u001b[0m",
            "\u001b[0;31mTypeError\u001b[0m: 'tuple' object does not support item assignment"
          ]
        }
      ]
    },
    {
      "cell_type": "markdown",
      "source": [
        "### 3) 딕셔너리 기본 구조\n",
        "- {키1: 값1, 키2: 값2, ...}\n",
        "- 대응 관계를 나타낼 수 있는 자료형\n",
        "- 키(key)와 값(value)의 쌍"
      ],
      "metadata": {
        "id": "OY5TjguFYH8r"
      }
    },
    {
      "cell_type": "code",
      "source": [
        "my_dict1 = {}\n",
        "print(my_dict1)"
      ],
      "metadata": {
        "colab": {
          "base_uri": "https://localhost:8080/"
        },
        "id": "Z17kOOXOXsVh",
        "outputId": "d61177dc-b20b-42f4-e31e-6ad2540af7c7"
      },
      "execution_count": null,
      "outputs": [
        {
          "output_type": "stream",
          "name": "stdout",
          "text": [
            "{}\n"
          ]
        }
      ]
    },
    {
      "cell_type": "code",
      "source": [
        "my_dict2 = {0: 1, 1: -2, 2: 3.14}\n",
        "print(my_dict2)"
      ],
      "metadata": {
        "colab": {
          "base_uri": "https://localhost:8080/"
        },
        "id": "NiK9-F-BZJz_",
        "outputId": "51bd45ee-746e-4299-da62-e52c9e87b3f2"
      },
      "execution_count": null,
      "outputs": [
        {
          "output_type": "stream",
          "name": "stdout",
          "text": [
            "{0: 1, 1: -2, 2: 3.14}\n"
          ]
        }
      ]
    },
    {
      "cell_type": "code",
      "source": [
        "my_dict3 = {'이름': '김수인', '학번': '2020', '상태': '재학'}\n",
        "print(my_dict3)"
      ],
      "metadata": {
        "colab": {
          "base_uri": "https://localhost:8080/"
        },
        "id": "hdhGCyISZYbQ",
        "outputId": "7c7614d6-50ca-4a52-e599-265d4aa6aa05"
      },
      "execution_count": null,
      "outputs": [
        {
          "output_type": "stream",
          "name": "stdout",
          "text": [
            "{'이름': '김수인', '학번': '2020', '상태': '재학'}\n"
          ]
        }
      ]
    },
    {
      "cell_type": "markdown",
      "source": [
        "### 4) 키-값 추가하기\n",
        "- 딕셔너리[추가할_키] = 추가할_값"
      ],
      "metadata": {
        "id": "HUeQ-IETZ4ZU"
      }
    },
    {
      "cell_type": "code",
      "source": [
        "bom = {'이름': '봄이', '나이': 7, '품종': '코숏'}\n",
        "print(bom)"
      ],
      "metadata": {
        "colab": {
          "base_uri": "https://localhost:8080/"
        },
        "id": "PwGgNi3UZwWe",
        "outputId": "f7330622-25fa-432a-fc14-9c38237e3f59"
      },
      "execution_count": null,
      "outputs": [
        {
          "output_type": "stream",
          "name": "stdout",
          "text": [
            "{'이름': '봄이', '나이': 7, '품종': '코숏'}\n"
          ]
        }
      ]
    },
    {
      "cell_type": "code",
      "source": [
        "bom['몸무게'] = 5.3\n",
        "print(bom)"
      ],
      "metadata": {
        "colab": {
          "base_uri": "https://localhost:8080/"
        },
        "id": "M1aaBarraV-u",
        "outputId": "66c58501-a7d6-474a-e809-f871326fdca5"
      },
      "execution_count": null,
      "outputs": [
        {
          "output_type": "stream",
          "name": "stdout",
          "text": [
            "{'이름': '봄이', '나이': 7, '품종': '코숏', '몸무게': 5.3}\n"
          ]
        }
      ]
    },
    {
      "cell_type": "code",
      "source": [
        "bom['몸무게'] = 6.4 #이미 존재하는 키의 경우 수정됨\n",
        "print(bom)"
      ],
      "metadata": {
        "colab": {
          "base_uri": "https://localhost:8080/"
        },
        "id": "xw4Z1Hu2abtU",
        "outputId": "e1853518-1b57-45d9-e4a4-c92763a64aa8"
      },
      "execution_count": null,
      "outputs": [
        {
          "output_type": "stream",
          "name": "stdout",
          "text": [
            "{'이름': '봄이', '나이': 7, '품종': '코숏', '몸무게': 6.4}\n"
          ]
        }
      ]
    },
    {
      "cell_type": "markdown",
      "source": [
        "### 5) 값에 접근하기\n",
        "- 딕셔너리[접근할_키] -> 키가 없을 경우 오류\n",
        "- 딕셔너리.get(접근할_키) -> 키가 없을 경우 아무것도 주지 않음(None)"
      ],
      "metadata": {
        "id": "8UfemTOEap6w"
      }
    },
    {
      "cell_type": "code",
      "source": [
        "bom = {'이름': '봄이', '나이': 7, '품종': '코숏', '몸무게': 6.4}\n",
        "print(bom['몸무게'])"
      ],
      "metadata": {
        "colab": {
          "base_uri": "https://localhost:8080/"
        },
        "id": "-2aZ-2-Wakos",
        "outputId": "138c64cb-ba9f-4d78-daf0-873a892caef5"
      },
      "execution_count": null,
      "outputs": [
        {
          "output_type": "stream",
          "name": "stdout",
          "text": [
            "6.4\n"
          ]
        }
      ]
    },
    {
      "cell_type": "code",
      "source": [
        "bom['몸무게'] = 6.0"
      ],
      "metadata": {
        "id": "M1R4y7X3bCWh"
      },
      "execution_count": null,
      "outputs": []
    },
    {
      "cell_type": "code",
      "source": [
        "print(bom['몸무게'])"
      ],
      "metadata": {
        "colab": {
          "base_uri": "https://localhost:8080/"
        },
        "id": "EyZzRoEoa-fj",
        "outputId": "955c7167-09ae-4df9-df2b-4d2c909972b1"
      },
      "execution_count": null,
      "outputs": [
        {
          "output_type": "stream",
          "name": "stdout",
          "text": [
            "6.0\n"
          ]
        }
      ]
    },
    {
      "cell_type": "code",
      "source": [
        "print(bom.get('몸무게'))"
      ],
      "metadata": {
        "colab": {
          "base_uri": "https://localhost:8080/"
        },
        "id": "jEKhT_X9bLR_",
        "outputId": "0ce21a13-a4ed-46a3-c397-db1263cc5f9e"
      },
      "execution_count": null,
      "outputs": [
        {
          "output_type": "stream",
          "name": "stdout",
          "text": [
            "6.0\n"
          ]
        }
      ]
    },
    {
      "cell_type": "code",
      "source": [
        "print(bom['출신'])"
      ],
      "metadata": {
        "colab": {
          "base_uri": "https://localhost:8080/",
          "height": 172
        },
        "id": "1t_squSEbOIy",
        "outputId": "80f44e26-91d4-4713-f938-b1347eb143c7"
      },
      "execution_count": null,
      "outputs": [
        {
          "output_type": "error",
          "ename": "KeyError",
          "evalue": "ignored",
          "traceback": [
            "\u001b[0;31m---------------------------------------------------------------------------\u001b[0m",
            "\u001b[0;31mKeyError\u001b[0m                                  Traceback (most recent call last)",
            "\u001b[0;32m<ipython-input-86-738738c84d71>\u001b[0m in \u001b[0;36m<module>\u001b[0;34m\u001b[0m\n\u001b[0;32m----> 1\u001b[0;31m \u001b[0mprint\u001b[0m\u001b[0;34m(\u001b[0m\u001b[0mbom\u001b[0m\u001b[0;34m[\u001b[0m\u001b[0;34m'출신'\u001b[0m\u001b[0;34m]\u001b[0m\u001b[0;34m)\u001b[0m\u001b[0;34m\u001b[0m\u001b[0;34m\u001b[0m\u001b[0m\n\u001b[0m",
            "\u001b[0;31mKeyError\u001b[0m: '출신'"
          ]
        }
      ]
    },
    {
      "cell_type": "code",
      "source": [
        "print(bom.get('출신'))"
      ],
      "metadata": {
        "colab": {
          "base_uri": "https://localhost:8080/"
        },
        "id": "4jDRShGebRWY",
        "outputId": "a911eabe-6505-41cb-86d4-e47cbbec1ba0"
      },
      "execution_count": null,
      "outputs": [
        {
          "output_type": "stream",
          "name": "stdout",
          "text": [
            "None\n"
          ]
        }
      ]
    },
    {
      "cell_type": "markdown",
      "source": [
        "### 6) 키-값 제거하기\n",
        "- del 딕셔너리[제거할 키]"
      ],
      "metadata": {
        "id": "kTXb5dzIbZe0"
      }
    },
    {
      "cell_type": "code",
      "source": [
        "bom = {'이름': '봄이', '나이': 7, '품종': '코숏', '몸무게': 6.4}\n",
        "print(bom)"
      ],
      "metadata": {
        "colab": {
          "base_uri": "https://localhost:8080/"
        },
        "id": "WD6rIWMSbT_0",
        "outputId": "bdeb10cb-76fc-4b8e-c843-d8eb0754f366"
      },
      "execution_count": null,
      "outputs": [
        {
          "output_type": "stream",
          "name": "stdout",
          "text": [
            "{'이름': '봄이', '나이': 7, '품종': '코숏', '몸무게': 6.4}\n"
          ]
        }
      ]
    },
    {
      "cell_type": "code",
      "source": [
        "del bom['품종']"
      ],
      "metadata": {
        "id": "SWohkDVmbhWk"
      },
      "execution_count": null,
      "outputs": []
    },
    {
      "cell_type": "code",
      "source": [
        "print(bom)"
      ],
      "metadata": {
        "colab": {
          "base_uri": "https://localhost:8080/"
        },
        "id": "Z56gO3rebjxu",
        "outputId": "7a4aab02-a067-4026-da5e-d6a1ae10084f"
      },
      "execution_count": null,
      "outputs": [
        {
          "output_type": "stream",
          "name": "stdout",
          "text": [
            "{'이름': '봄이', '나이': 7, '몸무게': 6.4}\n"
          ]
        }
      ]
    },
    {
      "cell_type": "markdown",
      "source": [
        "## 1-7. 모아서 다시 쓰기"
      ],
      "metadata": {
        "id": "wQi9ac6AbpX2"
      }
    },
    {
      "cell_type": "markdown",
      "source": [
        "### 1) 함수의 종류\n",
        "- 내장 함수\n",
        "- 모듈의 함수\n",
        "- 사용자 정의 함수"
      ],
      "metadata": {
        "id": "JN6G1IYtby6X"
      }
    },
    {
      "cell_type": "markdown",
      "source": [
        "### 2) 함수의 기본 구조\n",
        "def 함수_이름(인수):\n",
        ">>>>실행할 명령\n",
        "\n",
        ">>>>return 반환값"
      ],
      "metadata": {
        "id": "tAji3OvDb5v_"
      }
    },
    {
      "cell_type": "code",
      "source": [
        "#함수를 사용해 문자열 출력하기\n",
        "def my_func():\n",
        "  print('고양이는 귀엽다!')\n",
        "\n",
        "my_func()"
      ],
      "metadata": {
        "colab": {
          "base_uri": "https://localhost:8080/"
        },
        "id": "OksCYQPebk63",
        "outputId": "39394143-192b-40be-eba5-587a21249ff3"
      },
      "execution_count": null,
      "outputs": [
        {
          "output_type": "stream",
          "name": "stdout",
          "text": [
            "고양이는 귀엽다!\n"
          ]
        }
      ]
    },
    {
      "cell_type": "code",
      "source": [
        "#함수를 사용해 두 개의 숫자를 더하는 코드\n",
        "def add(num1, num2):\n",
        "  return num1 + num2\n",
        "\n",
        "print(add(2, 3))"
      ],
      "metadata": {
        "colab": {
          "base_uri": "https://localhost:8080/"
        },
        "id": "TI-Qj7GNcLK-",
        "outputId": "1786b5f3-9a73-458d-82c8-db7391846d38"
      },
      "execution_count": null,
      "outputs": [
        {
          "output_type": "stream",
          "name": "stdout",
          "text": [
            "5\n"
          ]
        }
      ]
    },
    {
      "cell_type": "code",
      "source": [
        "#함수를 사용해 두 개의 숫자를 더하고 곱하는 코드\n",
        "def add_mul(num1, num2):\n",
        "  return num1 + num2, num1 * num2\n",
        "\n",
        "print(add_mul(2, 3))"
      ],
      "metadata": {
        "colab": {
          "base_uri": "https://localhost:8080/"
        },
        "id": "88She7WrchOq",
        "outputId": "1b3a27c9-1ec0-48b6-926a-02c4b445cbd0"
      },
      "execution_count": null,
      "outputs": [
        {
          "output_type": "stream",
          "name": "stdout",
          "text": [
            "(5, 6)\n"
          ]
        }
      ]
    },
    {
      "cell_type": "markdown",
      "source": [
        "### 3) 모듈\n",
        "- 함수, 변수 또는 [클래스](https://wikidocs.net/28)를 모아 놓은 파일\n",
        "- import 모듈_이름"
      ],
      "metadata": {
        "id": "5nKJJey-c0sl"
      }
    },
    {
      "cell_type": "code",
      "source": [
        "#random 모듈\n",
        "#random.choice(리스트)\n",
        "import random\n",
        "food = ['파스타', '스테이크', '비빔밥', '닭한마리']\n",
        "print(random.choice(food))"
      ],
      "metadata": {
        "colab": {
          "base_uri": "https://localhost:8080/"
        },
        "id": "NCjpfpFecuF2",
        "outputId": "9b4c5d17-bd0a-459d-d783-144306f4b469"
      },
      "execution_count": null,
      "outputs": [
        {
          "output_type": "stream",
          "name": "stdout",
          "text": [
            "닭한마리\n"
          ]
        }
      ]
    },
    {
      "cell_type": "code",
      "source": [
        "#random.sample(리스트, 뽑을_개수)\n",
        "food = ['파스타', '스테이크', '비빔밥', '닭한마리']\n",
        "print(random.sample(food, 2))"
      ],
      "metadata": {
        "colab": {
          "base_uri": "https://localhost:8080/"
        },
        "id": "6f7lP-EQdUH6",
        "outputId": "f90bd920-3592-48a4-d41c-b7b7bc92f1fa"
      },
      "execution_count": null,
      "outputs": [
        {
          "output_type": "stream",
          "name": "stdout",
          "text": [
            "['닭한마리', '스테이크']\n"
          ]
        }
      ]
    },
    {
      "cell_type": "code",
      "source": [
        "#random.randint(시작_값, 끝_값) -> 해당 범위의 정수 중 하나를 무작위 출력\n",
        "print(random.randint(5, 10))"
      ],
      "metadata": {
        "colab": {
          "base_uri": "https://localhost:8080/"
        },
        "id": "SgXLP7ApdkZb",
        "outputId": "84d37378-39e5-4fbc-f1e6-94483e95734b"
      },
      "execution_count": null,
      "outputs": [
        {
          "output_type": "stream",
          "name": "stdout",
          "text": [
            "10\n"
          ]
        }
      ]
    },
    {
      "cell_type": "markdown",
      "source": [
        "### 4) (참고) 클래스\n",
        "\n",
        "[참고 자료](https://hleecaster.com/python-class/)\n",
        "\n",
        "클래스는 자료형을 위한 일종의 템플릿\n",
        "\n",
        "\n",
        "클래스 안에는 다양한 유형의 정보가 담겨 있고, 우리가 자료형과 어떻게 상호작용해야 하는지 적혀 있다."
      ],
      "metadata": {
        "id": "xqUNc4X_qIvH"
      }
    },
    {
      "cell_type": "code",
      "source": [
        "#가장 기본적인 클래스 정의\n",
        "class TestClass:\n",
        "  pass"
      ],
      "metadata": {
        "id": "LGIUVK76qIHQ"
      },
      "execution_count": null,
      "outputs": []
    },
    {
      "cell_type": "markdown",
      "source": [
        "클래스를 정의하고 나면, 그걸 불러와서 사용할 수 있다. \n",
        "\n",
        "클래스를 이용해 인스턴스(instance)를 만들어주면 된다.\n",
        "\n",
        "(임시로 어떤 템플릿을 불러와서, 그걸 다른 이름의 객체로 저장한다고 생각하면 됨)\n",
        "\n",
        "수많은 인스턴스를 호출하는 것도 가능하다."
      ],
      "metadata": {
        "id": "WnruyJJPrs0K"
      }
    },
    {
      "cell_type": "code",
      "source": [
        "#인스턴스 호출하기\n",
        "test_instance = TestClass()\n",
        "\n",
        "test_instance1 = TestClass()\n",
        "test_instance2 = TestClass()\n",
        "test_instance3 = TestClass()"
      ],
      "metadata": {
        "id": "vcYmpZ7DrrUJ"
      },
      "execution_count": null,
      "outputs": []
    },
    {
      "cell_type": "markdown",
      "source": [
        "클래스를 정의할 때 그 안에서 변수를 정의하면 모든 인스턴스에서 동일한 데이터를 사용할 수 있는데, \n",
        "\n",
        "이를 **클래스 변수(Class Variable)**라고 부른다."
      ],
      "metadata": {
        "id": "qfaBZoQ3sm8l"
      }
    },
    {
      "cell_type": "code",
      "source": [
        "class Musician:\n",
        "  title = \"Rockstar\""
      ],
      "metadata": {
        "id": "d52gX2MKsBDn"
      },
      "execution_count": null,
      "outputs": []
    },
    {
      "cell_type": "markdown",
      "source": [
        "각각 다른 인스턴스를 호출하더라도 각 인스턴스 안에 있는 title이라는 변수는 동일하다."
      ],
      "metadata": {
        "id": "GfN5SLzrs7TW"
      }
    },
    {
      "cell_type": "code",
      "source": [
        "drummer = Musician()\n",
        "guitarist = Musician()\n",
        "\n",
        "print(drummer.title)\n",
        "print(guitarist.title)"
      ],
      "metadata": {
        "colab": {
          "base_uri": "https://localhost:8080/"
        },
        "id": "voNqWVHNs5Vd",
        "outputId": "6872ab92-77af-406f-f67c-493dd0d4a99a"
      },
      "execution_count": null,
      "outputs": [
        {
          "output_type": "stream",
          "name": "stdout",
          "text": [
            "Rockstar\n",
            "Rockstar\n"
          ]
        }
      ]
    },
    {
      "cell_type": "markdown",
      "source": [
        "**메서드(Method)**는 클래스 안에 정의된 함수이다.\n",
        "\n",
        "일반적인 함수를 정의할 때와 차이가 있다면 메서드를 정의할 때는 첫번째 인수를 항상 'self'로 지정해야 한다는 점이다."
      ],
      "metadata": {
        "id": "x7uHpDQjtJ19"
      }
    },
    {
      "cell_type": "code",
      "source": [
        "class Musician:\n",
        "    title = \"Rockstar\"\n",
        "    def explanation(self):\n",
        "        print(\"I am a {}!\".format(self.title)) #{} 안에 self.title이 들어가는 코드\n",
        "\n",
        "drummer = Musician()\n",
        "drummer.explanation()"
      ],
      "metadata": {
        "colab": {
          "base_uri": "https://localhost:8080/"
        },
        "id": "roQQWkzktIwu",
        "outputId": "2c304289-97f7-4feb-8c4e-3694b74f5169"
      },
      "execution_count": null,
      "outputs": [
        {
          "output_type": "stream",
          "name": "stdout",
          "text": [
            "I am a Rockstar!\n"
          ]
        }
      ]
    },
    {
      "cell_type": "code",
      "source": [
        "#원의 넓이 구하기\n",
        "class Circle():\n",
        "    pi = 3.14\n",
        "  \n",
        "    def area(self, radius):\n",
        "        return self.pi * radius ** 2\n",
        "  \n",
        "circle = Circle()\n",
        "pizza_area = circle.area(6)\n",
        "table_area = circle.area(18)\n",
        "\n",
        "print(pizza_area)\n",
        "print(table_area)"
      ],
      "metadata": {
        "colab": {
          "base_uri": "https://localhost:8080/"
        },
        "id": "NJq-pd_ntfyz",
        "outputId": "afe8fe1a-3a28-4fc2-e619-6925e71e561d"
      },
      "execution_count": null,
      "outputs": [
        {
          "output_type": "stream",
          "name": "stdout",
          "text": [
            "113.04\n",
            "1017.36\n"
          ]
        }
      ]
    },
    {
      "cell_type": "markdown",
      "source": [
        "클래스를 호출할 때 자동으로 어떤 함수를 실행하거나 값을 호출하고 싶다면 생성자(Constructor)를 정의한다.\n",
        "\n",
        "메서드 정의와 동일하지만 메서드 이름으로 ```__init__```을 사용한다.\n",
        "\n"
      ],
      "metadata": {
        "id": "SeC7nQQ5tuIn"
      }
    },
    {
      "cell_type": "code",
      "source": [
        "class Shouter:\n",
        "    def __init__(self):\n",
        "        print(\"HELLO?!\")\n",
        "shout = Shouter()\n",
        "shout2 = Shouter()\n",
        "#Shouter라는 클래스를 객체로 불러올 때마다 \"HELLO?!\"라는 문자열이 즉시 출력된다."
      ],
      "metadata": {
        "colab": {
          "base_uri": "https://localhost:8080/"
        },
        "id": "nJfneOa6uBFe",
        "outputId": "c633d526-e38a-4835-8a3c-9c76ac6f8eaa"
      },
      "execution_count": null,
      "outputs": [
        {
          "output_type": "stream",
          "name": "stdout",
          "text": [
            "HELLO?!\n",
            "HELLO?!\n"
          ]
        }
      ]
    },
    {
      "cell_type": "code",
      "source": [
        "#클래스를 호출할 때 다른 인수(여기서는 radius)를 받는 방식으로도 정의 가능\n",
        "class Circle:\n",
        "    pi = 3.14\n",
        "    def __init__(self, radius): \n",
        "      #self 말고도 radius라는 인수를 받으므로, 객체 생성 시 괄호 안에 인수(18)을 넣어줘야 함\n",
        "        print(\"New circle with radius: {}\".format(radius))\n",
        "table = Circle(18)"
      ],
      "metadata": {
        "colab": {
          "base_uri": "https://localhost:8080/"
        },
        "id": "kKCh4pTuuNlO",
        "outputId": "0608e5d5-002d-4a31-e840-4c31b79a87c1"
      },
      "execution_count": null,
      "outputs": [
        {
          "output_type": "stream",
          "name": "stdout",
          "text": [
            "New circle with radius: 18\n"
          ]
        }
      ]
    },
    {
      "cell_type": "markdown",
      "source": [
        "객체는 클래스의 인스턴스이다.\n",
        "\n",
        "그러나 각 객체가 메서드와 클래스 변수만으로 이루어져 있다면 객체들이 구별될 필요가 있을까?\n",
        "\n",
        "객체를 구별해서 인스턴스를 생성하는 이유는 각 인스턴스가 다른 종류의 데이터, 즉 **인스턴스 변수(Instance Variables)**를 보유할 수 있기 때문이다.\n",
        "\n",
        "각 객체가 보유한 인스턴스 변수는 해당 클래스의 모든 인스턴스, 즉 다른 객체들이 공유하는 게 아니다.\n",
        "\n",
        "어려워 보이지만 결국 변수의 개념과 일맥상통한다."
      ],
      "metadata": {
        "id": "3D1BANNuulmy"
      }
    },
    {
      "cell_type": "code",
      "source": [
        "class FakeDict:\n",
        "    pass\n",
        "fake_dict1 = FakeDict()\n",
        "fake_dict2 = FakeDict()\n",
        "\n",
        "fake_dict1.fake_key = \"This works!\"\n",
        "fake_dict2.fake_key = \"This too!\""
      ],
      "metadata": {
        "id": "TljALXDBvWOp"
      },
      "execution_count": null,
      "outputs": []
    },
    {
      "cell_type": "code",
      "source": [
        "working_string = \"{} {}\".format(fake_dict1.fake_key, fake_dict2.fake_key)\n",
        "print(working_string)"
      ],
      "metadata": {
        "colab": {
          "base_uri": "https://localhost:8080/"
        },
        "id": "XmGXqoOjvbeE",
        "outputId": "e52cbc20-14fe-4717-c645-fa5b28688ed3"
      },
      "execution_count": null,
      "outputs": [
        {
          "output_type": "stream",
          "name": "stdout",
          "text": [
            "This works! This too!\n"
          ]
        }
      ]
    },
    {
      "cell_type": "markdown",
      "source": [
        "왜 굳이 인스턴스 변수를 사용할까?\n",
        "\n",
        "인스턴스를 생성할 때 작동하는 생성자를 활용해서 인스턴스 변수를 생성/관리하면 편리하기 때문이다."
      ],
      "metadata": {
        "id": "CNqZYdZkvnfd"
      }
    },
    {
      "cell_type": "code",
      "source": [
        "class AutoEmail:\n",
        "  def __init__(self, name):\n",
        "    self.name = name\n",
        "  \n",
        "mail_to_park = AutoEmail(\"PARK\")\n",
        "mail_to_kim = AutoEmail(\"KIM\")"
      ],
      "metadata": {
        "id": "Ldz9O88fvnHY"
      },
      "execution_count": null,
      "outputs": []
    },
    {
      "cell_type": "code",
      "source": [
        "print(mail_to_park.name)\n",
        "print(mail_to_kim.name)\n",
        "\n",
        "#인스턴스를 만들 때 애초에 이름을 넣어주었기 때문에 \n",
        "#각 인스턴스의 name에서 그 이름을 그대로 가지고 있게 된다."
      ],
      "metadata": {
        "colab": {
          "base_uri": "https://localhost:8080/"
        },
        "id": "Q7cttAAswALs",
        "outputId": "04dec237-48bb-47c5-a014-861a836f791a"
      },
      "execution_count": null,
      "outputs": [
        {
          "output_type": "stream",
          "name": "stdout",
          "text": [
            "PARK\n",
            "KIM\n"
          ]
        }
      ]
    },
    {
      "cell_type": "code",
      "source": [
        "class AutoEmail:\n",
        "    intro = \"안녕하세요\"\n",
        "    def __init__(self, name):\n",
        "        self.name = name\n",
        "    def say_hello(self):\n",
        "        return \"{intro} {name} 님\".format(intro=self.intro, name=self.name)\n",
        "\n",
        "mail_to_park = AutoEmail(\"PARK\")\n",
        "mail_to_kim = AutoEmail(\"KIM\")\n",
        "\n",
        "print(mail_to_park.say_hello())\n",
        "print(mail_to_kim.say_hello())"
      ],
      "metadata": {
        "colab": {
          "base_uri": "https://localhost:8080/"
        },
        "id": "n_Kz1MKgwFOV",
        "outputId": "f76fb8c8-fb64-45b7-ea31-0a417b1926ae"
      },
      "execution_count": null,
      "outputs": [
        {
          "output_type": "stream",
          "name": "stdout",
          "text": [
            "안녕하세요 PARK 님\n",
            "안녕하세요 KIM 님\n"
          ]
        }
      ]
    },
    {
      "cell_type": "markdown",
      "source": [
        "실제 클래스 적용 사례를 살펴 보자. 리스트 자료형을 다룰 수 있는 메서드로 무엇이 있는지 알려주는 코드이다."
      ],
      "metadata": {
        "id": "OWexMK6Ow-Fs"
      }
    },
    {
      "cell_type": "code",
      "source": [
        "print(dir([])) \n",
        "#dir(): 어떤 객체를 인자로 넣어주면 해당 객체가 어떤 메서드를 가지고 있는지 돌려준다."
      ],
      "metadata": {
        "colab": {
          "base_uri": "https://localhost:8080/"
        },
        "id": "zHC1aVBuxB71",
        "outputId": "b81dd87a-7850-4faf-c453-caef533b591e"
      },
      "execution_count": null,
      "outputs": [
        {
          "output_type": "stream",
          "name": "stdout",
          "text": [
            "['__add__', '__class__', '__contains__', '__delattr__', '__delitem__', '__dir__', '__doc__', '__eq__', '__format__', '__ge__', '__getattribute__', '__getitem__', '__gt__', '__hash__', '__iadd__', '__imul__', '__init__', '__init_subclass__', '__iter__', '__le__', '__len__', '__lt__', '__mul__', '__ne__', '__new__', '__reduce__', '__reduce_ex__', '__repr__', '__reversed__', '__rmul__', '__setattr__', '__setitem__', '__sizeof__', '__str__', '__subclasshook__', 'append', 'clear', 'copy', 'count', 'extend', 'index', 'insert', 'pop', 'remove', 'reverse', 'sort']\n"
          ]
        }
      ]
    },
    {
      "cell_type": "markdown",
      "source": [
        "이후 내용은 시간/분량상 다루지 않습니다.\n",
        "\n",
        "그러나 이후 북스터디를 위해서 어느정도 파이썬 기초가 필요하기 때문에, \n",
        "\n",
        "본 노트에 나오는 내용을 숙지하고, 점프 투 파이썬 [05장](https://wikidocs.net/27)과 [06장](https://wikidocs.net/34)을 공부하시면 좋겠습니다.\n",
        "\n",
        "고생하셨습니다!"
      ],
      "metadata": {
        "id": "pc87D46weW3J"
      }
    }
  ]
}